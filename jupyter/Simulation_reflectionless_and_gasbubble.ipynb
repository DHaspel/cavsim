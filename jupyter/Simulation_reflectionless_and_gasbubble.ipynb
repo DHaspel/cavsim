{
 "cells": [
  {
   "cell_type": "code",
   "execution_count": 1,
   "metadata": {},
   "outputs": [],
   "source": [
    "import numpy as np\n",
    "import matplotlib.pyplot as plt"
   ]
  },
  {
   "cell_type": "code",
   "execution_count": 2,
   "metadata": {},
   "outputs": [],
   "source": [
    "import cavsim\n",
    "from cavsim import Measure\n",
    "from cavsim.connectors import BaseConnector, Connector\n",
    "from cavsim.channels import ImportChannel, ExportChannel\n",
    "from cavsim.components import BaseComponent, Component\n",
    "from cavsim.solvers import BaseSolver, SimpleSolver\n",
    "from cavsim.fluids import Fluid"
   ]
  },
  {
   "cell_type": "code",
   "execution_count": 3,
   "metadata": {},
   "outputs": [],
   "source": [
    "from cavsim.pipes.pipe import Pipe\n",
    "from cavsim.pipes.two_phase_pipe import Pipe as Pipe2\n",
    "from cavsim.boundaries.left_boundary_pressure import LeftBoundaryPressure\n",
    "from cavsim.boundaries.left_boundary_velocity import LeftBoundaryVelocity\n",
    "from cavsim.boundaries.right_boundary_pressure import RightBoundaryPressure\n",
    "from cavsim.boundaries.right_boundary_velocity import RightBoundaryVelocity\n",
    "from cavsim.boundaries.simple_pipe_connector import PipeConnectorSimple\n",
    "from cavsim.boundaries.zeta_joint import ZetaJoint\n",
    "from cavsim.boundaries.simple_t_joint import SimpleTJoint\n",
    "from cavsim.boundaries.simple_right_gasdampener import RightGasBubbleSimple\n",
    "from cavsim.boundaries.simple_left_gasdampener import LeftGasBubbleSimple\n",
    "from cavsim.boundaries.frictionless_gasdampener import FrictionlessGasDampener\n",
    "from cavsim.boundaries.gasdampener import GasDampener\n",
    "from cavsim.boundaries.pump_suction_valve import PumpSuctionValve\n",
    "from cavsim.boundaries.pump_discharge_valve import PumpDischargeValve\n",
    "from cavsim.boundaries.reflectionless_right_boundary_condition import RightBoundaryReflectionFree\n",
    "from cavsim.boundaries.reflectionless_left_boundary_condition import LeftBoundaryReflectionFree"
   ]
  },
  {
   "cell_type": "code",
   "execution_count": 4,
   "metadata": {},
   "outputs": [],
   "source": [
    "fluid = Fluid(1000, 1e-3, 2.08e9, 2.3e3,initial_pressure=128000)"
   ]
  },
  {
   "cell_type": "code",
   "execution_count": 5,
   "metadata": {},
   "outputs": [],
   "source": [
    "Tank = Pipe(1.5, 1.5, 0.002, 2e11, 5e-4, 4, initial_pressure=1.28e5)\n",
    "suction = Pipe(0.056, 0.07, 0.002, 2e11, 5e-4, 4, initial_pressure=1.28e5)\n",
    "suction1 = Pipe(0.056, 1.480, 0.002, 2e11, 5e-4, 4, initial_pressure=1.28e5)\n",
    "suction2 = Pipe(0.056, 1.210, 0.002, 2e11, 5e-4, 4, initial_pressure=1.28e5)\n",
    "suction3 = Pipe(0.056, 0.225, 0.002, 2e11, 5e-4, 4, initial_pressure=1.28e5)\n",
    "suction4 = Pipe(0.056, 0.360, 0.002, 2e11, 5e-4, 4, initial_pressure=1.28e5)\n",
    "suction5 = Pipe(0.056, 0.590, 0.002, 2e11, 5e-4, 4, initial_pressure=1.28e5)\n",
    "suction6 = Pipe2(0.056, 0.335, 0.002, 2e11, 5e-4, 4, initial_pressure=1.28e5, cavitation_factor=0.55, initial_velocity = 0.0)\n",
    "suction7 = Pipe2(0.056, 0.519, 0.002, 2e11, 5e-4, 4, initial_pressure=1.28e5, cavitation_factor=0.55, initial_velocity = 0.0)\n",
    "suction8 = Pipe2(0.056, 0.274, 0.002, 2e11, 5e-4, 4, initial_pressure=1.28e5, cavitation_factor=0.55, initial_velocity = 0.0)\n",
    "suction10 = Pipe2(0.056, 0.274, 0.002, 2e11, 5e-4, 4, initial_pressure=1.28e5, cavitation_factor=0.55, initial_velocity = 0.0)\n",
    "suction9 = Pipe2(0.032, 0.15, 0.002, 2e11, 5e-4, 4, initial_pressure=1.28e5, cavitation_factor=0.55, initial_velocity = 0.0)\n",
    "pump1 = Pipe2(0.03, 0.17, 0.002, 2e11, 5e-4, 4, initial_pressure=20e5, cavitation_factor=0.55, initial_velocity = 0.0)\n",
    "pump12 = Pipe2(0.03, 0.085, 0.002, 2e11, 5e-4, 4, initial_pressure=20e5, cavitation_factor=0.55, initial_velocity = 0.0)\n",
    "pump2 = Pipe2(0.07, 0.045, 0.002, 2e11, 5e-4, 8, initial_pressure=20e5, cavitation_factor=0.55, initial_velocity = 0.0)\n",
    "pump3 = Pipe2(0.03, 0.17, 0.002, 2e11, 5e-4, 4, initial_pressure=20e5, cavitation_factor=0.55, initial_velocity = 0.0)\n",
    "discharge = Pipe(0.025, 1.24, 0.002, 2e11, 5e-4, 4, initial_pressure=20e5)\n",
    "discharge15 = Pipe(0.03, 0.325, 0.002, 2e11, 5e-4, 4, initial_pressure=20e5)\n",
    "discharge1 = Pipe(0.025, 0.35, 0.002, 2e11, 5e-4, 4, initial_pressure=20e5)\n",
    "discharge2 = Pipe(0.025, 27.4, 0.002, 2e11, 5e-4, 4, initial_pressure=20e5)\n",
    "discharge3 = Pipe(0.025, 0.5, 0.002, 2e11, 5e-4, 4, initial_pressure=20e5)\n",
    "discharge4 = Pipe(0.025, 0.5, 0.002, 2e11, 5e-4, 4, initial_pressure=20e5)\n",
    "discharge5 = Pipe(0.025, 0.5, 0.002, 2e11, 5e-4, 4, initial_pressure=20e5)"
   ]
  },
  {
   "cell_type": "code",
   "execution_count": null,
   "metadata": {},
   "outputs": [],
   "source": []
  },
  {
   "cell_type": "code",
   "execution_count": 6,
   "metadata": {},
   "outputs": [],
   "source": [
    "lb1 = LeftBoundaryPressure(1.28e5)\n",
    "lb1.connect(Tank)"
   ]
  },
  {
   "cell_type": "code",
   "execution_count": 7,
   "metadata": {},
   "outputs": [],
   "source": [
    "def pump(time):\n",
    "    \n",
    "    radius = 0.02\n",
    "    rratio = 0.0187\n",
    "    d = 0.07\n",
    "    rpm = 215\n",
    "    #rpm = 135.87\n",
    "    omega = rpm / 60 * 2* np.pi\n",
    "    phi0 = np.pi \n",
    "    \n",
    "    result = (radius * omega\n",
    "                  * (np.sin(omega * time + phi0)\n",
    "                     - rratio / 2.0 * np.sin(2.0 * (omega * time + phi0))))\n",
    "    #result = 0.0\n",
    "    \n",
    "    return result"
   ]
  },
  {
   "cell_type": "code",
   "execution_count": 8,
   "metadata": {},
   "outputs": [],
   "source": [
    "rbp = RightBoundaryVelocity(pump, 20e5)"
   ]
  },
  {
   "cell_type": "code",
   "execution_count": 9,
   "metadata": {},
   "outputs": [],
   "source": [
    "conn = ZetaJoint(1.0, initial_pressure=1.28e5)\n",
    "Tank.connect(conn)\n",
    "suction.connect(conn)"
   ]
  },
  {
   "cell_type": "code",
   "execution_count": 10,
   "metadata": {},
   "outputs": [],
   "source": [
    "conn1 = ZetaJoint(0.1, initial_pressure=1.28e5)\n",
    "suction.connect(conn1)\n",
    "suction1.connect(conn1)"
   ]
  },
  {
   "cell_type": "code",
   "execution_count": 11,
   "metadata": {},
   "outputs": [],
   "source": [
    "conn2 = ZetaJoint(0.2, initial_pressure=1.28e5)\n",
    "suction1.connect(conn2)\n",
    "suction2.connect(conn2)"
   ]
  },
  {
   "cell_type": "code",
   "execution_count": 12,
   "metadata": {},
   "outputs": [],
   "source": [
    "conn3 = ZetaJoint(0.05, initial_pressure=1.28e5)\n",
    "suction2.connect(conn3)\n",
    "suction3.connect(conn3)"
   ]
  },
  {
   "cell_type": "code",
   "execution_count": 13,
   "metadata": {},
   "outputs": [],
   "source": [
    "conn4 = ZetaJoint(0.05, initial_pressure=1.28e5)\n",
    "suction3.connect(conn4)\n",
    "suction4.connect(conn4)"
   ]
  },
  {
   "cell_type": "code",
   "execution_count": 14,
   "metadata": {},
   "outputs": [],
   "source": [
    "conn5 = ZetaJoint(0.05, initial_pressure=1.28e5)\n",
    "suction4.connect(conn5)\n",
    "suction5.connect(conn5)"
   ]
  },
  {
   "cell_type": "code",
   "execution_count": 15,
   "metadata": {},
   "outputs": [],
   "source": [
    "conn6 = ZetaJoint(0.05, initial_pressure=1.28e5)\n",
    "suction5.connect(conn6)\n",
    "suction6.connect(conn6)"
   ]
  },
  {
   "cell_type": "code",
   "execution_count": 16,
   "metadata": {},
   "outputs": [],
   "source": [
    "conn7 = ZetaJoint(0.05, initial_pressure=1.28e5)\n",
    "suction6.connect(conn7)\n",
    "suction7.connect(conn7)"
   ]
  },
  {
   "cell_type": "code",
   "execution_count": null,
   "metadata": {},
   "outputs": [],
   "source": []
  },
  {
   "cell_type": "code",
   "execution_count": null,
   "metadata": {},
   "outputs": [],
   "source": []
  },
  {
   "cell_type": "code",
   "execution_count": 17,
   "metadata": {},
   "outputs": [],
   "source": [
    "conn8 = ZetaJoint(0.2, initial_pressure=1.28e5)\n",
    "suction7.connect(conn8)\n",
    "suction8.connect(conn8)"
   ]
  },
  {
   "cell_type": "code",
   "execution_count": 18,
   "metadata": {},
   "outputs": [],
   "source": [
    "#conn9 = ZetaJoint(0.05, initial_pressure=1.28e5)\n",
    "#suction8.connect(conn9)\n",
    "#suction9.connect(conn9)"
   ]
  },
  {
   "cell_type": "code",
   "execution_count": 19,
   "metadata": {},
   "outputs": [],
   "source": [
    "tjoint = SimpleTJoint(1.28e5)\n",
    "suction8.connect(tjoint.left)\n",
    "suction10.connect(tjoint.right)\n",
    "suction9.connect(tjoint.right2)"
   ]
  },
  {
   "cell_type": "code",
   "execution_count": 20,
   "metadata": {},
   "outputs": [],
   "source": [
    "rbs = RightBoundaryReflectionFree(0.0, 1.28e5)\n",
    "rbs.connect(suction10)"
   ]
  },
  {
   "cell_type": "code",
   "execution_count": null,
   "metadata": {},
   "outputs": [],
   "source": []
  },
  {
   "cell_type": "code",
   "execution_count": null,
   "metadata": {},
   "outputs": [],
   "source": []
  },
  {
   "cell_type": "code",
   "execution_count": 21,
   "metadata": {},
   "outputs": [],
   "source": [
    "angle=np.pi*90/180"
   ]
  },
  {
   "cell_type": "code",
   "execution_count": 22,
   "metadata": {},
   "outputs": [],
   "source": [
    "suction_valve = PumpSuctionValve(7950.0,\n",
    "                              3.438,\n",
    "                              3438.0,\n",
    "                              0.022,\n",
    "                              0.068,\n",
    "                              0.040,\n",
    "                              0.03644173,\n",
    "                              angle,\n",
    "                              7.63e-3,\n",
    "                              6.480,\n",
    "                              107.00,\n",
    "                              74.00,\n",
    "                              1.40,\n",
    "                              -2.40,\n",
    "                              0.50,\n",
    "                              0.0,\n",
    "                              0.0,\n",
    "                              25.0e-3,\n",
    "                              1.28e5,\n",
    "                              20e5)\n",
    "#suction_valve = PumpSuctionValve(valve_density=7950.0,\n",
    "#                              spring_force0=3.438,\n",
    "#                              spring_stiffness=3438.0,\n",
    "#                              spring_mass=0.022,\n",
    "#                              valve_mass=0.068,\n",
    "#                              outer_diameter=0.040,\n",
    "#                              inner_diameter=0.03644173,\n",
    "#                              seat_tilt=angle,\n",
    "#                              flow_constant_1=7.63e-3,\n",
    "#                              flow_constant_2=6.480,\n",
    "#                              friction_factor_a=107.00,\n",
    "#                              friction_factor_b=74.00,\n",
    "#                              friction_factor_c=1.40,\n",
    "#                              friction_factor_d=-2.40,\n",
    "#                              factor_k0=0.50,\n",
    "#                              factor_k1=0.0,\n",
    "#                              factor_k2=0.0,\n",
    "#                              max_displacement=25.0e-3,\n",
    "#                              left_initial_pressure=1.28e5,\n",
    "#                              right_initial_pressure=20e5)\n",
    "\n",
    "\n",
    "suction_valve.connect(suction9)\n",
    "suction_valve.connect(pump1)"
   ]
  },
  {
   "cell_type": "code",
   "execution_count": 23,
   "metadata": {},
   "outputs": [],
   "source": [
    "#pump1.connect(lb1)"
   ]
  },
  {
   "cell_type": "code",
   "execution_count": 24,
   "metadata": {},
   "outputs": [],
   "source": [
    "#gasv = FrictionlessGasDampener(pressure0=12e5, volume0=1.0e-10, polytropic_exponent=1.1)\n",
    "#pump1.connect(gasv)\n",
    "#pump12.connect(gasv)"
   ]
  },
  {
   "cell_type": "code",
   "execution_count": 25,
   "metadata": {},
   "outputs": [],
   "source": [
    "pump = SimpleTJoint(20e5)\n",
    "pump1.connect(pump.left)\n",
    "pump2.connect(pump.right2)\n",
    "pump3.connect(pump.right)\n",
    "rbp.connect(pump2)"
   ]
  },
  {
   "cell_type": "code",
   "execution_count": 26,
   "metadata": {},
   "outputs": [],
   "source": [
    "valve = PumpSuctionValve(7950.0,\n",
    "                              3.438,\n",
    "                              3438.0,\n",
    "                              0.022,\n",
    "                              0.068,\n",
    "                              0.040,\n",
    "                              0.03644173,\n",
    "                              angle,\n",
    "                              7.63e-3,\n",
    "                              6.480,\n",
    "                              107.00,\n",
    "                              74.00,\n",
    "                              1.40,\n",
    "                              -2.40,\n",
    "                              0.50,\n",
    "                              0.0,\n",
    "                              0.0,\n",
    "                              25.0e-3,\n",
    "                              20e5,\n",
    "                              20e5)\n",
    "valve.connect(pump3)\n",
    "valve.connect(discharge)"
   ]
  },
  {
   "cell_type": "code",
   "execution_count": 27,
   "metadata": {},
   "outputs": [],
   "source": [
    "connt = SimpleTJoint(20e5)\n",
    "discharge.connect(connt.left)\n",
    "discharge15.connect(connt.right)\n",
    "discharge2.connect(connt.right2)"
   ]
  },
  {
   "cell_type": "code",
   "execution_count": 28,
   "metadata": {},
   "outputs": [],
   "source": [
    "gd_discharge = RightGasBubbleSimple(20e5, 3e-3, 1.1)\n",
    "gd_discharge.connect(discharge15)\n",
    "#gd_discharge = GasDampener(20e5, 3e-3, 1.1, 15)\n",
    "#gd_discharge.connect(discharge)\n",
    "#gd_discharge.connect(discharge2)"
   ]
  },
  {
   "cell_type": "code",
   "execution_count": 29,
   "metadata": {},
   "outputs": [],
   "source": [
    "#connt = ZetaJoint(1,20e5)\n",
    "#connt.connect(discharge)\n",
    "#connt.connect(discharge2)"
   ]
  },
  {
   "cell_type": "code",
   "execution_count": 30,
   "metadata": {},
   "outputs": [],
   "source": [
    "#connt = SimpleTJoint(20e5)\n",
    "#discharge2.connect(connt.left)\n",
    "#discharge15.connect(connt.right)\n",
    "#discharge3.connect(connt.right2)"
   ]
  },
  {
   "cell_type": "code",
   "execution_count": 31,
   "metadata": {},
   "outputs": [],
   "source": [
    "#gd_discharge1 = RightGasBubbleSimple(20e5, 3e-3, 1.1)\n",
    "#gd_discharge1.connect(discharge15)"
   ]
  },
  {
   "cell_type": "code",
   "execution_count": null,
   "metadata": {},
   "outputs": [],
   "source": []
  },
  {
   "cell_type": "code",
   "execution_count": null,
   "metadata": {},
   "outputs": [],
   "source": []
  },
  {
   "cell_type": "code",
   "execution_count": null,
   "metadata": {},
   "outputs": [],
   "source": []
  },
  {
   "cell_type": "code",
   "execution_count": 32,
   "metadata": {},
   "outputs": [],
   "source": [
    "rb = RightBoundaryPressure(20e5)\n",
    "rb.connect(discharge2)"
   ]
  },
  {
   "cell_type": "code",
   "execution_count": 33,
   "metadata": {},
   "outputs": [],
   "source": [
    "plogs1 = []\n",
    "plogs2 = []\n",
    "plogs3 = []\n",
    "vlogs = []\n",
    "vlogs1 = []\n",
    "flogs = []\n",
    "rblogs = []\n",
    "relogs = []\n",
    "dislog = []\n",
    "springlog = []\n",
    "contact_pressurelog = []\n",
    "velocity = []\n",
    "pumplog = []\n",
    "pump_speed = []\n",
    "pump_value = []\n",
    "flow_log = []\n",
    "lower_pressure_log = []\n",
    "contact_pressure_log = []\n",
    "damping_log = []\n",
    "\n",
    "\n",
    "\n",
    "\n",
    "def logging(time):\n",
    "    plogs1.append(pump1.field_wide_slice('pressure', 0) + 0.0)\n",
    "    plogs2.append(pump2.field_wide_slice('pressure', 0) + 0.0)\n",
    "    plogs3.append(suction9.field_wide_slice('pressure', 0) + 0.0)\n",
    "    vlogs.append(suction9.field_wide_slice('velocity', 0) + 0.0)\n",
    "    pumplog.append(pump1.field_wide_slice('velocity', 0) + 0.0)\n",
    "    dislog.append(valve.field_wide_slice('displacement', 0) + 0.0)\n",
    "    #pump_speed.append(valve.field_wide_slice('discharge_pressure', 1) +0.0)\n",
    "    pump_value.append(suction_valve.field_wide_slice('displacement', 1) +0.0)\n",
    "    springlog.append(valve.field_wide_slice('spring_force', 1) +0.0)\n",
    "    #contact_pressurelog.append(valve.field_wide_slice('damping_force', 1) +0.0)\n",
    "    flow_log.append(valve.field_wide_slice('flow_force', 1) +0.0)\n",
    "    #velocity.append(pump.field_wide_slice('suction_valve_velocity', 1) +0.0)\n",
    "    #lower_pressure_log.append(pump.field_wide_slice('discharge_lower_pressure_force', 1) +0.0)\n",
    "    contact_pressure_log.append(valve.field_wide_slice('damping_force', 1) +0.0)\n",
    "    damping_log.append(valve.field_wide_slice('damping_force', 1) +0.0)"
   ]
  },
  {
   "cell_type": "code",
   "execution_count": 34,
   "metadata": {},
   "outputs": [],
   "source": [
    "solver = SimpleSolver()\n",
    "solver.fluid = fluid\n",
    "solver.seeds = [pump1, pump2 , pump3]#, discharge, discharge15, discharge2]\n",
    "solver._callback = logging"
   ]
  },
  {
   "cell_type": "code",
   "execution_count": 35,
   "metadata": {
    "scrolled": false
   },
   "outputs": [
    {
     "name": "stdout",
     "output_type": "stream",
     "text": [
      " 0:00:00 [                              |  0.00%]  1:27:52  Currently at time   0.000 of   0.350"
     ]
    },
    {
     "name": "stderr",
     "output_type": "stream",
     "text": [
      "e:\\cavsim\\cavsim\\base\\solvers\\simple_solver.py:46: UserWarning: Smaller timestep required by component! (2.5346976757973146e-05 < 1e+20 by <cavsim.pipes.two_phase_pipe.Pipe object at 0x000002282CE58308>)\n",
      "  warn('Smaller timestep required by component! ({} < {} by {})'.format(component_time, delta_t, component))\n",
      "e:\\cavsim\\cavsim\\base\\solvers\\simple_solver.py:46: UserWarning: Smaller timestep required by component! (2.2465357947121778e-05 < 1e+20 by <cavsim.pipes.two_phase_pipe.Pipe object at 0x000002282CE55248>)\n",
      "  warn('Smaller timestep required by component! ({} < {} by {})'.format(component_time, delta_t, component))\n",
      "e:\\cavsim\\cavsim\\base\\solvers\\simple_solver.py:46: UserWarning: Smaller timestep required by component! (2.5346976757973146e-05 < 1e+20 by <cavsim.pipes.two_phase_pipe.Pipe object at 0x000002282CE67548>)\n",
      "  warn('Smaller timestep required by component! ({} < {} by {})'.format(component_time, delta_t, component))\n",
      "e:\\cavsim\\cavsim\\base\\solvers\\simple_solver.py:46: UserWarning: Smaller timestep required by component! (4.048978978610628e-06 < 1e+20 by <cavsim.pipes.two_phase_pipe.Pipe object at 0x000002282CE63488>)\n",
      "  warn('Smaller timestep required by component! ({} < {} by {})'.format(component_time, delta_t, component))\n",
      "e:\\cavsim\\cavsim\\base\\solvers\\simple_solver.py:46: UserWarning: Smaller timestep required by component! (4.317632257116429e-05 < 1e+20 by <cavsim.pipes.two_phase_pipe.Pipe object at 0x000002282CE5D0C8>)\n",
      "  warn('Smaller timestep required by component! ({} < {} by {})'.format(component_time, delta_t, component))\n",
      "e:\\cavsim\\cavsim\\base\\solvers\\simple_solver.py:46: UserWarning: Smaller timestep required by component! (4.317632257116429e-05 < 1e+20 by <cavsim.pipes.two_phase_pipe.Pipe object at 0x000002282CE50188>)\n",
      "  warn('Smaller timestep required by component! ({} < {} by {})'.format(component_time, delta_t, component))\n",
      "e:\\cavsim\\cavsim\\base\\solvers\\simple_solver.py:46: UserWarning: Smaller timestep required by component! (0.0001827928630150279 < 1e+20 by <cavsim.pipes.pipe.Pipe object at 0x000002282CE6A608>)\n",
      "  warn('Smaller timestep required by component! ({} < {} by {})'.format(component_time, delta_t, component))\n",
      "e:\\cavsim\\cavsim\\base\\solvers\\simple_solver.py:46: UserWarning: Smaller timestep required by component! (8.17828883738477e-05 < 1e+20 by <cavsim.pipes.two_phase_pipe.Pipe object at 0x000002282CE4BF88>)\n",
      "  warn('Smaller timestep required by component! ({} < {} by {})'.format(component_time, delta_t, component))\n",
      "e:\\cavsim\\cavsim\\base\\solvers\\simple_solver.py:46: UserWarning: Smaller timestep required by component! (4.845745556671337e-05 < 1e+20 by <cavsim.pipes.pipe.Pipe object at 0x000002282CE6D6C8>)\n",
      "  warn('Smaller timestep required by component! ({} < {} by {})'.format(component_time, delta_t, component))\n",
      "e:\\cavsim\\cavsim\\base\\solvers\\simple_solver.py:46: UserWarning: Smaller timestep required by component! (0.004039132618235294 < 1e+20 by <cavsim.pipes.pipe.Pipe object at 0x000002282CE74888>)\n",
      "  warn('Smaller timestep required by component! ({} < {} by {})'.format(component_time, delta_t, component))\n",
      "e:\\cavsim\\cavsim\\base\\solvers\\simple_solver.py:46: UserWarning: Smaller timestep required by component! (5.2788569566934446e-05 < 1e+20 by <cavsim.pipes.two_phase_pipe.Pipe object at 0x000002282CE40F48>)\n",
      "  warn('Smaller timestep required by component! ({} < {} by {})'.format(component_time, delta_t, component))\n",
      "e:\\cavsim\\cavsim\\base\\solvers\\simple_solver.py:46: UserWarning: Smaller timestep required by component! (9.297091356564574e-05 < 1e+20 by <cavsim.pipes.pipe.Pipe object at 0x000002282CE3BE88>)\n",
      "  warn('Smaller timestep required by component! ({} < {} by {})'.format(component_time, delta_t, component))\n",
      "e:\\cavsim\\cavsim\\base\\solvers\\simple_solver.py:46: UserWarning: Smaller timestep required by component! (5.6728015057004176e-05 < 1e+20 by <cavsim.pipes.pipe.Pipe object at 0x000002282CE3ADC8>)\n",
      "  warn('Smaller timestep required by component! ({} < {} by {})'.format(component_time, delta_t, component))\n",
      "e:\\cavsim\\cavsim\\base\\solvers\\simple_solver.py:46: UserWarning: Smaller timestep required by component! (3.545500941062761e-05 < 1e+20 by <cavsim.pipes.pipe.Pipe object at 0x000002282CE37D08>)\n",
      "  warn('Smaller timestep required by component! ({} < {} by {})'.format(component_time, delta_t, component))\n",
      "e:\\cavsim\\cavsim\\base\\solvers\\simple_solver.py:46: UserWarning: Smaller timestep required by component! (0.00019066916171937514 < 1e+20 by <cavsim.pipes.pipe.Pipe object at 0x000002282CE11C48>)\n",
      "  warn('Smaller timestep required by component! ({} < {} by {})'.format(component_time, delta_t, component))\n",
      "e:\\cavsim\\cavsim\\base\\solvers\\simple_solver.py:46: UserWarning: Smaller timestep required by component! (0.0002332151730121283 < 1e+20 by <cavsim.pipes.pipe.Pipe object at 0x000002282CE2FB88>)\n",
      "  warn('Smaller timestep required by component! ({} < {} by {})'.format(component_time, delta_t, component))\n",
      "e:\\cavsim\\cavsim\\base\\solvers\\simple_solver.py:46: UserWarning: Smaller timestep required by component! (1.1030447372195258e-05 < 1e+20 by <cavsim.pipes.pipe.Pipe object at 0x000002282CE2AC08>)\n",
      "  warn('Smaller timestep required by component! ({} < {} by {})'.format(component_time, delta_t, component))\n",
      "e:\\cavsim\\cavsim\\base\\solvers\\simple_solver.py:46: UserWarning: Smaller timestep required by component! (0.0006170650134055817 < 1e+20 by <cavsim.pipes.pipe.Pipe object at 0x000002282CE2AC48>)\n",
      "  warn('Smaller timestep required by component! ({} < {} by {})'.format(component_time, delta_t, component))\n"
     ]
    },
    {
     "name": "stdout",
     "output_type": "stream",
     "text": [
      " 1:56:20 [==============================|100.00%]  0:00:00  Currently at time   0.350 of   0.350"
     ]
    }
   ],
   "source": [
    "solver.solve(1e20, 0.35, 3)"
   ]
  },
  {
   "cell_type": "code",
   "execution_count": 36,
   "metadata": {},
   "outputs": [],
   "source": [
    "pfield1 = np.stack(plogs1)\n",
    "pfield2 = np.stack(plogs2)\n",
    "pfield3 = np.stack(plogs3)\n",
    "disfield = np.stack(dislog)\n",
    "#velfield = np.stack(velocity)\n",
    "velocity = np.stack(vlogs)\n",
    "pressure = np.stack(pumplog)\n",
    "#pump_velocity = np.stack(pump_speed)\n",
    "values = np.stack(pump_value)\n",
    "flow_force = np.stack(flow_log)\n",
    "#spring_force = np.stack(springlog)\n",
    "##lower_pressure_force = np.stack(lower_pressure_log)\n",
    "contact_pressure = np.stack(contact_pressure_log)\n",
    "#damping_force = np.stack(damping_log)"
   ]
  },
  {
   "cell_type": "code",
   "execution_count": 37,
   "metadata": {
    "scrolled": false
   },
   "outputs": [
    {
     "data": {
      "image/png": "[encoded data removed]",
      "text/plain": [
       "<Figure size 1440x720 with 2 Axes>"
      ]
     },
     "metadata": {
      "needs_background": "light"
     },
     "output_type": "display_data"
    }
   ],
   "source": [
    "time = np.linspace(0, 0.3, int(pfield1[:,:].shape[0]))\n",
    "#plt.figure(figsize=(16, 10))\n",
    "fig, ax1 = plt.subplots(figsize=(20, 10))\n",
    "#plt.subplot(1, 2, 1)\n",
    "#plt.plot(vfield[:,0])\n",
    "#plt.plot(1, 2, 2)\n",
    "val1 = 0\n",
    "val = -1\n",
    "#val1 = 0\n",
    "#val = -1\n",
    "\n",
    "#upper_force = upperp_field[val1:val, 0] + gfield[val1:val, 0] + springforce[val1:val, 0]\n",
    "#lower_force = lowp_field[val1:val, 0] + contact_pressure[val1:val, 0]\n",
    "#result1 = lower_force - upper_force\n",
    "#result2 = flow_field[val1:val, 0] - gfield[val1:val, 0] - springforce[val1:val, 0] - dampingfield[val1:val, 0]\n",
    "#upper_flow = gfield[val1:val, 0] + springforce[val1:val, 0] + dampingfield[val1:val, 0]\n",
    "#lower_flow = flow_field[val1:val, 0]\n",
    "#ax1.plot(time[val1:val], upper_flow, color='red')\n",
    "#ax1.plot(time[val1:val], lower_flow, color='blue')\n",
    "\n",
    "\n",
    "#plt.subplot(1, 2, 2)\n",
    "#ax1.plot(result1[val1:val])\n",
    "#ax1.plot(result2[val1:val])\n",
    "#ax1.plot(time[val1:val], upperp_field[val1:val, 0], color='red')\n",
    "#ax1.plot(time[val1:val], lowp_field[val1:val, 0], color='green')\n",
    "#ax1.plot(time[val1:val], dampingfield[val1:val, 0], color='blue')\n",
    "\n",
    "\n",
    "#ax1.plot(time[val1:val], spring_force[val1:val, 0], color='grey')\n",
    "#ax1.plot(time[val1:val], lower_force, color='blue')\n",
    "\n",
    "#plt.plot(time[val1:val], pfield3[val1:val, 1], color='red')\n",
    "#plt.plot(time[val1:val], pump_velocity[val1:val, 0], color='black')\n",
    "plt.plot(time[val1:val], pfield1[val1:val, 1], color='green')\n",
    "plt.plot(time[val1:val], pfield3[val1:val, -2],color='violet')\n",
    "#ax1.plot(time[val1:val], velfield[val1:val, 0], color='green')\n",
    "plt.plot()\n",
    "\n",
    "#ax1.plot(time[val1:val], deltap[val1:val, 0], color='green')\n",
    "\n",
    "#plt.xlim(time[val1],time[val])\n",
    "#plt.ylim(0e5, 22e5)\n",
    "\n",
    "color = 'tab:red'\n",
    "ax1.set_xlabel('time (s)')\n",
    "ax1.set_ylabel('Pressure', color=color)\n",
    "#ax1.set_ylim(0.0e5, 23e5)\n",
    "ax1.set_xlim(0.12, 0.3)\n",
    "ax1.set_ylim(0.e5, 25.3e5)\n",
    "ax1.grid()\n",
    "#ax1.plot(time[val1:val], pfield1[val1:val, 1], color='red')\n",
    "#ax1.plot(time[val1:val], pfield2[val1:val, -2], color='green')\n",
    "ax1.tick_params(axis='y', labelcolor=color)\n",
    "\n",
    "\n",
    "ax2 = ax1.twinx()  # instantiate a second axes that shares the same x-axis\n",
    "\n",
    "color = 'tab:blue'\n",
    "\n",
    "#ax2.plot(time[val1:val], flow_force[val1:val, 0], color='red')\n",
    "ax2.plot(time[val1:val], disfield[val1:val, 0]*1000, color='purple')  # we already handled the x-label with ax1\n",
    "#ax2.plot(time[val1:val], contact_pressure[val1:val, 0], color='black')\n",
    "#ax2.plot(time[val1:val], pfield1[val1:val, 1] - pfield1[val1:val, -2])\n",
    "ax2.plot(time[val1:val], values[val1:val, 0]*1e3, color = 'black')\n",
    "#ax2.plot(time[val1:val], velocity[val1:val, 1]*3e3, color = 'black')\n",
    "#ax2.grid()\n",
    "#ax2.plot(time[val1:val], pfield1[val1:val, 1]*(0.032/2)**2*np.pi, color='green')\n",
    "#ax2.plot(time[val1:val], pfield2[val1:val, -2]*(0.03/2)**2*np.pi, color='red')\n",
    "#ax2.plot(time[val1:val], pfield3[val1:val, 0], color='blue')\n",
    "#ax2.set_ylim(0e5, 0.001)\n",
    "#ax2.plot(time[val1:val], contact_pressure_force[val1:val, 0], color = 'green')\n",
    "#ax2.plot(time[val1:val], spring_force[val1:val, 0], color = 'green')\n",
    "#ax2.plot(time[val1:val], contact_pressure_force[val1:val, 0]+lower_pressure_force[val1:val, 0], color = 'black')\n",
    "#ax2.plot(time[val1:val], flow_force[val1:val, 0]-spring_force[val1:val, 0], color = 'red')\n",
    "#ax2.plot(time[val1:val], zeta[val1:val, 0], color='green')\n",
    "#ax2.plot(time[val1:val], flow_field[val1:val, 0], color='black')\n",
    "#ax2.tick_params(axis='y', labelcolor=color)\n",
    "\n",
    "#ax2.set_ylim(0.0, 12.0)\n",
    "\n",
    "#plt.subplot(1, 2, 1)\n",
    "#plt.plot(time[val1:val], disfield[val1:val, 0]*1000, color='black')\n",
    "#plt.plot(time[val1:val], pump(time[val1:val]))\n",
    "#plt.plot(time[val1:val], velfield[val1:val, 0], color='blue')\n",
    "#plt.plot(time[val1:val], pfield2[val1:val, 1], color='red')\n",
    "#pltplot(time[val1:val], pfield1[val1:val, -2], color='green')\n",
    "#plt.ylim(-2e3, 2e3)\n",
    "fig.tight_layout()\n",
    "plt.show()"
   ]
  },
  {
   "cell_type": "code",
   "execution_count": 38,
   "metadata": {},
   "outputs": [],
   "source": [
    "#a = 70/60*(0.07**2)/4*np.pi*0.045"
   ]
  },
  {
   "cell_type": "code",
   "execution_count": 39,
   "metadata": {
    "scrolled": true
   },
   "outputs": [],
   "source": [
    "#a = 70/60(0.07**2)/4*np.pi*0.045\n",
    "#a/(2*0.025**2/4.0*np.pi)\n",
    "#print(pump._cases[val1:val])"
   ]
  },
  {
   "cell_type": "code",
   "execution_count": 40,
   "metadata": {},
   "outputs": [],
   "source": [
    "zetavalue = (2*(20e5-1.28e5)/((0.2058**2)*1000))"
   ]
  },
  {
   "cell_type": "code",
   "execution_count": 41,
   "metadata": {},
   "outputs": [],
   "source": [
    "import nptdms\n",
    "from nptdms import TdmsFile\n",
    "savepath = 'L:/017_Messdaten_Pascal/Messdatensatz 0,5m Fuellstand'\n",
    "path = \"L:/017_Messdaten_Pascal/Messdatensatz 0,5m Fuellstand\""
   ]
  },
  {
   "cell_type": "code",
   "execution_count": 42,
   "metadata": {},
   "outputs": [],
   "source": [
    "def writetdms(tdms, num):\n",
    "    groups = tdms.groups()\n",
    "    channels = tdms.group_channels(groups[0])\n",
    "    channel_names = [channel.channel for channel in channels]\n",
    "    obj = tdms.object(groups[0], channel_names[num])\n",
    "    data = np.asarray(obj.data)\n",
    "    \n",
    "\n",
    "    return data\n",
    "\n",
    "\n",
    "\n",
    "def datetime_to_float(timesignal):\n",
    "\n",
    "    t0 = timesignal[0]\n",
    "    t1 = timesignal[timesignal.shape[0] - 1]\n",
    "    sec = (t1-t0).total_seconds()\n",
    "    time = np.linspace(0, sec, timesignal.shape[0])\n",
    "\n",
    "    return time"
   ]
  },
  {
   "cell_type": "code",
   "execution_count": 43,
   "metadata": {},
   "outputs": [],
   "source": [
    "size = 128000\n",
    "tpAr = np.empty(size)\n",
    "pAr = np.empty(size)"
   ]
  },
  {
   "cell_type": "code",
   "execution_count": 44,
   "metadata": {},
   "outputs": [
    {
     "ename": "FileNotFoundError",
     "evalue": "[Errno 2] No such file or directory: 'L:/017_Messdaten_Pascal/Messdatensatz 0,5m Fuellstand/Messungen_3.tdms'",
     "output_type": "error",
     "traceback": [
      "\u001b[1;31m---------------------------------------------------------------------------\u001b[0m",
      "\u001b[1;31mFileNotFoundError\u001b[0m                         Traceback (most recent call last)",
      "\u001b[1;32m<ipython-input-44-8a6fd25a5364>\u001b[0m in \u001b[0;36m<module>\u001b[1;34m\u001b[0m\n\u001b[0;32m      1\u001b[0m \u001b[0mch\u001b[0m \u001b[1;33m=\u001b[0m \u001b[1;33m(\u001b[0m\u001b[1;36m0\u001b[0m\u001b[1;33m,\u001b[0m \u001b[1;36m1\u001b[0m\u001b[1;33m,\u001b[0m \u001b[1;36m2\u001b[0m\u001b[1;33m,\u001b[0m \u001b[1;36m3\u001b[0m\u001b[1;33m,\u001b[0m \u001b[1;36m4\u001b[0m\u001b[1;33m,\u001b[0m \u001b[1;36m5\u001b[0m\u001b[1;33m,\u001b[0m \u001b[1;36m6\u001b[0m\u001b[1;33m,\u001b[0m \u001b[1;36m7\u001b[0m\u001b[1;33m,\u001b[0m \u001b[1;36m8\u001b[0m\u001b[1;33m,\u001b[0m \u001b[1;36m9\u001b[0m\u001b[1;33m,\u001b[0m \u001b[1;36m10\u001b[0m\u001b[1;33m,\u001b[0m \u001b[1;36m11\u001b[0m\u001b[1;33m,\u001b[0m \u001b[1;36m12\u001b[0m\u001b[1;33m,\u001b[0m \u001b[1;36m13\u001b[0m\u001b[1;33m,\u001b[0m \u001b[1;36m14\u001b[0m\u001b[1;33m,\u001b[0m \u001b[1;36m15\u001b[0m\u001b[1;33m,\u001b[0m \u001b[1;36m16\u001b[0m\u001b[1;33m,\u001b[0m \u001b[1;36m17\u001b[0m\u001b[1;33m,\u001b[0m \u001b[1;36m18\u001b[0m\u001b[1;33m,\u001b[0m \u001b[1;36m19\u001b[0m\u001b[1;33m,\u001b[0m \u001b[1;36m20\u001b[0m\u001b[1;33m,\u001b[0m \u001b[1;36m21\u001b[0m\u001b[1;33m,\u001b[0m \u001b[1;36m22\u001b[0m\u001b[1;33m,\u001b[0m \u001b[1;36m23\u001b[0m\u001b[1;33m,\u001b[0m \u001b[1;36m24\u001b[0m\u001b[1;33m,\u001b[0m \u001b[1;36m25\u001b[0m\u001b[1;33m)\u001b[0m\u001b[1;33m\u001b[0m\u001b[1;33m\u001b[0m\u001b[0m\n\u001b[1;32m----> 2\u001b[1;33m \u001b[0mtdms\u001b[0m \u001b[1;33m=\u001b[0m \u001b[0mTdmsFile\u001b[0m\u001b[1;33m(\u001b[0m\u001b[0mpath\u001b[0m\u001b[1;33m+\u001b[0m\u001b[1;34m'/Messungen_'\u001b[0m \u001b[1;33m+\u001b[0m\u001b[0mstr\u001b[0m\u001b[1;33m(\u001b[0m\u001b[1;36m3\u001b[0m\u001b[1;33m)\u001b[0m\u001b[1;33m+\u001b[0m\u001b[1;34m\".tdms\"\u001b[0m\u001b[1;33m)\u001b[0m\u001b[1;33m\u001b[0m\u001b[1;33m\u001b[0m\u001b[0m\n\u001b[0m\u001b[0;32m      3\u001b[0m \u001b[0mtpAr\u001b[0m \u001b[1;33m=\u001b[0m \u001b[0mdatetime_to_float\u001b[0m\u001b[1;33m(\u001b[0m\u001b[0mwritetdms\u001b[0m\u001b[1;33m(\u001b[0m\u001b[0mtdms\u001b[0m\u001b[1;33m,\u001b[0m \u001b[0mch\u001b[0m\u001b[1;33m[\u001b[0m\u001b[1;36m10\u001b[0m\u001b[1;33m]\u001b[0m\u001b[1;33m)\u001b[0m\u001b[1;33m)\u001b[0m\u001b[1;33m\u001b[0m\u001b[1;33m\u001b[0m\u001b[0m\n\u001b[0;32m      4\u001b[0m \u001b[0mpAr\u001b[0m \u001b[1;33m=\u001b[0m \u001b[0mwritetdms\u001b[0m\u001b[1;33m(\u001b[0m\u001b[0mtdms\u001b[0m\u001b[1;33m,\u001b[0m \u001b[0mch\u001b[0m\u001b[1;33m[\u001b[0m\u001b[1;36m11\u001b[0m\u001b[1;33m]\u001b[0m\u001b[1;33m)\u001b[0m\u001b[1;33m\u001b[0m\u001b[1;33m\u001b[0m\u001b[0m\n",
      "\u001b[1;32m~\\anaconda3\\envs\\CavSim\\lib\\site-packages\\nptdms-0.27.0-py3.7.egg\\nptdms\\tdms.py\u001b[0m in \u001b[0;36m__init__\u001b[1;34m(self, file, raw_timestamps, memmap_dir, read_metadata_only, keep_open)\u001b[0m\n\u001b[0;32m    132\u001b[0m         \u001b[0mself\u001b[0m\u001b[1;33m.\u001b[0m\u001b[0mdata_read\u001b[0m \u001b[1;33m=\u001b[0m \u001b[1;32mFalse\u001b[0m\u001b[1;33m\u001b[0m\u001b[1;33m\u001b[0m\u001b[0m\n\u001b[0;32m    133\u001b[0m \u001b[1;33m\u001b[0m\u001b[0m\n\u001b[1;32m--> 134\u001b[1;33m         \u001b[0mself\u001b[0m\u001b[1;33m.\u001b[0m\u001b[0m_reader\u001b[0m \u001b[1;33m=\u001b[0m \u001b[0mTdmsReader\u001b[0m\u001b[1;33m(\u001b[0m\u001b[0mfile\u001b[0m\u001b[1;33m)\u001b[0m\u001b[1;33m\u001b[0m\u001b[1;33m\u001b[0m\u001b[0m\n\u001b[0m\u001b[0;32m    135\u001b[0m         \u001b[1;32mtry\u001b[0m\u001b[1;33m:\u001b[0m\u001b[1;33m\u001b[0m\u001b[1;33m\u001b[0m\u001b[0m\n\u001b[0;32m    136\u001b[0m             \u001b[0mself\u001b[0m\u001b[1;33m.\u001b[0m\u001b[0m_read_file\u001b[0m\u001b[1;33m(\u001b[0m\u001b[0mself\u001b[0m\u001b[1;33m.\u001b[0m\u001b[0m_reader\u001b[0m\u001b[1;33m,\u001b[0m \u001b[0mread_metadata_only\u001b[0m\u001b[1;33m)\u001b[0m\u001b[1;33m\u001b[0m\u001b[1;33m\u001b[0m\u001b[0m\n",
      "\u001b[1;32m~\\anaconda3\\envs\\CavSim\\lib\\site-packages\\nptdms-0.27.0-py3.7.egg\\nptdms\\reader.py\u001b[0m in \u001b[0;36m__init__\u001b[1;34m(self, tdms_file)\u001b[0m\n\u001b[0;32m     45\u001b[0m             \u001b[1;31m# Is path to a file\u001b[0m\u001b[1;33m\u001b[0m\u001b[1;33m\u001b[0m\u001b[1;33m\u001b[0m\u001b[0m\n\u001b[0;32m     46\u001b[0m             \u001b[0mself\u001b[0m\u001b[1;33m.\u001b[0m\u001b[0m_file_path\u001b[0m \u001b[1;33m=\u001b[0m \u001b[0mstr\u001b[0m\u001b[1;33m(\u001b[0m\u001b[0mtdms_file\u001b[0m\u001b[1;33m)\u001b[0m\u001b[1;33m\u001b[0m\u001b[1;33m\u001b[0m\u001b[0m\n\u001b[1;32m---> 47\u001b[1;33m             \u001b[0mself\u001b[0m\u001b[1;33m.\u001b[0m\u001b[0m_file\u001b[0m \u001b[1;33m=\u001b[0m \u001b[0mopen\u001b[0m\u001b[1;33m(\u001b[0m\u001b[0mself\u001b[0m\u001b[1;33m.\u001b[0m\u001b[0m_file_path\u001b[0m\u001b[1;33m,\u001b[0m \u001b[1;34m'rb'\u001b[0m\u001b[1;33m)\u001b[0m\u001b[1;33m\u001b[0m\u001b[1;33m\u001b[0m\u001b[0m\n\u001b[0m\u001b[0;32m     48\u001b[0m             \u001b[0mindex_file_path\u001b[0m \u001b[1;33m=\u001b[0m \u001b[0mself\u001b[0m\u001b[1;33m.\u001b[0m\u001b[0m_file_path\u001b[0m \u001b[1;33m+\u001b[0m \u001b[1;34m'_index'\u001b[0m\u001b[1;33m\u001b[0m\u001b[1;33m\u001b[0m\u001b[0m\n\u001b[0;32m     49\u001b[0m             \u001b[1;32mif\u001b[0m \u001b[0mos\u001b[0m\u001b[1;33m.\u001b[0m\u001b[0mpath\u001b[0m\u001b[1;33m.\u001b[0m\u001b[0misfile\u001b[0m\u001b[1;33m(\u001b[0m\u001b[0mindex_file_path\u001b[0m\u001b[1;33m)\u001b[0m\u001b[1;33m:\u001b[0m\u001b[1;33m\u001b[0m\u001b[1;33m\u001b[0m\u001b[0m\n",
      "\u001b[1;31mFileNotFoundError\u001b[0m: [Errno 2] No such file or directory: 'L:/017_Messdaten_Pascal/Messdatensatz 0,5m Fuellstand/Messungen_3.tdms'"
     ]
    }
   ],
   "source": [
    "ch = (0, 1, 2, 3, 4, 5, 6, 7, 8, 9, 10, 11, 12, 13, 14, 15, 16, 17, 18, 19, 20, 21, 22, 23, 24, 25)\n",
    "tdms = TdmsFile(path+'/Messungen_' +str(3)+\".tdms\")\n",
    "tpAr = datetime_to_float(writetdms(tdms, ch[10]))\n",
    "pAr = writetdms(tdms, ch[11])"
   ]
  },
  {
   "cell_type": "code",
   "execution_count": null,
   "metadata": {
    "scrolled": false
   },
   "outputs": [],
   "source": [
    "new_time = np.linspace(0, (time[-12000-38000]-time[65000]), time[65000:-12000-38000].shape[0])\n",
    "print(new_time)\n",
    "plt.figure(figsize=(20, 10))\n",
    "plt.plot(tpAr[7500:19500]-tpAr[7500], pAr[7500:19500]*1e5, label='Messung')\n",
    "plt.plot(new_time, pressure[65000:-12000-38000, 0],color='red', label='Simulation')\n",
    "plt.xlabel('Zeit in Sekunden', fontsize='14')\n",
    "plt.ylabel('Druck in Pascal', fontsize='14')\n",
    "plt.legend(fontsize='14')\n",
    "plt.ylim(0e5,22e5)\n",
    "plt.grid()\n",
    "#plt.savefig('L:/023_CavSim_Plots/Simulation_70Umin.png')\n"
   ]
  },
  {
   "cell_type": "code",
   "execution_count": null,
   "metadata": {},
   "outputs": [],
   "source": [
    "fig, ax1 = plt.subplots(figsize=(20, 10))\n",
    "ax1.tick_params(axis='x', labelsize='20')\n",
    "#ax1.set_title('Vergleich von Messung und Simulation bei 70 U/min', fontsize='30')\n",
    "color = 'tab:blue'\n",
    "ln1 = ax1.plot(tpAr[7500:19500]-tpAr[7500], pAr[7500:19500]*1e5, label='Messung')\n",
    "ln2 = ax1.plot(new_time, pressure[65000:-12000-38000, 0],color='red', label='Simulation')\n",
    "ax1.set_ylim(0, 22e5)\n",
    "ax1.set_xlabel('Zeit in $s$', fontsize='24')\n",
    "ax1.set_ylabel('Druck in $Pa$', color=color, fontsize='24')\n",
    "ax1.tick_params(axis='y', labelcolor=color, labelsize='20')\n",
    "#ax1.minorticks_on()\n",
    "#ax1.grid(which='major', linestyle='--', linewidth='0.5', color='grey')\n",
    "# Customize the minor grid\n",
    "# ax1.grid(which='minor', linestyle=':', linewidth='0.5', color='grey')\n",
    "#ax1.tick_params(which='both',  # Options for both major and minor ticks\n",
    "#                top='off',  # turn off top ticks\n",
    "#                left='off',  # turn off left ticks\n",
    "#                right='off',  # turn off right ticks\n",
    "#                bottom='off')  # turn off bottom ticks\n",
    "\n",
    "ax2 = ax1.twinx()  # instantiate a second axes that shares the same x-axis\n",
    "color = 'tab:green'\n",
    "#ax2.set_ylim(0e5, 23e5)\n",
    "#ln3 = ax2.plot(time, flow,color='red', label='Ventilhub')\n",
    "ln3 = ax2.plot(new_time, values[65000:-12000-38000, 0]*1000,color='green', label='Simulation Ventilhub')\n",
    "ax2.set_ylim(0.0, 1.5)\n",
    "ax2.set_ylabel('Hub in $mm$', color=color, fontsize='24')\n",
    "ax2.minorticks_on()\n",
    "#ax1.grid(which='minor', linestyle='--', linewidth='0.5', color='grey')\n",
    "# Customize the minor grid\n",
    "# ax1.grid(which='minor', linestyle=':', linewidth='0.5', color='grey')\n",
    "ax2.tick_params(which='both',  # Options for both major and minor ticks\n",
    "                top='off',  # turn off top ticks\n",
    "                left='off',  # turn off left ticks\n",
    "                right='off',  # turn off right ticks\n",
    "                bottom='off',  # turn off bottom ticks\n",
    "                labelsize='20',\n",
    "                labelcolor=color)\n",
    "#ax3 = ax2.twinx()\n",
    "#color = 'tab:green'\n",
    "#ln3 = ax3.plot(t_hub[613:,], hub[613:,], color='green', label='Hub')\n",
    "#ax3.set_xlim(0.325,0.725)\n",
    "#ax2.set_ylim(np.min(flow),0.3)\n",
    "#ax3.set_xlabel('Zeit (s)')\n",
    "#ax3.set_ylabel('Hub in $mm$', color=color, fontsize='20')\n",
    "#ax3.minorticks_on()\n",
    "#ax1.grid(which='minor', linestyle='--', linewidth='0.5', color='grey')\n",
    "# Customize the minor grid\n",
    "# ax1.grid(which='minor', linestyle=':', linewidth='0.5', color='grey')\n",
    "#ax3.tick_params(which='both',  # Options for both major and minor ticks\n",
    "#                top='off',  # turn off top ticks\n",
    "#                left='off',  # turn off left ticks\n",
    "#                right='off',  # turn off right ticks\n",
    "#                bottom='off',  # turn off bottom ticks\n",
    "#                labelsize='16',\n",
    "#                labelcolor=color)\n",
    "#ax3.spines[\"right\"].set_position((\"axes\", 1.05))\n",
    "\n",
    "lns = ln1 + ln2 + ln3\n",
    "labs = [l.get_label() for l in lns]\n",
    "ax1.legend(lns, labs, loc='lower right', frameon=False, fontsize='24')\n",
    "plt.savefig('L:/023_CavSim_Plots/Simulation_70Umin.png',dpi=800)\n",
    "plt.show()"
   ]
  },
  {
   "cell_type": "code",
   "execution_count": null,
   "metadata": {},
   "outputs": [],
   "source": [
    "print(tpAr[7500:19500]-tpAr[7500])"
   ]
  },
  {
   "cell_type": "code",
   "execution_count": null,
   "metadata": {},
   "outputs": [],
   "source": [
    "print((np.max(pAr[7500:19500]*1e5)-np.max(pressure[60500:-1400, 0]))/np.max(pAr[7500:19500]*1e5)*100)"
   ]
  },
  {
   "cell_type": "code",
   "execution_count": null,
   "metadata": {},
   "outputs": [],
   "source": []
  },
  {
   "cell_type": "code",
   "execution_count": null,
   "metadata": {},
   "outputs": [],
   "source": []
  },
  {
   "cell_type": "code",
   "execution_count": null,
   "metadata": {},
   "outputs": [],
   "source": []
  },
  {
   "cell_type": "code",
   "execution_count": null,
   "metadata": {},
   "outputs": [],
   "source": []
  },
  {
   "cell_type": "code",
   "execution_count": null,
   "metadata": {},
   "outputs": [],
   "source": []
  }
 ],
 "metadata": {
  "kernelspec": {
   "display_name": "Python 3",
   "language": "python",
   "name": "python3"
  },
  "language_info": {
   "codemirror_mode": {
    "name": "ipython",
    "version": 3
   },
   "file_extension": ".py",
   "mimetype": "text/x-python",
   "name": "python",
   "nbconvert_exporter": "python",
   "pygments_lexer": "ipython3",
   "version": "3.7.7"
  }
 },
 "nbformat": 4,
 "nbformat_minor": 2
}
