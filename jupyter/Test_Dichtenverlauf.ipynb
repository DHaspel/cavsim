{
 "cells": [
  {
   "cell_type": "code",
   "execution_count": 1,
   "metadata": {},
   "outputs": [],
   "source": [
    "import numpy as np\n",
    "import matplotlib.pyplot as plt"
   ]
  },
  {
   "cell_type": "code",
   "execution_count": 2,
   "metadata": {},
   "outputs": [],
   "source": [
    "a = 1000000\n",
    "#rho_0 = 998.2\n",
    "volume = 1e-4\n",
    "alpha = np.linspace(0, 3 * np.pi /4, a)"
   ]
  },
  {
   "cell_type": "code",
   "execution_count": 3,
   "metadata": {},
   "outputs": [],
   "source": [
    "rpm = 160\n",
    "radius = 0.1\n",
    "def calculate_rad_velocity(rpm, radius):\n",
    "\n",
    "    return (rpm/60) * 2 * np.pi * radius\n",
    "\n",
    "def calculate_angle_velocity(rpm):\n",
    "    \n",
    "    return (rpm/60) * 2 * np.pi"
   ]
  },
  {
   "cell_type": "code",
   "execution_count": 4,
   "metadata": {},
   "outputs": [],
   "source": [
    "viscosity = 1e-3\n",
    "height = 1.5e-4\n",
    "#delta_p = 15*10**5\n",
    "delta_x = 16e-3\n",
    "width = 0.06556\n",
    "rad_velocity = calculate_rad_velocity(rpm, radius)\n",
    "rad_velocity = 0.0\n",
    "angle_velocity = calculate_angle_velocity(rpm)\n",
    "t = alpha / angle_velocity\n",
    "delta_t = t[1] - t[0]\n",
    "delta_t = 1e-6\n"
   ]
  },
  {
   "cell_type": "code",
   "execution_count": 5,
   "metadata": {},
   "outputs": [],
   "source": [
    "def calculate_volume_flow (width, height, rad_velocity, viscosity, delta_p, delta_x):\n",
    "    \n",
    "    volume_flow = width * height * (rad_velocity - (2/(3*viscosity))*(height**2) * delta_p / delta_x)\n",
    "    \n",
    "    return volume_flow"
   ]
  },
  {
   "cell_type": "code",
   "execution_count": null,
   "metadata": {},
   "outputs": [],
   "source": []
  },
  {
   "cell_type": "code",
   "execution_count": 6,
   "metadata": {},
   "outputs": [],
   "source": [
    "class Fluid():\n",
    "    def __init__(self,\n",
    "                 kinematic_viscosity: float = 1e-6,\n",
    "                 norm_density: float = 998.2,\n",
    "                 norm_pressure: float = 101325,\n",
    "                 initial_pressure: float = 101325,\n",
    "                 factor_b: float = 3.214e8,\n",
    "                 factor_m: float = 7.0,\n",
    "                )-> None:\n",
    "        \"\"\"\n",
    "        Initializes the fluid class with NIST values of fluid properties\n",
    "        \"\"\"\n",
    "        self._kinematic_viscosity = kinematic_viscosity\n",
    "        self._norm_density = norm_density\n",
    "        self._norm_pressure = norm_pressure\n",
    "        self._initial_pressure = initial_pressure\n",
    "        self._factor_b = factor_b\n",
    "        self._factor_m = factor_m\n",
    "        \n",
    "    @property\n",
    "    def kinematic_viscosity(self):\n",
    "        return self._kinematic_viscosity\n",
    "    \n",
    "    @property\n",
    "    def norm_density(self):\n",
    "        return self._norm_density\n",
    "    \n",
    "    @property\n",
    "    def norm_pressure(self):\n",
    "        return self._norm_pressure\n",
    "    \n",
    "    @property\n",
    "    def initial_pressure(self):\n",
    "        return self._initial_pressure\n",
    "    \n",
    "    @property\n",
    "    def factor_b(self):\n",
    "        return self._factor_b\n",
    "    \n",
    "    @property\n",
    "    def factor_m(self):\n",
    "        return self._factor_m\n",
    "    \n",
    "    def density(self, pressure: float = None, temperature: float = None)-> float:\n",
    "        pressure_diff = np.asarray(pressure) - self.norm_pressure\n",
    "        result = self.norm_density * (((pressure_diff / self._factor_b) + 1)**(1/self._factor_m))\n",
    "        return result\n",
    "    def pressure(self, density: float = None, temperature: float = None)-> float:\n",
    "        result = self.norm_pressure + self.factor_b * ((np.asarray(density) / self.norm_density)**self.factor_m - 1)\n",
    "        return result\n",
    "        "
   ]
  },
  {
   "cell_type": "code",
   "execution_count": null,
   "metadata": {},
   "outputs": [],
   "source": []
  },
  {
   "cell_type": "code",
   "execution_count": 7,
   "metadata": {},
   "outputs": [],
   "source": [
    "def calculate_mass_flow(volume_flow, density):\n",
    "    delta_m = abs(volume_flow) * density\n",
    "    return delta_m"
   ]
  },
  {
   "cell_type": "code",
   "execution_count": 8,
   "metadata": {},
   "outputs": [],
   "source": [
    "def calculate_new_density(delta_m, volume, delta_t, density_t0):\n",
    "    density_t1 = density_t0 + delta_m * delta_t / volume\n",
    "    return density_t1"
   ]
  },
  {
   "cell_type": "code",
   "execution_count": null,
   "metadata": {},
   "outputs": [],
   "source": []
  },
  {
   "cell_type": "code",
   "execution_count": null,
   "metadata": {},
   "outputs": [],
   "source": [
    "water = Fluid()\n",
    "rho = np.empty(a)\n",
    "\n",
    "p0 = 1e5\n",
    "p1 = 1e5\n",
    "p2 = 16e5\n",
    "\n",
    "plog = []\n",
    "plog.append(p1)\n",
    "\n",
    "delta_p01 = p1 - p0\n",
    "delta_p12 = p2 - p1\n",
    "\n",
    "density0 = water.density(pressure=p0,temperature=None)\n",
    "density1 = water.density(pressure=p1,temperature=None)\n",
    "density2 = water.density(pressure=p2,temperature=None)\n",
    "\n",
    "for i in range(a):\n",
    "    density1_t0 = density1\n",
    "    volume_flow01 = calculate_volume_flow(0.065, 1.5e-4, 0.0, 1e-3, delta_p01, 8e-3)\n",
    "    volume_flow12 = calculate_volume_flow(0.065, 1.5e-4, 0.0, 1e-3, delta_p12, 8e-3)\n",
    "    \n",
    "    mass_flow01 = calculate_mass_flow(volume_flow01,density0)\n",
    "    #print(mass_flow01)\n",
    "    mass_flow12 = calculate_mass_flow(volume_flow12,density1)\n",
    "    delta_m = mass_flow12 - mass_flow01\n",
    "    #delta_m = 0.0\n",
    "    \n",
    "    density1 = calculate_new_density(delta_m, volume, delta_t, density1_t0)\n",
    "    p1 = water.pressure(density=density1)\n",
    "    plog.append(p1)\n",
    "    \n",
    "    delta_p01 = p1 -p0\n",
    "    delta_p12 = p2- p1"
   ]
  },
  {
   "cell_type": "code",
   "execution_count": null,
   "metadata": {},
   "outputs": [],
   "source": [
    "time = np.linspace(0, (delta_t * a), len(plog))\n",
    "plt.figure(figsize=(16,10))\n",
    "plt.plot(time,plog)\n",
    "plt.xlim(0.0, 1)\n",
    "plt.ylim(0,10e5)"
   ]
  },
  {
   "cell_type": "code",
   "execution_count": null,
   "metadata": {},
   "outputs": [],
   "source": [
    "print(plog[-1])"
   ]
  },
  {
   "cell_type": "code",
   "execution_count": null,
   "metadata": {},
   "outputs": [],
   "source": []
  },
  {
   "cell_type": "code",
   "execution_count": null,
   "metadata": {},
   "outputs": [],
   "source": []
  },
  {
   "cell_type": "code",
   "execution_count": null,
   "metadata": {},
   "outputs": [],
   "source": []
  }
 ],
 "metadata": {
  "kernelspec": {
   "display_name": "Python 3",
   "language": "python",
   "name": "python3"
  },
  "language_info": {
   "codemirror_mode": {
    "name": "ipython",
    "version": 3
   },
   "file_extension": ".py",
   "mimetype": "text/x-python",
   "name": "python",
   "nbconvert_exporter": "python",
   "pygments_lexer": "ipython3",
   "version": "3.7.7"
  }
 },
 "nbformat": 4,
 "nbformat_minor": 4
}
