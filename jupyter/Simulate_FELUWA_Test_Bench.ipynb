{
 "cells": [
  {
   "cell_type": "code",
   "execution_count": 1,
   "metadata": {},
   "outputs": [],
   "source": [
    "import numpy as np\n",
    "import matplotlib.pyplot as plt"
   ]
  },
  {
   "cell_type": "code",
   "execution_count": 2,
   "metadata": {},
   "outputs": [],
   "source": [
    "import cavsim\n",
    "from cavsim import Measure\n",
    "from cavsim.connectors import BaseConnector, Connector\n",
    "from cavsim.channels import ImportChannel, ExportChannel\n",
    "from cavsim.components import BaseComponent, Component\n",
    "from cavsim.solvers import BaseSolver, SimpleSolver\n",
    "from cavsim.fluids import Fluid"
   ]
  },
  {
   "cell_type": "code",
   "execution_count": 3,
   "metadata": {},
   "outputs": [],
   "source": [
    "from cavsim.pipes.pipe import Pipe\n",
    "from cavsim.boundaries.left_boundary_pressure import LeftBoundaryPressure\n",
    "from cavsim.boundaries.left_boundary_velocity import LeftBoundaryVelocity\n",
    "from cavsim.boundaries.right_boundary_pressure import RightBoundaryPressure\n",
    "from cavsim.boundaries.right_boundary_velocity import RightBoundaryVelocity\n",
    "from cavsim.boundaries.simple_pipe_connector import PipeConnectorSimple\n",
    "from cavsim.boundaries.zeta_joint import ZetaJoint\n",
    "from cavsim.boundaries.simple_t_joint import SimpleTJoint\n",
    "from cavsim.boundaries.simple_t_joint_double_left import SimpleTJointLeft\n",
    "from cavsim.boundaries.simple_right_gasdampener import RightGasBubbleSimple\n",
    "from cavsim.boundaries.simple_left_gasdampener import LeftGasBubbleSimple\n",
    "from cavsim.boundaries.frictionless_gasdampener import FrictionlessGasDampener\n",
    "from cavsim.boundaries.gasdampener import GasDampener\n",
    "from cavsim.boundaries.pump_with_valves_model_new import PumpSuctionValve\n",
    "from cavsim.boundaries.reflectionless_right_boundary_condition import RightBoundaryReflectionFree"
   ]
  },
  {
   "cell_type": "code",
   "execution_count": 4,
   "metadata": {},
   "outputs": [],
   "source": [
    "fluid = Fluid(1000, 1e-3, 1.68e9, 2.3e3, initial_pressure=2.6e5)"
   ]
  },
  {
   "cell_type": "code",
   "execution_count": 5,
   "metadata": {},
   "outputs": [],
   "source": [
    "Tank = Pipe(2.0, 1.5, 0.002, 2e11, 1e-7, 4, initial_pressure=2.6e5)\n",
    "suction05 = Pipe(0.155, 0.5, 0.002, 2e11, 1e-7, 4,initial_pressure=2.6e5)\n",
    "suctionsd = Pipe(0.155, 0.50, 0.002, 2e11, 1e-7, 4, initial_pressure=2.6e5)\n",
    "suction1 = Pipe(0.155, 0.40, 0.002, 2e11, 1e-7, 4, initial_pressure=2.6e5)\n",
    "suction2 = Pipe(0.155, 0.40, 0.002, 2e11, 1e-7, 4, initial_pressure=2.6e5)\n",
    "suction3 = Pipe(0.155, 0.40, 0.002, 2e11, 1e-7, 4, initial_pressure=2.6e5)\n",
    "suction3 = Pipe(0.155, 0.40, 0.002, 2e11, 1e-7, 4, initial_pressure=2.6e5)\n",
    "suctionp1 = Pipe(0.155, 0.50, 0.002, 2e11, 1e-7, 4, initial_pressure=2.6e5)\n",
    "suctionp2 = Pipe(0.155, 0.50, 0.002, 2e11, 1e-7, 4, initial_pressure=2.6e5)\n",
    "suctionp3 = Pipe(0.155, 0.50, 0.002, 2e11, 1e-7, 4, initial_pressure=2.6e5)"
   ]
  },
  {
   "cell_type": "code",
   "execution_count": 6,
   "metadata": {},
   "outputs": [],
   "source": [
    "discharge1 = Pipe(0.155, 0.4, 0.002, 2e11, 1e-7, 80, initial_pressure=95.0e5)\n",
    "discharge2 = Pipe(0.155, 0.40, 0.002, 2e11, 1e-7, 4, initial_pressure=95.0e5)\n",
    "discharge3 = Pipe(0.155, 0.40, 0.002, 2e11, 1e-7, 4, initial_pressure=95.0e5)\n",
    "discharge4 = Pipe(0.155, 1.20, 0.002, 2e11, 1e-7, 4, initial_pressure=95.0e5)\n",
    "dischargep1 = Pipe(0.155, 1.2, 0.002, 2e11, 1e-7, 4, initial_pressure=95.0e5)\n",
    "dischargep2 = Pipe(0.155, 1.2, 0.002, 2e11, 1e-7, 4, initial_pressure=95.0e5)\n",
    "dischargep3 = Pipe(0.155, 1.2, 0.002, 2e11, 1e-7, 4, initial_pressure=95.0e5)\n",
    "dischargedd = Pipe(0.155, 0.3, 0.002, 2e11, 1e-7, 4, initial_pressure=95.0e5)"
   ]
  },
  {
   "cell_type": "code",
   "execution_count": 7,
   "metadata": {},
   "outputs": [],
   "source": [
    "kopf1 = PumpSuctionValve(suction_valve_density=7950.0,               # kg/m³\n",
    "            suction_spring_force0 = 3.438,                   # N\n",
    "            suction_spring_stiffness = 8438.0,            # N/m\n",
    "            suction_spring_mass = 0.042,                 # kg\n",
    "            suction_valve_mass = 0.13,                  # kg\n",
    "            suction_outer_diameter = 0.125,              # m\n",
    "            suction_inner_contact_diameter = 0.097,      # m\n",
    "            suction_seat_tilt = 35/180*np.pi,                   # °\n",
    "            suction_flow_constant_1 = 7.63e-3,             # -\n",
    "            suction_flow_constant_2 = 6.480,             # -\n",
    "            suction_friction_factor_a = 261.00,           # -\n",
    "            suction_friction_factor_b = 0.055,           # -\n",
    "            suction_friction_factor_c = 0.225,           # -\n",
    "            suction_friction_factor_d = 1.028,           # -\n",
    "            suction_factor_k0 = 0.946,                   # -\n",
    "            suction_factor_k1 = -0.940,                   # -\n",
    "            suction_factor_k2 = 0.00,                   # -\n",
    "            suction_max_displacement = 25e-3,                   # m\n",
    "            suction_outer_contact_diameter = 0.125,      # m\n",
    "            discharge_valve_density = 7950.0,             # kg/m³\n",
    "            discharge_spring_force0 = 3.438,             # N\n",
    "            discharge_spring_stiffness = 8438.0,          # N/m\n",
    "            discharge_spring_mass = 0.042,               # kg\n",
    "            discharge_valve_mass = 0.25,                # kg\n",
    "            discharge_outer_diameter = 0.125,            # m\n",
    "            discharge_inner_contact_diameter = 0.097,    # m\n",
    "            discharge_seat_tilt = 35/180*np.pi,                 # °\n",
    "            discharge_flow_constant_1 = 7.63e-3,           # -\n",
    "            discharge_flow_constant_2 = 6.480,           # -\n",
    "            discharge_friction_factor_a = 261.00,         # -\n",
    "            discharge_friction_factor_b = 0.055,         # -\n",
    "            discharge_friction_factor_c = 0.225,         # -\n",
    "            discharge_friction_factor_d = 1.028,         # -\n",
    "            discharge_factor_k0 = 0.946,                 # -\n",
    "            discharge_factor_k1 = -0.940,                 # -\n",
    "            discharge_factor_k2 = 0.00,                 # -\n",
    "            discharge_max_displacement = 50e-3,                 # m\n",
    "            discharge_outer_contact_diameter = 0.125,    # m\n",
    "            pump_radius = 0.3/2.0,                         # m\n",
    "            rpm = 46.0,                                 # U/min\n",
    "            rratio = 0.00,                              # -\n",
    "            phi0 = 180,                                # °\n",
    "            piston_diameter = 0.17,                     # m\n",
    "            death_volume = 70.0e-3,                 # m³\n",
    "            initial_pressure=2.6e5,\n",
    "            initial_discharge_pressure=95.0e5)"
   ]
  },
  {
   "cell_type": "code",
   "execution_count": 8,
   "metadata": {},
   "outputs": [],
   "source": [
    "kopf2 = PumpSuctionValve(suction_valve_density=7950.0,               # kg/m³\n",
    "            suction_spring_force0 = 3.438,                   # N\n",
    "            suction_spring_stiffness = 8438.0,            # N/m\n",
    "            suction_spring_mass = 0.042,                 # kg\n",
    "            suction_valve_mass = 0.13,                  # kg\n",
    "            suction_outer_diameter = 0.125,              # m\n",
    "            suction_inner_contact_diameter = 0.097,      # m\n",
    "            suction_seat_tilt = 35/180*np.pi,                   # °\n",
    "            suction_flow_constant_1 = 7.63e-3,             # -\n",
    "            suction_flow_constant_2 = 6.480,             # -\n",
    "            suction_friction_factor_a = 261.00,           # -\n",
    "            suction_friction_factor_b = 0.055,           # -\n",
    "            suction_friction_factor_c = 0.225,           # -\n",
    "            suction_friction_factor_d = 1.028,           # -\n",
    "            suction_factor_k0 = 0.946,                   # -\n",
    "            suction_factor_k1 = -0.940,                   # -\n",
    "            suction_factor_k2 = 0.00,                   # -\n",
    "            suction_max_displacement = 25e-3,                   # m\n",
    "            suction_outer_contact_diameter = 0.125,      # m\n",
    "            discharge_valve_density = 7950.0,             # kg/m³\n",
    "            discharge_spring_force0 = 3.438,             # N\n",
    "            discharge_spring_stiffness = 8438.0,          # N/m\n",
    "            discharge_spring_mass = 0.042,               # kg\n",
    "            discharge_valve_mass = 0.25,                # kg\n",
    "            discharge_outer_diameter = 0.125,            # m\n",
    "            discharge_inner_contact_diameter = 0.097,    # m\n",
    "            discharge_seat_tilt = 35/180*np.pi,                 # °\n",
    "            discharge_flow_constant_1 = 7.63e-3,           # -\n",
    "            discharge_flow_constant_2 = 6.480,           # -\n",
    "            discharge_friction_factor_a = 261.00,         # -\n",
    "            discharge_friction_factor_b = 0.055,         # -\n",
    "            discharge_friction_factor_c = 0.225,         # -\n",
    "            discharge_friction_factor_d = 1.028,         # -\n",
    "            discharge_factor_k0 = 0.946,                 # -\n",
    "            discharge_factor_k1 = -0.940,                 # -\n",
    "            discharge_factor_k2 = 0.00,                 # -\n",
    "            discharge_max_displacement = 50e-3,                 # m\n",
    "            discharge_outer_contact_diameter = 0.125,    # m\n",
    "            pump_radius = 0.3/2.0,                         # m\n",
    "            rpm = 46.0,                                 # U/min\n",
    "            rratio = 0.00,                              # -\n",
    "            phi0 = 300,                                # °\n",
    "            piston_diameter = 0.17,                     # m\n",
    "            death_volume = 70.0e-3,                 # m³\n",
    "            initial_pressure=2.6e5,\n",
    "            initial_discharge_pressure=95.0e5)"
   ]
  },
  {
   "cell_type": "code",
   "execution_count": 9,
   "metadata": {},
   "outputs": [],
   "source": [
    "kopf3 = PumpSuctionValve(suction_valve_density=7950.0,               # kg/m³\n",
    "            suction_spring_force0 = 3.438,                   # N\n",
    "            suction_spring_stiffness = 8438.0,            # N/m\n",
    "            suction_spring_mass = 0.042,                 # kg\n",
    "            suction_valve_mass = 0.13,                  # kg\n",
    "            suction_outer_diameter = 0.125,              # m\n",
    "            suction_inner_contact_diameter = 0.097,      # m\n",
    "            suction_seat_tilt = 35/180*np.pi,                   # °\n",
    "            suction_flow_constant_1 = 7.63e-3,             # -\n",
    "            suction_flow_constant_2 = 6.480,             # -\n",
    "            suction_friction_factor_a = 261.00,           # -\n",
    "            suction_friction_factor_b = 0.055,           # -\n",
    "            suction_friction_factor_c = 0.225,           # -\n",
    "            suction_friction_factor_d = 1.028,           # -\n",
    "            suction_factor_k0 = 0.946,                   # -\n",
    "            suction_factor_k1 = -0.940,                   # -\n",
    "            suction_factor_k2 = 0.00,                   # -\n",
    "            suction_max_displacement = 25e-3,                   # m\n",
    "            suction_outer_contact_diameter = 0.125,      # m\n",
    "            discharge_valve_density = 7950.0,             # kg/m³\n",
    "            discharge_spring_force0 = 3.438,             # N\n",
    "            discharge_spring_stiffness = 8438.0,          # N/m\n",
    "            discharge_spring_mass = 0.042,               # kg\n",
    "            discharge_valve_mass = 0.25,                # kg\n",
    "            discharge_outer_diameter = 0.125,            # m\n",
    "            discharge_inner_contact_diameter = 0.097,    # m\n",
    "            discharge_seat_tilt = 35/180*np.pi,                 # °\n",
    "            discharge_flow_constant_1 = 7.63e-3,           # -\n",
    "            discharge_flow_constant_2 = 6.480,           # -\n",
    "            discharge_friction_factor_a = 261.00,         # -\n",
    "            discharge_friction_factor_b = 0.055,         # -\n",
    "            discharge_friction_factor_c = 0.225,         # -\n",
    "            discharge_friction_factor_d = 1.028,         # -\n",
    "            discharge_factor_k0 = 0.946,                 # -\n",
    "            discharge_factor_k1 = -0.940,                 # -\n",
    "            discharge_factor_k2 = 0.00,                 # -\n",
    "            discharge_max_displacement = 50e-3,                 # m\n",
    "            discharge_outer_contact_diameter = 0.125,    # m\n",
    "            pump_radius = 0.3/2.0,                         # m\n",
    "            rpm = 46.0,                                 # U/min\n",
    "            rratio = 0.00,                              # -\n",
    "            phi0 = 60,                                # °\n",
    "            piston_diameter = 0.17,                     # m\n",
    "            death_volume = 70.0e-3,                 # m³\n",
    "            initial_pressure=2.6e5,\n",
    "            initial_discharge_pressure=95.0e5)"
   ]
  },
  {
   "cell_type": "code",
   "execution_count": 10,
   "metadata": {},
   "outputs": [],
   "source": [
    "lb = LeftBoundaryPressure(2.6e5)\n",
    "Tank.connect(lb)"
   ]
  },
  {
   "cell_type": "code",
   "execution_count": 11,
   "metadata": {},
   "outputs": [],
   "source": [
    "conn = ZetaJoint(0.1)\n",
    "Tank.connect(conn)\n",
    "suction05.connect(conn)"
   ]
  },
  {
   "cell_type": "code",
   "execution_count": 12,
   "metadata": {},
   "outputs": [],
   "source": [
    "#gd_suction = FrictionlessGasDampener(2.6e5, 50.0e-3, 1.15)"
   ]
  },
  {
   "cell_type": "code",
   "execution_count": 13,
   "metadata": {},
   "outputs": [],
   "source": [
    "#gd_suction.connect(suction05)\n",
    "#gd_suction.connect(suction1)"
   ]
  },
  {
   "cell_type": "code",
   "execution_count": 14,
   "metadata": {},
   "outputs": [],
   "source": [
    "connsd = SimpleTJoint(2.6e5)\n",
    "suction05.connect(connsd.left)\n",
    "suctionsd.connect(connsd.right)\n",
    "suction1.connect(connsd.right2)"
   ]
  },
  {
   "cell_type": "code",
   "execution_count": 15,
   "metadata": {},
   "outputs": [],
   "source": [
    "gd_suction = RightGasBubbleSimple(2.6e5, 50.0e-3, 1.15)\n",
    "suctionsd.connect(gd_suction)"
   ]
  },
  {
   "cell_type": "code",
   "execution_count": 16,
   "metadata": {},
   "outputs": [],
   "source": [
    "conn1 = SimpleTJoint(2.6e5)\n",
    "suction1.connect(conn1.left)\n",
    "suctionp1.connect(conn1.right2)\n",
    "suction2.connect(conn1.right)"
   ]
  },
  {
   "cell_type": "code",
   "execution_count": 17,
   "metadata": {},
   "outputs": [],
   "source": [
    "conn2 = SimpleTJoint(2.6e5)\n",
    "suction2.connect(conn2.left)\n",
    "suctionp2.connect(conn2.right)\n",
    "suction3.connect(conn2.right2)"
   ]
  },
  {
   "cell_type": "code",
   "execution_count": 18,
   "metadata": {},
   "outputs": [],
   "source": [
    "conn3 = ZetaJoint(1.5, 2.6e5)\n",
    "suction3.connect(conn3)\n",
    "suctionp3.connect(conn3)"
   ]
  },
  {
   "cell_type": "code",
   "execution_count": 19,
   "metadata": {},
   "outputs": [],
   "source": [
    "suctionp1.connect(kopf1)\n",
    "suctionp2.connect(kopf2)\n",
    "suctionp3.connect(kopf3)"
   ]
  },
  {
   "cell_type": "code",
   "execution_count": 20,
   "metadata": {},
   "outputs": [],
   "source": [
    "dischargep3.connect(kopf1)\n",
    "dischargep2.connect(kopf2)\n",
    "dischargep1.connect(kopf3)"
   ]
  },
  {
   "cell_type": "code",
   "execution_count": 21,
   "metadata": {},
   "outputs": [],
   "source": [
    "conn4 = ZetaJoint(1.5, 95.0e5)\n",
    "dischargep1.connect(conn4)\n",
    "discharge1.connect(conn4)"
   ]
  },
  {
   "cell_type": "code",
   "execution_count": 22,
   "metadata": {},
   "outputs": [],
   "source": [
    "conn5 = SimpleTJointLeft(95.0e5)\n",
    "discharge1.connect(conn5.left)\n",
    "dischargep2.connect(conn5.left2)\n",
    "discharge2.connect(conn5.right)"
   ]
  },
  {
   "cell_type": "code",
   "execution_count": 23,
   "metadata": {},
   "outputs": [],
   "source": [
    "conn6 = SimpleTJointLeft(95.0e5)\n",
    "discharge2.connect(conn6.left)\n",
    "dischargep3.connect(conn6.left2)\n",
    "discharge3.connect(conn6.right)"
   ]
  },
  {
   "cell_type": "code",
   "execution_count": 24,
   "metadata": {},
   "outputs": [],
   "source": [
    "conn7 = SimpleTJoint(95.0e5)\n",
    "discharge3.connect(conn7.left)\n",
    "dischargedd.connect(conn7.right)\n",
    "discharge4.connect(conn7.right2)"
   ]
  },
  {
   "cell_type": "code",
   "execution_count": null,
   "metadata": {},
   "outputs": [],
   "source": []
  },
  {
   "cell_type": "code",
   "execution_count": null,
   "metadata": {},
   "outputs": [],
   "source": []
  },
  {
   "cell_type": "code",
   "execution_count": null,
   "metadata": {},
   "outputs": [],
   "source": []
  },
  {
   "cell_type": "code",
   "execution_count": null,
   "metadata": {},
   "outputs": [],
   "source": []
  },
  {
   "cell_type": "code",
   "execution_count": 25,
   "metadata": {},
   "outputs": [],
   "source": [
    "gd_discharge = RightGasBubbleSimple(95.0e5, 30.0e-3, 1.15)\n",
    "dischargedd.connect(gd_discharge)"
   ]
  },
  {
   "cell_type": "code",
   "execution_count": 26,
   "metadata": {},
   "outputs": [],
   "source": [
    "rb = RightBoundaryPressure(95.0e5)\n",
    "discharge4.connect(rb)"
   ]
  },
  {
   "cell_type": "code",
   "execution_count": 27,
   "metadata": {},
   "outputs": [],
   "source": [
    "plogs1 = []\n",
    "plogs2 = []\n",
    "plogs3 = []\n",
    "vlogs = []\n",
    "vlogs1 = []\n",
    "flogs = []\n",
    "rblogs = []\n",
    "relogs = []\n",
    "dislog = []\n",
    "springlog = []\n",
    "kopf1dislog = []\n",
    "velocity = []\n",
    "pumplog = []\n",
    "pump_speed = []\n",
    "pump_value = []\n",
    "flow_log = []\n",
    "lower_pressure_log = []\n",
    "contact_pressure_log = []\n",
    "damping_log = []\n",
    "\n",
    "\n",
    "\n",
    "\n",
    "def logging(time):\n",
    "    plogs1.append(suction2.field_wide_slice('pressure', 0) + 0.0)\n",
    "    plogs2.append(suction2.field_wide_slice('pressure', 0) + 0.0)\n",
    "    plogs3.append(discharge4.field_wide_slice('pressure', 0) + 0.0)\n",
    "#    vlogs.append(discharge1.field_wide_slice('velocity', 0) + 0.0)\n",
    "    pumplog.append(kopf1.field_wide_slice('pump_pressure', 0) + 0.0)\n",
    "    dislog.append(kopf1.field_wide_slice('suction_displacement', 0) + 0.0)\n",
    "#    pump_speed.append(kopf1.field_wide_slice('discharge_pressure', 1) +0.0)\n",
    "    pump_value.append(kopf2.field_wide_slice('pump_pressure', 0) +0.0)\n",
    "    springlog.append(kopf3.field_wide_slice('pump_pressure', 0) +0.0)\n",
    "    kopf1dislog.append(kopf1.field_wide_slice('discharge_displacement', 1) +0.0)\n",
    "    flow_log.append(kopf2.field_wide_slice('suction_displacement', 1) +0.0)\n",
    "    velocity.append(kopf2.field_wide_slice('discharge_displacement', 1) +0.0)\n",
    "    lower_pressure_log.append(kopf3.field_wide_slice('suction_displacement', 1) +0.0)\n",
    "    contact_pressure_log.append(kopf3.field_wide_slice('discharge_displacement', 1) +0.0)\n",
    "#    damping_log.append(kopf1.field_wide_slice('discharge_upper_pressure_force', 1) +0.0)"
   ]
  },
  {
   "cell_type": "code",
   "execution_count": 28,
   "metadata": {},
   "outputs": [],
   "source": [
    "solver = SimpleSolver()\n",
    "solver.fluid = fluid\n",
    "solver.seeds = [suction1]\n",
    "solver._callback = logging"
   ]
  },
  {
   "cell_type": "code",
   "execution_count": null,
   "metadata": {
    "scrolled": false
   },
   "outputs": [
    {
     "name": "stdout",
     "output_type": "stream",
     "text": [
      " 0:00:00 [                              |  0.00%] 15:37:59  Currently at time   0.000 of   3.250"
     ]
    },
    {
     "name": "stderr",
     "output_type": "stream",
     "text": [
      "l:\\cavsim\\cavsim\\base\\solvers\\simple_solver.py:46: UserWarning: Smaller timestep required by component! (7.930651807716571e-05 < 1e+20 by <cavsim.pipes.pipe.Pipe object at 0x000002840D38F358>)\n",
      "  warn('Smaller timestep required by component! ({} < {} by {})'.format(component_time, delta_t, component))\n",
      "l:\\cavsim\\cavsim\\base\\solvers\\simple_solver.py:46: UserWarning: Smaller timestep required by component! (9.913314759645712e-05 < 1e+20 by <cavsim.pipes.pipe.Pipe object at 0x000002840D380828>)\n",
      "  warn('Smaller timestep required by component! ({} < {} by {})'.format(component_time, delta_t, component))\n",
      "l:\\cavsim\\cavsim\\base\\solvers\\simple_solver.py:46: UserWarning: Smaller timestep required by component! (9.913314759645712e-05 < 1e+20 by <cavsim.pipes.pipe.Pipe object at 0x000002840D38D550>)\n",
      "  warn('Smaller timestep required by component! ({} < {} by {})'.format(component_time, delta_t, component))\n",
      "l:\\cavsim\\cavsim\\base\\solvers\\simple_solver.py:46: UserWarning: Smaller timestep required by component! (7.930651807716571e-05 < 1e+20 by <cavsim.pipes.pipe.Pipe object at 0x000002840D393160>)\n",
      "  warn('Smaller timestep required by component! ({} < {} by {})'.format(component_time, delta_t, component))\n",
      "l:\\cavsim\\cavsim\\base\\solvers\\simple_solver.py:46: UserWarning: Smaller timestep required by component! (9.913314759645712e-05 < 1e+20 by <cavsim.pipes.pipe.Pipe object at 0x000002840D39AB38>)\n",
      "  warn('Smaller timestep required by component! ({} < {} by {})'.format(component_time, delta_t, component))\n",
      "l:\\cavsim\\cavsim\\base\\solvers\\simple_solver.py:46: UserWarning: Smaller timestep required by component! (0.0007096276689725596 < 1e+20 by <cavsim.pipes.pipe.Pipe object at 0x000002840D380860>)\n",
      "  warn('Smaller timestep required by component! ({} < {} by {})'.format(component_time, delta_t, component))\n",
      "l:\\cavsim\\cavsim\\base\\solvers\\simple_solver.py:46: UserWarning: Smaller timestep required by component! (9.913314759645712e-05 < 1e+20 by <cavsim.pipes.pipe.Pipe object at 0x000002840D39D940>)\n",
      "  warn('Smaller timestep required by component! ({} < {} by {})'.format(component_time, delta_t, component))\n",
      "l:\\cavsim\\cavsim\\base\\solvers\\simple_solver.py:46: UserWarning: Smaller timestep required by component! (7.930651807716571e-05 < 1e+20 by <cavsim.pipes.pipe.Pipe object at 0x000002840D397D30>)\n",
      "  warn('Smaller timestep required by component! ({} < {} by {})'.format(component_time, delta_t, component))\n",
      "l:\\cavsim\\cavsim\\base\\solvers\\simple_solver.py:46: UserWarning: Smaller timestep required by component! (0.0002379195542314971 < 1e+20 by <cavsim.pipes.pipe.Pipe object at 0x000002840D3B5908>)\n",
      "  warn('Smaller timestep required by component! ({} < {} by {})'.format(component_time, delta_t, component))\n",
      "l:\\cavsim\\cavsim\\base\\solvers\\simple_solver.py:46: UserWarning: Smaller timestep required by component! (0.0002379195542314971 < 1e+20 by <cavsim.pipes.pipe.Pipe object at 0x000002840D3ABB00>)\n",
      "  warn('Smaller timestep required by component! ({} < {} by {})'.format(component_time, delta_t, component))\n",
      "l:\\cavsim\\cavsim\\base\\solvers\\simple_solver.py:46: UserWarning: Smaller timestep required by component! (9.913314759645712e-05 < 1e+20 by <cavsim.pipes.pipe.Pipe object at 0x000002840D3A0748>)\n",
      "  warn('Smaller timestep required by component! ({} < {} by {})'.format(component_time, delta_t, component))\n",
      "l:\\cavsim\\cavsim\\base\\solvers\\simple_solver.py:46: UserWarning: Smaller timestep required by component! (7.930651807716571e-05 < 1e+20 by <cavsim.pipes.pipe.Pipe object at 0x000002840D3806D8>)\n",
      "  warn('Smaller timestep required by component! ({} < {} by {})'.format(component_time, delta_t, component))\n",
      "l:\\cavsim\\cavsim\\base\\solvers\\simple_solver.py:46: UserWarning: Smaller timestep required by component! (7.930651807716571e-05 < 1e+20 by <cavsim.pipes.pipe.Pipe object at 0x000002840D3B1128>)\n",
      "  warn('Smaller timestep required by component! ({} < {} by {})'.format(component_time, delta_t, component))\n",
      "l:\\cavsim\\cavsim\\base\\solvers\\simple_solver.py:46: UserWarning: Smaller timestep required by component! (4.895464078837389e-06 < 1e+20 by <cavsim.pipes.pipe.Pipe object at 0x000002840D380710>)\n",
      "  warn('Smaller timestep required by component! ({} < {} by {})'.format(component_time, delta_t, component))\n",
      "l:\\cavsim\\cavsim\\base\\solvers\\simple_solver.py:46: UserWarning: Smaller timestep required by component! (0.0002379195542314971 < 1e+20 by <cavsim.pipes.pipe.Pipe object at 0x000002840D3A8CF8>)\n",
      "  warn('Smaller timestep required by component! ({} < {} by {})'.format(component_time, delta_t, component))\n",
      "l:\\cavsim\\cavsim\\base\\solvers\\simple_solver.py:46: UserWarning: Smaller timestep required by component! (5.9479888557874276e-05 < 1e+20 by <cavsim.pipes.pipe.Pipe object at 0x000002840D3B9710>)\n",
      "  warn('Smaller timestep required by component! ({} < {} by {})'.format(component_time, delta_t, component))\n",
      "l:\\cavsim\\cavsim\\base\\solvers\\simple_solver.py:46: UserWarning: Smaller timestep required by component! (0.0002379195542314971 < 1e+20 by <cavsim.pipes.pipe.Pipe object at 0x000002840D3B1EF0>)\n",
      "  warn('Smaller timestep required by component! ({} < {} by {})'.format(component_time, delta_t, component))\n"
     ]
    },
    {
     "name": "stdout",
     "output_type": "stream",
     "text": [
      " 2:02:24 [====                          | 15.23%] 11:21:06  Currently at time   0.495 of   3.250"
     ]
    }
   ],
   "source": [
    "solver.solve(1e20, 3.25, 3)"
   ]
  },
  {
   "cell_type": "code",
   "execution_count": null,
   "metadata": {},
   "outputs": [],
   "source": [
    "pfield1 = np.stack(plogs1)\n",
    "pfield2 = np.stack(plogs2)\n",
    "pfield3 = np.stack(plogs3)\n",
    "kopf1suc = np.stack(dislog)\n",
    "kopf2dis = np.stack(velocity)\n",
    "kopf1dis = np.stack(kopf1dislog)\n",
    "#velocity = np.stack(vlogs)\n",
    "pressure1 = np.stack(pumplog)\n",
    "#pump_velocity = np.stack(pump_speed)\n",
    "pressure2 = np.stack(pump_value)\n",
    "kopf2suc = np.stack(flow_log)\n",
    "pressure3 = np.stack(springlog)\n",
    "kopf3suc = np.stack(lower_pressure_log)\n",
    "kopf3dis = np.stack(contact_pressure_log)\n",
    "#damping_force = np.stack(damping_log)"
   ]
  },
  {
   "cell_type": "code",
   "execution_count": null,
   "metadata": {},
   "outputs": [],
   "source": [
    "time = np.linspace(0, 3.25, int(pressure1[:,:].shape[0]))\n",
    "#plt.figure(figsize=(16, 10))\n",
    "fig, ax1 = plt.subplots(figsize=(20, 10))\n",
    "#plt.subplot(1, 2, 1)\n",
    "#plt.plot(vfield[:,0])\n",
    "#plt.plot(1, 2, 2)\n",
    "val1 = 0\n",
    "val = -1\n",
    "#val1 = 0\n",
    "#val = -1\n",
    "\n",
    "#upper_force = upperp_field[val1:val, 0] + gfield[val1:val, 0] + springforce[val1:val, 0]\n",
    "#lower_force = lowp_field[val1:val, 0] + contact_pressure[val1:val, 0]\n",
    "#result1 = lower_force - upper_force\n",
    "#result2 = flow_field[val1:val, 0] - gfield[val1:val, 0] - springforce[val1:val, 0] - dampingfield[val1:val, 0]\n",
    "#upper_flow = gfield[val1:val, 0] + springforce[val1:val, 0] + dampingfield[val1:val, 0]\n",
    "#lower_flow = flow_field[val1:val, 0]\n",
    "#ax1.plot(time[val1:val], upper_flow, color='red')\n",
    "#ax1.plot(time[val1:val], lower_flow, color='blue')\n",
    "\n",
    "\n",
    "#plt.subplot(1, 2, 2)\n",
    "#ax1.plot(result1[val1:val])\n",
    "#ax1.plot(result2[val1:val])\n",
    "#ax1.plot(time[val1:val], upperp_field[val1:val, 0], color='red')\n",
    "#ax1.plot(time[val1:val], lowp_field[val1:val, 0], color='green')\n",
    "#ax1.plot(time[val1:val], dampingfield[val1:val, 0], color='blue')\n",
    "\n",
    "#ax1.plot(time[val1:val], contact_pressure[val1:val, 0], color='black')\n",
    "#ax1.plot(time[val1:val], springforce[val1:val, 0], color='grey')\n",
    "#ax1.plot(time[val1:val], upper_force, color='red')\n",
    "#ax1.plot(time[val1:val], lower_force, color='blue')\n",
    "\n",
    "#plt.plot(time[val1:val], pfield1[val1:val, 1], color='red')\n",
    "#plt.plot(time[val1:val], pump_velocity[val1:val, 0], color='black')\n",
    "#plt.plot(time[val1:val], pfield2[val1:val, 1], color='green')\n",
    "#plt.plot(time[val1:val], pressure[val1:val, 0],color='violet')\n",
    "plt.plot()\n",
    "\n",
    "#ax1.plot(time[val1:val], deltap[val1:val, 0], color='green')\n",
    "\n",
    "#plt.xlim(time[val1],time[val])\n",
    "#plt.ylim(0e5, 22e5)\n",
    "\n",
    "color = 'tab:red'\n",
    "ax1.set_xlabel('time (s)')\n",
    "ax1.set_ylabel('Pressure', color=color)\n",
    "#ax1.set_ylim(0e5, 23e5)\n",
    "plt.grid()\n",
    "#ax1.plot(time[val1:val], pfield1[val1:val, 1], color='red')\n",
    "#ax1.plot(time[val1:val], pfield2[val1:val, -2], color='green')\n",
    "ax1.tick_params(axis='y', labelcolor=color)\n",
    "\n",
    "\n",
    "ax2 = ax1.twinx()  # instantiate a second axes that shares the same x-axis\n",
    "\n",
    "color = 'tab:blue'\n",
    "#ax2.plot(time[val1:val], disfield[val1:val, 0]*1000, color=color)  # we already handled the x-label with ax1\n",
    "ax2.plot(time[val1:val], pressure1[val1:val, 0]/10**5, color = 'black')\n",
    "ax2.plot(time[val1:val], pressure2[val1:val, 0]/10**5, color = 'red')\n",
    "ax2.plot(time[val1:val], pressure3[val1:val, 0]/10**5, color = 'green')\n",
    "#ax2.plot(time[val1:val], velocity[val1:val, 1]*(np.pi*(0.056/2)**2), color = 'red')\n",
    "#ax2.set_ylim(0e5, 5)\n",
    "#ax2.plot(time[val1:val], contact_pressure_force[val1:val, 0], color = 'green')\n",
    "#ax2.plot(time[val1:val], spring_force[val1:val, 0], color = 'green')\n",
    "#ax2.plot(time[val1:val], contact_pressure_force[val1:val, 0]+lower_pressure_force[val1:val, 0], color = 'black')\n",
    "#ax2.plot(time[val1:val], flow_force[val1:val, 0]-spring_force[val1:val, 0], color = 'red')\n",
    "#ax2.plot(time[val1:val], zeta[val1:val, 0], color='green')\n",
    "#ax2.plot(time[val1:val], flow_field[val1:val, 0], color='black')\n",
    "#ax2.tick_params(axis='y', labelcolor=color)\n",
    "\n",
    "#plt.subplot(1, 2, 1)\n",
    "#plt.plot(time[val1:val], disfield[val1:val, 0]*1000, color='black')\n",
    "#plt.plot(time[val1:val], pump(time[val1:val]))\n",
    "#plt.plot(time[val1:val], velfield[val1:val, 0], color='blue')\n",
    "#plt.plot(time[val1:val], pfield2[val1:val, 1], color='red')\n",
    "#pltplot(time[val1:val], pfield1[val1:val, -2], color='green')\n",
    "#plt.ylim(-2e3, 2e3)\n",
    "fig.tight_layout()\n",
    "plt.show()"
   ]
  },
  {
   "cell_type": "code",
   "execution_count": null,
   "metadata": {},
   "outputs": [],
   "source": [
    "np.save('L:/Feluwa_Test_Bench/kopf1', pressure1[0:-1, 0])\n",
    "np.save('L:/Feluwa_Test_Bench/kopf2', pressure2[0:-1, 0])\n",
    "np.save('L:/Feluwa_Test_Bench/kopf3', pressure3[0:-1, 0])\n",
    "np.save('L:/Feluwa_Test_Bench/kopf1suc', kopf1suc[0:-1, 0])\n",
    "np.save('L:/Feluwa_Test_Bench/kopf2suc', kopf2suc[0:-1, 0])\n",
    "np.save('L:/Feluwa_Test_Bench/kopf3suc', kopf3suc[0:-1, 0])\n",
    "np.save('L:/Feluwa_Test_Bench/kopf1dis', kopf1dis[0:-1, 0])\n",
    "np.save('L:/Feluwa_Test_Bench/kopf2dis', kopf2dis[0:-1, 0])\n",
    "np.save('L:/Feluwa_Test_Bench/kopf3dis', kopf3dis[0:-1, 0])\n",
    "np.save('L:/Feluwa_Test_Bench/zeit', time)"
   ]
  },
  {
   "cell_type": "code",
   "execution_count": null,
   "metadata": {},
   "outputs": [],
   "source": []
  },
  {
   "cell_type": "code",
   "execution_count": null,
   "metadata": {},
   "outputs": [],
   "source": [
    "\n",
    "\n",
    "\n",
    "\n"
   ]
  },
  {
   "cell_type": "code",
   "execution_count": null,
   "metadata": {},
   "outputs": [],
   "source": []
  },
  {
   "cell_type": "code",
   "execution_count": null,
   "metadata": {},
   "outputs": [],
   "source": []
  }
 ],
 "metadata": {
  "kernelspec": {
   "display_name": "Python 3",
   "language": "python",
   "name": "python3"
  },
  "language_info": {
   "codemirror_mode": {
    "name": "ipython",
    "version": 3
   },
   "file_extension": ".py",
   "mimetype": "text/x-python",
   "name": "python",
   "nbconvert_exporter": "python",
   "pygments_lexer": "ipython3",
   "version": "3.6.9"
  }
 },
 "nbformat": 4,
 "nbformat_minor": 2
}
