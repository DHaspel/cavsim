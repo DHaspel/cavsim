{
 "cells": [
  {
   "cell_type": "code",
   "execution_count": 1,
   "metadata": {},
   "outputs": [],
   "source": [
    "import numpy as np\n",
    "import matplotlib.pyplot as plt"
   ]
  },
  {
   "cell_type": "code",
   "execution_count": 2,
   "metadata": {},
   "outputs": [],
   "source": [
    "import cavsim\n",
    "from cavsim import Measure\n",
    "from cavsim.connectors import BaseConnector, Connector\n",
    "from cavsim.channels import ImportChannel, ExportChannel\n",
    "from cavsim.components import BaseComponent, Component\n",
    "from cavsim.solvers import BaseSolver, SimpleSolver\n",
    "from cavsim.fluids import Fluid"
   ]
  },
  {
   "cell_type": "code",
   "execution_count": 3,
   "metadata": {},
   "outputs": [],
   "source": [
    "from cavsim.pipes.pipe import Pipe\n",
    "from cavsim.boundaries.left_boundary_pressure import LeftBoundaryPressure\n",
    "from cavsim.boundaries.left_boundary_velocity import LeftBoundaryVelocity\n",
    "from cavsim.boundaries.right_boundary_pressure import RightBoundaryPressure\n",
    "from cavsim.boundaries.right_boundary_velocity import RightBoundaryVelocity\n",
    "from cavsim.boundaries.simple_pipe_connector import PipeConnectorSimple\n",
    "from cavsim.boundaries.zeta_joint import ZetaJoint\n",
    "from cavsim.boundaries.simple_t_joint import SimpleTJoint\n",
    "from cavsim.boundaries.simple_right_gasdampener import RightGasBubbleSimple\n",
    "from cavsim.boundaries.simple_left_gasdampener import LeftGasBubbleSimple\n",
    "from cavsim.boundaries.frictionless_gasdampener import FrictionlessGasDampener\n",
    "from cavsim.boundaries.gasdampener import GasDampener\n",
    "from cavsim.boundaries.pump_with_valves_model_try2 import PumpSuctionValve\n",
    "from cavsim.boundaries.reflectionless_right_boundary_condition import RightBoundaryReflectionFree"
   ]
  },
  {
   "cell_type": "code",
   "execution_count": 4,
   "metadata": {},
   "outputs": [],
   "source": [
    "fluid = Fluid(1000, 1e-3, 2.08e9, 2.3e3,initial_pressure=1.3e5)"
   ]
  },
  {
   "cell_type": "code",
   "execution_count": null,
   "metadata": {},
   "outputs": [],
   "source": []
  },
  {
   "cell_type": "code",
   "execution_count": 5,
   "metadata": {},
   "outputs": [],
   "source": [
    "def calculate_dynamic_flow(i_a, piston_radius, omega, width, time, number_of_chambers):\n",
    "    result = (- (width * omega) / 2.0\n",
    "              * (piston_radius - i_a / 2.0)**2\n",
    "              * np.cos(2 * number_of_chambers *omega * time))\n",
    "    return result"
   ]
  },
  {
   "cell_type": "code",
   "execution_count": 6,
   "metadata": {},
   "outputs": [],
   "source": [
    "def calculate_constant_flow(i_a, piston_radius, omega, width):\n",
    "    result = ((width * omega / 2.0)\n",
    "              * (piston_radius**2\n",
    "                 + piston_radius * i_a\n",
    "                 - (3 * i_a**2)/ 4.0))\n",
    "    return result "
   ]
  },
  {
   "cell_type": "code",
   "execution_count": 7,
   "metadata": {},
   "outputs": [],
   "source": [
    "def boundary_condition(time):\n",
    "    \n",
    "    rpm = 212\n",
    "    piston_radius = 0.07085\n",
    "    i_a = 2.0 * 56.68e-3\n",
    "    omega = 2 * np.pi * rpm / 60\n",
    "    width = 64.955e-3\n",
    "    number_of_chambers = 4\n",
    "    pipe_area = 0.056**2 / 4.0 * np.pi\n",
    "    \n",
    "    q_const  = calculate_constant_flow(i_a, piston_radius, omega, width)\n",
    "    q_dynamic = calculate_dynamic_flow(i_a, piston_radius, omega, width, time, number_of_chambers)\n",
    "    #q_dynamic = 10.0\n",
    "    \n",
    "    return (q_const + q_dynamic) / pipe_area"
   ]
  },
  {
   "cell_type": "code",
   "execution_count": 8,
   "metadata": {},
   "outputs": [],
   "source": [
    "discharge = Pipe(0.056, 1.8, 0.002, 2e11, 1e-4, 20, initial_pressure=1.3e5, initial_velocity=boundary_condition(0))"
   ]
  },
  {
   "cell_type": "code",
   "execution_count": null,
   "metadata": {},
   "outputs": [],
   "source": []
  },
  {
   "cell_type": "code",
   "execution_count": null,
   "metadata": {},
   "outputs": [],
   "source": []
  },
  {
   "cell_type": "code",
   "execution_count": null,
   "metadata": {},
   "outputs": [],
   "source": []
  },
  {
   "cell_type": "code",
   "execution_count": null,
   "metadata": {},
   "outputs": [],
   "source": []
  },
  {
   "cell_type": "code",
   "execution_count": null,
   "metadata": {},
   "outputs": [],
   "source": []
  },
  {
   "cell_type": "code",
   "execution_count": 9,
   "metadata": {},
   "outputs": [],
   "source": [
    "lb = LeftBoundaryVelocity(boundary_condition, 1.3e5)\n",
    "lb.connect(discharge)"
   ]
  },
  {
   "cell_type": "code",
   "execution_count": 10,
   "metadata": {},
   "outputs": [],
   "source": [
    "rb = RightBoundaryPressure(1.3e5)\n",
    "rb.connect(discharge)"
   ]
  },
  {
   "cell_type": "code",
   "execution_count": null,
   "metadata": {},
   "outputs": [],
   "source": []
  },
  {
   "cell_type": "code",
   "execution_count": null,
   "metadata": {},
   "outputs": [],
   "source": []
  },
  {
   "cell_type": "code",
   "execution_count": null,
   "metadata": {},
   "outputs": [],
   "source": []
  },
  {
   "cell_type": "code",
   "execution_count": null,
   "metadata": {},
   "outputs": [],
   "source": []
  },
  {
   "cell_type": "code",
   "execution_count": null,
   "metadata": {},
   "outputs": [],
   "source": []
  },
  {
   "cell_type": "code",
   "execution_count": null,
   "metadata": {},
   "outputs": [],
   "source": []
  },
  {
   "cell_type": "code",
   "execution_count": null,
   "metadata": {},
   "outputs": [],
   "source": []
  },
  {
   "cell_type": "code",
   "execution_count": null,
   "metadata": {},
   "outputs": [],
   "source": []
  },
  {
   "cell_type": "code",
   "execution_count": null,
   "metadata": {},
   "outputs": [],
   "source": []
  },
  {
   "cell_type": "code",
   "execution_count": null,
   "metadata": {},
   "outputs": [],
   "source": []
  },
  {
   "cell_type": "code",
   "execution_count": null,
   "metadata": {},
   "outputs": [],
   "source": []
  },
  {
   "cell_type": "code",
   "execution_count": null,
   "metadata": {},
   "outputs": [],
   "source": []
  },
  {
   "cell_type": "code",
   "execution_count": null,
   "metadata": {},
   "outputs": [],
   "source": []
  },
  {
   "cell_type": "code",
   "execution_count": null,
   "metadata": {},
   "outputs": [],
   "source": []
  },
  {
   "cell_type": "code",
   "execution_count": null,
   "metadata": {},
   "outputs": [],
   "source": []
  },
  {
   "cell_type": "code",
   "execution_count": null,
   "metadata": {},
   "outputs": [],
   "source": []
  },
  {
   "cell_type": "code",
   "execution_count": null,
   "metadata": {},
   "outputs": [],
   "source": []
  },
  {
   "cell_type": "code",
   "execution_count": null,
   "metadata": {},
   "outputs": [],
   "source": []
  },
  {
   "cell_type": "code",
   "execution_count": null,
   "metadata": {},
   "outputs": [],
   "source": []
  },
  {
   "cell_type": "code",
   "execution_count": null,
   "metadata": {},
   "outputs": [],
   "source": []
  },
  {
   "cell_type": "code",
   "execution_count": 11,
   "metadata": {},
   "outputs": [],
   "source": [
    "plogs1 = []\n",
    "plogs2 = []\n",
    "plogs3 = []\n",
    "\n",
    "\n",
    "def logging(time):\n",
    "    plogs1.append(discharge.field_wide_slice('velocity', 0) + 0.0)\n",
    "    plogs2.append(discharge.field_wide_slice('pressure', 0) + 0.0)\n",
    "    plogs3.append(discharge.field_wide_slice('pressure', 0) + 0.0)"
   ]
  },
  {
   "cell_type": "code",
   "execution_count": 12,
   "metadata": {},
   "outputs": [],
   "source": [
    "solver = SimpleSolver()\n",
    "solver.fluid = fluid\n",
    "solver.seeds = [discharge]\n",
    "solver._callback = logging"
   ]
  },
  {
   "cell_type": "code",
   "execution_count": 13,
   "metadata": {
    "scrolled": false
   },
   "outputs": [
    {
     "name": "stdout",
     "output_type": "stream",
     "text": [
      " 0:00:00 [                              |  0.06%]  0:04:38  Currently at time   0.010 of  15.000"
     ]
    },
    {
     "name": "stderr",
     "output_type": "stream",
     "text": [
      "c:\\cavsim\\cavsim\\cavsim\\base\\solvers\\simple_solver.py:46: UserWarning: Smaller timestep required by component! (6.753335125833831e-05 < 1e+20 by <cavsim.pipes.pipe.Pipe object at 0x00000186BADEA348>)\n",
      "  warn('Smaller timestep required by component! ({} < {} by {})'.format(component_time, delta_t, component))\n"
     ]
    },
    {
     "name": "stdout",
     "output_type": "stream",
     "text": [
      " 0:04:38 [==============================|100.00%]  0:00:00  Currently at time  15.000 of  15.000"
     ]
    }
   ],
   "source": [
    "solver.solve(1e20, 15.0, 3)"
   ]
  },
  {
   "cell_type": "code",
   "execution_count": 14,
   "metadata": {},
   "outputs": [],
   "source": [
    "pfield1 = np.stack(plogs1)\n",
    "pfield2 = np.stack(plogs2)\n",
    "pfield3 = np.stack(plogs3)"
   ]
  },
  {
   "cell_type": "code",
   "execution_count": 24,
   "metadata": {
    "scrolled": false
   },
   "outputs": [
    {
     "data": {
      "image/png": "[encoded data removed]",
      "text/plain": [
       "<Figure size 1440x720 with 2 Axes>"
      ]
     },
     "metadata": {
      "needs_background": "light"
     },
     "output_type": "display_data"
    }
   ],
   "source": [
    "time = np.linspace(0, 15.0, int(pfield1[:,:].shape[0]))\n",
    "#plt.figure(figsize=(16, 10))\n",
    "fig, ax1 = plt.subplots(figsize=(20, 10))\n",
    "#plt.subplot(1, 2, 1)\n",
    "#plt.plot(vfield[:,0])\n",
    "#plt.plot(1, 2, 2)\n",
    "val1 = 0\n",
    "val = -1\n",
    "#val1 = 0\n",
    "#val = -1\n",
    "\n",
    "#upper_force = upperp_field[val1:val, 0] + gfield[val1:val, 0] + springforce[val1:val, 0]\n",
    "#lower_force = lowp_field[val1:val, 0] + contact_pressure[val1:val, 0]\n",
    "#result1 = lower_force - upper_force\n",
    "#result2 = flow_field[val1:val, 0] - gfield[val1:val, 0] - springforce[val1:val, 0] - dampingfield[val1:val, 0]\n",
    "#upper_flow = gfield[val1:val, 0] + springforce[val1:val, 0] + dampingfield[val1:val, 0]\n",
    "#lower_flow = flow_field[val1:val, 0]\n",
    "#ax1.plot(time[val1:val], upper_flow, color='red')\n",
    "#ax1.plot(time[val1:val], lower_flow, color='blue')\n",
    "\n",
    "\n",
    "#plt.subplot(1, 2, 2)\n",
    "#ax1.plot(result1[val1:val])\n",
    "#ax1.plot(result2[val1:val])\n",
    "#ax1.plot(time[val1:val], upperp_field[val1:val, 0], color='red')\n",
    "#ax1.plot(time[val1:val], lowp_field[val1:val, 0], color='green')\n",
    "#ax1.plot(time[val1:val], dampingfield[val1:val, 0], color='blue')\n",
    "\n",
    "#ax1.plot(time[val1:val], contact_pressure[val1:val, 0], color='black')\n",
    "#ax1.plot(time[val1:val], springforce[val1:val, 0], color='grey')\n",
    "#ax1.plot(time[val1:val], upper_force, color='red')\n",
    "#ax1.plot(time[val1:val], lower_force, color='blue')\n",
    "\n",
    "plt.plot(time[val1:val], pfield1[val1:val, 1]*3e5, color='red')\n",
    "#plt.plot(time[val1:val], pump_velocity[val1:val, 0], color='black')\n",
    "plt.plot(time[val1:val], pfield2[val1:val, -2], color='green')\n",
    "#plt.plot(time[val1:val], pressure[val1:val, 0],color='violet')\n",
    "plt.plot()\n",
    "\n",
    "#ax1.plot(time[val1:val], deltap[val1:val, 0], color='green')\n",
    "\n",
    "#plt.xlim(time[val1],time[val])\n",
    "#plt.ylim(0e5, 22e5)\n",
    "\n",
    "color = 'tab:red'\n",
    "ax1.set_xlabel('time (s)')\n",
    "ax1.set_ylabel('Pressure', color=color)\n",
    "#ax1.set_ylim(1.2e5, 1.35e5)\n",
    "ax1.set_xlim(14, 15)\n",
    "plt.grid()\n",
    "#ax1.plot(time[val1:val], pfield1[val1:val, 1], color='red')\n",
    "#ax1.plot(time[val1:val], pfield2[val1:val, -2], color='green')\n",
    "ax1.tick_params(axis='y', labelcolor=color)\n",
    "\n",
    "\n",
    "ax2 = ax1.twinx()  # instantiate a second axes that shares the same x-axis\n",
    "\n",
    "color = 'tab:blue'\n",
    "#ax2.plot(time[val1:val], disfield[val1:val, 0]*1000, color=color)  # we already handled the x-label with ax1\n",
    "#ax2.plot(time[val1:val], values[val1:val, 0]*1e3, color = 'black')\n",
    "#ax2.plot(time[val1:val], velocity[val1:val, 1]*(np.pi*(0.056/2)**2), color = 'red')\n",
    "#ax2.set_ylim(0e5, 0.001)\n",
    "#ax2.plot(time[val1:val], contact_pressure_force[val1:val, 0], color = 'green')\n",
    "#ax2.plot(time[val1:val], spring_force[val1:val, 0], color = 'green')\n",
    "#ax2.plot(time[val1:val], contact_pressure_force[val1:val, 0]+lower_pressure_force[val1:val, 0], color = 'black')\n",
    "#ax2.plot(time[val1:val], flow_force[val1:val, 0]-spring_force[val1:val, 0], color = 'red')\n",
    "#ax2.plot(time[val1:val], zeta[val1:val, 0], color='green')\n",
    "#ax2.plot(time[val1:val], flow_field[val1:val, 0], color='black')\n",
    "#ax2.tick_params(axis='y', labelcolor=color)\n",
    "\n",
    "#plt.subplot(1, 2, 1)\n",
    "#plt.plot(time[val1:val], disfield[val1:val, 0]*1000, color='black')\n",
    "#plt.plot(time[val1:val], pump(time[val1:val]))\n",
    "#plt.plot(time[val1:val], velfield[val1:val, 0], color='blue')\n",
    "#plt.plot(time[val1:val], pfield2[val1:val, 1], color='red')\n",
    "#pltplot(time[val1:val], pfield1[val1:val, -2], color='green')\n",
    "#plt.ylim(-2e3, 2e3)\n",
    "fig.tight_layout()\n",
    "plt.show()"
   ]
  },
  {
   "cell_type": "code",
   "execution_count": 16,
   "metadata": {},
   "outputs": [],
   "source": [
    "#a = 70/60*(0.07**2)/4*np.pi*0.045"
   ]
  },
  {
   "cell_type": "code",
   "execution_count": 17,
   "metadata": {
    "scrolled": true
   },
   "outputs": [],
   "source": [
    "#a = 70/60(0.07**2)/4*np.pi*0.045\n",
    "#a/(2*0.025**2/4.0*np.pi)\n",
    "#print(pump._cases[val1:val])"
   ]
  },
  {
   "cell_type": "code",
   "execution_count": 18,
   "metadata": {},
   "outputs": [],
   "source": [
    "zetavalue = (2*(20e5-1.28e5)/((0.2058**2)*1000))"
   ]
  },
  {
   "cell_type": "code",
   "execution_count": 19,
   "metadata": {},
   "outputs": [],
   "source": [
    "import nptdms\n",
    "from nptdms import TdmsFile\n",
    "savepath = 'L:/017_Messdaten_Pascal/Messdatensatz 0,5m Fuellstand'\n",
    "path = \"L:/017_Messdaten_Pascal/Messdatensatz 0,5m Fuellstand\""
   ]
  },
  {
   "cell_type": "code",
   "execution_count": 20,
   "metadata": {},
   "outputs": [],
   "source": [
    "def writetdms(tdms, num):\n",
    "    groups = tdms.groups()\n",
    "    channels = tdms.group_channels(groups[0])\n",
    "    channel_names = [channel.channel for channel in channels]\n",
    "    obj = tdms.object(groups[0], channel_names[num])\n",
    "    data = np.asarray(obj.data)\n",
    "    \n",
    "\n",
    "    return data\n",
    "\n",
    "\n",
    "\n",
    "def datetime_to_float(timesignal):\n",
    "\n",
    "    t0 = timesignal[0]\n",
    "    t1 = timesignal[timesignal.shape[0] - 1]\n",
    "    sec = (t1-t0).total_seconds()\n",
    "    time = np.linspace(0, sec, timesignal.shape[0])\n",
    "\n",
    "    return time"
   ]
  },
  {
   "cell_type": "code",
   "execution_count": 21,
   "metadata": {},
   "outputs": [],
   "source": [
    "size = 128000\n",
    "tpAr = np.empty(size)\n",
    "pAr = np.empty(size)"
   ]
  },
  {
   "cell_type": "code",
   "execution_count": 22,
   "metadata": {},
   "outputs": [
    {
     "ename": "FileNotFoundError",
     "evalue": "[Errno 2] No such file or directory: 'L:/017_Messdaten_Pascal/Messdatensatz 0,5m Fuellstand/Messungen_3.tdms'",
     "output_type": "error",
     "traceback": [
      "\u001b[1;31m---------------------------------------------------------------------------\u001b[0m",
      "\u001b[1;31mFileNotFoundError\u001b[0m                         Traceback (most recent call last)",
      "\u001b[1;32m<ipython-input-22-8a6fd25a5364>\u001b[0m in \u001b[0;36m<module>\u001b[1;34m\u001b[0m\n\u001b[0;32m      1\u001b[0m \u001b[0mch\u001b[0m \u001b[1;33m=\u001b[0m \u001b[1;33m(\u001b[0m\u001b[1;36m0\u001b[0m\u001b[1;33m,\u001b[0m \u001b[1;36m1\u001b[0m\u001b[1;33m,\u001b[0m \u001b[1;36m2\u001b[0m\u001b[1;33m,\u001b[0m \u001b[1;36m3\u001b[0m\u001b[1;33m,\u001b[0m \u001b[1;36m4\u001b[0m\u001b[1;33m,\u001b[0m \u001b[1;36m5\u001b[0m\u001b[1;33m,\u001b[0m \u001b[1;36m6\u001b[0m\u001b[1;33m,\u001b[0m \u001b[1;36m7\u001b[0m\u001b[1;33m,\u001b[0m \u001b[1;36m8\u001b[0m\u001b[1;33m,\u001b[0m \u001b[1;36m9\u001b[0m\u001b[1;33m,\u001b[0m \u001b[1;36m10\u001b[0m\u001b[1;33m,\u001b[0m \u001b[1;36m11\u001b[0m\u001b[1;33m,\u001b[0m \u001b[1;36m12\u001b[0m\u001b[1;33m,\u001b[0m \u001b[1;36m13\u001b[0m\u001b[1;33m,\u001b[0m \u001b[1;36m14\u001b[0m\u001b[1;33m,\u001b[0m \u001b[1;36m15\u001b[0m\u001b[1;33m,\u001b[0m \u001b[1;36m16\u001b[0m\u001b[1;33m,\u001b[0m \u001b[1;36m17\u001b[0m\u001b[1;33m,\u001b[0m \u001b[1;36m18\u001b[0m\u001b[1;33m,\u001b[0m \u001b[1;36m19\u001b[0m\u001b[1;33m,\u001b[0m \u001b[1;36m20\u001b[0m\u001b[1;33m,\u001b[0m \u001b[1;36m21\u001b[0m\u001b[1;33m,\u001b[0m \u001b[1;36m22\u001b[0m\u001b[1;33m,\u001b[0m \u001b[1;36m23\u001b[0m\u001b[1;33m,\u001b[0m \u001b[1;36m24\u001b[0m\u001b[1;33m,\u001b[0m \u001b[1;36m25\u001b[0m\u001b[1;33m)\u001b[0m\u001b[1;33m\u001b[0m\u001b[1;33m\u001b[0m\u001b[0m\n\u001b[1;32m----> 2\u001b[1;33m \u001b[0mtdms\u001b[0m \u001b[1;33m=\u001b[0m \u001b[0mTdmsFile\u001b[0m\u001b[1;33m(\u001b[0m\u001b[0mpath\u001b[0m\u001b[1;33m+\u001b[0m\u001b[1;34m'/Messungen_'\u001b[0m \u001b[1;33m+\u001b[0m\u001b[0mstr\u001b[0m\u001b[1;33m(\u001b[0m\u001b[1;36m3\u001b[0m\u001b[1;33m)\u001b[0m\u001b[1;33m+\u001b[0m\u001b[1;34m\".tdms\"\u001b[0m\u001b[1;33m)\u001b[0m\u001b[1;33m\u001b[0m\u001b[1;33m\u001b[0m\u001b[0m\n\u001b[0m\u001b[0;32m      3\u001b[0m \u001b[0mtpAr\u001b[0m \u001b[1;33m=\u001b[0m \u001b[0mdatetime_to_float\u001b[0m\u001b[1;33m(\u001b[0m\u001b[0mwritetdms\u001b[0m\u001b[1;33m(\u001b[0m\u001b[0mtdms\u001b[0m\u001b[1;33m,\u001b[0m \u001b[0mch\u001b[0m\u001b[1;33m[\u001b[0m\u001b[1;36m10\u001b[0m\u001b[1;33m]\u001b[0m\u001b[1;33m)\u001b[0m\u001b[1;33m)\u001b[0m\u001b[1;33m\u001b[0m\u001b[1;33m\u001b[0m\u001b[0m\n\u001b[0;32m      4\u001b[0m \u001b[0mpAr\u001b[0m \u001b[1;33m=\u001b[0m \u001b[0mwritetdms\u001b[0m\u001b[1;33m(\u001b[0m\u001b[0mtdms\u001b[0m\u001b[1;33m,\u001b[0m \u001b[0mch\u001b[0m\u001b[1;33m[\u001b[0m\u001b[1;36m11\u001b[0m\u001b[1;33m]\u001b[0m\u001b[1;33m)\u001b[0m\u001b[1;33m\u001b[0m\u001b[1;33m\u001b[0m\u001b[0m\n",
      "\u001b[1;32mc:\\users\\feisti\\anaconda3\\envs\\cavsim\\lib\\site-packages\\nptdms\\tdms.py\u001b[0m in \u001b[0;36m__init__\u001b[1;34m(self, file, memmap_dir, read_metadata_only)\u001b[0m\n\u001b[0;32m     42\u001b[0m         \u001b[1;32melse\u001b[0m\u001b[1;33m:\u001b[0m\u001b[1;33m\u001b[0m\u001b[1;33m\u001b[0m\u001b[0m\n\u001b[0;32m     43\u001b[0m             \u001b[1;31m# Is path to a file\u001b[0m\u001b[1;33m\u001b[0m\u001b[1;33m\u001b[0m\u001b[1;33m\u001b[0m\u001b[0m\n\u001b[1;32m---> 44\u001b[1;33m             \u001b[1;32mwith\u001b[0m \u001b[0mopen\u001b[0m\u001b[1;33m(\u001b[0m\u001b[0mfile\u001b[0m\u001b[1;33m,\u001b[0m \u001b[1;34m'rb'\u001b[0m\u001b[1;33m)\u001b[0m \u001b[1;32mas\u001b[0m \u001b[0mopen_file\u001b[0m\u001b[1;33m:\u001b[0m\u001b[1;33m\u001b[0m\u001b[1;33m\u001b[0m\u001b[0m\n\u001b[0m\u001b[0;32m     45\u001b[0m                 \u001b[0mself\u001b[0m\u001b[1;33m.\u001b[0m\u001b[0m_read_segments\u001b[0m\u001b[1;33m(\u001b[0m\u001b[0mopen_file\u001b[0m\u001b[1;33m)\u001b[0m\u001b[1;33m\u001b[0m\u001b[1;33m\u001b[0m\u001b[0m\n\u001b[0;32m     46\u001b[0m \u001b[1;33m\u001b[0m\u001b[0m\n",
      "\u001b[1;31mFileNotFoundError\u001b[0m: [Errno 2] No such file or directory: 'L:/017_Messdaten_Pascal/Messdatensatz 0,5m Fuellstand/Messungen_3.tdms'"
     ]
    }
   ],
   "source": [
    "ch = (0, 1, 2, 3, 4, 5, 6, 7, 8, 9, 10, 11, 12, 13, 14, 15, 16, 17, 18, 19, 20, 21, 22, 23, 24, 25)\n",
    "tdms = TdmsFile(path+'/Messungen_' +str(3)+\".tdms\")\n",
    "tpAr = datetime_to_float(writetdms(tdms, ch[10]))\n",
    "pAr = writetdms(tdms, ch[11])"
   ]
  },
  {
   "cell_type": "code",
   "execution_count": null,
   "metadata": {
    "scrolled": false
   },
   "outputs": [],
   "source": [
    "new_time = np.linspace(0, (time[-12000-38000]-time[65000]), time[65000:-12000-38000].shape[0])\n",
    "print(new_time)\n",
    "plt.figure(figsize=(20, 10))\n",
    "plt.plot(tpAr[7500:19500]-tpAr[7500], pAr[7500:19500]*1e5, label='Messung')\n",
    "plt.plot(new_time, pressure[65000:-12000-38000, 0],color='red', label='Simulation')\n",
    "plt.xlabel('Zeit in Sekunden', fontsize='14')\n",
    "plt.ylabel('Druck in Pascal', fontsize='14')\n",
    "plt.legend(fontsize='14')\n",
    "plt.ylim(0e5,22e5)\n",
    "plt.grid()\n",
    "#plt.savefig('L:/023_CavSim_Plots/Simulation_70Umin.png')\n"
   ]
  },
  {
   "cell_type": "code",
   "execution_count": null,
   "metadata": {},
   "outputs": [],
   "source": [
    "fig, ax1 = plt.subplots(figsize=(20, 10))\n",
    "ax1.tick_params(axis='x', labelsize='20')\n",
    "#ax1.set_title('Vergleich von Messung und Simulation bei 70 U/min', fontsize='30')\n",
    "color = 'tab:blue'\n",
    "ln1 = ax1.plot(tpAr[7500:19500]-tpAr[7500], pAr[7500:19500]*1e5, label='Messung')\n",
    "ln2 = ax1.plot(new_time, pressure[65000:-12000-38000, 0],color='red', label='Simulation')\n",
    "ax1.set_ylim(0, 22e5)\n",
    "ax1.set_xlabel('Zeit in $s$', fontsize='24')\n",
    "ax1.set_ylabel('Druck in $Pa$', color=color, fontsize='24')\n",
    "ax1.tick_params(axis='y', labelcolor=color, labelsize='20')\n",
    "#ax1.minorticks_on()\n",
    "#ax1.grid(which='major', linestyle='--', linewidth='0.5', color='grey')\n",
    "# Customize the minor grid\n",
    "# ax1.grid(which='minor', linestyle=':', linewidth='0.5', color='grey')\n",
    "#ax1.tick_params(which='both',  # Options for both major and minor ticks\n",
    "#                top='off',  # turn off top ticks\n",
    "#                left='off',  # turn off left ticks\n",
    "#                right='off',  # turn off right ticks\n",
    "#                bottom='off')  # turn off bottom ticks\n",
    "\n",
    "ax2 = ax1.twinx()  # instantiate a second axes that shares the same x-axis\n",
    "color = 'tab:green'\n",
    "#ax2.set_ylim(0e5, 23e5)\n",
    "#ln3 = ax2.plot(time, flow,color='red', label='Ventilhub')\n",
    "ln3 = ax2.plot(new_time, values[65000:-12000-38000, 0]*1000,color='green', label='Simulation Ventilhub')\n",
    "ax2.set_ylim(0.0, 1.5)\n",
    "ax2.set_ylabel('Hub in $mm$', color=color, fontsize='24')\n",
    "ax2.minorticks_on()\n",
    "#ax1.grid(which='minor', linestyle='--', linewidth='0.5', color='grey')\n",
    "# Customize the minor grid\n",
    "# ax1.grid(which='minor', linestyle=':', linewidth='0.5', color='grey')\n",
    "ax2.tick_params(which='both',  # Options for both major and minor ticks\n",
    "                top='off',  # turn off top ticks\n",
    "                left='off',  # turn off left ticks\n",
    "                right='off',  # turn off right ticks\n",
    "                bottom='off',  # turn off bottom ticks\n",
    "                labelsize='20',\n",
    "                labelcolor=color)\n",
    "#ax3 = ax2.twinx()\n",
    "#color = 'tab:green'\n",
    "#ln3 = ax3.plot(t_hub[613:,], hub[613:,], color='green', label='Hub')\n",
    "#ax3.set_xlim(0.325,0.725)\n",
    "#ax2.set_ylim(np.min(flow),0.3)\n",
    "#ax3.set_xlabel('Zeit (s)')\n",
    "#ax3.set_ylabel('Hub in $mm$', color=color, fontsize='20')\n",
    "#ax3.minorticks_on()\n",
    "#ax1.grid(which='minor', linestyle='--', linewidth='0.5', color='grey')\n",
    "# Customize the minor grid\n",
    "# ax1.grid(which='minor', linestyle=':', linewidth='0.5', color='grey')\n",
    "#ax3.tick_params(which='both',  # Options for both major and minor ticks\n",
    "#                top='off',  # turn off top ticks\n",
    "#                left='off',  # turn off left ticks\n",
    "#                right='off',  # turn off right ticks\n",
    "#                bottom='off',  # turn off bottom ticks\n",
    "#                labelsize='16',\n",
    "#                labelcolor=color)\n",
    "#ax3.spines[\"right\"].set_position((\"axes\", 1.05))\n",
    "\n",
    "lns = ln1 + ln2 + ln3\n",
    "labs = [l.get_label() for l in lns]\n",
    "ax1.legend(lns, labs, loc='lower right', frameon=False, fontsize='24')\n",
    "plt.savefig('L:/023_CavSim_Plots/Simulation_70Umin.png',dpi=800)\n",
    "plt.show()"
   ]
  },
  {
   "cell_type": "code",
   "execution_count": null,
   "metadata": {},
   "outputs": [],
   "source": [
    "print(tpAr[7500:19500]-tpAr[7500])"
   ]
  },
  {
   "cell_type": "code",
   "execution_count": null,
   "metadata": {},
   "outputs": [],
   "source": [
    "print((np.max(pAr[7500:19500]*1e5)-np.max(pressure[60500:-1400, 0]))/np.max(pAr[7500:19500]*1e5)*100)"
   ]
  },
  {
   "cell_type": "code",
   "execution_count": null,
   "metadata": {},
   "outputs": [],
   "source": []
  },
  {
   "cell_type": "code",
   "execution_count": null,
   "metadata": {},
   "outputs": [],
   "source": []
  },
  {
   "cell_type": "code",
   "execution_count": null,
   "metadata": {},
   "outputs": [],
   "source": []
  },
  {
   "cell_type": "code",
   "execution_count": null,
   "metadata": {},
   "outputs": [],
   "source": []
  }
 ],
 "metadata": {
  "kernelspec": {
   "display_name": "Python 3",
   "language": "python",
   "name": "python3"
  },
  "language_info": {
   "codemirror_mode": {
    "name": "ipython",
    "version": 3
   },
   "file_extension": ".py",
   "mimetype": "text/x-python",
   "name": "python",
   "nbconvert_exporter": "python",
   "pygments_lexer": "ipython3",
   "version": "3.7.7"
  }
 },
 "nbformat": 4,
 "nbformat_minor": 2
}
