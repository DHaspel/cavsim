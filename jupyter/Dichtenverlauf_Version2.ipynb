{
 "cells": [
  {
   "cell_type": "code",
   "execution_count": 1,
   "metadata": {},
   "outputs": [],
   "source": [
    "import numpy as np\n",
    "import matplotlib.pyplot as plt"
   ]
  },
  {
   "cell_type": "code",
   "execution_count": 2,
   "metadata": {},
   "outputs": [
    {
     "name": "stdout",
     "output_type": "stream",
     "text": [
      "30000\n"
     ]
    }
   ],
   "source": [
    "delta_t = 1e-6\n",
    "rpm = 500 # Drehzahl in rpm\n",
    "omega = np.pi * 2.0 * rpm / 60 # Winkelgeschwindigkeit in rad/s\n",
    "phi0 = 0.0\n",
    "phi_end = np.pi / 2.0\n",
    "t_end = (phi_end - phi0) / omega\n",
    "a = int(np.floor(t_end / delta_t))\n",
    "print(a)\n",
    "volume = 1e-4\n",
    "#alpha = np.linspace(0, 3 * np.pi /4, a)"
   ]
  },
  {
   "cell_type": "code",
   "execution_count": 3,
   "metadata": {},
   "outputs": [],
   "source": [
    "radius = 0.05\n",
    "def calculate_rad_velocity(rpm, radius):\n",
    "    return (rpm/60) * 2 * np.pi * radius\n",
    "\n",
    "def calculate_angle_velocity(rpm):    \n",
    "    return (rpm/60) * 2 * np.pi"
   ]
  },
  {
   "cell_type": "code",
   "execution_count": 4,
   "metadata": {},
   "outputs": [],
   "source": [
    "viscosity = 1e-3\n",
    "height = 1.5e-4\n",
    "delta_x = 8e-3\n",
    "width = 0.06556\n",
    "rad_velocity = calculate_rad_velocity(rpm, radius)\n",
    "#angle_velocity = calculate_angle_velocity(rpm)\n",
    "#t = alpha / angle_velocity\n",
    "delta_t = 1e-6"
   ]
  },
  {
   "cell_type": "code",
   "execution_count": 5,
   "metadata": {},
   "outputs": [],
   "source": [
    "class Fluid():\n",
    "    def __init__(self,\n",
    "                 kinematic_viscosity: float = 1e-6,\n",
    "                 norm_density: float = 998.2,\n",
    "                 norm_pressure: float = 101325,\n",
    "                 initial_pressure: float = 101325,\n",
    "                 factor_b: float = 3.214e8,\n",
    "                 factor_m: float = 7.0,\n",
    "                )-> None:\n",
    "        \"\"\"\n",
    "        Initializes the fluid class with NIST values of fluid properties\n",
    "        \"\"\"\n",
    "        self._kinematic_viscosity = kinematic_viscosity\n",
    "        self._norm_density = norm_density\n",
    "        self._norm_pressure = norm_pressure\n",
    "        self._initial_pressure = initial_pressure\n",
    "        self._factor_b = factor_b\n",
    "        self._factor_m = factor_m\n",
    "        \n",
    "    @property\n",
    "    def kinematic_viscosity(self):\n",
    "        return self._kinematic_viscosity\n",
    "    \n",
    "    @property\n",
    "    def norm_density(self):\n",
    "        return self._norm_density\n",
    "    \n",
    "    @property\n",
    "    def norm_pressure(self):\n",
    "        return self._norm_pressure\n",
    "    \n",
    "    @property\n",
    "    def initial_pressure(self):\n",
    "        return self._initial_pressure\n",
    "    \n",
    "    @property\n",
    "    def factor_b(self):\n",
    "        return self._factor_b\n",
    "    \n",
    "    @property\n",
    "    def factor_m(self):\n",
    "        return self._factor_m\n",
    "    \n",
    "    def density(self, pressure: float = None, temperature: float = None)-> float:\n",
    "        pressure_diff = np.asarray(pressure) - self.norm_pressure\n",
    "        result = self.norm_density * (((pressure_diff / self._factor_b) + 1)**(1/self._factor_m))\n",
    "        return result\n",
    "    def pressure(self, density: float = None, temperature: float = None)-> float:\n",
    "        result = self.norm_pressure + self.factor_b * ((np.asarray(density) / self.norm_density)**self.factor_m - 1)\n",
    "        return result\n",
    "        "
   ]
  },
  {
   "cell_type": "code",
   "execution_count": 6,
   "metadata": {},
   "outputs": [],
   "source": [
    "def calculate_volume_flow (width, height, rad_velocity, viscosity, delta_p, delta_x):\n",
    "    \n",
    "    volume_flow = width * height * (rad_velocity - (2/(3*viscosity))*(height**2) * delta_p / delta_x)\n",
    "    \n",
    "    return volume_flow"
   ]
  },
  {
   "cell_type": "code",
   "execution_count": 7,
   "metadata": {},
   "outputs": [],
   "source": [
    "def calculate_mass_flow(volume_flow, density):\n",
    "    delta_m = abs(volume_flow) * density\n",
    "    return delta_m"
   ]
  },
  {
   "cell_type": "code",
   "execution_count": 8,
   "metadata": {},
   "outputs": [],
   "source": [
    "def calculate_new_density(delta_m, volume, delta_t, density_t0):\n",
    "    density_t1 = density_t0 + delta_m * delta_t / volume\n",
    "    return density_t1"
   ]
  },
  {
   "cell_type": "code",
   "execution_count": 9,
   "metadata": {},
   "outputs": [],
   "source": [
    "water = Fluid()\n",
    "\n",
    "p1 = np.empty(a)\n",
    "density1 = np.empty(a)\n",
    "\n",
    "p0 = 1e5\n",
    "p1[0] = 1e5\n",
    "p2 = 16e5\n",
    "density0 = water.density(pressure=p0,temperature=None)\n",
    "density1[0] = water.density(pressure=p1[0],temperature=None)\n",
    "density2 = water.density(pressure=p2,temperature=None)\n",
    "\n",
    "for i in range(1,a):\n",
    "    #delta_t = t[i]- t[i-1]\n",
    "    \n",
    "    densityOld = density1[i-1]\n",
    "    delta_p10 = p1[i-1] - p0\n",
    "    delta_p21 = p2 - p1[i-1]\n",
    "    \n",
    "    volume_flow10 = calculate_volume_flow(width, height, rad_velocity, viscosity, delta_p10, delta_x)\n",
    "    volume_flow21 = calculate_volume_flow(width, height, rad_velocity, viscosity, delta_p21, delta_x)\n",
    "    \n",
    "    mass_flow10 = calculate_mass_flow(volume_flow10,density1)\n",
    "    mass_flow21 = calculate_mass_flow(volume_flow21,density2)\n",
    "    \n",
    "    delta_m = mass_flow21 - mass_flow10\n",
    "    \n",
    "    density1 = calculate_new_density(delta_m, volume, delta_t, densityOld)\n",
    "    p1[i] = water.pressure(density=density1[i])"
   ]
  },
  {
   "cell_type": "code",
   "execution_count": 15,
   "metadata": {
    "scrolled": false
   },
   "outputs": [
    {
     "data": {
      "text/plain": [
       "(0, 5e-05)"
      ]
     },
     "execution_count": 15,
     "metadata": {},
     "output_type": "execute_result"
    },
    {
     "data": {
      "image/png": "[encoded data removed]",
      "text/plain": [
       "<Figure size 1152x720 with 1 Axes>"
      ]
     },
     "metadata": {
      "needs_background": "light"
     },
     "output_type": "display_data"
    }
   ],
   "source": [
    "t = np.linspace(0,(delta_t*a), a)\n",
    "plt.figure(figsize=(16,10))\n",
    "plt.plot(t,p1)\n",
    "plt.xlim(0, 5e-5)"
   ]
  },
  {
   "cell_type": "code",
   "execution_count": 25,
   "metadata": {},
   "outputs": [],
   "source": [
    "density_1 = water.density(pressure=4.3e5)\n",
    "density_2 = water.density(pressure=6.0e5)\n",
    "volume_change = density_1 * volume / density_2"
   ]
  },
  {
   "cell_type": "code",
   "execution_count": 26,
   "metadata": {},
   "outputs": [
    {
     "name": "stdout",
     "output_type": "stream",
     "text": [
      "9.999245377048969e-05\n"
     ]
    }
   ],
   "source": [
    "print(volume_change)"
   ]
  },
  {
   "cell_type": "code",
   "execution_count": 27,
   "metadata": {},
   "outputs": [],
   "source": [
    "constant_volume_flow = omega * volume * 8"
   ]
  },
  {
   "cell_type": "code",
   "execution_count": 28,
   "metadata": {},
   "outputs": [
    {
     "name": "stdout",
     "output_type": "stream",
     "text": [
      "0.041887902047863905\n"
     ]
    }
   ],
   "source": [
    "print(constant_volume_flow)"
   ]
  },
  {
   "cell_type": "code",
   "execution_count": 29,
   "metadata": {},
   "outputs": [
    {
     "name": "stdout",
     "output_type": "stream",
     "text": [
      "0.04178790959409342\n"
     ]
    }
   ],
   "source": [
    "print(constant_volume_flow - volume_change)"
   ]
  },
  {
   "cell_type": "code",
   "execution_count": null,
   "metadata": {},
   "outputs": [],
   "source": []
  }
 ],
 "metadata": {
  "kernelspec": {
   "display_name": "Python 3",
   "language": "python",
   "name": "python3"
  },
  "language_info": {
   "codemirror_mode": {
    "name": "ipython",
    "version": 3
   },
   "file_extension": ".py",
   "mimetype": "text/x-python",
   "name": "python",
   "nbconvert_exporter": "python",
   "pygments_lexer": "ipython3",
   "version": "3.7.7"
  }
 },
 "nbformat": 4,
 "nbformat_minor": 4
}
