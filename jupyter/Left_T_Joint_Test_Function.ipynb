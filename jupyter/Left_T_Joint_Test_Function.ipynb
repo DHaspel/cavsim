{
 "cells": [
  {
   "cell_type": "code",
   "execution_count": 1,
   "metadata": {},
   "outputs": [],
   "source": [
    "import numpy as np\n",
    "import matplotlib.pyplot as plt"
   ]
  },
  {
   "cell_type": "code",
   "execution_count": 2,
   "metadata": {},
   "outputs": [],
   "source": [
    "import cavsim\n",
    "from cavsim import Measure\n",
    "from cavsim.connectors import BaseConnector, Connector\n",
    "from cavsim.channels import ImportChannel, ExportChannel\n",
    "from cavsim.components import BaseComponent, Component\n",
    "from cavsim.solvers import BaseSolver, SimpleSolver\n",
    "from cavsim.fluids import Fluid"
   ]
  },
  {
   "cell_type": "code",
   "execution_count": 3,
   "metadata": {},
   "outputs": [],
   "source": [
    "from cavsim.pipes.pipe import Pipe\n",
    "from cavsim.boundaries.left_boundary_pressure import LeftBoundaryPressure\n",
    "from cavsim.boundaries.left_boundary_velocity import LeftBoundaryVelocity\n",
    "from cavsim.boundaries.right_boundary_pressure import RightBoundaryPressure\n",
    "from cavsim.boundaries.right_boundary_velocity import RightBoundaryVelocity\n",
    "from cavsim.boundaries.simple_pipe_connector import PipeConnectorSimple\n",
    "from cavsim.boundaries.zeta_joint import ZetaJoint\n",
    "from cavsim.boundaries.simple_t_joint import SimpleTJoint\n",
    "from cavsim.boundaries.simple_t_joint_double_left import SimpleTJointLeft\n",
    "from cavsim.boundaries.simple_right_gasdampener import RightGasBubbleSimple\n",
    "from cavsim.boundaries.simple_left_gasdampener import LeftGasBubbleSimple\n",
    "from cavsim.boundaries.frictionless_gasdampener import FrictionlessGasDampener\n",
    "from cavsim.boundaries.gasdampener import GasDampener\n",
    "from cavsim.boundaries.pump_with_valves_model_new import PumpSuctionValve\n",
    "from cavsim.boundaries.reflectionless_right_boundary_condition import RightBoundaryReflectionFree"
   ]
  },
  {
   "cell_type": "code",
   "execution_count": 4,
   "metadata": {},
   "outputs": [],
   "source": [
    "fluid = Fluid(1000, 1e-3, 2.08e9, 2.3e-3,initial_pressure=1.0e5)"
   ]
  },
  {
   "cell_type": "code",
   "execution_count": 5,
   "metadata": {},
   "outputs": [],
   "source": [
    "Tank = Pipe(2.0, 1.5, 0.002, 2e11, 1e-7, 4, initial_pressure=2.6e5)\n",
    "suction05 = Pipe(0.155, 4.0, 0.002, 2e11, 1e-7, 4,initial_pressure=2.6e5)\n",
    "suctionsd = Pipe(0.155, 0.50, 0.002, 2e11, 1e-7, 4, initial_pressure=2.6e5)\n",
    "suction1 = Pipe(0.155, 0.40, 0.002, 2e11, 1e-7, 4, initial_pressure=2.6e5)\n",
    "suction2 = Pipe(0.155, 0.40, 0.002, 2e11, 1e-7, 4, initial_pressure=2.6e5)\n",
    "suction3 = Pipe(0.155, 0.40, 0.002, 2e11, 1e-7, 4, initial_pressure=2.6e5)\n",
    "suction3 = Pipe(0.155, 0.40, 0.002, 2e11, 1e-7, 4, initial_pressure=2.6e5)\n",
    "suctionp1 = Pipe(0.155, 0.50, 0.002, 2e11, 1e-7, 4, initial_pressure=2.6e5)\n",
    "suctionp2 = Pipe(0.155, 0.50, 0.002, 2e11, 1e-7, 4, initial_pressure=2.6e5)\n",
    "suctionp3 = Pipe(0.155, 0.50, 0.002, 2e11, 1e-7, 4, initial_pressure=2.6e5)"
   ]
  },
  {
   "cell_type": "code",
   "execution_count": 6,
   "metadata": {},
   "outputs": [],
   "source": [
    "discharge1 = Pipe(0.155, 0.5, 0.002, 2e11, 1e-7, 4, initial_pressure=100.0e5)\n",
    "discharge2 = Pipe(0.155, 0.50, 0.002, 2e11, 1e-7, 4, initial_pressure=100.0e5)\n",
    "discharge3 = Pipe(0.155, 0.50, 0.002, 2e11, 1e-7, 4, initial_pressure=100.0e5)\n",
    "discharge4 = Pipe(0.155, 0.50, 0.002, 2e11, 1e-7, 4, initial_pressure=100.0e5)\n",
    "dischargep1 = Pipe(0.155, 0.5, 0.002, 2e11, 1e-7, 4, initial_pressure=100.0e5)\n",
    "dischargep2 = Pipe(0.155, 0.5, 0.002, 2e11, 1e-7, 4, initial_pressure=100.0e5)\n",
    "dischargep3 = Pipe(0.155, 0.5, 0.002, 2e11, 1e-7, 4, initial_pressure=100.0e5)\n",
    "dischargedd = Pipe(0.155, 0.5, 0.002, 2e11, 1e-7, 4, initial_pressure=100.0e5)"
   ]
  },
  {
   "cell_type": "code",
   "execution_count": null,
   "metadata": {},
   "outputs": [],
   "source": []
  },
  {
   "cell_type": "code",
   "execution_count": null,
   "metadata": {},
   "outputs": [],
   "source": []
  },
  {
   "cell_type": "code",
   "execution_count": 7,
   "metadata": {},
   "outputs": [],
   "source": [
    "sys_pressure = 1.0e5"
   ]
  },
  {
   "cell_type": "code",
   "execution_count": 8,
   "metadata": {},
   "outputs": [],
   "source": [
    "lb = LeftBoundaryPressure(sys_pressure)\n",
    "suction1.connect(lb)"
   ]
  },
  {
   "cell_type": "code",
   "execution_count": 9,
   "metadata": {},
   "outputs": [],
   "source": [
    "lb1 = LeftBoundaryPressure(sys_pressure)\n",
    "suction2.connect(lb1)"
   ]
  },
  {
   "cell_type": "code",
   "execution_count": 10,
   "metadata": {},
   "outputs": [],
   "source": [
    "conn = SimpleTJointLeft(sys_pressure)\n",
    "suction1.connect(conn.left)\n",
    "suction2.connect(conn.left2)\n",
    "suction3.connect(conn.right)"
   ]
  },
  {
   "cell_type": "code",
   "execution_count": 11,
   "metadata": {},
   "outputs": [],
   "source": [
    "rb = RightBoundaryPressure(sys_pressure)\n",
    "suction3.connect(rb)"
   ]
  },
  {
   "cell_type": "code",
   "execution_count": null,
   "metadata": {},
   "outputs": [],
   "source": []
  },
  {
   "cell_type": "code",
   "execution_count": null,
   "metadata": {},
   "outputs": [],
   "source": []
  },
  {
   "cell_type": "code",
   "execution_count": null,
   "metadata": {},
   "outputs": [],
   "source": []
  },
  {
   "cell_type": "code",
   "execution_count": null,
   "metadata": {},
   "outputs": [],
   "source": []
  },
  {
   "cell_type": "code",
   "execution_count": null,
   "metadata": {},
   "outputs": [],
   "source": []
  },
  {
   "cell_type": "code",
   "execution_count": null,
   "metadata": {},
   "outputs": [],
   "source": []
  },
  {
   "cell_type": "code",
   "execution_count": null,
   "metadata": {},
   "outputs": [],
   "source": []
  },
  {
   "cell_type": "code",
   "execution_count": null,
   "metadata": {},
   "outputs": [],
   "source": []
  },
  {
   "cell_type": "code",
   "execution_count": null,
   "metadata": {},
   "outputs": [],
   "source": []
  },
  {
   "cell_type": "code",
   "execution_count": null,
   "metadata": {},
   "outputs": [],
   "source": []
  },
  {
   "cell_type": "code",
   "execution_count": null,
   "metadata": {},
   "outputs": [],
   "source": []
  },
  {
   "cell_type": "code",
   "execution_count": null,
   "metadata": {},
   "outputs": [],
   "source": []
  },
  {
   "cell_type": "code",
   "execution_count": null,
   "metadata": {},
   "outputs": [],
   "source": []
  },
  {
   "cell_type": "code",
   "execution_count": null,
   "metadata": {},
   "outputs": [],
   "source": []
  },
  {
   "cell_type": "code",
   "execution_count": null,
   "metadata": {},
   "outputs": [],
   "source": []
  },
  {
   "cell_type": "code",
   "execution_count": null,
   "metadata": {},
   "outputs": [],
   "source": []
  },
  {
   "cell_type": "code",
   "execution_count": null,
   "metadata": {},
   "outputs": [],
   "source": []
  },
  {
   "cell_type": "code",
   "execution_count": 12,
   "metadata": {},
   "outputs": [],
   "source": [
    "plogs1 = []\n",
    "plogs2 = []\n",
    "plogs3 = []\n",
    "vlogs = []\n",
    "vlogs1 = []\n",
    "flogs = []\n",
    "rblogs = []\n",
    "relogs = []\n",
    "dislog = []\n",
    "springlog = []\n",
    "contact_pressurelog = []\n",
    "velocity = []\n",
    "pumplog = []\n",
    "pump_speed = []\n",
    "pump_value = []\n",
    "flow_log = []\n",
    "lower_pressure_log = []\n",
    "contact_pressure_log = []\n",
    "damping_log = []\n",
    "\n",
    "\n",
    "\n",
    "\n",
    "def logging(time):\n",
    "    plogs1.append(suction1.field_wide_slice('pressure', 0) + 0.0)\n",
    "    plogs2.append(suction2.field_wide_slice('pressure', 0) + 0.0)\n",
    "    plogs3.append(suction3.field_wide_slice('pressure', 0) + 0.0)\n",
    "#    vlogs.append(discharge1.field_wide_slice('velocity', 0) + 0.0)\n",
    "#    pumplog.append(kopf1.field_wide_slice('pump_pressure', 0) + 0.0)\n",
    "#    dislog.append(kopf1.field_wide_slice('suction_displacement', 0) + 0.0)\n",
    "#    pump_speed.append(kopf1.field_wide_slice('discharge_pressure', 1) +0.0)\n",
    "#    pump_value.append(kopf2.field_wide_slice('pump_pressure', 0) +0.0)\n",
    "#    springlog.append(kopf3.field_wide_slice('pump_pressure', 0) +0.0)\n",
    "#    contact_pressurelog.append(kopf1.field_wide_slice('suction_contact_pressure_force', 1) +0.0)\n",
    "#    flow_log.append(kopf1.field_wide_slice('suction_flow_force', 1) +0.0)\n",
    "#    velocity.append(kopf1.field_wide_slice('suction_valve_velocity', 1) +0.0)\n",
    "#    lower_pressure_log.append(kopf1.field_wide_slice('discharge_lower_pressure_force', 1) +0.0)\n",
    "#    contact_pressure_log.append(kopf1.field_wide_slice('discharge_contact_pressure_force', 1) +0.0)\n",
    "#    damping_log.append(kopf1.field_wide_slice('discharge_upper_pressure_force', 1) +0.0)"
   ]
  },
  {
   "cell_type": "code",
   "execution_count": 13,
   "metadata": {},
   "outputs": [],
   "source": [
    "solver = SimpleSolver()\n",
    "solver.fluid = fluid\n",
    "solver.seeds = [suction1]\n",
    "solver._callback = logging"
   ]
  },
  {
   "cell_type": "code",
   "execution_count": 14,
   "metadata": {
    "scrolled": false
   },
   "outputs": [
    {
     "name": "stdout",
     "output_type": "stream",
     "text": [
      "pressure b is \n",
      "0.0\n",
      " 0:00:00 [==                            |  7.45%]  0:00:00  Currently at time   0.000 of   0.001pressure b is \n",
      "0.0\n",
      " 0:00:00 [====                          | 14.91%]  0:00:00  Currently at time   0.000 of   0.001pressure b is \n",
      "1.341170072756633e-17\n",
      " 0:00:00 [======                        | 22.36%]  0:00:00  Currently at time   0.000 of   0.001pressure b is \n",
      "1.3558811934225674e-17\n",
      " 0:00:00 [========                      | 29.82%]  0:00:00  Currently at time   0.000 of   0.001pressure b is \n",
      "9.8377121711283e-18\n",
      " 0:00:00 [===========                   | 37.27%]  0:00:00  Currently at time   0.000 of   0.001pressure b is \n",
      "1.0107472807600406e-17\n",
      " 0:00:00 [=============                 | 44.73%]  0:00:00  Currently at time   0.000 of   0.001pressure b is \n",
      "8.16411518757493e-18\n",
      " 0:00:00 [===============               | 52.18%]  0:00:00  Currently at time   0.001 of   0.001pressure b is \n",
      "8.374459320866953e-18\n",
      " 0:00:00 [=================             | 59.64%]  0:00:00  Currently at time   0.001 of   0.001pressure b is \n",
      "7.114350246956354e-18\n",
      " 0:00:00 [====================          | 67.09%]  0:00:00  Currently at time   0.001 of   0.001pressure b is \n",
      "7.289342135172624e-18\n",
      " 0:00:00 [======================        | 74.54%]  0:00:00  Currently at time   0.001 of   0.001pressure b is \n",
      "6.426617851283891e-18\n",
      " 0:00:00 [========================      | 82.00%]  0:00:00  Currently at time   0.001 of   0.001pressure b is \n",
      "6.583085347518438e-18\n",
      " 0:00:00 [==========================    | 89.45%]  0:00:00  Currently at time   0.001 of   0.001pressure b is \n",
      "5.973002348973214e-18\n",
      " 0:00:00 [============================= | 96.91%]  0:00:00  Currently at time   0.001 of   0.001pressure b is \n",
      "6.120178696288327e-18\n",
      " 0:00:00 [==============================|100.00%]  0:00:00  Currently at time   0.001 of   0.001"
     ]
    },
    {
     "name": "stderr",
     "output_type": "stream",
     "text": [
      "l:\\cavsim\\cavsim\\base\\solvers\\simple_solver.py:46: UserWarning: Smaller timestep required by component! (7.454477229774786e-05 < 1e+20 by <cavsim.pipes.pipe.Pipe object at 0x000001EC793D0390>)\n",
      "  warn('Smaller timestep required by component! ({} < {} by {})'.format(component_time, delta_t, component))\n",
      "l:\\cavsim\\cavsim\\base\\solvers\\simple_solver.py:46: UserWarning: Smaller timestep required by component! (7.454477229774786e-05 < 1e+20 by <cavsim.pipes.pipe.Pipe object at 0x000001EC793D8D68>)\n",
      "  warn('Smaller timestep required by component! ({} < {} by {})'.format(component_time, delta_t, component))\n",
      "l:\\cavsim\\cavsim\\base\\solvers\\simple_solver.py:46: UserWarning: Smaller timestep required by component! (7.454477229774786e-05 < 1e+20 by <cavsim.pipes.pipe.Pipe object at 0x000001EC793D5198>)\n",
      "  warn('Smaller timestep required by component! ({} < {} by {})'.format(component_time, delta_t, component))\n"
     ]
    }
   ],
   "source": [
    "solver.solve(1e20, 0.001, 3)"
   ]
  },
  {
   "cell_type": "code",
   "execution_count": 15,
   "metadata": {},
   "outputs": [
    {
     "name": "stdout",
     "output_type": "stream",
     "text": [
      "[100000. 100000. 100000. 100000. 100000. 100000. 100000. 100000. 100000.\n",
      " 100000. 100000. 100000. 100000.]\n"
     ]
    }
   ],
   "source": [
    "pfield1 = np.stack(plogs1)\n",
    "pfield2 = np.stack(plogs2)\n",
    "pfield3 = np.stack(plogs3)\n",
    "#disfield = np.stack(dislog)\n",
    "#velfield = np.stack(velocity)\n",
    "#velocity = np.stack(vlogs)\n",
    "#pressure1 = np.stack(pumplog)\n",
    "#pump_velocity = np.stack(pump_speed)\n",
    "#pressure2 = np.stack(pump_value)\n",
    "#flow_force = np.stack(flow_log)\n",
    "#pressure3 = np.stack(springlog)\n",
    "#lower_pressure_force = np.stack(lower_pressure_log)\n",
    "#contact_pressure_force = np.stack(contact_pressure_log)\n",
    "#damping_force = np.stack(damping_log)\n",
    "print(pfield2[0:-1, 1])"
   ]
  },
  {
   "cell_type": "code",
   "execution_count": 16,
   "metadata": {},
   "outputs": [
    {
     "data": {
      "image/png": "[encoded data removed]",
      "text/plain": [
       "<Figure size 1440x720 with 2 Axes>"
      ]
     },
     "metadata": {
      "needs_background": "light"
     },
     "output_type": "display_data"
    }
   ],
   "source": [
    "time = np.linspace(0, 3.0, int(pfield2[:,:].shape[0]))\n",
    "#plt.figure(figsize=(16, 10))\n",
    "fig, ax1 = plt.subplots(figsize=(20, 10))\n",
    "#plt.subplot(1, 2, 1)\n",
    "#plt.plot(vfield[:,0])\n",
    "#plt.plot(1, 2, 2)\n",
    "val1 = 0\n",
    "val = -1\n",
    "#val1 = 0\n",
    "#val = -1\n",
    "\n",
    "#upper_force = upperp_field[val1:val, 0] + gfield[val1:val, 0] + springforce[val1:val, 0]\n",
    "#lower_force = lowp_field[val1:val, 0] + contact_pressure[val1:val, 0]\n",
    "#result1 = lower_force - upper_force\n",
    "#result2 = flow_field[val1:val, 0] - gfield[val1:val, 0] - springforce[val1:val, 0] - dampingfield[val1:val, 0]\n",
    "#upper_flow = gfield[val1:val, 0] + springforce[val1:val, 0] + dampingfield[val1:val, 0]\n",
    "#lower_flow = flow_field[val1:val, 0]\n",
    "#ax1.plot(time[val1:val], upper_flow, color='red')\n",
    "#ax1.plot(time[val1:val], lower_flow, color='blue')\n",
    "\n",
    "\n",
    "#plt.subplot(1, 2, 2)\n",
    "#ax1.plot(result1[val1:val])\n",
    "#ax1.plot(result2[val1:val])\n",
    "#ax1.plot(time[val1:val], upperp_field[val1:val, 0], color='red')\n",
    "#ax1.plot(time[val1:val], lowp_field[val1:val, 0], color='green')\n",
    "#ax1.plot(time[val1:val], dampingfield[val1:val, 0], color='blue')\n",
    "\n",
    "#ax1.plot(time[val1:val], contact_pressure[val1:val, 0], color='black')\n",
    "#ax1.plot(time[val1:val], springforce[val1:val, 0], color='grey')\n",
    "#ax1.plot(time[val1:val], upper_force, color='red')\n",
    "#ax1.plot(time[val1:val], lower_force, color='blue')\n",
    "\n",
    "#plt.plot(time[val1:val], pfield1[val1:val, 1], color='red')\n",
    "#plt.plot(time[val1:val], pump_velocity[val1:val, 0], color='black')\n",
    "#plt.plot(time[val1:val], pfield1[val1:val, 1], color='green')\n",
    "#plt.plot(time[val1:val], pressure[val1:val, 0],color='violet')\n",
    "plt.plot()\n",
    "\n",
    "#ax1.plot(time[val1:val], deltap[val1:val, 0], color='green')\n",
    "\n",
    "#plt.xlim(time[val1],time[val])\n",
    "#plt.ylim(0e5, 22e5)\n",
    "\n",
    "color = 'tab:red'\n",
    "ax1.set_xlabel('time (s)')\n",
    "ax1.set_ylabel('Pressure', color=color)\n",
    "#ax1.set_ylim(0e5, 23e5)\n",
    "plt.grid()\n",
    "#ax1.plot(time[val1:val], pfield1[val1:val, 1], color='red')\n",
    "#ax1.plot(time[val1:val], pfield2[val1:val, -2], color='green')\n",
    "ax1.tick_params(axis='y', labelcolor=color)\n",
    "\n",
    "\n",
    "ax2 = ax1.twinx()  # instantiate a second axes that shares the same x-axis\n",
    "\n",
    "color = 'tab:blue'\n",
    "ax2.plot(time[val1:val], pfield2[val1:val, -2]/10**5, color=color)  # we already handled the x-label with ax1\n",
    "ax2.plot(time[val1:val], pfield1[val1:val, 1]/10**5, color = 'black')\n",
    "#ax2.plot(time[val1:val], pfield2[val1:val, 2]/10**5, color = 'red')\n",
    "#ax2.plot(time[val1:val], pressure3[val1:val, 0]/10**5, color = 'green')\n",
    "#ax2.plot(time[val1:val], velocity[val1:val, 1]*(np.pi*(0.056/2)**2), color = 'red')\n",
    "#ax2.set_ylim(0e5, 5)\n",
    "#ax2.plot(time[val1:val], contact_pressure_force[val1:val, 0], color = 'green')\n",
    "#ax2.plot(time[val1:val], spring_force[val1:val, 0], color = 'green')\n",
    "#ax2.plot(time[val1:val], contact_pressure_force[val1:val, 0]+lower_pressure_force[val1:val, 0], color = 'black')\n",
    "#ax2.plot(time[val1:val], flow_force[val1:val, 0]-spring_force[val1:val, 0], color = 'red')\n",
    "#ax2.plot(time[val1:val], zeta[val1:val, 0], color='green')\n",
    "#ax2.plot(time[val1:val], flow_field[val1:val, 0], color='black')\n",
    "#ax2.tick_params(axis='y', labelcolor=color)\n",
    "\n",
    "#plt.subplot(1, 2, 1)\n",
    "#plt.plot(time[val1:val], disfield[val1:val, 0]*1000, color='black')\n",
    "#plt.plot(time[val1:val], pump(time[val1:val]))\n",
    "#plt.plot(time[val1:val], velfield[val1:val, 0], color='blue')\n",
    "#plt.plot(time[val1:val], pfield2[val1:val, 1], color='red')\n",
    "#pltplot(time[val1:val], pfield1[val1:val, -2], color='green')\n",
    "#plt.ylim(-2e3, 2e3)\n",
    "fig.tight_layout()\n",
    "plt.show()"
   ]
  },
  {
   "cell_type": "code",
   "execution_count": null,
   "metadata": {},
   "outputs": [],
   "source": []
  },
  {
   "cell_type": "code",
   "execution_count": null,
   "metadata": {},
   "outputs": [],
   "source": []
  },
  {
   "cell_type": "code",
   "execution_count": null,
   "metadata": {},
   "outputs": [],
   "source": [
    "\n",
    "\n",
    "\n",
    "\n"
   ]
  },
  {
   "cell_type": "code",
   "execution_count": null,
   "metadata": {},
   "outputs": [],
   "source": []
  },
  {
   "cell_type": "code",
   "execution_count": null,
   "metadata": {},
   "outputs": [],
   "source": []
  }
 ],
 "metadata": {
  "kernelspec": {
   "display_name": "Python 3",
   "language": "python",
   "name": "python3"
  },
  "language_info": {
   "codemirror_mode": {
    "name": "ipython",
    "version": 3
   },
   "file_extension": ".py",
   "mimetype": "text/x-python",
   "name": "python",
   "nbconvert_exporter": "python",
   "pygments_lexer": "ipython3",
   "version": "3.6.9"
  }
 },
 "nbformat": 4,
 "nbformat_minor": 2
}
