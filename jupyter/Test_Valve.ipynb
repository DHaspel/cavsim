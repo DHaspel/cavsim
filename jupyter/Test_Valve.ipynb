{
 "cells": [
  {
   "cell_type": "code",
   "execution_count": 1,
   "metadata": {},
   "outputs": [],
   "source": [
    "import numpy as np\n",
    "import matplotlib.pyplot as plt"
   ]
  },
  {
   "cell_type": "code",
   "execution_count": 2,
   "metadata": {},
   "outputs": [],
   "source": [
    "import cavsim\n",
    "from cavsim import Measure\n",
    "from cavsim.connectors import BaseConnector, Connector\n",
    "from cavsim.channels import ImportChannel, ExportChannel\n",
    "from cavsim.components import BaseComponent, Component\n",
    "from cavsim.solvers import BaseSolver, SimpleSolver\n",
    "from cavsim.fluids import Fluid"
   ]
  },
  {
   "cell_type": "code",
   "execution_count": 3,
   "metadata": {},
   "outputs": [],
   "source": [
    "from cavsim.pipes.pipe import Pipe\n",
    "from cavsim.boundaries.left_boundary_pressure import LeftBoundaryPressure\n",
    "from cavsim.boundaries.left_boundary_velocity import LeftBoundaryVelocity\n",
    "from cavsim.boundaries.right_boundary_pressure import RightBoundaryPressure\n",
    "from cavsim.boundaries.right_boundary_velocity import RightBoundaryVelocity\n",
    "from cavsim.boundaries.simple_pipe_connector import PipeConnectorSimple\n",
    "from cavsim.boundaries.zeta_joint import ZetaJoint\n",
    "from cavsim.boundaries.simple_t_joint import SimpleTJoint\n",
    "from cavsim.boundaries.simple_right_gasdampener import RightGasBubbleSimple\n",
    "from cavsim.boundaries.frictionless_gasdampener import FrictionlessGasDampener\n",
    "from cavsim.boundaries.gasdampener import GasDampener\n",
    "from cavsim.boundaries.pump_suction_valve import PumpSuctionValve"
   ]
  },
  {
   "cell_type": "code",
   "execution_count": 4,
   "metadata": {},
   "outputs": [],
   "source": [
    "fluid = Fluid(1000, 1e-3, 2.08e9, 2.3e-3,initial_pressure=128000)"
   ]
  },
  {
   "cell_type": "code",
   "execution_count": null,
   "metadata": {},
   "outputs": [],
   "source": []
  },
  {
   "cell_type": "code",
   "execution_count": null,
   "metadata": {},
   "outputs": [],
   "source": []
  },
  {
   "cell_type": "code",
   "execution_count": 5,
   "metadata": {},
   "outputs": [],
   "source": [
    "def pump(time):\n",
    "    stroke = 0.045\n",
    "    r = stroke / 2.0\n",
    "    lam = 0.187\n",
    "    d = 0.07\n",
    "    rpm = 70\n",
    "    omega = rpm / 60 * 2 * np.pi\n",
    "    area = d*d / 4.0 * np.pi\n",
    "    \n",
    "    velocity = r * omega * (np.sin(omega * time) - (lam / 2.0) * np.sin(2* omega * time))\n",
    "    result = velocity\n",
    "    return result\n",
    "    \n",
    "    \n",
    "    #return (0.045 / 2.0) * (0.07**2) * np.pi / 4.0 * np.sin(90/60*(1 * time * 2.0 * np.pi))\n",
    "    #return 0.01"
   ]
  },
  {
   "cell_type": "code",
   "execution_count": 6,
   "metadata": {},
   "outputs": [],
   "source": [
    "def step(time):\n",
    "    return 0.35 * (time > 0.25)"
   ]
  },
  {
   "cell_type": "code",
   "execution_count": null,
   "metadata": {},
   "outputs": [],
   "source": []
  },
  {
   "cell_type": "code",
   "execution_count": null,
   "metadata": {},
   "outputs": [],
   "source": []
  },
  {
   "cell_type": "code",
   "execution_count": null,
   "metadata": {},
   "outputs": [],
   "source": []
  },
  {
   "cell_type": "code",
   "execution_count": null,
   "metadata": {},
   "outputs": [],
   "source": []
  },
  {
   "cell_type": "code",
   "execution_count": null,
   "metadata": {},
   "outputs": [],
   "source": []
  },
  {
   "cell_type": "code",
   "execution_count": null,
   "metadata": {},
   "outputs": [],
   "source": []
  },
  {
   "cell_type": "code",
   "execution_count": 7,
   "metadata": {},
   "outputs": [],
   "source": [
    "pipe0 = Pipe(1.5, 1.0, 0.002, 2e11, 1e-7, 35)\n",
    "pipe1 = Pipe(0.056, 7.0, 0.002, 2e11, 1e-7, 35)\n",
    "pipe2 = Pipe(0.07, 0.5, 0.002, 2e11, 1e-7, 10)"
   ]
  },
  {
   "cell_type": "code",
   "execution_count": 8,
   "metadata": {},
   "outputs": [],
   "source": [
    "lb1 = LeftBoundaryPressure(128000)\n",
    "pipe0.connect(lb1)\n",
    "conn = ZetaJoint(2)\n",
    "conn.connect(pipe0)\n",
    "conn.connect(pipe1)"
   ]
  },
  {
   "cell_type": "code",
   "execution_count": 9,
   "metadata": {},
   "outputs": [],
   "source": [
    "rb = RightBoundaryVelocity(pump)"
   ]
  },
  {
   "cell_type": "code",
   "execution_count": 10,
   "metadata": {},
   "outputs": [],
   "source": [
    "pipe2.connect(rb)"
   ]
  },
  {
   "cell_type": "code",
   "execution_count": null,
   "metadata": {},
   "outputs": [],
   "source": []
  },
  {
   "cell_type": "code",
   "execution_count": null,
   "metadata": {},
   "outputs": [],
   "source": []
  },
  {
   "cell_type": "code",
   "execution_count": null,
   "metadata": {},
   "outputs": [],
   "source": []
  },
  {
   "cell_type": "code",
   "execution_count": null,
   "metadata": {},
   "outputs": [],
   "source": []
  },
  {
   "cell_type": "code",
   "execution_count": null,
   "metadata": {},
   "outputs": [],
   "source": []
  },
  {
   "cell_type": "code",
   "execution_count": 11,
   "metadata": {},
   "outputs": [],
   "source": [
    "angle = np.pi / 2.0"
   ]
  },
  {
   "cell_type": "code",
   "execution_count": 12,
   "metadata": {},
   "outputs": [],
   "source": [
    "valve = PumpSuctionValve(7850.0, 3.827, 3827.0, 0.022, 0.068, 0.040, 0.0364445, angle, 0.0076, 6.480, 107.00, 74.00, 1.40, -2.4, 0.50, 0.0, 0.0, 10.0e-3)\n",
    "valve.connect(pipe1)\n",
    "valve.connect(pipe2)"
   ]
  },
  {
   "cell_type": "code",
   "execution_count": 13,
   "metadata": {},
   "outputs": [],
   "source": [
    "#valve = ZetaJoint(1.0)\n",
    "#pipe1.connect(valve)\n",
    "#pipe2.connect(valve)"
   ]
  },
  {
   "cell_type": "code",
   "execution_count": null,
   "metadata": {},
   "outputs": [],
   "source": []
  },
  {
   "cell_type": "code",
   "execution_count": 14,
   "metadata": {},
   "outputs": [],
   "source": [
    "plogs1 = []\n",
    "plogs2 = []\n",
    "vlogs = []\n",
    "vlogs1 = []\n",
    "flogs = []\n",
    "rblogs = []\n",
    "relogs = []\n",
    "dislog = []\n",
    "springlog = []\n",
    "contact_forcelog = []\n",
    "damping_force = []\n",
    "upper_pforce = []\n",
    "lower_pforce = []\n",
    "gforce = []\n",
    "flow_force = []\n",
    "velocity = []\n",
    "delta_p = []\n",
    "zeta_field = []\n",
    "\n",
    "\n",
    "def logging():\n",
    "    dislog.append(valve.field_wide_slice('displacement', 1) + 0.0)\n",
    "    velocity.append(valve.field_wide_slice('valve_velocity', 1) + 0.0)\n",
    "    gforce.append(valve.field_wide_slice('gravity_force', 1) + 0.0)\n",
    "    springlog.append(valve.field_wide_slice('spring_force', 1) + 0.0)\n",
    "    upper_pforce.append(valve.field_wide_slice('upper_pressure_force', 1) + 0.0)\n",
    "    lower_pforce.append(valve.field_wide_slice('lower_pressure_force', 1) + 0.0)\n",
    "    damping_force.append(valve.field_wide_slice('damping_force', 1) + 0.0)\n",
    "    flow_force.append(valve.field_wide_slice('flow_force', 1) + 0.0)\n",
    "    contact_forcelog.append(valve.field_wide_slice('contact_pressure_force', 1) + 0.0)\n",
    "    plogs1.append(pipe1.field_wide_slice('pressure', 0) + 0.0)\n",
    "    plogs2.append(pipe2.field_wide_slice('pressure', 0) + 0.0)\n",
    "    vlogs.append(pipe2.field_wide_slice('velocity', 0) + 0.0)\n",
    "    flogs.append(pipe2.field_wide_slice('friction_steady', 0) + 0.0)\n",
    "    rblogs.append(rb._velocity[0,1])\n",
    "    relogs.append(pipe2.field_wide_slice('reynolds', 0) + 0.0)\n",
    "    delta_p.append(valve.field_wide_slice('delta_p', 1) + 0.0)\n",
    "    zeta_field.append(valve.field_wide_slice('valve_zeta', 1) + 0.0)"
   ]
  },
  {
   "cell_type": "code",
   "execution_count": 15,
   "metadata": {},
   "outputs": [],
   "source": [
    "solver = SimpleSolver()\n",
    "solver.fluid = fluid\n",
    "solver.seeds = [pipe1, pipe2]\n",
    "solver._callback = logging"
   ]
  },
  {
   "cell_type": "code",
   "execution_count": 16,
   "metadata": {
    "scrolled": false
   },
   "outputs": [
    {
     "name": "stdout",
     "output_type": "stream",
     "text": [
      " 0:00:00 [                              |  0.11%]  0:02:51  Currently at time   0.001 of   1.000"
     ]
    },
    {
     "name": "stderr",
     "output_type": "stream",
     "text": [
      "l:\\cavsim\\cavsim\\base\\solvers\\simple_solver.py:46: UserWarning: Smaller timestep required by component! (0.00015320065794715635 < 1e+20 by <cavsim.pipes.pipe.Pipe object at 0x0000029176EAC6D8>)\n",
      "  warn('Smaller timestep required by component! ({} < {} by {})'.format(component_time, delta_t, component))\n",
      "l:\\cavsim\\cavsim\\base\\solvers\\simple_solver.py:46: UserWarning: Smaller timestep required by component! (5.713564938940572e-05 < 1e+20 by <cavsim.pipes.pipe.Pipe object at 0x0000029176EAC6A0>)\n",
      "  warn('Smaller timestep required by component! ({} < {} by {})'.format(component_time, delta_t, component))\n",
      "l:\\cavsim\\cavsim\\base\\solvers\\simple_solver.py:46: UserWarning: Smaller timestep required by component! (3.680889980555117e-05 < 1e+20 by <cavsim.pipes.pipe.Pipe object at 0x0000029176EB5438>)\n",
      "  warn('Smaller timestep required by component! ({} < {} by {})'.format(component_time, delta_t, component))\n"
     ]
    },
    {
     "name": "stdout",
     "output_type": "stream",
     "text": [
      " 0:03:42 [==============================|100.00%]  0:00:00  Currently at time   1.000 of   1.000"
     ]
    }
   ],
   "source": [
    "solver.solve(1e20, 1.0, 3)"
   ]
  },
  {
   "cell_type": "code",
   "execution_count": 17,
   "metadata": {},
   "outputs": [],
   "source": [
    "pfield1 = np.stack(plogs1)\n",
    "pfield2 = np.stack(plogs2)\n",
    "vfield = np.stack(vlogs)\n",
    "#ffield = np.stack(flogs)\n",
    "rbfield = np.stack(rblogs)\n",
    "refield = np.stack(relogs)\n",
    "disfield = np.stack(dislog)\n",
    "dampingfield = np.stack(damping_force)\n",
    "lowp_field = np.stack(lower_pforce)\n",
    "upperp_field = np.stack(upper_pforce)\n",
    "contact_pressure = np.stack(contact_forcelog)\n",
    "springforce = np.stack(springlog)\n",
    "gfield = np.stack(gforce)\n",
    "pfield2.shape\n",
    "flow_field = np.stack(flow_force)\n",
    "velfield = np.stack(velocity)\n",
    "deltap = np.stack(delta_p)\n",
    "zeta = np.stack(zeta_field)"
   ]
  },
  {
   "cell_type": "code",
   "execution_count": 45,
   "metadata": {
    "scrolled": true
   },
   "outputs": [
    {
     "data": {
      "image/png": "[encoded data removed]",
      "text/plain": [
       "<Figure size 1152x720 with 2 Axes>"
      ]
     },
     "metadata": {
      "needs_background": "light"
     },
     "output_type": "display_data"
    }
   ],
   "source": [
    "time = np.linspace(0, 3.0, int(pfield1[:,-2].shape[0]))\n",
    "#plt.figure(figsize=(16, 10))\n",
    "fig, ax1 = plt.subplots(figsize=(16, 10))\n",
    "#plt.subplot(1, 2, 1)\n",
    "#plt.plot(vfield[:,0])\n",
    "#plt.plot(1, 2, 2)\n",
    "val1 = 0\n",
    "val = -1\n",
    "\n",
    "upper_force = upperp_field[val1:val, 0] + gfield[val1:val, 0] + springforce[val1:val, 0]\n",
    "lower_force = lowp_field[val1:val, 0] + contact_pressure[val1:val, 0]\n",
    "result1 = lower_force - upper_force\n",
    "result2 = flow_field[val1:val, 0] - gfield[val1:val, 0] - springforce[val1:val, 0] - dampingfield[val1:val, 0]\n",
    "upper_flow = gfield[val1:val, 0] + springforce[val1:val, 0] + dampingfield[val1:val, 0]\n",
    "lower_flow = flow_field[val1:val, 0]\n",
    "#ax1.plot(time[val1:val], upper_flow, color='red')\n",
    "#ax1.plot(time[val1:val], lower_flow, color='blue')\n",
    "\n",
    "\n",
    "#plt.subplot(1, 2, 2)\n",
    "#ax1.plot(result1[val1:val])\n",
    "#ax1.plot(result2[val1:val])\n",
    "#ax1.plot(time[val1:val], upperp_field[val1:val, 0], color='red')\n",
    "#ax1.plot(time[val1:val], lowp_field[val1:val, 0], color='green')\n",
    "#ax1.plot(time[val1:val], dampingfield[val1:val, 0], color='blue')\n",
    "\n",
    "#ax1.plot(time[val1:val], contact_pressure[val1:val, 0], color='black')\n",
    "#ax1.plot(time[val1:val], springforce[val1:val, 0], color='grey')\n",
    "#ax1.plot(time[val1:val], upper_force, color='red')\n",
    "#ax1.plot(time[val1:val], lower_force, color='blue')\n",
    "\n",
    "#plt.plot(time[val1:val], pfield2[val1:val, 1], color='red')\n",
    "#plt.plot(time[val1:val], pfield1[val1:val, -2])\n",
    "\n",
    "\n",
    "#ax1.plot(time[val1:val], deltap[val1:val, 0], color='green')\n",
    "\n",
    "#plt.xlim(time[val1],time[val])\n",
    "#plt.ylim(-1e5, 5e5)\n",
    "\n",
    "color = 'tab:red'\n",
    "ax1.set_xlabel('time (s)')\n",
    "ax1.set_ylabel('Pressure', color=color)\n",
    "#ax1.set_ylim(0e5, 5e5)\n",
    "ax1.plot(time[val1:val], pfield1[val1:val, -2], color='red')\n",
    "ax1.plot(time[val1:val], pfield2[val1:val, 1], color='green')\n",
    "ax1.tick_params(axis='y', labelcolor=color)\n",
    "\n",
    "\n",
    "ax2 = ax1.twinx()  # instantiate a second axes that shares the same x-axis\n",
    "\n",
    "color = 'tab:blue'\n",
    "#ax2.plot(time[val1:val], disfield[val1:val, 0]*1e3, color=color)  # we already handled the x-label with ax1\n",
    "#ax2.plot(time[val1:val], velfield[val1:val, 0], color = 'red')\n",
    "#ax2.plot(time[val1:val], vfield[val1:val, 1], color = 'red')\n",
    "#ax2.plot(time[val1:val], zeta[val1:val, 0], color='green')\n",
    "#ax2.plot(time[val1:val], flow_field[val1:val, 0], color='black')\n",
    "ax2.tick_params(axis='y', labelcolor=color)\n",
    "\n",
    "#plt.subplot(1, 2, 1)\n",
    "plt.plot(time[val1:val], disfield[val1:val, 0]*1000, color='black')\n",
    "#plt.plot(time[val1:val], pump(time[val1:val]))\n",
    "#plt.plot(time[val1:val], velfield[val1:val, 0], color='blue')\n",
    "#plt.plot(time[val1:val], pfield2[val1:val, 1], color='red')\n",
    "#pltplot(time[val1:val], pfield1[val1:val, -2], color='green')\n",
    "#plt.ylim(0.0e5, 8.0e5)\n",
    "fig.tight_layout()\n",
    "plt.show()"
   ]
  },
  {
   "cell_type": "code",
   "execution_count": 46,
   "metadata": {},
   "outputs": [
    {
     "name": "stdout",
     "output_type": "stream",
     "text": [
      "[-1.82595059e+01 -1.82595059e+01 -1.82595059e+01 ... -1.29381356e+05\n",
      " -1.29364011e+05 -1.29345337e+05]\n"
     ]
    },
    {
     "data": {
      "image/png": "[encoded data removed]",
      "text/plain": [
       "<Figure size 432x288 with 1 Axes>"
      ]
     },
     "metadata": {
      "needs_background": "light"
     },
     "output_type": "display_data"
    }
   ],
   "source": [
    "plt.plot(time[val1:val], pump(time[val1:val]))\n",
    "#print(np.max(disfield[val1:val, 0]*1000))\n",
    "print(result1)"
   ]
  },
  {
   "cell_type": "code",
   "execution_count": 47,
   "metadata": {},
   "outputs": [
    {
     "data": {
      "text/plain": [
       "array([0.   , 3.827, 3.827])"
      ]
     },
     "execution_count": 47,
     "metadata": {},
     "output_type": "execute_result"
    }
   ],
   "source": [
    "valve.field('spring_force')[:3, 0]"
   ]
  },
  {
   "cell_type": "code",
   "execution_count": 48,
   "metadata": {},
   "outputs": [
    {
     "data": {
      "text/plain": [
       "array([0., 0., 0., 0.])"
      ]
     },
     "execution_count": 48,
     "metadata": {},
     "output_type": "execute_result"
    }
   ],
   "source": [
    "valve.field('displacement')[:, 0]"
   ]
  },
  {
   "cell_type": "code",
   "execution_count": 49,
   "metadata": {},
   "outputs": [
    {
     "data": {
      "text/plain": [
       "array([0., 0., 0.])"
      ]
     },
     "execution_count": 49,
     "metadata": {},
     "output_type": "execute_result"
    }
   ],
   "source": [
    "valve.field('valve_velocity')[:3, 0]"
   ]
  },
  {
   "cell_type": "code",
   "execution_count": 50,
   "metadata": {},
   "outputs": [
    {
     "data": {
      "text/plain": [
       "array([0., 0., 0.])"
      ]
     },
     "execution_count": 50,
     "metadata": {},
     "output_type": "execute_result"
    }
   ],
   "source": [
    "valve.field('acceleration')[:3, 0]"
   ]
  },
  {
   "cell_type": "code",
   "execution_count": 51,
   "metadata": {},
   "outputs": [
    {
     "data": {
      "text/plain": [
       "array([0.        , 0.77042553, 0.77042554])"
      ]
     },
     "execution_count": 51,
     "metadata": {},
     "output_type": "execute_result"
    }
   ],
   "source": [
    "valve.field('gravity_force')[:3, 0]"
   ]
  },
  {
   "cell_type": "code",
   "execution_count": 52,
   "metadata": {},
   "outputs": [
    {
     "data": {
      "text/plain": [
       "array([0., 0., 0.])"
      ]
     },
     "execution_count": 52,
     "metadata": {},
     "output_type": "execute_result"
    }
   ],
   "source": [
    "valve.field('acceleration_force')[:3, 0]"
   ]
  },
  {
   "cell_type": "code",
   "execution_count": 53,
   "metadata": {},
   "outputs": [
    {
     "data": {
      "text/plain": [
       "array([0., 0., 0.])"
      ]
     },
     "execution_count": 53,
     "metadata": {},
     "output_type": "execute_result"
    }
   ],
   "source": [
    "valve.field('damping_force')[:3, 0]"
   ]
  },
  {
   "cell_type": "code",
   "execution_count": 54,
   "metadata": {},
   "outputs": [
    {
     "data": {
      "text/plain": [
       "array([     0.        , 135520.63484198, 135538.53336861])"
      ]
     },
     "execution_count": 54,
     "metadata": {},
     "output_type": "execute_result"
    }
   ],
   "source": [
    "valve.field('upper_pressure_force')[:3, 0]"
   ]
  },
  {
   "cell_type": "code",
   "execution_count": 55,
   "metadata": {},
   "outputs": [
    {
     "data": {
      "text/plain": [
       "array([  0.        , 166.07702962, 165.86280571])"
      ]
     },
     "execution_count": 55,
     "metadata": {},
     "output_type": "execute_result"
    }
   ],
   "source": [
    "valve.field('lower_pressure_force')[:3, 0]"
   ]
  },
  {
   "cell_type": "code",
   "execution_count": 56,
   "metadata": {},
   "outputs": [
    {
     "data": {
      "text/plain": [
       "array([   0.        , 6031.14639434, 6031.93142222])"
      ]
     },
     "execution_count": 56,
     "metadata": {},
     "output_type": "execute_result"
    }
   ],
   "source": [
    "valve.field('contact_pressure_force')[:3, 0]"
   ]
  },
  {
   "cell_type": "code",
   "execution_count": 57,
   "metadata": {},
   "outputs": [
    {
     "data": {
      "text/plain": [
       "array([0., 0., 0.])"
      ]
     },
     "execution_count": 57,
     "metadata": {},
     "output_type": "execute_result"
    }
   ],
   "source": [
    "valve.field('flow_force')[:3, 0]"
   ]
  },
  {
   "cell_type": "code",
   "execution_count": 58,
   "metadata": {},
   "outputs": [
    {
     "data": {
      "text/plain": [
       "array([1., 1., 1.])"
      ]
     },
     "execution_count": 58,
     "metadata": {},
     "output_type": "execute_result"
    }
   ],
   "source": [
    "valve.field('valve_zeta')[:200, 0]"
   ]
  },
  {
   "cell_type": "code",
   "execution_count": 59,
   "metadata": {},
   "outputs": [
    {
     "data": {
      "text/plain": [
       "0.0076"
      ]
     },
     "execution_count": 59,
     "metadata": {},
     "output_type": "execute_result"
    }
   ],
   "source": [
    "valve._flow_constant_1"
   ]
  },
  {
   "cell_type": "code",
   "execution_count": 60,
   "metadata": {},
   "outputs": [
    {
     "data": {
      "text/plain": [
       "6.48"
      ]
     },
     "execution_count": 60,
     "metadata": {},
     "output_type": "execute_result"
    }
   ],
   "source": [
    "valve._flow_constant_2"
   ]
  },
  {
   "cell_type": "code",
   "execution_count": 61,
   "metadata": {},
   "outputs": [
    {
     "data": {
      "text/plain": [
       "array([[1., 1., 1., 1.],\n",
       "       [1., 1., 1., 1.],\n",
       "       [1., 1., 1., 1.]])"
      ]
     },
     "execution_count": 61,
     "metadata": {},
     "output_type": "execute_result"
    }
   ],
   "source": [
    "valve._valve_zeta"
   ]
  },
  {
   "cell_type": "code",
   "execution_count": 62,
   "metadata": {},
   "outputs": [
    {
     "data": {
      "text/plain": [
       "array([128000.        , 159201.86845701, 158995.86024131])"
      ]
     },
     "execution_count": 62,
     "metadata": {},
     "output_type": "execute_result"
    }
   ],
   "source": [
    "valve.field('pressure')[:3, 0]"
   ]
  },
  {
   "cell_type": "code",
   "execution_count": 63,
   "metadata": {},
   "outputs": [
    {
     "data": {
      "text/plain": [
       "array([1.07829164e+08, 1.07843438e+08, 1.07858808e+08])"
      ]
     },
     "execution_count": 63,
     "metadata": {},
     "output_type": "execute_result"
    }
   ],
   "source": [
    "pipe2.field('pressure')[:3, 1]"
   ]
  },
  {
   "cell_type": "code",
   "execution_count": 64,
   "metadata": {},
   "outputs": [
    {
     "data": {
      "text/plain": [
       "['Valve Closed and stays closed',\n",
       " 'Valve Closed and stays closed',\n",
       " 'Valve Closed and stays closed',\n",
       " 'Valve Closed and stays closed',\n",
       " 'Valve Closed and stays closed',\n",
       " 'Valve Closed and stays closed',\n",
       " 'Valve Closed and stays closed',\n",
       " 'Valve Closed and stays closed',\n",
       " 'Valve Closed and stays closed',\n",
       " 'Valve Closed and stays closed',\n",
       " 'Valve Closed and stays closed',\n",
       " 'Valve Closed and stays closed',\n",
       " 'Valve Closed and stays closed',\n",
       " 'Valve Closed and stays closed',\n",
       " 'Valve Closed and stays closed',\n",
       " 'Valve Closed and stays closed',\n",
       " 'Valve Closed and stays closed',\n",
       " 'Valve Closed and stays closed',\n",
       " 'Valve Closed and stays closed',\n",
       " 'Valve Closed and stays closed',\n",
       " 'Valve Closed and stays closed',\n",
       " 'Valve Closed and stays closed',\n",
       " 'Valve Closed and stays closed',\n",
       " 'Valve Closed and stays closed',\n",
       " 'Valve Closed and stays closed',\n",
       " 'Valve Closed and stays closed',\n",
       " 'Valve Closed and stays closed',\n",
       " 'Valve Closed and stays closed',\n",
       " 'Valve Closed and stays closed',\n",
       " 'Valve Closed and stays closed',\n",
       " 'Valve Closed and stays closed',\n",
       " 'Valve Closed and stays closed',\n",
       " 'Valve Closed and stays closed',\n",
       " 'Valve Closed and stays closed',\n",
       " 'Valve Closed and stays closed',\n",
       " 'Valve Closed and stays closed',\n",
       " 'Valve Closed and stays closed',\n",
       " 'Valve Closed and stays closed',\n",
       " 'Valve Closed and stays closed',\n",
       " 'Valve Closed and stays closed',\n",
       " 'Valve Closed and stays closed',\n",
       " 'Valve Closed and stays closed',\n",
       " 'Valve Closed and stays closed',\n",
       " 'Valve Closed and stays closed',\n",
       " 'Valve Closed and stays closed',\n",
       " 'Valve Closed and stays closed',\n",
       " 'Valve Closed and stays closed',\n",
       " 'Valve Closed and stays closed',\n",
       " 'Valve Closed and stays closed',\n",
       " 'Valve Closed and stays closed',\n",
       " 'Valve Closed and stays closed',\n",
       " 'Valve Closed and stays closed',\n",
       " 'Valve Closed and stays closed',\n",
       " 'Valve Closed and stays closed',\n",
       " 'Valve Closed and stays closed',\n",
       " 'Valve Closed and stays closed',\n",
       " 'Valve Closed and stays closed',\n",
       " 'Valve Closed and stays closed',\n",
       " 'Valve Closed and stays closed',\n",
       " 'Valve Closed and stays closed',\n",
       " 'Valve Closed and stays closed',\n",
       " 'Valve Closed and stays closed',\n",
       " 'Valve Closed and stays closed',\n",
       " 'Valve Closed and stays closed',\n",
       " 'Valve Closed and stays closed',\n",
       " 'Valve Closed and stays closed',\n",
       " 'Valve Closed and stays closed',\n",
       " 'Valve Closed and stays closed',\n",
       " 'Valve Closed and stays closed',\n",
       " 'Valve Closed and stays closed',\n",
       " 'Valve Closed and stays closed',\n",
       " 'Valve Closed and stays closed',\n",
       " 'Valve Closed and stays closed',\n",
       " 'Valve Closed and stays closed',\n",
       " 'Valve Closed and stays closed',\n",
       " 'Valve Closed and stays closed',\n",
       " 'Valve Closed and stays closed',\n",
       " 'Valve Closed and stays closed',\n",
       " 'Valve Closed and stays closed',\n",
       " 'Valve Closed and stays closed',\n",
       " 'Valve Closed and stays closed',\n",
       " 'Valve Closed and stays closed',\n",
       " 'Valve Closed and stays closed',\n",
       " 'Valve Closed and stays closed',\n",
       " 'Valve Closed and stays closed',\n",
       " 'Valve Closed and stays closed',\n",
       " 'Valve Closed and stays closed',\n",
       " 'Valve Closed and starts to open',\n",
       " 'Flow regime',\n",
       " 'Flow regime',\n",
       " 'Flow regime',\n",
       " 'Flow regime',\n",
       " 'Flow regime',\n",
       " 'Flow regime',\n",
       " 'Flow regime',\n",
       " 'Flow regime',\n",
       " 'Flow regime',\n",
       " 'Flow regime',\n",
       " 'Flow regime',\n",
       " 'Flow regime',\n",
       " 'Flow regime',\n",
       " 'Flow regime',\n",
       " 'Flow regime',\n",
       " 'Flow regime',\n",
       " 'Flow regime',\n",
       " 'Flow regime',\n",
       " 'Flow regime',\n",
       " 'Flow regime',\n",
       " 'Flow regime',\n",
       " 'Flow regime',\n",
       " 'Flow regime',\n",
       " 'Flow regime',\n",
       " 'Flow regime',\n",
       " 'Flow regime',\n",
       " 'Flow regime',\n",
       " 'Flow regime',\n",
       " 'Flow regime',\n",
       " 'Flow regime',\n",
       " 'Flow regime',\n",
       " 'Flow regime',\n",
       " 'Flow regime',\n",
       " 'Flow regime',\n",
       " 'Flow regime',\n",
       " 'Flow regime',\n",
       " 'Flow regime',\n",
       " 'Flow regime',\n",
       " 'Flow regime',\n",
       " 'Flow regime',\n",
       " 'Flow regime',\n",
       " 'Flow regime',\n",
       " 'Flow regime',\n",
       " 'Flow regime',\n",
       " 'Flow regime',\n",
       " 'Flow regime',\n",
       " 'Flow regime',\n",
       " 'Flow regime',\n",
       " 'Flow regime',\n",
       " 'Flow regime',\n",
       " 'Flow regime',\n",
       " 'Flow regime',\n",
       " 'Flow regime',\n",
       " 'Flow regime',\n",
       " 'Flow regime',\n",
       " 'Flow regime',\n",
       " 'Flow regime',\n",
       " 'Flow regime',\n",
       " 'Flow regime',\n",
       " 'Flow regime',\n",
       " 'Flow regime',\n",
       " 'Flow regime',\n",
       " 'Flow regime',\n",
       " 'Flow regime',\n",
       " 'Flow regime',\n",
       " 'Flow regime',\n",
       " 'Flow regime',\n",
       " 'Flow regime',\n",
       " 'Flow regime',\n",
       " 'Flow regime',\n",
       " 'Flow regime',\n",
       " 'Flow regime',\n",
       " 'Flow regime',\n",
       " 'Flow regime',\n",
       " 'Flow regime',\n",
       " 'Flow regime',\n",
       " 'Flow regime',\n",
       " 'Flow regime',\n",
       " 'Flow regime',\n",
       " 'Flow regime',\n",
       " 'Flow regime',\n",
       " 'Flow regime',\n",
       " 'Flow regime',\n",
       " 'Flow regime',\n",
       " 'Flow regime',\n",
       " 'Flow regime',\n",
       " 'Flow regime',\n",
       " 'Flow regime',\n",
       " 'Flow regime',\n",
       " 'Flow regime',\n",
       " 'Flow regime',\n",
       " 'Flow regime',\n",
       " 'Flow regime',\n",
       " 'Flow regime',\n",
       " 'Flow regime',\n",
       " 'Flow regime',\n",
       " 'Flow regime',\n",
       " 'Flow regime',\n",
       " 'Flow regime',\n",
       " 'Flow regime',\n",
       " 'Flow regime',\n",
       " 'Flow regime',\n",
       " 'Flow regime',\n",
       " 'Flow regime',\n",
       " 'Flow regime',\n",
       " 'Flow regime',\n",
       " 'Flow regime',\n",
       " 'Flow regime',\n",
       " 'Flow regime',\n",
       " 'Flow regime',\n",
       " 'Flow regime',\n",
       " 'Flow regime',\n",
       " 'Flow regime',\n",
       " 'Flow regime',\n",
       " 'Flow regime',\n",
       " 'Flow regime',\n",
       " 'Flow regime',\n",
       " 'Flow regime',\n",
       " 'Flow regime',\n",
       " 'Flow regime',\n",
       " 'Flow regime',\n",
       " 'Flow regime',\n",
       " 'Flow regime',\n",
       " 'Flow regime',\n",
       " 'Flow regime',\n",
       " 'Flow regime',\n",
       " 'Flow regime',\n",
       " 'Flow regime',\n",
       " 'Flow regime',\n",
       " 'Flow regime',\n",
       " 'Flow regime',\n",
       " 'Flow regime',\n",
       " 'Flow regime',\n",
       " 'Flow regime',\n",
       " 'Flow regime',\n",
       " 'Flow regime',\n",
       " 'Flow regime',\n",
       " 'Flow regime',\n",
       " 'Flow regime',\n",
       " 'Flow regime',\n",
       " 'Flow regime',\n",
       " 'Flow regime',\n",
       " 'Flow regime',\n",
       " 'Flow regime',\n",
       " 'Flow regime',\n",
       " 'Flow regime',\n",
       " 'Flow regime',\n",
       " 'Flow regime',\n",
       " 'Flow regime',\n",
       " 'Flow regime',\n",
       " 'Flow regime',\n",
       " 'Flow regime',\n",
       " 'Flow regime',\n",
       " 'Flow regime',\n",
       " 'Flow regime',\n",
       " 'Flow regime',\n",
       " 'Flow regime',\n",
       " 'Flow regime',\n",
       " 'Flow regime',\n",
       " 'Flow regime',\n",
       " 'Flow regime',\n",
       " 'Flow regime',\n",
       " 'Flow regime',\n",
       " 'Flow regime',\n",
       " 'Flow regime',\n",
       " 'Flow regime',\n",
       " 'Flow regime',\n",
       " 'Flow regime',\n",
       " 'Flow regime',\n",
       " 'Flow regime',\n",
       " 'Flow regime',\n",
       " 'Flow regime',\n",
       " 'Flow regime',\n",
       " 'Flow regime',\n",
       " 'Flow regime',\n",
       " 'Flow regime',\n",
       " 'Flow regime',\n",
       " 'Flow regime',\n",
       " 'Flow regime',\n",
       " 'Flow regime',\n",
       " 'Flow regime',\n",
       " 'Flow regime',\n",
       " 'Flow regime',\n",
       " 'Flow regime',\n",
       " 'Flow regime',\n",
       " 'Flow regime',\n",
       " 'Flow regime',\n",
       " 'Flow regime',\n",
       " 'Flow regime',\n",
       " 'Flow regime',\n",
       " 'Flow regime',\n",
       " 'Flow regime',\n",
       " 'Flow regime',\n",
       " 'Flow regime',\n",
       " 'Flow regime',\n",
       " 'Flow regime',\n",
       " 'Flow regime',\n",
       " 'Flow regime',\n",
       " 'Flow regime',\n",
       " 'Flow regime',\n",
       " 'Flow regime',\n",
       " 'Flow regime',\n",
       " 'Flow regime',\n",
       " 'Flow regime',\n",
       " 'Flow regime',\n",
       " 'Flow regime',\n",
       " 'Flow regime',\n",
       " 'Flow regime',\n",
       " 'Flow regime',\n",
       " 'Flow regime',\n",
       " 'Flow regime',\n",
       " 'Flow regime',\n",
       " 'Flow regime',\n",
       " 'Flow regime',\n",
       " 'Flow regime',\n",
       " 'Flow regime',\n",
       " 'Flow regime',\n",
       " 'Flow regime',\n",
       " 'Flow regime',\n",
       " 'Flow regime',\n",
       " 'Flow regime',\n",
       " 'Flow regime',\n",
       " 'Flow regime',\n",
       " 'Flow regime',\n",
       " 'Flow regime',\n",
       " 'Flow regime',\n",
       " 'Flow regime',\n",
       " 'Flow regime',\n",
       " 'Flow regime',\n",
       " 'Flow regime',\n",
       " 'Flow regime',\n",
       " 'Flow regime',\n",
       " 'Flow regime',\n",
       " 'Flow regime',\n",
       " 'Flow regime',\n",
       " 'Flow regime',\n",
       " 'Flow regime',\n",
       " 'Flow regime',\n",
       " 'Flow regime',\n",
       " 'Flow regime',\n",
       " 'Flow regime',\n",
       " 'Flow regime',\n",
       " 'Flow regime',\n",
       " 'Flow regime',\n",
       " 'Flow regime',\n",
       " 'Flow regime',\n",
       " 'Flow regime',\n",
       " 'Flow regime',\n",
       " 'Flow regime',\n",
       " 'Flow regime',\n",
       " 'Flow regime',\n",
       " 'Flow regime',\n",
       " 'Flow regime',\n",
       " 'Flow regime',\n",
       " 'Flow regime',\n",
       " 'Flow regime',\n",
       " 'Flow regime',\n",
       " 'Flow regime',\n",
       " 'Flow regime',\n",
       " 'Flow regime',\n",
       " 'Flow regime',\n",
       " 'Flow regime',\n",
       " 'Flow regime',\n",
       " 'Flow regime',\n",
       " 'Flow regime',\n",
       " 'Flow regime',\n",
       " 'Flow regime',\n",
       " 'Flow regime',\n",
       " 'Flow regime',\n",
       " 'Flow regime',\n",
       " 'Flow regime',\n",
       " 'Flow regime',\n",
       " 'Flow regime',\n",
       " 'Flow regime',\n",
       " 'Flow regime',\n",
       " 'Flow regime',\n",
       " 'Flow regime',\n",
       " 'Flow regime',\n",
       " 'Flow regime',\n",
       " 'Flow regime',\n",
       " 'Flow regime',\n",
       " 'Flow regime',\n",
       " 'Flow regime',\n",
       " 'Flow regime',\n",
       " 'Flow regime',\n",
       " 'Flow regime',\n",
       " 'Flow regime',\n",
       " 'Flow regime',\n",
       " 'Flow regime',\n",
       " 'Flow regime',\n",
       " 'Flow regime',\n",
       " 'Flow regime',\n",
       " 'Flow regime',\n",
       " 'Flow regime',\n",
       " 'Flow regime',\n",
       " 'Flow regime',\n",
       " 'Flow regime',\n",
       " 'Flow regime',\n",
       " 'Flow regime',\n",
       " 'Flow regime',\n",
       " 'Flow regime',\n",
       " 'Flow regime',\n",
       " 'Flow regime',\n",
       " 'Flow regime',\n",
       " 'Flow regime',\n",
       " 'Flow regime',\n",
       " 'Flow regime',\n",
       " 'Flow regime',\n",
       " 'Flow regime',\n",
       " 'Flow regime',\n",
       " 'Flow regime',\n",
       " 'Flow regime',\n",
       " 'Flow regime',\n",
       " 'Flow regime',\n",
       " 'Flow regime',\n",
       " 'Flow regime',\n",
       " 'Flow regime',\n",
       " 'Flow regime',\n",
       " 'Flow regime',\n",
       " 'Flow regime',\n",
       " 'Flow regime',\n",
       " 'Flow regime',\n",
       " 'Flow regime',\n",
       " 'Flow regime',\n",
       " 'Flow regime',\n",
       " 'Flow regime',\n",
       " 'Flow regime',\n",
       " 'Flow regime',\n",
       " 'Flow regime',\n",
       " 'Flow regime',\n",
       " 'Flow regime',\n",
       " 'Flow regime',\n",
       " 'Flow regime',\n",
       " 'Flow regime',\n",
       " 'Flow regime',\n",
       " 'Flow regime',\n",
       " 'Flow regime',\n",
       " 'Flow regime',\n",
       " 'Flow regime',\n",
       " 'Flow regime',\n",
       " 'Flow regime',\n",
       " 'Flow regime',\n",
       " 'Flow regime',\n",
       " 'Flow regime',\n",
       " 'Flow regime',\n",
       " 'Flow regime',\n",
       " 'Flow regime',\n",
       " 'Flow regime',\n",
       " 'Flow regime',\n",
       " 'Flow regime',\n",
       " 'Flow regime',\n",
       " 'Flow regime',\n",
       " 'Flow regime',\n",
       " 'Flow regime',\n",
       " 'Flow regime',\n",
       " 'Flow regime',\n",
       " 'Flow regime',\n",
       " 'Flow regime',\n",
       " 'Flow regime',\n",
       " 'Flow regime',\n",
       " 'Flow regime',\n",
       " 'Flow regime',\n",
       " 'Flow regime',\n",
       " 'Flow regime',\n",
       " 'Flow regime',\n",
       " 'Flow regime',\n",
       " 'Flow regime',\n",
       " 'Flow regime',\n",
       " 'Flow regime',\n",
       " 'Flow regime',\n",
       " 'Flow regime',\n",
       " 'Flow regime',\n",
       " 'Flow regime',\n",
       " 'Flow regime',\n",
       " 'Flow regime',\n",
       " 'Flow regime',\n",
       " 'Flow regime',\n",
       " 'Flow regime',\n",
       " 'Flow regime',\n",
       " 'Flow regime',\n",
       " 'Flow regime',\n",
       " 'Flow regime',\n",
       " 'Flow regime',\n",
       " 'Flow regime',\n",
       " 'Flow regime',\n",
       " 'Flow regime',\n",
       " 'Flow regime',\n",
       " 'Flow regime',\n",
       " 'Flow regime',\n",
       " 'Flow regime',\n",
       " 'Flow regime',\n",
       " 'Flow regime',\n",
       " 'Flow regime',\n",
       " 'Flow regime',\n",
       " 'Flow regime',\n",
       " 'Flow regime',\n",
       " 'Flow regime',\n",
       " 'Flow regime',\n",
       " 'Flow regime',\n",
       " 'Flow regime',\n",
       " 'Flow regime',\n",
       " 'Flow regime',\n",
       " 'Flow regime',\n",
       " 'Flow regime',\n",
       " 'Flow regime',\n",
       " 'Flow regime',\n",
       " 'Flow regime',\n",
       " 'Flow regime',\n",
       " 'Flow regime',\n",
       " 'Flow regime',\n",
       " 'Flow regime',\n",
       " 'Flow regime',\n",
       " 'Flow regime',\n",
       " 'Flow regime',\n",
       " 'Flow regime',\n",
       " 'Flow regime',\n",
       " 'Flow regime',\n",
       " 'Flow regime',\n",
       " 'Flow regime',\n",
       " 'Flow regime',\n",
       " 'Flow regime',\n",
       " 'Flow regime',\n",
       " 'Flow regime',\n",
       " 'Flow regime',\n",
       " 'Flow regime',\n",
       " 'Flow regime',\n",
       " 'Flow regime',\n",
       " 'Flow regime',\n",
       " 'Flow regime',\n",
       " 'Flow regime',\n",
       " 'Flow regime',\n",
       " 'Flow regime',\n",
       " 'Flow regime',\n",
       " 'Flow regime',\n",
       " 'Flow regime',\n",
       " 'Flow regime',\n",
       " 'Flow regime',\n",
       " 'Flow regime',\n",
       " 'Flow regime',\n",
       " 'Flow regime',\n",
       " 'Flow regime',\n",
       " 'Flow regime',\n",
       " 'Flow regime',\n",
       " 'Flow regime',\n",
       " 'Flow regime',\n",
       " 'Flow regime',\n",
       " 'Flow regime',\n",
       " 'Flow regime',\n",
       " 'Flow regime',\n",
       " 'Flow regime',\n",
       " 'Flow regime',\n",
       " 'Flow regime',\n",
       " 'Flow regime',\n",
       " 'Flow regime',\n",
       " 'Flow regime',\n",
       " 'Flow regime',\n",
       " 'Flow regime',\n",
       " 'Flow regime',\n",
       " 'Flow regime',\n",
       " 'Flow regime',\n",
       " 'Flow regime',\n",
       " 'Flow regime',\n",
       " 'Flow regime',\n",
       " 'Flow regime',\n",
       " 'Flow regime',\n",
       " 'Flow regime',\n",
       " 'Flow regime',\n",
       " 'Flow regime',\n",
       " 'Flow regime',\n",
       " 'Flow regime',\n",
       " 'Flow regime',\n",
       " 'Flow regime',\n",
       " 'Flow regime',\n",
       " 'Flow regime',\n",
       " 'Flow regime',\n",
       " 'Flow regime',\n",
       " 'Flow regime',\n",
       " 'Flow regime',\n",
       " 'Flow regime',\n",
       " 'Flow regime',\n",
       " 'Flow regime',\n",
       " 'Flow regime',\n",
       " 'Flow regime',\n",
       " 'Flow regime',\n",
       " 'Flow regime',\n",
       " 'Flow regime',\n",
       " 'Flow regime',\n",
       " 'Flow regime',\n",
       " 'Flow regime',\n",
       " 'Flow regime',\n",
       " 'Flow regime',\n",
       " 'Flow regime',\n",
       " 'Flow regime',\n",
       " 'Flow regime',\n",
       " 'Flow regime',\n",
       " 'Flow regime',\n",
       " 'Flow regime',\n",
       " 'Flow regime',\n",
       " 'Flow regime',\n",
       " 'Flow regime',\n",
       " 'Flow regime',\n",
       " 'Flow regime',\n",
       " 'Flow regime',\n",
       " 'Flow regime',\n",
       " 'Flow regime',\n",
       " 'Flow regime',\n",
       " 'Flow regime',\n",
       " 'Flow regime',\n",
       " 'Flow regime',\n",
       " 'Flow regime',\n",
       " 'Flow regime',\n",
       " 'Flow regime',\n",
       " 'Flow regime',\n",
       " 'Flow regime',\n",
       " 'Flow regime',\n",
       " 'Flow regime',\n",
       " 'Flow regime',\n",
       " 'Flow regime',\n",
       " 'Flow regime',\n",
       " 'Flow regime',\n",
       " 'Flow regime',\n",
       " 'Flow regime',\n",
       " 'Flow regime',\n",
       " 'Flow regime',\n",
       " 'Flow regime',\n",
       " 'Flow regime',\n",
       " 'Flow regime',\n",
       " 'Flow regime',\n",
       " 'Flow regime',\n",
       " 'Flow regime',\n",
       " 'Flow regime',\n",
       " 'Flow regime',\n",
       " 'Flow regime',\n",
       " 'Flow regime',\n",
       " 'Flow regime',\n",
       " 'Flow regime',\n",
       " 'Flow regime',\n",
       " 'Flow regime',\n",
       " 'Flow regime',\n",
       " 'Flow regime',\n",
       " 'Flow regime',\n",
       " 'Flow regime',\n",
       " 'Flow regime',\n",
       " 'Flow regime',\n",
       " 'Flow regime',\n",
       " 'Flow regime',\n",
       " 'Flow regime',\n",
       " 'Flow regime',\n",
       " 'Flow regime',\n",
       " 'Flow regime',\n",
       " 'Flow regime',\n",
       " 'Flow regime',\n",
       " 'Flow regime',\n",
       " 'Flow regime',\n",
       " 'Flow regime',\n",
       " 'Flow regime',\n",
       " 'Flow regime',\n",
       " 'Flow regime',\n",
       " 'Flow regime',\n",
       " 'Flow regime',\n",
       " 'Flow regime',\n",
       " 'Flow regime',\n",
       " 'Flow regime',\n",
       " 'Flow regime',\n",
       " 'Flow regime',\n",
       " 'Flow regime',\n",
       " 'Flow regime',\n",
       " 'Flow regime',\n",
       " 'Flow regime',\n",
       " 'Flow regime',\n",
       " 'Flow regime',\n",
       " 'Flow regime',\n",
       " 'Flow regime',\n",
       " 'Flow regime',\n",
       " 'Flow regime',\n",
       " 'Flow regime',\n",
       " 'Flow regime',\n",
       " 'Flow regime',\n",
       " 'Flow regime',\n",
       " 'Flow regime',\n",
       " 'Flow regime',\n",
       " 'Flow regime',\n",
       " 'Flow regime',\n",
       " 'Flow regime',\n",
       " 'Flow regime',\n",
       " 'Flow regime',\n",
       " 'Flow regime',\n",
       " 'Flow regime',\n",
       " 'Flow regime',\n",
       " 'Flow regime',\n",
       " 'Flow regime',\n",
       " 'Flow regime',\n",
       " 'Flow regime',\n",
       " 'Flow regime',\n",
       " 'Flow regime',\n",
       " 'Flow regime',\n",
       " 'Flow regime',\n",
       " 'Flow regime',\n",
       " 'Flow regime',\n",
       " 'Flow regime',\n",
       " 'Flow regime',\n",
       " 'Flow regime',\n",
       " 'Flow regime',\n",
       " 'Flow regime',\n",
       " 'Flow regime',\n",
       " 'Flow regime',\n",
       " 'Flow regime',\n",
       " 'Flow regime',\n",
       " 'Flow regime',\n",
       " 'Flow regime',\n",
       " 'Flow regime',\n",
       " 'Flow regime',\n",
       " 'Flow regime',\n",
       " 'Flow regime',\n",
       " 'Flow regime',\n",
       " 'Flow regime',\n",
       " 'Flow regime',\n",
       " 'Flow regime',\n",
       " 'Flow regime',\n",
       " 'Flow regime',\n",
       " 'Flow regime',\n",
       " 'Flow regime',\n",
       " 'Flow regime',\n",
       " 'Flow regime',\n",
       " 'Flow regime',\n",
       " 'Flow regime',\n",
       " 'Flow regime',\n",
       " 'Flow regime',\n",
       " 'Flow regime',\n",
       " 'Flow regime',\n",
       " 'Flow regime',\n",
       " 'Flow regime',\n",
       " 'Flow regime',\n",
       " 'Flow regime',\n",
       " 'Flow regime',\n",
       " 'Flow regime',\n",
       " 'Flow regime',\n",
       " 'Flow regime',\n",
       " 'Flow regime',\n",
       " 'Flow regime',\n",
       " 'Flow regime',\n",
       " 'Flow regime',\n",
       " 'Flow regime',\n",
       " 'Flow regime',\n",
       " 'Flow regime',\n",
       " 'Flow regime',\n",
       " 'Flow regime',\n",
       " 'Flow regime',\n",
       " 'Flow regime',\n",
       " 'Flow regime',\n",
       " 'Flow regime',\n",
       " 'Flow regime',\n",
       " 'Flow regime',\n",
       " 'Flow regime',\n",
       " 'Flow regime',\n",
       " 'Flow regime',\n",
       " 'Flow regime',\n",
       " 'Flow regime',\n",
       " 'Flow regime',\n",
       " 'Flow regime',\n",
       " 'Flow regime',\n",
       " 'Flow regime',\n",
       " 'Flow regime',\n",
       " 'Flow regime',\n",
       " 'Flow regime',\n",
       " 'Flow regime',\n",
       " 'Flow regime',\n",
       " 'Flow regime',\n",
       " 'Flow regime',\n",
       " 'Flow regime',\n",
       " 'Flow regime',\n",
       " 'Flow regime',\n",
       " 'Flow regime',\n",
       " 'Flow regime',\n",
       " 'Flow regime',\n",
       " 'Flow regime',\n",
       " 'Flow regime',\n",
       " 'Flow regime',\n",
       " 'Flow regime',\n",
       " 'Flow regime',\n",
       " 'Flow regime',\n",
       " 'Flow regime',\n",
       " 'Flow regime',\n",
       " 'Flow regime',\n",
       " 'Flow regime',\n",
       " 'Flow regime',\n",
       " 'Flow regime',\n",
       " 'Flow regime',\n",
       " 'Flow regime',\n",
       " 'Flow regime',\n",
       " 'Flow regime',\n",
       " 'Flow regime',\n",
       " 'Flow regime',\n",
       " 'Flow regime',\n",
       " 'Flow regime',\n",
       " 'Flow regime',\n",
       " 'Flow regime',\n",
       " 'Flow regime',\n",
       " 'Flow regime',\n",
       " 'Flow regime',\n",
       " 'Flow regime',\n",
       " 'Flow regime',\n",
       " 'Flow regime',\n",
       " 'Flow regime',\n",
       " 'Flow regime',\n",
       " 'Flow regime',\n",
       " 'Flow regime',\n",
       " 'Flow regime',\n",
       " 'Flow regime',\n",
       " 'Flow regime',\n",
       " 'Flow regime',\n",
       " 'Flow regime',\n",
       " 'Flow regime',\n",
       " 'Flow regime',\n",
       " 'Flow regime',\n",
       " 'Flow regime',\n",
       " 'Flow regime',\n",
       " 'Flow regime',\n",
       " 'Flow regime',\n",
       " 'Flow regime',\n",
       " 'Flow regime',\n",
       " 'Flow regime',\n",
       " 'Flow regime',\n",
       " 'Flow regime',\n",
       " 'Flow regime',\n",
       " 'Flow regime',\n",
       " 'Flow regime',\n",
       " 'Flow regime',\n",
       " 'Flow regime',\n",
       " 'Flow regime',\n",
       " 'Flow regime',\n",
       " 'Flow regime',\n",
       " 'Flow regime',\n",
       " 'Flow regime',\n",
       " 'Flow regime',\n",
       " 'Flow regime',\n",
       " 'Flow regime',\n",
       " 'Flow regime',\n",
       " 'Flow regime',\n",
       " 'Flow regime',\n",
       " 'Flow regime',\n",
       " 'Flow regime',\n",
       " 'Flow regime',\n",
       " 'Flow regime',\n",
       " 'Flow regime',\n",
       " 'Flow regime',\n",
       " 'Flow regime',\n",
       " 'Flow regime',\n",
       " 'Flow regime',\n",
       " 'Flow regime',\n",
       " 'Flow regime',\n",
       " 'Flow regime',\n",
       " 'Flow regime',\n",
       " 'Flow regime',\n",
       " 'Flow regime',\n",
       " 'Flow regime',\n",
       " 'Flow regime',\n",
       " 'Flow regime',\n",
       " 'Flow regime',\n",
       " 'Flow regime',\n",
       " 'Flow regime',\n",
       " 'Flow regime',\n",
       " 'Flow regime',\n",
       " 'Flow regime',\n",
       " 'Flow regime',\n",
       " 'Flow regime',\n",
       " 'Flow regime',\n",
       " 'Flow regime',\n",
       " 'Flow regime',\n",
       " 'Flow regime',\n",
       " 'Flow regime',\n",
       " 'Flow regime',\n",
       " 'Flow regime',\n",
       " 'Flow regime',\n",
       " 'Flow regime',\n",
       " 'Flow regime',\n",
       " 'Flow regime',\n",
       " 'Flow regime',\n",
       " 'Flow regime',\n",
       " 'Flow regime',\n",
       " 'Flow regime',\n",
       " 'Flow regime',\n",
       " 'Flow regime',\n",
       " 'Flow regime',\n",
       " 'Flow regime',\n",
       " 'Flow regime',\n",
       " 'Flow regime',\n",
       " 'Flow regime',\n",
       " 'Flow regime',\n",
       " 'Flow regime',\n",
       " 'Flow regime',\n",
       " 'Flow regime',\n",
       " 'Flow regime',\n",
       " 'Flow regime',\n",
       " 'Flow regime',\n",
       " 'Flow regime',\n",
       " 'Flow regime',\n",
       " 'Flow regime',\n",
       " 'Flow regime',\n",
       " 'Flow regime',\n",
       " 'Flow regime',\n",
       " 'Flow regime',\n",
       " 'Flow regime',\n",
       " 'Flow regime',\n",
       " 'Flow regime',\n",
       " 'Flow regime',\n",
       " 'Flow regime',\n",
       " 'Flow regime',\n",
       " 'Flow regime',\n",
       " 'Flow regime',\n",
       " 'Flow regime',\n",
       " 'Flow regime',\n",
       " 'Flow regime',\n",
       " 'Flow regime',\n",
       " 'Flow regime',\n",
       " 'Flow regime',\n",
       " 'Flow regime',\n",
       " 'Flow regime',\n",
       " 'Flow regime',\n",
       " 'Flow regime',\n",
       " 'Flow regime',\n",
       " 'Flow regime',\n",
       " 'Flow regime',\n",
       " 'Flow regime',\n",
       " 'Flow regime',\n",
       " 'Flow regime',\n",
       " 'Flow regime',\n",
       " 'Flow regime',\n",
       " 'Flow regime',\n",
       " 'Flow regime',\n",
       " 'Flow regime',\n",
       " 'Flow regime',\n",
       " 'Flow regime',\n",
       " 'Flow regime',\n",
       " 'Flow regime',\n",
       " 'Flow regime',\n",
       " 'Flow regime',\n",
       " 'Flow regime',\n",
       " 'Flow regime',\n",
       " 'Flow regime',\n",
       " 'Flow regime',\n",
       " 'Flow regime',\n",
       " 'Flow regime',\n",
       " 'Flow regime',\n",
       " 'Flow regime',\n",
       " 'Flow regime',\n",
       " 'Flow regime',\n",
       " 'Flow regime',\n",
       " 'Flow regime',\n",
       " 'Flow regime',\n",
       " 'Flow regime',\n",
       " 'Flow regime',\n",
       " 'Flow regime',\n",
       " 'Flow regime',\n",
       " 'Flow regime',\n",
       " 'Flow regime',\n",
       " 'Flow regime',\n",
       " 'Flow regime',\n",
       " 'Flow regime',\n",
       " 'Flow regime',\n",
       " 'Flow regime',\n",
       " 'Flow regime',\n",
       " 'Flow regime',\n",
       " 'Flow regime',\n",
       " 'Flow regime',\n",
       " 'Flow regime',\n",
       " 'Flow regime',\n",
       " 'Flow regime',\n",
       " 'Flow regime',\n",
       " 'Flow regime',\n",
       " 'Flow regime',\n",
       " 'Flow regime',\n",
       " 'Flow regime',\n",
       " 'Flow regime',\n",
       " 'Flow regime',\n",
       " 'Flow regime',\n",
       " 'Flow regime',\n",
       " 'Flow regime',\n",
       " 'Flow regime',\n",
       " 'Flow regime',\n",
       " 'Flow regime',\n",
       " 'Flow regime',\n",
       " 'Flow regime',\n",
       " 'Flow regime',\n",
       " 'Flow regime',\n",
       " 'Flow regime',\n",
       " 'Flow regime',\n",
       " 'Flow regime',\n",
       " 'Flow regime',\n",
       " 'Flow regime',\n",
       " 'Flow regime',\n",
       " 'Flow regime',\n",
       " 'Flow regime',\n",
       " 'Flow regime',\n",
       " 'Flow regime',\n",
       " 'Flow regime',\n",
       " 'Flow regime',\n",
       " 'Flow regime',\n",
       " 'Flow regime',\n",
       " 'Flow regime',\n",
       " 'Flow regime',\n",
       " 'Flow regime',\n",
       " 'Flow regime',\n",
       " 'Flow regime',\n",
       " 'Flow regime',\n",
       " 'Flow regime',\n",
       " 'Flow regime',\n",
       " 'Flow regime',\n",
       " 'Flow regime',\n",
       " 'Flow regime',\n",
       " 'Flow regime',\n",
       " 'Flow regime',\n",
       " ...]"
      ]
     },
     "execution_count": 64,
     "metadata": {},
     "output_type": "execute_result"
    }
   ],
   "source": [
    "valve._cases[val1:val]"
   ]
  },
  {
   "cell_type": "code",
   "execution_count": 38,
   "metadata": {},
   "outputs": [
    {
     "data": {
      "text/plain": [
       "array([  0.        , 166.07702962, 165.86280571])"
      ]
     },
     "execution_count": 38,
     "metadata": {},
     "output_type": "execute_result"
    }
   ],
   "source": [
    "valve._lower_pressure_force[:,0]"
   ]
  },
  {
   "cell_type": "code",
   "execution_count": 39,
   "metadata": {},
   "outputs": [
    {
     "data": {
      "text/plain": [
       "array([0., 0., 0., ..., 0., 0., 0.])"
      ]
     },
     "execution_count": 39,
     "metadata": {},
     "output_type": "execute_result"
    }
   ],
   "source": [
    "disfield[val1:val, 0]"
   ]
  },
  {
   "cell_type": "code",
   "execution_count": 40,
   "metadata": {},
   "outputs": [
    {
     "data": {
      "text/plain": [
       "array([[  0.        ,   0.        ,   0.        ,   0.        ],\n",
       "       [166.07702962,   0.        ,   0.        ,   0.        ],\n",
       "       [165.86280571,   0.        ,   0.        ,   0.        ]])"
      ]
     },
     "execution_count": 40,
     "metadata": {},
     "output_type": "execute_result"
    }
   ],
   "source": [
    "valve.field('lower_pressure_force')"
   ]
  },
  {
   "cell_type": "code",
   "execution_count": 41,
   "metadata": {},
   "outputs": [
    {
     "data": {
      "text/plain": [
       "array([166.07702962,   0.        ,   0.        ,   0.        ])"
      ]
     },
     "execution_count": 41,
     "metadata": {},
     "output_type": "execute_result"
    }
   ],
   "source": [
    "valve.field_wide_slice('lower_pressure_force', 1)"
   ]
  },
  {
   "cell_type": "code",
   "execution_count": 42,
   "metadata": {},
   "outputs": [
    {
     "data": {
      "text/plain": [
       "(27168, 4)"
      ]
     },
     "execution_count": 42,
     "metadata": {},
     "output_type": "execute_result"
    }
   ],
   "source": [
    "lowp_field.shape"
   ]
  },
  {
   "cell_type": "code",
   "execution_count": 43,
   "metadata": {},
   "outputs": [
    {
     "ename": "TypeError",
     "evalue": "calculate_lower_pressure_force() missing 1 required positional argument: 'pressure'",
     "output_type": "error",
     "traceback": [
      "\u001b[1;31m---------------------------------------------------------------------------\u001b[0m",
      "\u001b[1;31mTypeError\u001b[0m                                 Traceback (most recent call last)",
      "\u001b[1;32m<ipython-input-43-f71fd7590166>\u001b[0m in \u001b[0;36m<module>\u001b[1;34m\u001b[0m\n\u001b[1;32m----> 1\u001b[1;33m \u001b[0mvalve\u001b[0m\u001b[1;33m.\u001b[0m\u001b[0mcalculate_lower_pressure_force\u001b[0m\u001b[1;33m(\u001b[0m\u001b[1;33m)\u001b[0m\u001b[1;33m\u001b[0m\u001b[1;33m\u001b[0m\u001b[0m\n\u001b[0m",
      "\u001b[1;31mTypeError\u001b[0m: calculate_lower_pressure_force() missing 1 required positional argument: 'pressure'"
     ]
    }
   ],
   "source": [
    "valve.calculate_lower_pressure_force()"
   ]
  },
  {
   "cell_type": "code",
   "execution_count": null,
   "metadata": {},
   "outputs": [],
   "source": [
    "max(valve.second_flow_counter)"
   ]
  },
  {
   "cell_type": "code",
   "execution_count": null,
   "metadata": {},
   "outputs": [],
   "source": [
    "np.asarray(valve.epsilon)[(np.asarray(valve.epsilon) != 0.0)]"
   ]
  },
  {
   "cell_type": "code",
   "execution_count": null,
   "metadata": {},
   "outputs": [],
   "source": []
  },
  {
   "cell_type": "code",
   "execution_count": null,
   "metadata": {},
   "outputs": [],
   "source": []
  },
  {
   "cell_type": "code",
   "execution_count": null,
   "metadata": {},
   "outputs": [],
   "source": []
  },
  {
   "cell_type": "code",
   "execution_count": null,
   "metadata": {},
   "outputs": [],
   "source": []
  },
  {
   "cell_type": "code",
   "execution_count": null,
   "metadata": {},
   "outputs": [],
   "source": []
  },
  {
   "cell_type": "code",
   "execution_count": null,
   "metadata": {},
   "outputs": [],
   "source": []
  },
  {
   "cell_type": "code",
   "execution_count": null,
   "metadata": {},
   "outputs": [],
   "source": []
  }
 ],
 "metadata": {
  "kernelspec": {
   "display_name": "Python 3",
   "language": "python",
   "name": "python3"
  },
  "language_info": {
   "codemirror_mode": {
    "name": "ipython",
    "version": 3
   },
   "file_extension": ".py",
   "mimetype": "text/x-python",
   "name": "python",
   "nbconvert_exporter": "python",
   "pygments_lexer": "ipython3",
   "version": "3.6.9"
  }
 },
 "nbformat": 4,
 "nbformat_minor": 2
}
