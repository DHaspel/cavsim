{
 "cells": [
  {
   "cell_type": "code",
   "execution_count": 1,
   "metadata": {},
   "outputs": [],
   "source": [
    "import numpy as np\n",
    "import matplotlib.pyplot as plt"
   ]
  },
  {
   "cell_type": "code",
   "execution_count": 2,
   "metadata": {},
   "outputs": [],
   "source": [
    "import cavsim\n",
    "from cavsim import Measure\n",
    "from cavsim.connectors import BaseConnector, Connector\n",
    "from cavsim.channels import ImportChannel, ExportChannel\n",
    "from cavsim.components import BaseComponent, Component\n",
    "from cavsim.solvers import BaseSolver, SimpleSolver\n",
    "from cavsim.fluids import Fluid"
   ]
  },
  {
   "cell_type": "code",
   "execution_count": 3,
   "metadata": {},
   "outputs": [],
   "source": [
    "from cavsim.pipes.pipe import Pipe\n",
    "from cavsim.boundaries.left_boundary_pressure import LeftBoundaryPressure\n",
    "from cavsim.boundaries.left_boundary_velocity import LeftBoundaryVelocity\n",
    "from cavsim.boundaries.right_boundary_pressure import RightBoundaryPressure\n",
    "from cavsim.boundaries.right_boundary_velocity import RightBoundaryVelocity\n",
    "from cavsim.boundaries.simple_pipe_connector import PipeConnectorSimple\n",
    "from cavsim.boundaries.zeta_joint import ZetaJoint\n",
    "from cavsim.boundaries.simple_t_joint import SimpleTJoint\n",
    "from cavsim.boundaries.simple_right_gasdampener import RightGasBubbleSimple\n",
    "from cavsim.boundaries.frictionless_gasdampener import FrictionlessGasDampener\n",
    "from cavsim.boundaries.gasdampener import GasDampener\n",
    "from cavsim.boundaries.pump_with_valves_model_new import PumpSuctionValve\n",
    "from cavsim.boundaries.reflectionless_left_boundary_condition import LeftBoundaryReflectionFree\n",
    "from cavsim.boundaries.reflectionless_right_boundary_condition import RightBoundaryReflectionFree"
   ]
  },
  {
   "cell_type": "code",
   "execution_count": 4,
   "metadata": {},
   "outputs": [],
   "source": [
    "fluid = Fluid(1000, 1e-3, 1.08e9, 2.3e-3,initial_pressure=128000)"
   ]
  },
  {
   "cell_type": "code",
   "execution_count": null,
   "metadata": {},
   "outputs": [],
   "source": []
  },
  {
   "cell_type": "code",
   "execution_count": null,
   "metadata": {},
   "outputs": [],
   "source": []
  },
  {
   "cell_type": "code",
   "execution_count": null,
   "metadata": {},
   "outputs": [],
   "source": []
  },
  {
   "cell_type": "code",
   "execution_count": null,
   "metadata": {},
   "outputs": [],
   "source": []
  },
  {
   "cell_type": "code",
   "execution_count": null,
   "metadata": {},
   "outputs": [],
   "source": []
  },
  {
   "cell_type": "code",
   "execution_count": null,
   "metadata": {},
   "outputs": [],
   "source": []
  },
  {
   "cell_type": "code",
   "execution_count": null,
   "metadata": {},
   "outputs": [],
   "source": []
  },
  {
   "cell_type": "code",
   "execution_count": null,
   "metadata": {},
   "outputs": [],
   "source": []
  },
  {
   "cell_type": "code",
   "execution_count": null,
   "metadata": {},
   "outputs": [],
   "source": []
  },
  {
   "cell_type": "code",
   "execution_count": null,
   "metadata": {},
   "outputs": [],
   "source": []
  },
  {
   "cell_type": "code",
   "execution_count": 5,
   "metadata": {},
   "outputs": [],
   "source": [
    "pipe1 = Pipe(1.5, 1.5, 0.002, 2e11, 1e-7, 250)\n",
    "pipe2 = Pipe(0.056, 4.5, 0.002, 2e11, 1e-7, 250)\n",
    "pipe4 = Pipe(0.056, 0.5, 0.002, 2e11, 1e-7, 10)\n",
    "pipe5 = Pipe(0.056, 0.5, 0.002, 2e11, 1e-7, 10)\n",
    "pipe3 = Pipe(0.025, 28.7, 0.002, 2e11, 1e-7, 250, initial_pressure=20e5)"
   ]
  },
  {
   "cell_type": "code",
   "execution_count": 6,
   "metadata": {},
   "outputs": [],
   "source": [
    "#lb1 = LeftBoundaryReflectionFree(0, 1.28e5)\n",
    "lb1 = LeftBoundaryPressure(1.28e5)\n",
    "pipe1.connect(lb1)"
   ]
  },
  {
   "cell_type": "code",
   "execution_count": null,
   "metadata": {},
   "outputs": [],
   "source": []
  },
  {
   "cell_type": "code",
   "execution_count": 7,
   "metadata": {},
   "outputs": [],
   "source": [
    "conns = ZetaJoint(1.0)\n",
    "pipe1.connect(conns)\n",
    "pipe2.connect(conns)"
   ]
  },
  {
   "cell_type": "code",
   "execution_count": 8,
   "metadata": {},
   "outputs": [],
   "source": [
    "#conn = SimpleTJoint()\n",
    "#pipe2.connect(conn)\n",
    "#pipe4.connect(conn.right2)\n",
    "#pipe5.connect(conn.right)"
   ]
  },
  {
   "cell_type": "code",
   "execution_count": 9,
   "metadata": {},
   "outputs": [],
   "source": [
    "#rb1 = RightBoundaryReflectionFree(1.28e5, 0)\n",
    "#rb1 = RightGasBubbleSimple(128000, 1e-5, 1.0)\n",
    "#rb1.connect(pipe4)"
   ]
  },
  {
   "cell_type": "code",
   "execution_count": 10,
   "metadata": {},
   "outputs": [],
   "source": [
    "rb = RightBoundaryPressure(20e5)\n",
    "rb.connect(pipe3)"
   ]
  },
  {
   "cell_type": "code",
   "execution_count": 11,
   "metadata": {},
   "outputs": [],
   "source": [
    "pump = PumpSuctionValve(suction_valve_density=7950.0,               # kg/m³\n",
    "            suction_spring_force0 = 3.438,                  # N\n",
    "            suction_spring_stiffness = 3438.0,            # N/m\n",
    "            suction_spring_mass = 0.022,                 # kg\n",
    "            suction_valve_mass = 0.068,                  # kg\n",
    "            suction_outer_diameter = 0.040,              # m\n",
    "            suction_inner_contact_diameter = 0.03644173,      # m\n",
    "            suction_seat_tilt = 90/180*np.pi,                   # °\n",
    "            suction_flow_constant_1 = 7.63e-3,             # -\n",
    "            suction_flow_constant_2 = 6.480,             # -\n",
    "            suction_friction_factor_a = 107.00,           # -\n",
    "            suction_friction_factor_b = 74.00,           # -\n",
    "            suction_friction_factor_c = 1.40,           # -\n",
    "            suction_friction_factor_d = -2.40,           # -\n",
    "            suction_factor_k0 = 0.50,                   # -\n",
    "            suction_factor_k1 = 0.0,                   # -\n",
    "            suction_factor_k2 = 0.0,                   # -\n",
    "            suction_max_displacement = 25e-3,                   # m\n",
    "            suction_outer_contact_diameter = 0.040,      # m\n",
    "            discharge_valve_density = 7950.0,             # kg/m³\n",
    "            discharge_spring_force0 = 3.438,             # N\n",
    "            discharge_spring_stiffness = 3438.0,          # N/m\n",
    "            discharge_spring_mass = 0.022,               # kg\n",
    "            discharge_valve_mass = 0.068,                # kg\n",
    "            discharge_outer_diameter = 0.040,            # m\n",
    "            discharge_inner_contact_diameter = 0.03644173,    # m\n",
    "            discharge_seat_tilt = 90/180*np.pi,                 # °\n",
    "            discharge_flow_constant_1 = 7.63e-3,           # -\n",
    "            discharge_flow_constant_2 = 6.480,           # -\n",
    "            discharge_friction_factor_a = 107.00,         # -\n",
    "            discharge_friction_factor_b = 74.00,         # -\n",
    "            discharge_friction_factor_c = 1.40,         # -\n",
    "            discharge_friction_factor_d = -2.40,         # -\n",
    "            discharge_factor_k0 = 0.50,                 # -\n",
    "            discharge_factor_k1 = 0.0,                 # -\n",
    "            discharge_factor_k2 = 0.0,                 # -\n",
    "            discharge_max_displacement = 25e-3,                 # m\n",
    "            discharge_outer_contact_diameter = 0.040,    # m\n",
    "            pump_radius = 0.010/2.0,                         # m\n",
    "            rpm = 100.0,                                 # U/min\n",
    "            rratio = 0.175,                              # -\n",
    "            phi0 = 180,                                # °\n",
    "            piston_diameter = 0.07,                     # m\n",
    "            death_volume = 3.442416e-4)                        # m³)"
   ]
  },
  {
   "cell_type": "code",
   "execution_count": 12,
   "metadata": {},
   "outputs": [],
   "source": [
    "pipe2.connect(pump)\n",
    "pipe3.connect(pump)"
   ]
  },
  {
   "cell_type": "code",
   "execution_count": null,
   "metadata": {},
   "outputs": [],
   "source": []
  },
  {
   "cell_type": "code",
   "execution_count": null,
   "metadata": {},
   "outputs": [],
   "source": []
  },
  {
   "cell_type": "code",
   "execution_count": null,
   "metadata": {},
   "outputs": [],
   "source": []
  },
  {
   "cell_type": "code",
   "execution_count": null,
   "metadata": {},
   "outputs": [],
   "source": []
  },
  {
   "cell_type": "code",
   "execution_count": null,
   "metadata": {},
   "outputs": [],
   "source": []
  },
  {
   "cell_type": "code",
   "execution_count": null,
   "metadata": {},
   "outputs": [],
   "source": []
  },
  {
   "cell_type": "code",
   "execution_count": null,
   "metadata": {},
   "outputs": [],
   "source": []
  },
  {
   "cell_type": "code",
   "execution_count": null,
   "metadata": {},
   "outputs": [],
   "source": []
  },
  {
   "cell_type": "code",
   "execution_count": null,
   "metadata": {},
   "outputs": [],
   "source": []
  },
  {
   "cell_type": "code",
   "execution_count": null,
   "metadata": {},
   "outputs": [],
   "source": []
  },
  {
   "cell_type": "code",
   "execution_count": null,
   "metadata": {},
   "outputs": [],
   "source": []
  },
  {
   "cell_type": "code",
   "execution_count": null,
   "metadata": {},
   "outputs": [],
   "source": []
  },
  {
   "cell_type": "code",
   "execution_count": null,
   "metadata": {},
   "outputs": [],
   "source": []
  },
  {
   "cell_type": "code",
   "execution_count": 13,
   "metadata": {},
   "outputs": [],
   "source": [
    "plogs1 = []\n",
    "plogs2 = []\n",
    "plogs3 = []\n",
    "vlogs = []\n",
    "vlogs1 = []\n",
    "flogs = []\n",
    "rblogs = []\n",
    "relogs = []\n",
    "dislog = []\n",
    "springlog = []\n",
    "contact_pressurelog = []\n",
    "velocity = []\n",
    "pumplog = []\n",
    "pump_speed = []\n",
    "pump_value = []\n",
    "flow_log = []\n",
    "lower_pressure_log = []\n",
    "contact_pressure_log = []\n",
    "damping_log = []\n",
    "\n",
    "\n",
    "\n",
    "\n",
    "def logging(time):\n",
    "    plogs1.append(pipe1.field_wide_slice('pressure', 0) + 0.0)\n",
    "    plogs2.append(pipe2.field_wide_slice('pressure', 0) + 0.0)\n",
    "    plogs3.append(pipe3.field_wide_slice('pressure', 0) + 0.0)\n",
    "    flogs.append(pipe2.field_wide_slice('friction_steady', 0) + 0.0)\n",
    "    rblogs.append(rb._velocity[0,1])\n",
    "    pumplog.append(pump.field_wide_slice('pump_pressure', 0) + 0.0)\n",
    "    dislog.append(pump.field_wide_slice('suction_displacement', 0) + 0.0)\n",
    "    relogs.append(pipe2.field_wide_slice('reynolds', 0) + 0.0)\n",
    "    pump_speed.append(pump.field_wide_slice('discharge_pressure', 1) +0.0)\n",
    "    pump_value.append(pump.field_wide_slice('discharge_displacement', 1) +0.0)\n",
    "    springlog.append(pump.field_wide_slice('discharge_valve_velocity', 1) +0.0)\n",
    "    contact_pressurelog.append(pump.field_wide_slice('suction_contact_pressure_force', 1) +0.0)\n",
    "    flow_log.append(pump.field_wide_slice('suction_flow_force', 1) +0.0)\n",
    "    velocity.append(pump.field_wide_slice('suction_valve_velocity', 1) +0.0)\n",
    "    lower_pressure_log.append(pump.field_wide_slice('discharge_lower_pressure_force', 1) +0.0)\n",
    "    contact_pressure_log.append(pump.field_wide_slice('discharge_contact_pressure_force', 1) +0.0)\n",
    "    damping_log.append(pump.field_wide_slice('discharge_upper_pressure_force', 1) +0.0)"
   ]
  },
  {
   "cell_type": "code",
   "execution_count": 14,
   "metadata": {},
   "outputs": [],
   "source": [
    "solver = SimpleSolver()\n",
    "solver.fluid = fluid\n",
    "solver.seeds = [pipe1, pipe2, pipe3]\n",
    "solver._callback = logging"
   ]
  },
  {
   "cell_type": "code",
   "execution_count": null,
   "metadata": {
    "scrolled": false
   },
   "outputs": [
    {
     "name": "stdout",
     "output_type": "stream",
     "text": [
      " 0:00:00 [                              |  0.03%]  0:12:08  Currently at time   0.000 of   0.350"
     ]
    },
    {
     "name": "stderr",
     "output_type": "stream",
     "text": [
      "l:\\cavsim\\cavsim\\base\\solvers\\simple_solver.py:46: UserWarning: Smaller timestep required by component! (1.2922643065092009e-05 < 1e+20 by <cavsim.pipes.pipe.Pipe object at 0x000001C982AC0CC0>)\n",
      "  warn('Smaller timestep required by component! ({} < {} by {})'.format(component_time, delta_t, component))\n",
      "l:\\cavsim\\cavsim\\base\\solvers\\simple_solver.py:46: UserWarning: Smaller timestep required by component! (1.8509824669828423e-05 < 1e+20 by <cavsim.pipes.pipe.Pipe object at 0x000001C982AC0D30>)\n",
      "  warn('Smaller timestep required by component! ({} < {} by {})'.format(component_time, delta_t, component))\n",
      "l:\\cavsim\\cavsim\\base\\solvers\\simple_solver.py:46: UserWarning: Smaller timestep required by component! (0.00011367899863359299 < 1e+20 by <cavsim.pipes.pipe.Pipe object at 0x000001C982AD36A0>)\n",
      "  warn('Smaller timestep required by component! ({} < {} by {})'.format(component_time, delta_t, component))\n"
     ]
    },
    {
     "name": "stdout",
     "output_type": "stream",
     "text": [
      " 0:00:32 [=                             |  6.30%]  0:07:57  Currently at time   0.022 of   0.350-----------------------------------------\n",
      "2410.7038391879473\n",
      "106.90407731928653\n",
      "0.7716479833972112\n",
      "3.438\n",
      "0.0\n",
      "2513.2741228718346\n",
      "0.02204602906904776\n",
      "2.751991112735681e-10\n",
      " 0:00:32 [=                             |  6.30%]  0:07:57  Currently at time   0.022 of   0.350-----------------------------------------\n",
      "2415.96106284434\n",
      "107.01378724616394\n",
      "0.7716479890508681\n",
      "3.438\n",
      "-1.4170313313989463e-07\n",
      "2513.2051536707527\n",
      "0.022071874355177944\n",
      "1.2050004398383152e-08\n",
      " 0:00:32 [=                             |  6.31%]  0:07:57  Currently at time   0.022 of   0.350-----------------------------------------\n",
      "2421.224267487892\n",
      "107.05874923395044\n",
      "0.7716482338316563\n",
      "3.438\n",
      "-1.2698864537245663e-05\n",
      "2510.2190591117646\n",
      "0.02209771964130813\n",
      "1.8661478934981785e-08\n",
      " 0:00:32 [=                             |  6.32%]  0:07:57  Currently at time   0.022 of   0.350-----------------------------------------\n",
      "2426.493452591575\n",
      "107.13011484070923\n",
      "0.7716483817550038\n",
      "3.438\n",
      "-2.5313458038738035e-05\n",
      "2508.4145307147487\n",
      "0.022123564927438315\n",
      "2.7888842242958267e-08\n",
      " 0:00:32 [=                             |  6.32%]  0:07:57  Currently at time   0.022 of   0.350-----------------------------------------\n",
      "2431.7686174813916\n",
      "107.1853486331554\n",
      "0.7716485896061173\n",
      "3.438\n",
      "-4.960842102135317e-05\n",
      "2505.8789347999423\n",
      "0.0221494102135685\n",
      "3.609842752109461e-08\n",
      " 0:00:32 [=                             |  6.33%]  0:07:57  Currently at time   0.022 of   0.350-----------------------------------------\n",
      "2437.0497615501417\n",
      "107.24432939483376\n",
      "0.7716487841119641\n",
      "3.438\n",
      "-7.77755680439916e-05\n",
      "2503.5061347961814\n",
      "0.022175255499698687\n",
      "4.498648298595412e-08\n",
      " 0:00:32 [=                             |  6.34%]  0:07:57  Currently at time   0.022 of   0.350-----------------------------------------\n",
      "2442.33688415904\n",
      "107.29778679517338\n",
      "0.771648999442698\n",
      "3.438\n",
      "-0.00011522587096492905\n",
      "2500.8792846719225\n",
      "0.022201100785828872\n",
      "5.376026185476207e-08\n",
      " 0:00:32 [=                             |  6.35%]  0:07:57  Currently at time   0.022 of   0.350-----------------------------------------\n",
      "2447.629984682992\n",
      "107.35006139169803\n",
      "0.7716492195990329\n",
      "3.438\n",
      "-0.000159287070534537\n",
      "2498.193561105761\n",
      "0.022226946071959058\n",
      "6.278946883755732e-08\n",
      " 0:00:32 [=                             |  6.35%]  0:07:57  Currently at time   0.022 of   0.350-----------------------------------------\n",
      "2452.9290624897735\n",
      "107.39913581904152\n",
      "0.7716494520168016\n",
      "3.438\n",
      "-0.00021198817735852154\n",
      "2495.3582525108527\n",
      "0.022252791358089243\n",
      "7.190101467462664e-08\n",
      " 0:00:32 [=                             |  6.36%]  0:07:57  Currently at time   0.022 of   0.350-----------------------------------------\n",
      "2458.2341169496026\n",
      "107.44596032539077\n",
      "0.7716496931933169\n",
      "3.438\n",
      "-0.0002727349333711645\n",
      "2492.4160880342592\n",
      "0.02227863664421943\n",
      "8.117537280268861e-08\n",
      " 0:00:32 [=                             |  6.37%]  0:07:57  Currently at time   0.022 of   0.350-----------------------------------------\n",
      "2463.545147430744\n",
      "107.49009779459693\n",
      "0.7716499447396549\n",
      "3.438\n",
      "-0.00034237139773560596\n",
      "2489.3474130558993\n",
      "0.022304481930349614\n",
      "9.057467053588352e-08\n",
      " 0:00:32 [=                             |  6.38%]  0:07:57  Currently at time   0.022 of   0.350-----------------------------------------\n",
      "2471.5228975220525\n",
      "108.25762650543162\n",
      "0.7716477378813954\n",
      "3.438\n",
      "-6.178525095344109e-06\n",
      "2516.2691773213637\n",
      "0.022343249859544893\n",
      "1.2409490265149625e-07\n",
      " 0:00:32 [=                             |  6.39%]  0:07:57  Currently at time   0.022 of   0.350-----------------------------------------\n",
      "2479.514088222048\n",
      "107.74983713951023\n",
      "0.7716502328546686\n",
      "3.438\n",
      "-0.0004429098159362244\n",
      "2485.8326193765556\n",
      "0.02238201778874017\n",
      "1.224793750781314e-07\n",
      " 0:00:32 [=                             |  6.41%]  0:07:58  Currently at time   0.022 of   0.350-----------------------------------------\n",
      "2490.189917744392\n",
      "108.40737754508132\n",
      "0.7716486418575585\n",
      "3.438\n",
      "-1.1158687096568915e-05\n",
      "2505.2415136471286\n",
      "0.022433708361000542\n",
      "1.865513042652407e-07\n",
      " 0:00:32 [=                             |  6.43%]  0:07:58  Currently at time   0.022 of   0.350-----------------------------------------\n",
      "2506.2484460120427\n",
      "108.54256473226776\n",
      "0.7716493960577845\n",
      "3.438\n",
      "-0.00011773853986907459\n",
      "2496.040907752346\n",
      "0.0225112442193911\n",
      "2.083796101251114e-07\n",
      " 0:02:03 [======                        | 21.14%]  0:07:41  Currently at time   0.074 of   0.350"
     ]
    }
   ],
   "source": [
    "solver.solve(1e20, 0.35, 3)"
   ]
  },
  {
   "cell_type": "code",
   "execution_count": null,
   "metadata": {},
   "outputs": [],
   "source": [
    "pfield1 = np.stack(plogs1)\n",
    "pfield2 = np.stack(plogs2)\n",
    "pfield3 = np.stack(plogs3)\n",
    "disfield = np.stack(dislog)\n",
    "velfield = np.stack(velocity)\n",
    "pressure = np.stack(pumplog)\n",
    "pump_velocity = np.stack(pump_speed)\n",
    "values = np.stack(pump_value)\n",
    "flow_force = np.stack(flow_log)\n",
    "spring_force = np.stack(springlog)\n",
    "lower_pressure_force = np.stack(lower_pressure_log)\n",
    "contact_pressure_force = np.stack(contact_pressure_log)\n",
    "damping_force = np.stack(damping_log)"
   ]
  },
  {
   "cell_type": "raw",
   "metadata": {},
   "source": []
  },
  {
   "cell_type": "markdown",
   "metadata": {},
   "source": [
    "# print(pump._cases[val1:val])"
   ]
  },
  {
   "cell_type": "code",
   "execution_count": null,
   "metadata": {},
   "outputs": [],
   "source": [
    "time = np.linspace(0, 0.35, int(pfield1[:,-2].shape[0]))\n",
    "#plt.figure(figsize=(16, 10))\n",
    "fig, ax1 = plt.subplots(figsize=(16, 10))\n",
    "#plt.subplot(1, 2, 1)\n",
    "#plt.plot(vfield[:,0])\n",
    "#plt.plot(1, 2, 2)\n",
    "val1 = 22000\n",
    "val = -1656\n",
    "#val1 = 0\n",
    "#val = -1\n",
    "\n",
    "#upper_force = upperp_field[val1:val, 0] + gfield[val1:val, 0] + springforce[val1:val, 0]\n",
    "#lower_force = lowp_field[val1:val, 0] + contact_pressure[val1:val, 0]\n",
    "#result1 = lower_force - upper_force\n",
    "#result2 = flow_field[val1:val, 0] - gfield[val1:val, 0] - springforce[val1:val, 0] - dampingfield[val1:val, 0]\n",
    "#upper_flow = gfield[val1:val, 0] + springforce[val1:val, 0] + dampingfield[val1:val, 0]\n",
    "#lower_flow = flow_field[val1:val, 0]\n",
    "#ax1.plot(time[val1:val], upper_flow, color='red')\n",
    "#ax1.plot(time[val1:val], lower_flow, color='blue')\n",
    "\n",
    "\n",
    "#plt.subplot(1, 2, 2)\n",
    "#ax1.plot(result1[val1:val])\n",
    "#ax1.plot(result2[val1:val])\n",
    "#ax1.plot(time[val1:val], upperp_field[val1:val, 0], color='red')\n",
    "#ax1.plot(time[val1:val], lowp_field[val1:val, 0], color='green')\n",
    "#ax1.plot(time[val1:val], dampingfield[val1:val, 0], color='blue')\n",
    "\n",
    "#ax1.plot(time[val1:val], contact_pressure[val1:val, 0], color='black')\n",
    "#ax1.plot(time[val1:val], springforce[val1:val, 0], color='grey')\n",
    "#ax1.plot(time[val1:val], upper_force, color='red')\n",
    "#ax1.plot(time[val1:val], lower_force, color='blue')\n",
    "\n",
    "plt.plot(time[val1:val], pfield3[val1:val, 1], color='red')\n",
    "plt.plot(time[val1:val], pump_velocity[val1:val, 0], color='black')\n",
    "plt.plot(time[val1:val], pfield2[val1:val, -2], color='green')\n",
    "plt.plot(time[val1:val], pressure[val1:val, 0],color='violet')\n",
    "\n",
    "\n",
    "#ax1.plot(time[val1:val], deltap[val1:val, 0], color='green')\n",
    "\n",
    "#plt.xlim(time[val1],time[val])\n",
    "#plt.ylim(0e5, 3e5)\n",
    "\n",
    "color = 'tab:red'\n",
    "ax1.set_xlabel('time (s)')\n",
    "ax1.set_ylabel('Pressure', color=color)\n",
    "#ax1.set_ylim(0e5, 20e5)\n",
    "#ax1.plot(time[val1:val], pfield1[val1:val, 1], color='red')\n",
    "#ax1.plot(time[val1:val], pfield2[val1:val, -2], color='green')\n",
    "ax1.tick_params(axis='y', labelcolor=color)\n",
    "\n",
    "\n",
    "ax2 = ax1.twinx()  # instantiate a second axes that shares the same x-axis\n",
    "\n",
    "color = 'tab:blue'\n",
    "ax2.plot(time[val1:val], disfield[val1:val, 0]*1000, color=color)  # we already handled the x-label with ax1\n",
    "ax2.plot(time[val1:val], values[val1:val, 0]*1000, color = 'black')\n",
    "#ax2.plot(time[val1:val], contact_pressure_force[val1:val, 0], color = 'green')\n",
    "#ax2.plot(time[val1:val], spring_force[val1:val, 0], color = 'green')\n",
    "#ax2.plot(time[val1:val], contact_pressure_force[val1:val, 0]+lower_pressure_force[val1:val, 0], color = 'black')\n",
    "#ax2.plot(time[val1:val], flow_force[val1:val, 0]-spring_force[val1:val, 0], color = 'red')\n",
    "#ax2.plot(time[val1:val], zeta[val1:val, 0], color='green')\n",
    "#ax2.plot(time[val1:val], flow_field[val1:val, 0], color='black')\n",
    "#ax2.tick_params(axis='y', labelcolor=color)\n",
    "\n",
    "#plt.subplot(1, 2, 1)\n",
    "#plt.plot(time[val1:val], disfield[val1:val, 0]*1000, color='black')\n",
    "#plt.plot(time[val1:val], pump(time[val1:val]))\n",
    "#plt.plot(time[val1:val], velfield[val1:val, 0], color='blue')\n",
    "#plt.plot(time[val1:val], pfield2[val1:val, 1], color='red')\n",
    "#pltplot(time[val1:val], pfield1[val1:val, -2], color='green')\n",
    "#plt.ylim(-2e3, 2e3)\n",
    "fig.tight_layout()\n",
    "plt.show()"
   ]
  },
  {
   "cell_type": "code",
   "execution_count": null,
   "metadata": {},
   "outputs": [],
   "source": [
    "print(pump._cases[val1:val])\n",
    "print(pressure[val1:val, 0])"
   ]
  },
  {
   "cell_type": "markdown",
   "metadata": {},
   "source": [
    "#print(np.sum(pump_velocity[val1:val, 0]))"
   ]
  },
  {
   "cell_type": "code",
   "execution_count": null,
   "metadata": {},
   "outputs": [],
   "source": [
    "\n"
   ]
  },
  {
   "cell_type": "code",
   "execution_count": null,
   "metadata": {},
   "outputs": [],
   "source": []
  },
  {
   "cell_type": "code",
   "execution_count": null,
   "metadata": {},
   "outputs": [],
   "source": []
  },
  {
   "cell_type": "code",
   "execution_count": null,
   "metadata": {},
   "outputs": [],
   "source": [
    "from scipy import integrate\n",
    "def contact_pressure(suction_outer_contact_radius, suction_radius,\n",
    "                     suction_inner_contact_radius, upper_pressure, lower_pressure,\n",
    "                     density, viscosity, velocity, suction_seat_tilt, displacement):\n",
    "    pk = (lower_pressure * ((suction_outer_contact_radius / suction_radius - 1)\n",
    "                                        / (suction_outer_contact_radius / suction_inner_contact_radius - 1))\n",
    "                      + upper_pressure * ((1 - suction_inner_contact_radius / suction_radius)\n",
    "                                          / (1 - suction_inner_contact_radius / suction_outer_contact_radius))\n",
    "                      - (6.0 * velocity * viscosity * density\n",
    "                         * (suction_outer_contact_radius**2 - suction_inner_contact_radius**2)\n",
    "                         * (suction_radius - suction_inner_contact_radius)\n",
    "                         * (suction_outer_contact_radius - suction_radius))\n",
    "                      / (((displacement+1e-6)**3)\n",
    "                         * suction_radius * (suction_outer_contact_radius - suction_inner_contact_radius))\n",
    "                      )\n",
    "    for i in range(pk.shape[0]):\n",
    "        if pk[i] <= 2300:\n",
    "            pk[i] = 2300\n",
    "            \n",
    "    plt.plot(suction_radius, pk)\n",
    "    plt.show()\n",
    "    f1 = pk * suction_radius\n",
    "    \n",
    "\n",
    "    result = integrate.simps(f1, suction_radius)\n",
    "    return result"
   ]
  },
  {
   "cell_type": "code",
   "execution_count": null,
   "metadata": {},
   "outputs": [],
   "source": [
    "pk = contact_pressure(0.04, np.linspace(0.03644173,0.04,1000), 0.036, 20.0e5, 20.0e5, 1000, 3.5e-4, 0.0, np.pi/2.0, 0.0)\n",
    "print(pk)\n",
    "print((18.0e5 + 20.0e5)/2.0*np.pi*(0.04**2-0.036**2)/4.0)\n",
    "print(18.0e5*np.pi*(0.036**2)/4.0)\n",
    "print(20.0e5*np.pi*(0.04**2)/4.0)"
   ]
  },
  {
   "cell_type": "code",
   "execution_count": null,
   "metadata": {},
   "outputs": [],
   "source": [
    "(((0.04/2)**2-(0.03644173/2)**2))*np.pi*20e5"
   ]
  },
  {
   "cell_type": "code",
   "execution_count": null,
   "metadata": {},
   "outputs": [],
   "source": [
    "ra = 0.04/2.0\n",
    "ri = 0.03644173/2.0\n",
    "pa = 21e5\n",
    "pf = 20e5\n",
    "F = np.pi / 2.0 *(ra**2 * pf + ra*ri*(pa-pf)-ri**2 * pa)"
   ]
  },
  {
   "cell_type": "code",
   "execution_count": null,
   "metadata": {},
   "outputs": [],
   "source": [
    "print(F)"
   ]
  },
  {
   "cell_type": "code",
   "execution_count": null,
   "metadata": {},
   "outputs": [],
   "source": []
  },
  {
   "cell_type": "code",
   "execution_count": null,
   "metadata": {},
   "outputs": [],
   "source": []
  },
  {
   "cell_type": "code",
   "execution_count": null,
   "metadata": {},
   "outputs": [],
   "source": []
  },
  {
   "cell_type": "code",
   "execution_count": null,
   "metadata": {},
   "outputs": [],
   "source": []
  },
  {
   "cell_type": "code",
   "execution_count": null,
   "metadata": {},
   "outputs": [],
   "source": []
  },
  {
   "cell_type": "code",
   "execution_count": null,
   "metadata": {},
   "outputs": [],
   "source": []
  },
  {
   "cell_type": "code",
   "execution_count": null,
   "metadata": {},
   "outputs": [],
   "source": []
  },
  {
   "cell_type": "code",
   "execution_count": null,
   "metadata": {},
   "outputs": [],
   "source": []
  },
  {
   "cell_type": "code",
   "execution_count": null,
   "metadata": {},
   "outputs": [],
   "source": []
  }
 ],
 "metadata": {
  "kernelspec": {
   "display_name": "Python 3",
   "language": "python",
   "name": "python3"
  },
  "language_info": {
   "codemirror_mode": {
    "name": "ipython",
    "version": 3
   },
   "file_extension": ".py",
   "mimetype": "text/x-python",
   "name": "python",
   "nbconvert_exporter": "python",
   "pygments_lexer": "ipython3",
   "version": "3.6.9"
  }
 },
 "nbformat": 4,
 "nbformat_minor": 2
}
