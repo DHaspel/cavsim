{
 "cells": [
  {
   "cell_type": "code",
   "execution_count": 1,
   "metadata": {},
   "outputs": [],
   "source": [
    "import numpy as np\n",
    "import matplotlib.pyplot as plt"
   ]
  },
  {
   "cell_type": "code",
   "execution_count": 2,
   "metadata": {},
   "outputs": [],
   "source": [
    "import cavsim\n",
    "from cavsim import Measure\n",
    "from cavsim.connectors import BaseConnector, Connector\n",
    "from cavsim.channels import ImportChannel, ExportChannel\n",
    "from cavsim.components import BaseComponent, Component\n",
    "from cavsim.solvers import BaseSolver, SimpleSolver\n",
    "from cavsim.fluids import Fluid"
   ]
  },
  {
   "cell_type": "code",
   "execution_count": 3,
   "metadata": {},
   "outputs": [],
   "source": [
    "from cavsim.pipes.pipe import Pipe\n",
    "from cavsim.boundaries.left_boundary_pressure import LeftBoundaryPressure\n",
    "from cavsim.boundaries.left_boundary_velocity import LeftBoundaryVelocity\n",
    "from cavsim.boundaries.right_boundary_pressure import RightBoundaryPressure\n",
    "from cavsim.boundaries.right_boundary_velocity import RightBoundaryVelocity\n",
    "from cavsim.boundaries.simple_pipe_connector import PipeConnectorSimple\n",
    "from cavsim.boundaries.zeta_joint import ZetaJoint\n",
    "from cavsim.boundaries.simple_t_joint import SimpleTJoint\n",
    "from cavsim.boundaries.simple_right_gasdampener import RightGasBubbleSimple\n",
    "from cavsim.boundaries.frictionless_gasdampener import FrictionlessGasDampener\n",
    "from cavsim.boundaries.gasdampener import GasDampener\n",
    "from cavsim.boundaries.pump_with_valves_model_new import PumpSuctionValve"
   ]
  },
  {
   "cell_type": "code",
   "execution_count": 4,
   "metadata": {},
   "outputs": [],
   "source": [
    "fluid = Fluid(1000, 1e-3, 2.08e9, 2.3e-3,initial_pressure=128000)"
   ]
  },
  {
   "cell_type": "code",
   "execution_count": null,
   "metadata": {},
   "outputs": [],
   "source": []
  },
  {
   "cell_type": "code",
   "execution_count": null,
   "metadata": {},
   "outputs": [],
   "source": []
  },
  {
   "cell_type": "code",
   "execution_count": null,
   "metadata": {},
   "outputs": [],
   "source": []
  },
  {
   "cell_type": "code",
   "execution_count": null,
   "metadata": {},
   "outputs": [],
   "source": []
  },
  {
   "cell_type": "code",
   "execution_count": null,
   "metadata": {},
   "outputs": [],
   "source": []
  },
  {
   "cell_type": "code",
   "execution_count": null,
   "metadata": {},
   "outputs": [],
   "source": []
  },
  {
   "cell_type": "code",
   "execution_count": null,
   "metadata": {},
   "outputs": [],
   "source": []
  },
  {
   "cell_type": "code",
   "execution_count": null,
   "metadata": {},
   "outputs": [],
   "source": []
  },
  {
   "cell_type": "code",
   "execution_count": null,
   "metadata": {},
   "outputs": [],
   "source": []
  },
  {
   "cell_type": "code",
   "execution_count": null,
   "metadata": {},
   "outputs": [],
   "source": []
  },
  {
   "cell_type": "code",
   "execution_count": 5,
   "metadata": {},
   "outputs": [],
   "source": [
    "pipe1 = Pipe(1.5, 1.5, 0.002, 2e11, 1e-7, 250)\n",
    "pipe2 = Pipe(0.056, 5, 0.002, 2e11, 1e-7, 250)\n",
    "pipe3 = Pipe(0.025, 28, 0.002, 2e11, 1e-7, 250, initial_pressure=20e5)"
   ]
  },
  {
   "cell_type": "code",
   "execution_count": 6,
   "metadata": {},
   "outputs": [],
   "source": [
    "lb1 = LeftBoundaryPressure(128000)\n",
    "pipe1.connect(lb1)"
   ]
  },
  {
   "cell_type": "code",
   "execution_count": null,
   "metadata": {},
   "outputs": [],
   "source": []
  },
  {
   "cell_type": "code",
   "execution_count": 7,
   "metadata": {},
   "outputs": [],
   "source": [
    "conns = ZetaJoint(1.0)\n",
    "pipe1.connect(conns)\n",
    "pipe2.connect(conns)"
   ]
  },
  {
   "cell_type": "code",
   "execution_count": 8,
   "metadata": {},
   "outputs": [],
   "source": [
    "rb = RightBoundaryPressure(20e5)\n",
    "rb.connect(pipe3)"
   ]
  },
  {
   "cell_type": "code",
   "execution_count": 9,
   "metadata": {},
   "outputs": [],
   "source": [
    "pump = PumpSuctionValve(suction_valve_density=7950.0,               # kg/m³\n",
    "            suction_spring_force0 = 3.438,                  # N\n",
    "            suction_spring_stiffness = 3438.0,            # N/m\n",
    "            suction_spring_mass = 0.022,                 # kg\n",
    "            suction_valve_mass = 0.068,                  # kg\n",
    "            suction_outer_diameter = 0.040,              # m\n",
    "            suction_inner_contact_diameter = 0.03644173,      # m\n",
    "            suction_seat_tilt = 90/180*np.pi,                   # °\n",
    "            suction_flow_constant_1 = 7.63e-3,             # -\n",
    "            suction_flow_constant_2 = 6.480,             # -\n",
    "            suction_friction_factor_a = 107.00,           # -\n",
    "            suction_friction_factor_b = 74.00,           # -\n",
    "            suction_friction_factor_c = 1.40,           # -\n",
    "            suction_friction_factor_d = -2.40,           # -\n",
    "            suction_factor_k0 = 0.50,                   # -\n",
    "            suction_factor_k1 = 0.0,                   # -\n",
    "            suction_factor_k2 = 0.0,                   # -\n",
    "            suction_max_displacement = 25e-3,                   # m\n",
    "            suction_outer_contact_diameter = 0.040,      # m\n",
    "            discharge_valve_density = 7950.0,             # kg/m³\n",
    "            discharge_spring_force0 = 3.438,             # N\n",
    "            discharge_spring_stiffness = 3438.0,          # N/m\n",
    "            discharge_spring_mass = 0.022,               # kg\n",
    "            discharge_valve_mass = 0.068,                # kg\n",
    "            discharge_outer_diameter = 0.040,            # m\n",
    "            discharge_inner_contact_diameter = 0.03644173,    # m\n",
    "            discharge_seat_tilt = 90/180*np.pi,                 # °\n",
    "            discharge_flow_constant_1 = 7.63e-3,           # -\n",
    "            discharge_flow_constant_2 = 6.480,           # -\n",
    "            discharge_friction_factor_a = 107.00,         # -\n",
    "            discharge_friction_factor_b = 74.00,         # -\n",
    "            discharge_friction_factor_c = 1.40,         # -\n",
    "            discharge_friction_factor_d = -2.40,         # -\n",
    "            discharge_factor_k0 = 0.50,                 # -\n",
    "            discharge_factor_k1 = 0.0,                 # -\n",
    "            discharge_factor_k2 = 0.0,                 # -\n",
    "            discharge_max_displacement = 25e-3,                 # m\n",
    "            discharge_outer_contact_diameter = 0.040,    # m\n",
    "            pump_radius = 0.045/2.0,                         # m\n",
    "            rpm = 60.0,                                 # U/min\n",
    "            rratio = 0.175,                              # -\n",
    "            phi0 = 0,                                # °\n",
    "            piston_diameter = 0.07,                     # m\n",
    "            death_volume = 3.442416e-4)                        # m³)"
   ]
  },
  {
   "cell_type": "code",
   "execution_count": 10,
   "metadata": {},
   "outputs": [],
   "source": [
    "pipe2.connect(pump)\n",
    "pipe3.connect(pump)"
   ]
  },
  {
   "cell_type": "code",
   "execution_count": null,
   "metadata": {},
   "outputs": [],
   "source": []
  },
  {
   "cell_type": "code",
   "execution_count": null,
   "metadata": {},
   "outputs": [],
   "source": []
  },
  {
   "cell_type": "code",
   "execution_count": null,
   "metadata": {},
   "outputs": [],
   "source": []
  },
  {
   "cell_type": "code",
   "execution_count": null,
   "metadata": {},
   "outputs": [],
   "source": []
  },
  {
   "cell_type": "code",
   "execution_count": null,
   "metadata": {},
   "outputs": [],
   "source": []
  },
  {
   "cell_type": "code",
   "execution_count": null,
   "metadata": {},
   "outputs": [],
   "source": []
  },
  {
   "cell_type": "code",
   "execution_count": null,
   "metadata": {},
   "outputs": [],
   "source": []
  },
  {
   "cell_type": "code",
   "execution_count": null,
   "metadata": {},
   "outputs": [],
   "source": []
  },
  {
   "cell_type": "code",
   "execution_count": null,
   "metadata": {},
   "outputs": [],
   "source": []
  },
  {
   "cell_type": "code",
   "execution_count": null,
   "metadata": {},
   "outputs": [],
   "source": []
  },
  {
   "cell_type": "code",
   "execution_count": null,
   "metadata": {},
   "outputs": [],
   "source": []
  },
  {
   "cell_type": "code",
   "execution_count": null,
   "metadata": {},
   "outputs": [],
   "source": []
  },
  {
   "cell_type": "code",
   "execution_count": null,
   "metadata": {},
   "outputs": [],
   "source": []
  },
  {
   "cell_type": "code",
   "execution_count": 11,
   "metadata": {},
   "outputs": [],
   "source": [
    "plogs1 = []\n",
    "plogs2 = []\n",
    "plogs3 = []\n",
    "vlogs = []\n",
    "vlogs1 = []\n",
    "flogs = []\n",
    "rblogs = []\n",
    "relogs = []\n",
    "dislog = []\n",
    "springlog = []\n",
    "contact_pressurelog = []\n",
    "velocity = []\n",
    "pumplog = []\n",
    "pump_speed = []\n",
    "pump_value = []\n",
    "flow_log = []\n",
    "\n",
    "\n",
    "\n",
    "def logging(time):\n",
    "    plogs1.append(pipe1.field_wide_slice('pressure', 0) + 0.0)\n",
    "    plogs2.append(pipe2.field_wide_slice('pressure', 0) + 0.0)\n",
    "    plogs3.append(pipe3.field_wide_slice('pressure', 0) + 0.0)\n",
    "    flogs.append(pipe2.field_wide_slice('friction_steady', 0) + 0.0)\n",
    "    rblogs.append(rb._velocity[0,1])\n",
    "    pumplog.append(pump.field_wide_slice('pump_pressure', 0) + 0.0)\n",
    "    dislog.append(pump.field_wide_slice('suction_displacement', 0) + 0.0)\n",
    "    relogs.append(pipe2.field_wide_slice('reynolds', 0) + 0.0)\n",
    "    pump_speed.append(pump.field_wide_slice('discharge_delta_p', 0) +0.0)\n",
    "    pump_value.append(pump.field_wide_slice('suction_displacement', 1) +0.0)\n",
    "    springlog.append(pump.field_wide_slice('suction_spring_force', 1) +0.0)\n",
    "    contact_pressurelog.append(pump.field_wide_slice('suction_contact_pressure_force', 1) +0.0)\n",
    "    flow_log.append(pump.field_wide_slice('suction_flow_force', 1) +0.0)"
   ]
  },
  {
   "cell_type": "code",
   "execution_count": 12,
   "metadata": {},
   "outputs": [],
   "source": [
    "solver = SimpleSolver()\n",
    "solver.fluid = fluid\n",
    "solver.seeds = [pipe1, pipe2, pipe3]\n",
    "solver._callback = logging"
   ]
  },
  {
   "cell_type": "code",
   "execution_count": 13,
   "metadata": {
    "scrolled": false
   },
   "outputs": [
    {
     "name": "stdout",
     "output_type": "stream",
     "text": [
      " 0:00:00 [                              |  1.41%]  0:00:12  Currently at time   0.000 of   0.020"
     ]
    },
    {
     "name": "stderr",
     "output_type": "stream",
     "text": [
      "l:\\cavsim\\cavsim\\base\\solvers\\simple_solver.py:46: UserWarning: Smaller timestep required by component! (1.2292131741147046e-05 < 1e+20 by <cavsim.pipes.pipe.Pipe object at 0x00000213F39CEA58>)\n",
      "  warn('Smaller timestep required by component! ({} < {} by {})'.format(component_time, delta_t, component))\n",
      "l:\\cavsim\\cavsim\\base\\solvers\\simple_solver.py:46: UserWarning: Smaller timestep required by component! (1.569500195246906e-05 < 1e+20 by <cavsim.pipes.pipe.Pipe object at 0x00000213F3A0CF60>)\n",
      "  warn('Smaller timestep required by component! ({} < {} by {})'.format(component_time, delta_t, component))\n",
      "l:\\cavsim\\cavsim\\base\\solvers\\simple_solver.py:46: UserWarning: Smaller timestep required by component! (8.222272465654771e-05 < 1e+20 by <cavsim.pipes.pipe.Pipe object at 0x00000213F3A239E8>)\n",
      "  warn('Smaller timestep required by component! ({} < {} by {})'.format(component_time, delta_t, component))\n"
     ]
    },
    {
     "name": "stdout",
     "output_type": "stream",
     "text": [
      " 0:00:12 [==============================|100.00%]  0:00:00  Currently at time   0.020 of   0.020"
     ]
    }
   ],
   "source": [
    "solver.solve(1e20, 0.02, 3)"
   ]
  },
  {
   "cell_type": "code",
   "execution_count": 14,
   "metadata": {},
   "outputs": [],
   "source": [
    "pfield1 = np.stack(plogs1)\n",
    "pfield2 = np.stack(plogs2)\n",
    "pfield3 = np.stack(plogs3)\n",
    "disfield = np.stack(dislog)\n",
    "#velfield = np.stack(velocity)\n",
    "pressure = np.stack(pumplog)\n",
    "pump_velocity = np.stack(pump_speed)\n",
    "values = np.stack(pump_value)\n",
    "flow_force = np.stack(flow_log)\n",
    "spring_force = np.stack(springlog)"
   ]
  },
  {
   "cell_type": "code",
   "execution_count": 15,
   "metadata": {},
   "outputs": [
    {
     "data": {
      "image/png": "[encoded data removed]",
      "text/plain": [
       "<Figure size 1152x720 with 2 Axes>"
      ]
     },
     "metadata": {
      "needs_background": "light"
     },
     "output_type": "display_data"
    }
   ],
   "source": [
    "time = np.linspace(0, 0.35, int(pfield1[:,-2].shape[0]))\n",
    "#plt.figure(figsize=(16, 10))\n",
    "fig, ax1 = plt.subplots(figsize=(16, 10))\n",
    "#plt.subplot(1, 2, 1)\n",
    "#plt.plot(vfield[:,0])\n",
    "#plt.plot(1, 2, 2)\n",
    "val1 = 0\n",
    "val = -106\n",
    "#val1 = 730\n",
    "#val = -300\n",
    "\n",
    "#upper_force = upperp_field[val1:val, 0] + gfield[val1:val, 0] + springforce[val1:val, 0]\n",
    "#lower_force = lowp_field[val1:val, 0] + contact_pressure[val1:val, 0]\n",
    "#result1 = lower_force - upper_force\n",
    "#result2 = flow_field[val1:val, 0] - gfield[val1:val, 0] - springforce[val1:val, 0] - dampingfield[val1:val, 0]\n",
    "#upper_flow = gfield[val1:val, 0] + springforce[val1:val, 0] + dampingfield[val1:val, 0]\n",
    "#lower_flow = flow_field[val1:val, 0]\n",
    "#ax1.plot(time[val1:val], upper_flow, color='red')\n",
    "#ax1.plot(time[val1:val], lower_flow, color='blue')\n",
    "\n",
    "\n",
    "#plt.subplot(1, 2, 2)\n",
    "#ax1.plot(result1[val1:val])\n",
    "#ax1.plot(result2[val1:val])\n",
    "#ax1.plot(time[val1:val], upperp_field[val1:val, 0], color='red')\n",
    "#ax1.plot(time[val1:val], lowp_field[val1:val, 0], color='green')\n",
    "#ax1.plot(time[val1:val], dampingfield[val1:val, 0], color='blue')\n",
    "\n",
    "#ax1.plot(time[val1:val], contact_pressure[val1:val, 0], color='black')\n",
    "#ax1.plot(time[val1:val], springforce[val1:val, 0], color='grey')\n",
    "#ax1.plot(time[val1:val], upper_force, color='red')\n",
    "#ax1.plot(time[val1:val], lower_force, color='blue')\n",
    "\n",
    "plt.plot(time[val1:val], pfield2[val1:val, -2], color='red')\n",
    "#plt.plot(time[val1:val], pfield1[val1:val, -2])\n",
    "plt.plot(time[val1:val], pressure[val1:val, 0],color='violet')\n",
    "\n",
    "\n",
    "#ax1.plot(time[val1:val], deltap[val1:val, 0], color='green')\n",
    "\n",
    "#plt.xlim(time[val1],time[val])\n",
    "#plt.ylim(0e5, 20e5)\n",
    "\n",
    "color = 'tab:red'\n",
    "ax1.set_xlabel('time (s)')\n",
    "ax1.set_ylabel('Pressure', color=color)\n",
    "#ax1.set_ylim(1.05e5, 1.15e5)\n",
    "#ax1.plot(time[val1:val], pfield1[val1:val, 1], color='red')\n",
    "#ax1.plot(time[val1:val], pfield2[val1:val, -2], color='green')\n",
    "ax1.tick_params(axis='y', labelcolor=color)\n",
    "\n",
    "\n",
    "ax2 = ax1.twinx()  # instantiate a second axes that shares the same x-axis\n",
    "\n",
    "color = 'tab:blue'\n",
    "#ax2.plot(time[val1:val], disfield[val1:val, 0]*1000, color=color)  # we already handled the x-label with ax1\n",
    "#ax2.plot(time[val1:val], pump_velocity[val1:val, 0], color = 'black')\n",
    "ax2.plot(time[val1:val], values[val1:val, 0]*1000, color = 'green')\n",
    "#ax2.plot(time[val1:val], flow_force[val1:val, 0], color = 'red')\n",
    "#ax2.plot(time[val1:val], flow_force[val1:val, 0]-spring_force[val1:val, 0], color = 'red')\n",
    "#ax2.plot(time[val1:val], zeta[val1:val, 0], color='green')\n",
    "#ax2.plot(time[val1:val], flow_field[val1:val, 0], color='black')\n",
    "#ax2.tick_params(axis='y', labelcolor=color)\n",
    "\n",
    "#plt.subplot(1, 2, 1)\n",
    "#plt.plot(time[val1:val], disfield[val1:val, 0]*1000, color='black')\n",
    "#plt.plot(time[val1:val], pump(time[val1:val]))\n",
    "#plt.plot(time[val1:val], velfield[val1:val, 0], color='blue')\n",
    "#plt.plot(time[val1:val], pfield2[val1:val, 1], color='red')\n",
    "#pltplot(time[val1:val], pfield1[val1:val, -2], color='green')\n",
    "#plt.ylim(-2e3, 2e3)\n",
    "fig.tight_layout()\n",
    "plt.show()"
   ]
  },
  {
   "cell_type": "markdown",
   "metadata": {},
   "source": [
    "# print(pump._cases[val1:val])"
   ]
  },
  {
   "cell_type": "code",
   "execution_count": 16,
   "metadata": {},
   "outputs": [
    {
     "name": "stdout",
     "output_type": "stream",
     "text": [
      "['Valve Closed and stays closed', 'Valve Closed and stays closed', 'Valve Closed and stays closed', 'Valve Closed and stays closed', 'Valve Closed and stays closed', 'Valve Closed and stays closed', 'Valve Closed and stays closed', 'Valve Closed and stays closed', 'Valve Closed and stays closed', 'Valve Closed and stays closed', 'Valve Closed and stays closed', 'Valve Closed and stays closed', 'Valve Closed and stays closed', 'Valve Closed and stays closed', 'Valve Closed and stays closed', 'Valve Closed and stays closed', 'Valve Closed and stays closed', 'Valve Closed and stays closed', 'Valve Closed and stays closed', 'Valve Closed and stays closed', 'Valve Closed and stays closed', 'Valve Closed and stays closed', 'Valve Closed and stays closed', 'Valve Closed and stays closed', 'Valve Closed and stays closed', 'Valve Closed and stays closed', 'Valve Closed and stays closed', 'Valve Closed and stays closed', 'Valve Closed and stays closed', 'Valve Closed and stays closed', 'Valve Closed and stays closed', 'Valve Closed and stays closed', 'Valve Closed and stays closed', 'Valve Closed and stays closed', 'Valve Closed and stays closed', 'Valve Closed and stays closed', 'Valve Closed and stays closed', 'Valve Closed and stays closed', 'Valve Closed and stays closed', 'Valve Closed and stays closed', 'Valve Closed and stays closed', 'Valve Closed and stays closed', 'Valve Closed and stays closed', 'Valve Closed and stays closed', 'Valve Closed and stays closed', 'Valve Closed and stays closed', 'Valve Closed and stays closed', 'Valve Closed and stays closed', 'Valve Closed and stays closed', 'Valve Closed and stays closed', 'Valve Closed and stays closed', 'Valve Closed and stays closed', 'Valve Closed and stays closed', 'Valve Closed and stays closed', 'Valve Closed and stays closed', 'Valve Closed and stays closed', 'Valve Closed and stays closed', 'Valve Closed and stays closed', 'Valve Closed and stays closed', 'Valve Closed and stays closed', 'Valve Closed and stays closed', 'Valve Closed and stays closed', 'Valve Closed and stays closed', 'Valve Closed and stays closed', 'Valve Closed and stays closed', 'Valve Closed and stays closed', 'Valve Closed and stays closed', 'Valve Closed and stays closed', 'Valve Closed and stays closed', 'Valve Closed and stays closed', 'Valve Closed and stays closed', 'Valve Closed and stays closed', 'Valve Closed and stays closed', 'Valve Closed and stays closed', 'Valve Closed and stays closed', 'Valve Closed and stays closed', 'Valve Closed and stays closed', 'Valve Closed and stays closed', 'Valve Closed and stays closed', 'Valve Closed and stays closed', 'Valve Closed and stays closed', 'Valve Closed and stays closed', 'Valve Closed and stays closed', 'Valve Closed and stays closed', 'Valve Closed and stays closed', 'Valve Closed and stays closed', 'Valve Closed and stays closed', 'Valve Closed and stays closed', 'Valve Closed and stays closed', 'Valve Closed and stays closed', 'Valve Closed and stays closed', 'Valve Closed and stays closed', 'Valve Closed and stays closed', 'Valve Closed and stays closed', 'Valve Closed and stays closed', 'Valve Closed and stays closed', 'Valve Closed and stays closed', 'Valve Closed and stays closed', 'Valve Closed and stays closed', 'Valve Closed and stays closed', 'Valve Closed and stays closed', 'Valve Closed and stays closed', 'Valve Closed and stays closed', 'Valve Closed and stays closed', 'Valve Closed and stays closed', 'Valve Closed and stays closed', 'Valve Closed and stays closed', 'Valve Closed and stays closed', 'Valve Closed and stays closed', 'Valve Closed and stays closed', 'Valve Closed and stays closed', 'Valve Closed and stays closed', 'Valve Closed and stays closed', 'Valve Closed and stays closed', 'Valve Closed and stays closed', 'Valve Closed and stays closed', 'Valve Closed and stays closed', 'Valve Closed and stays closed', 'Valve Closed and stays closed', 'Valve Closed and stays closed', 'Valve Closed and stays closed', 'Valve Closed and stays closed', 'Valve Closed and stays closed', 'Valve Closed and stays closed', 'Valve Closed and stays closed', 'Valve Closed and stays closed', 'Valve Closed and stays closed', 'Valve Closed and stays closed', 'Valve Closed and stays closed', 'Valve Closed and stays closed', 'Valve Closed and stays closed', 'Valve Closed and stays closed', 'Valve Closed and stays closed', 'Valve Closed and stays closed', 'Valve Closed and stays closed', 'Valve Closed and stays closed', 'Valve Closed and stays closed', 'Valve Closed and stays closed', 'Valve Closed and stays closed', 'Valve Closed and stays closed', 'Valve Closed and stays closed', 'Valve Closed and stays closed', 'Valve Closed and stays closed', 'Valve Closed and stays closed', 'Valve Closed and stays closed', 'Valve Closed and stays closed', 'Valve Closed and stays closed', 'Valve Closed and stays closed', 'Valve Closed and stays closed', 'Valve Closed and stays closed', 'Valve Closed and stays closed', 'Valve Closed and stays closed', 'Valve Closed and stays closed', 'Valve Closed and stays closed', 'Valve Closed and stays closed', 'Valve Closed and stays closed', 'Valve Closed and stays closed', 'Valve Closed and stays closed', 'Valve Closed and stays closed', 'Valve Closed and stays closed', 'Valve Closed and stays closed', 'Valve Closed and stays closed', 'Valve Closed and stays closed', 'Valve Closed and stays closed', 'Valve Closed and stays closed', 'Valve Closed and stays closed', 'Valve Closed and stays closed', 'Valve Closed and stays closed', 'Valve Closed and stays closed', 'Valve Closed and stays closed', 'Valve Closed and stays closed', 'Valve Closed and stays closed', 'Valve Closed and stays closed', 'Valve Closed and stays closed', 'Valve Closed and stays closed', 'Valve Closed and stays closed', 'Valve Closed and stays closed', 'Valve Closed and stays closed', 'Valve Closed and stays closed', 'Valve Closed and stays closed', 'Valve Closed and stays closed', 'Valve Closed and stays closed', 'Valve Closed and stays closed', 'Valve Closed and stays closed', 'Valve Closed and stays closed', 'Valve Closed and stays closed', 'Valve Closed and stays closed', 'Valve Closed and stays closed', 'Valve Closed and stays closed', 'Valve Closed and stays closed', 'Valve Closed and stays closed', 'Valve Closed and stays closed', 'Valve Closed and stays closed', 'Valve Closed and stays closed', 'Valve Closed and stays closed', 'Valve Closed and stays closed', 'Valve Closed and stays closed', 'Valve Closed and stays closed', 'Valve Closed and stays closed', 'Valve Closed and stays closed', 'Valve Closed and stays closed', 'Valve Closed and stays closed', 'Valve Closed and stays closed', 'Valve Closed and stays closed', 'Valve Closed and stays closed', 'Valve Closed and stays closed', 'Valve Closed and stays closed', 'Valve Closed and stays closed', 'Valve Closed and stays closed', 'Valve Closed and stays closed', 'Valve Closed and stays closed', 'Valve Closed and stays closed', 'Valve Closed and stays closed', 'Valve Closed and stays closed', 'Valve Closed and stays closed', 'Valve Closed and stays closed', 'Valve Closed and stays closed', 'Valve Closed and stays closed', 'Valve Closed and stays closed', 'Valve Closed and stays closed', 'Valve Closed and stays closed', 'Valve Closed and stays closed', 'Valve Closed and stays closed', 'Valve Closed and stays closed', 'Valve Closed and stays closed', 'Valve Closed and stays closed', 'Valve Closed and stays closed', 'Valve Closed and stays closed', 'Valve Closed and stays closed', 'Valve Closed and stays closed', 'Valve Closed and stays closed', 'Valve Closed and stays closed', 'Valve Closed and stays closed', 'Valve Closed and stays closed', 'Valve Closed and stays closed', 'Valve Closed and stays closed', 'Valve Closed and stays closed', 'Valve Closed and stays closed', 'Valve Closed and stays closed', 'Valve Closed and stays closed', 'Valve Closed and stays closed', 'Valve Closed and stays closed', 'Valve Closed and stays closed', 'Valve Closed and stays closed', 'Valve Closed and stays closed', 'Valve Closed and stays closed', 'Valve Closed and stays closed', 'Valve Closed and stays closed', 'Valve Closed and stays closed', 'Valve Closed and stays closed', 'Valve Closed and stays closed', 'Valve Closed and stays closed', 'Valve Closed and stays closed', 'Valve Closed and stays closed', 'Valve Closed and stays closed', 'Valve Closed and stays closed', 'Valve Closed and stays closed', 'Valve Closed and stays closed', 'Valve Closed and stays closed', 'Valve Closed and stays closed', 'Valve Closed and stays closed', 'Valve Closed and stays closed', 'Valve Closed and stays closed', 'Valve Closed and stays closed', 'Valve Closed and stays closed', 'Valve Closed and stays closed', 'Valve Closed and stays closed', 'Valve Closed and stays closed', 'Valve Closed and stays closed', 'Valve Closed and stays closed', 'Valve Closed and stays closed', 'Valve Closed and stays closed', 'Valve Closed and stays closed', 'Valve Closed and stays closed', 'Valve Closed and stays closed', 'Valve Closed and stays closed', 'Valve Closed and stays closed', 'Valve Closed and stays closed', 'Valve Closed and stays closed', 'Valve Closed and stays closed', 'Valve Closed and stays closed', 'Valve Closed and stays closed', 'Valve Closed and stays closed', 'Valve Closed and stays closed', 'Valve Closed and stays closed', 'Valve Closed and stays closed', 'Valve Closed and stays closed', 'Valve Closed and stays closed', 'Valve Closed and stays closed', 'Valve Closed and stays closed', 'Valve Closed and stays closed', 'Valve Closed and stays closed', 'Valve Closed and stays closed', 'Valve Closed and stays closed', 'Valve Closed and stays closed', 'Valve Closed and stays closed', 'Valve Closed and stays closed', 'Valve Closed and stays closed', 'Valve Closed and stays closed', 'Valve Closed and stays closed', 'Valve Closed and stays closed', 'Valve Closed and stays closed', 'Valve Closed and stays closed', 'Valve Closed and stays closed', 'Valve Closed and stays closed', 'Valve Closed and stays closed', 'Valve Closed and stays closed', 'Valve Closed and stays closed', 'Valve Closed and stays closed', 'Valve Closed and stays closed', 'Valve Closed and stays closed', 'Valve Closed and stays closed', 'Valve Closed and stays closed', 'Valve Closed and stays closed', 'Valve Closed and stays closed', 'Valve Closed and stays closed', 'Valve Closed and stays closed', 'Valve Closed and stays closed', 'Valve Closed and stays closed', 'Valve Closed and stays closed', 'Valve Closed and stays closed', 'Valve Closed and stays closed', 'Valve Closed and stays closed', 'Valve Closed and stays closed', 'Valve Closed and stays closed', 'Valve Closed and stays closed', 'Valve Closed and stays closed', 'Valve Closed and stays closed', 'Valve Closed and stays closed', 'Valve Closed and stays closed', 'Valve Closed and stays closed', 'Valve Closed and stays closed', 'Valve Closed and stays closed', 'Valve Closed and stays closed', 'Valve Closed and stays closed', 'Valve Closed and stays closed', 'Valve Closed and stays closed', 'Valve Closed and stays closed', 'Valve Closed and stays closed', 'Valve Closed and stays closed', 'Valve Closed and stays closed', 'Valve Closed and stays closed', 'Valve Closed and stays closed', 'Valve Closed and stays closed', 'Valve Closed and stays closed', 'Valve Closed and stays closed', 'Valve Closed and stays closed', 'Valve Closed and stays closed', 'Valve Closed and stays closed', 'Valve Closed and stays closed', 'Valve Closed and stays closed', 'Valve Closed and stays closed', 'Valve Closed and stays closed', 'Valve Closed and stays closed', 'Valve Closed and stays closed', 'Valve Closed and stays closed', 'Valve Closed and stays closed', 'Valve Closed and stays closed', 'Valve Closed and stays closed', 'Valve Closed and stays closed', 'Valve Closed and stays closed', 'Valve Closed and stays closed', 'Valve Closed and stays closed', 'Valve Closed and stays closed', 'Valve Closed and stays closed', 'Valve Closed and stays closed', 'Valve Closed and stays closed', 'Valve Closed and stays closed', 'Valve Closed and stays closed', 'Valve Closed and stays closed', 'Valve Closed and stays closed', 'Valve Closed and stays closed', 'Valve Closed and stays closed', 'Valve Closed and stays closed', 'Valve Closed and stays closed', 'Valve Closed and stays closed', 'Valve Closed and stays closed', 'Valve Closed and stays closed', 'Valve Closed and stays closed', 'Valve Closed and stays closed', 'Valve Closed and stays closed', 'Valve Closed and stays closed', 'Valve Closed and stays closed', 'Valve Closed and stays closed', 'Valve Closed and stays closed', 'Valve Closed and stays closed', 'Valve Closed and stays closed', 'Valve Closed and stays closed', 'Valve Closed and stays closed', 'Valve Closed and stays closed', 'Valve Closed and stays closed', 'Valve Closed and stays closed', 'Valve Closed and stays closed', 'Valve Closed and stays closed', 'Valve Closed and stays closed', 'Valve Closed and stays closed', 'Valve Closed and stays closed', 'Valve Closed and stays closed', 'Valve Closed and stays closed', 'Valve Closed and stays closed', 'Valve Closed and stays closed', 'Valve Closed and stays closed', 'Valve Closed and stays closed', 'Valve Closed and stays closed', 'Valve Closed and stays closed', 'Valve Closed and stays closed', 'Valve Closed and stays closed', 'Valve Closed and stays closed', 'Valve Closed and stays closed', 'Valve Closed and stays closed', 'Valve Closed and stays closed', 'Valve Closed and stays closed', 'Valve Closed and stays closed', 'Valve Closed and stays closed', 'Valve Closed and stays closed', 'Valve Closed and stays closed', 'Valve Closed and stays closed', 'Valve Closed and stays closed', 'Valve Closed and stays closed', 'Valve Closed and stays closed', 'Valve Closed and stays closed', 'Valve Closed and stays closed', 'Valve Closed and stays closed', 'Valve Closed and stays closed', 'Valve Closed and stays closed', 'Valve Closed and stays closed', 'Valve Closed and stays closed', 'Valve Closed and stays closed', 'Valve Closed and stays closed', 'Valve Closed and stays closed', 'Valve Closed and stays closed', 'Valve Closed and stays closed', 'Valve Closed and stays closed', 'Valve Closed and stays closed', 'Valve Closed and stays closed', 'Valve Closed and stays closed', 'Valve Closed and stays closed', 'Valve Closed and stays closed', 'Valve Closed and stays closed', 'Valve Closed and stays closed', 'Valve Closed and stays closed', 'Valve Closed and stays closed', 'Valve Closed and stays closed', 'Valve Closed and stays closed', 'Valve Closed and stays closed', 'Valve Closed and stays closed', 'Valve Closed and stays closed', 'Valve Closed and stays closed', 'Valve Closed and stays closed', 'Valve Closed and stays closed', 'Valve Closed and stays closed', 'Valve Closed and stays closed', 'Valve Closed and stays closed', 'Valve Closed and stays closed', 'Valve Closed and stays closed', 'Valve Closed and stays closed', 'Valve Closed and stays closed', 'Valve Closed and stays closed', 'Valve Closed and stays closed', 'Valve Closed and stays closed', 'Valve Closed and stays closed', 'Valve Closed and stays closed', 'Valve Closed and stays closed', 'Valve Closed and stays closed', 'Valve Closed and stays closed', 'Valve Closed and stays closed', 'Valve Closed and stays closed', 'Valve Closed and stays closed', 'Valve Closed and stays closed', 'Valve Closed and stays closed', 'Valve Closed and stays closed', 'Valve Closed and stays closed', 'Valve Closed and stays closed', 'Valve Closed and stays closed', 'Valve Closed and stays closed', 'Valve Closed and stays closed', 'Valve Closed and stays closed', 'Valve Closed and stays closed', 'Valve Closed and stays closed', 'Valve Closed and stays closed', 'Valve Closed and stays closed', 'Valve Closed and stays closed', 'Valve Closed and stays closed', 'Valve Closed and stays closed', 'Valve Closed and stays closed', 'Valve Closed and stays closed', 'Valve Closed and stays closed', 'Valve Closed and stays closed', 'Valve Closed and stays closed', 'Valve Closed and stays closed', 'Valve Closed and stays closed', 'Valve Closed and stays closed', 'Valve Closed and stays closed', 'Valve Closed and stays closed', 'Valve Closed and stays closed', 'Valve Closed and stays closed', 'Valve Closed and stays closed', 'Valve Closed and stays closed', 'Valve Closed and stays closed', 'Valve Closed and stays closed', 'Valve Closed and stays closed', 'Valve Closed and stays closed', 'Valve Closed and stays closed', 'Valve Closed and stays closed', 'Valve Closed and stays closed', 'Valve Closed and stays closed', 'Valve Closed and stays closed', 'Valve Closed and stays closed', 'Valve Closed and stays closed', 'Valve Closed and stays closed', 'Valve Closed and stays closed', 'Valve Closed and stays closed', 'Valve Closed and stays closed', 'Valve Closed and stays closed', 'Valve Closed and stays closed', 'Valve Closed and stays closed', 'Valve Closed and stays closed', 'Valve Closed and stays closed', 'Valve Closed and stays closed', 'Valve Closed and stays closed', 'Valve Closed and stays closed', 'Valve Closed and stays closed', 'Valve Closed and stays closed', 'Valve Closed and stays closed', 'Valve Closed and stays closed', 'Valve Closed and stays closed', 'Valve Closed and stays closed', 'Valve Closed and stays closed', 'Valve Closed and stays closed', 'Valve Closed and stays closed', 'Valve Closed and stays closed', 'Valve Closed and stays closed', 'Valve Closed and stays closed', 'Valve Closed and stays closed', 'Valve Closed and stays closed', 'Valve Closed and stays closed', 'Valve Closed and stays closed', 'Valve Closed and stays closed', 'Valve Closed and stays closed', 'Valve Closed and stays closed', 'Valve Closed and stays closed', 'Valve Closed and stays closed', 'Valve Closed and stays closed', 'Valve Closed and stays closed', 'Valve Closed and stays closed', 'Valve Closed and stays closed', 'Valve Closed and stays closed', 'Valve Closed and stays closed', 'Valve Closed and stays closed', 'Valve Closed and stays closed', 'Valve Closed and stays closed', 'Valve Closed and stays closed', 'Valve Closed and stays closed', 'Valve Closed and stays closed', 'Valve Closed and stays closed', 'Valve Closed and stays closed', 'Valve Closed and stays closed', 'Valve Closed and stays closed', 'Valve Closed and stays closed', 'Valve Closed and stays closed', 'Valve Closed and stays closed', 'Valve Closed and stays closed', 'Valve Closed and stays closed', 'Valve Closed and stays closed', 'Valve Closed and stays closed', 'Valve Closed and stays closed', 'Valve Closed and stays closed', 'Valve Closed and stays closed', 'Valve Closed and stays closed', 'Valve Closed and stays closed', 'Valve Closed and stays closed', 'Valve Closed and stays closed', 'Valve Closed and stays closed', 'Valve Closed and stays closed', 'Valve Closed and stays closed', 'Valve Closed and stays closed', 'Valve Closed and stays closed', 'Valve Closed and stays closed', 'Valve Closed and stays closed', 'Valve Closed and stays closed', 'Valve Closed and stays closed', 'Valve Closed and stays closed', 'Valve Closed and stays closed', 'Valve Closed and stays closed', 'Valve Closed and stays closed', 'Valve Closed and stays closed', 'Valve Closed and stays closed', 'Valve Closed and stays closed', 'Valve Closed and stays closed', 'Valve Closed and stays closed', 'Valve Closed and stays closed', 'Valve Closed and stays closed', 'Valve Closed and stays closed', 'Valve Closed and stays closed', 'Valve Closed and stays closed', 'Valve Closed and stays closed', 'Valve Closed and stays closed', 'Valve Closed and stays closed', 'Valve Closed and stays closed', 'Valve Closed and stays closed', 'Valve Closed and stays closed', 'Valve Closed and stays closed', 'Valve Closed and stays closed', 'Valve Closed and stays closed', 'Valve Closed and stays closed', 'Valve Closed and stays closed', 'Valve Closed and stays closed', 'Valve Closed and stays closed', 'Valve Closed and stays closed', 'Valve Closed and stays closed', 'Valve Closed and stays closed', 'Valve Closed and stays closed', 'Valve Closed and stays closed', 'Valve Closed and stays closed', 'Valve Closed and stays closed', 'Valve Closed and stays closed', 'Valve Closed and stays closed', 'Valve Closed and stays closed', 'Valve Closed and stays closed', 'Valve Closed and stays closed', 'Valve Closed and stays closed', 'Valve Closed and stays closed', 'Valve Closed and stays closed', 'Valve Closed and stays closed', 'Valve Closed and stays closed', 'Valve Closed and stays closed', 'Valve Closed and stays closed', 'Valve Closed and stays closed', 'Valve Closed and stays closed', 'Valve Closed and stays closed', 'Valve Closed and stays closed', 'Valve Closed and stays closed', 'Valve Closed and stays closed', 'Valve Closed and stays closed', 'Valve Closed and stays closed', 'Valve Closed and stays closed', 'Valve Closed and stays closed', 'Valve Closed and stays closed', 'Valve Closed and stays closed', 'Valve Closed and stays closed', 'Valve Closed and stays closed', 'Valve Closed and stays closed', 'Valve Closed and stays closed', 'Valve Closed and stays closed', 'Valve Closed and stays closed', 'Valve Closed and stays closed', 'Valve Closed and stays closed', 'Valve Closed and stays closed', 'Valve Closed and stays closed', 'Valve Closed and stays closed', 'Valve Closed and stays closed', 'Valve Closed and stays closed', 'Valve Closed and stays closed', 'Valve Closed and stays closed', 'Valve Closed and stays closed', 'Valve Closed and stays closed', 'Valve Closed and stays closed', 'Valve Closed and stays closed', 'Valve Closed and stays closed', 'Valve Closed and stays closed', 'Valve Closed and stays closed', 'Valve Closed and stays closed', 'Valve Closed and stays closed', 'Valve Closed and stays closed', 'Valve Closed and stays closed', 'Valve Closed and stays closed', 'Valve Closed and stays closed', 'Valve Closed and stays closed', 'Valve Closed and stays closed', 'Valve Closed and stays closed', 'Valve Closed and stays closed', 'Valve Closed and stays closed', 'Valve Closed and stays closed', 'Valve Closed and stays closed', 'Valve Closed and stays closed', 'Valve Closed and stays closed', 'Valve Closed and stays closed', 'Valve Closed and stays closed', 'Valve Closed and stays closed', 'Valve Closed and stays closed', 'Valve Closed and stays closed', 'Valve Closed and stays closed', 'Valve Closed and stays closed', 'Valve Closed and stays closed', 'Valve Closed and stays closed', 'Valve Closed and stays closed', 'Valve Closed and stays closed', 'Valve Closed and stays closed', 'Valve Closed and stays closed', 'Valve Closed and stays closed', 'Valve Closed and stays closed', 'Valve Closed and stays closed', 'Valve Closed and stays closed', 'Valve Closed and stays closed', 'Valve Closed and stays closed', 'Valve Closed and stays closed', 'Valve Closed and stays closed', 'Valve Closed and stays closed', 'Valve Closed and stays closed', 'Valve Closed and stays closed', 'Valve Closed and stays closed', 'Valve Closed and stays closed', 'Valve Closed and stays closed', 'Valve Closed and stays closed', 'Valve Closed and stays closed', 'Valve Closed and stays closed', 'Valve Closed and stays closed', 'Valve Closed and stays closed', 'Valve Closed and stays closed', 'Valve Closed and stays closed', 'Valve Closed and stays closed', 'Valve Closed and stays closed', 'Valve Closed and stays closed', 'Valve Closed and stays closed', 'Valve Closed and stays closed', 'Valve Closed and stays closed', 'Valve Closed and stays closed', 'Valve Closed and stays closed', 'Valve Closed and stays closed', 'Valve Closed and stays closed', 'Valve Closed and stays closed', 'Valve Closed and stays closed', 'Valve Closed and stays closed', 'Valve Closed and stays closed', 'Valve Closed and stays closed', 'Valve Closed and stays closed', 'Valve Closed and stays closed', 'Valve Closed and stays closed', 'Valve Closed and stays closed', 'Valve Closed and stays closed', 'Valve Closed and stays closed', 'Valve Closed and stays closed', 'Valve Closed and stays closed', 'Valve Closed and stays closed', 'Valve Closed and stays closed', 'Valve Closed and stays closed', 'Valve Closed and stays closed', 'Valve Closed and stays closed', 'Valve Closed and stays closed', 'Valve Closed and stays closed', 'Valve Closed and stays closed', 'Valve Closed and stays closed', 'Valve Closed and stays closed', 'Valve Closed and stays closed', 'Valve Closed and stays closed', 'Valve Closed and stays closed', 'Valve Closed and stays closed', 'Valve Closed and stays closed', 'Valve Closed and stays closed', 'Valve Closed and stays closed', 'Valve Closed and stays closed', 'Valve Closed and stays closed', 'Valve Closed and stays closed', 'Valve Closed and stays closed', 'Valve Closed and stays closed', 'Valve Closed and stays closed', 'Valve Closed and stays closed', 'Valve Closed and stays closed', 'Valve Closed and stays closed', 'Valve Closed and stays closed', 'Valve Closed and stays closed', 'Valve Closed and stays closed', 'Valve Closed and stays closed', 'Valve Closed and stays closed', 'Valve Closed and stays closed', 'Valve Closed and stays closed', 'Valve Closed and stays closed', 'Valve Closed and stays closed', 'Valve Closed and stays closed', 'Valve Closed and stays closed', 'Valve Closed and stays closed', 'Valve Closed and stays closed', 'Valve Closed and stays closed', 'Valve Closed and stays closed', 'Valve Closed and stays closed', 'Valve Closed and stays closed', 'Valve Closed and stays closed', 'Valve Closed and stays closed', 'Valve Closed and stays closed', 'Valve Closed and stays closed', 'Valve Closed and stays closed', 'Valve Closed and stays closed', 'Valve Closed and stays closed', 'Valve Closed and stays closed', 'Valve Closed and stays closed', 'Valve Closed and stays closed', 'Valve Closed and stays closed', 'Valve Closed and stays closed', 'Valve Closed and stays closed', 'Valve Closed and stays closed', 'Valve Closed and stays closed', 'Valve Closed and stays closed', 'Valve Closed and stays closed', 'Valve Closed and stays closed', 'Valve Closed and stays closed', 'Valve Closed and stays closed', 'Valve Closed and stays closed', 'Valve Closed and stays closed', 'Valve Closed and stays closed', 'Valve Closed and stays closed', 'Valve Closed and stays closed', 'Valve Closed and stays closed', 'Valve Closed and stays closed', 'Valve Closed and stays closed', 'Valve Closed and stays closed', 'Valve Closed and stays closed', 'Valve Closed and stays closed', 'Valve Closed and stays closed', 'Valve Closed and stays closed', 'Valve Closed and stays closed', 'Valve Closed and stays closed', 'Valve Closed and stays closed', 'Valve Closed and stays closed', 'Valve Closed and stays closed', 'Valve Closed and stays closed', 'Valve Closed and stays closed', 'Valve Closed and stays closed', 'Valve Closed and stays closed', 'Valve Closed and stays closed', 'Valve Closed and stays closed', 'Valve Closed and stays closed', 'Valve Closed and stays closed', 'Valve Closed and stays closed', 'Valve Closed and stays closed', 'Valve Closed and stays closed', 'Valve Closed and stays closed', 'Valve Closed and stays closed', 'Valve Closed and stays closed', 'Valve Closed and stays closed', 'Valve Closed and stays closed', 'Valve Closed and stays closed', 'Valve Closed and stays closed', 'Valve Closed and stays closed', 'Valve Closed and stays closed', 'Valve Closed and stays closed', 'Valve Closed and stays closed', 'Valve Closed and stays closed', 'Valve Closed and stays closed', 'Valve Closed and stays closed', 'Valve Closed and stays closed', 'Valve Closed and stays closed', 'Valve Closed and stays closed', 'Valve Closed and stays closed', 'Valve Closed and stays closed', 'Valve Closed and stays closed', 'Valve Closed and stays closed', 'Valve Closed and stays closed', 'Valve Closed and stays closed', 'Valve Closed and stays closed', 'Valve Closed and stays closed', 'Valve Closed and stays closed', 'Valve Closed and stays closed', 'Valve Closed and stays closed', 'Valve Closed and stays closed', 'Valve Closed and stays closed', 'Valve Closed and stays closed', 'Valve Closed and stays closed', 'Valve Closed and stays closed', 'Valve Closed and stays closed', 'Valve Closed and stays closed', 'Valve Closed and stays closed', 'Valve Closed and stays closed', 'Valve Closed and stays closed', 'Valve Closed and stays closed', 'Valve Closed and stays closed', 'Valve Closed and stays closed', 'Valve Closed and stays closed', 'Valve Closed and stays closed', 'Valve Closed and stays closed', 'Valve Closed and stays closed', 'Valve Closed and stays closed', 'Valve Closed and stays closed', 'Valve Closed and stays closed', 'Valve Closed and stays closed', 'Valve Closed and stays closed', 'Valve Closed and stays closed', 'Valve Closed and stays closed', 'Valve Closed and stays closed', 'Valve Closed and stays closed', 'Valve Closed and stays closed', 'Valve Closed and stays closed', 'Valve Closed and stays closed', 'Valve Closed and stays closed', 'Valve Closed and stays closed', 'Valve Closed and stays closed', 'Valve Closed and stays closed', 'Valve Closed and stays closed', 'Valve Closed and stays closed', 'Valve Closed and stays closed', 'Valve Closed and stays closed', 'Valve Closed and stays closed', 'Valve Closed and stays closed', 'Valve Closed and stays closed', 'Valve Closed and stays closed', 'Valve Closed and stays closed', 'Valve Closed and stays closed', 'Valve Closed and stays closed', 'Valve Closed and stays closed', 'Valve Closed and stays closed', 'Valve Closed and stays closed', 'Valve Closed and stays closed', 'Valve Closed and stays closed', 'Valve Closed and stays closed', 'Valve Closed and stays closed', 'Valve Closed and stays closed', 'Valve Closed and stays closed', 'Valve Closed and stays closed', 'Valve Closed and stays closed', 'Valve Closed and stays closed', 'Valve Closed and stays closed', 'Valve Closed and stays closed', 'Valve Closed and stays closed', 'Valve Closed and stays closed', 'Valve Closed and stays closed', 'Valve Closed and stays closed', 'Valve Closed and stays closed', 'Valve Closed and stays closed', 'Valve Closed and stays closed', 'Valve Closed and stays closed', 'Valve Closed and stays closed', 'Valve Closed and stays closed', 'Valve Closed and stays closed', 'Valve Closed and stays closed', 'Valve Closed and stays closed', 'Valve Closed and stays closed', 'Valve Closed and stays closed', 'Valve Closed and stays closed', 'Valve Closed and stays closed', 'Valve Closed and stays closed', 'Valve Closed and stays closed', 'Valve Closed and stays closed', 'Valve Closed and stays closed', 'Valve Closed and stays closed', 'Valve Closed and stays closed', 'Valve Closed and stays closed', 'Valve Closed and stays closed', 'Valve Closed and stays closed', 'Valve Closed and stays closed', 'Valve Closed and stays closed', 'Valve Closed and stays closed', 'Valve Closed and stays closed', 'Valve Closed and stays closed', 'Valve Closed and stays closed', 'Valve Closed and stays closed', 'Valve Closed and stays closed', 'Valve Closed and stays closed', 'Valve Closed and stays closed', 'Valve Closed and stays closed', 'Valve Closed and stays closed', 'Valve Closed and stays closed', 'Valve Closed and stays closed', 'Valve Closed and stays closed', 'Valve Closed and stays closed', 'Valve Closed and stays closed', 'Valve Closed and stays closed', 'Valve Closed and stays closed', 'Valve Closed and stays closed', 'Valve Closed and stays closed', 'Valve Closed and stays closed', 'Valve Closed and stays closed', 'Valve Closed and stays closed', 'Valve Closed and stays closed', 'Valve Closed and stays closed', 'Valve Closed and stays closed', 'Valve Closed and stays closed', 'Valve Closed and stays closed', 'Valve Closed and stays closed', 'Valve Closed and stays closed', 'Valve Closed and stays closed', 'Valve Closed and stays closed', 'Valve Closed and stays closed', 'Valve Closed and stays closed', 'Valve Closed and stays closed', 'Valve Closed and stays closed', 'Valve Closed and stays closed', 'Valve Closed and stays closed', 'Valve Closed and stays closed', 'Valve Closed and stays closed', 'Valve Closed and stays closed', 'Valve Closed and stays closed', 'Valve Closed and stays closed', 'Valve Closed and stays closed', 'Valve Closed and stays closed', 'Valve Closed and stays closed', 'Valve Closed and stays closed', 'Valve Closed and stays closed', 'Valve Closed and stays closed', 'Valve Closed and stays closed', 'Valve Closed and stays closed', 'Valve Closed and stays closed', 'Valve Closed and stays closed', 'Valve Closed and stays closed', 'Valve Closed and stays closed', 'Valve Closed and stays closed', 'Valve Closed and stays closed', 'Valve Closed and stays closed', 'Valve Closed and stays closed', 'Valve Closed and stays closed', 'Valve Closed and stays closed', 'Valve Closed and stays closed', 'Valve Closed and stays closed', 'Valve Closed and stays closed', 'Valve Closed and stays closed', 'Valve Closed and stays closed', 'Valve Closed and stays closed', 'Valve Closed and stays closed', 'Valve Closed and stays closed', 'Valve Closed and stays closed', 'Valve Closed and stays closed', 'Valve Closed and stays closed', 'Valve Closed and stays closed', 'Valve Closed and stays closed', 'Valve Closed and stays closed', 'Valve Closed and stays closed', 'Valve Closed and stays closed', 'Valve Closed and stays closed', 'Valve Closed and stays closed', 'Valve Closed and stays closed', 'Valve Closed and stays closed', 'Valve Closed and stays closed', 'Valve Closed and stays closed', 'Valve Closed and stays closed', 'Valve Closed and stays closed', 'Valve Closed and stays closed', 'Valve Closed and stays closed', 'Valve Closed and stays closed', 'Valve Closed and stays closed', 'Valve Closed and stays closed', 'Valve Closed and stays closed', 'Valve Closed and stays closed', 'Valve Closed and stays closed', 'Valve Closed and stays closed', 'Valve Closed and stays closed', 'Valve Closed and stays closed', 'Valve Closed and stays closed', 'Valve Closed and stays closed', 'Valve Closed and stays closed', 'Valve Closed and stays closed', 'Valve Closed and stays closed', 'Valve Closed and stays closed', 'Valve Closed and stays closed', 'Valve Closed and stays closed', 'Valve Closed and stays closed', 'Valve Closed and stays closed', 'Valve Closed and stays closed', 'Valve Closed and stays closed', 'Valve Closed and stays closed', 'Valve Closed and stays closed', 'Valve Closed and stays closed', 'Valve Closed and stays closed', 'Valve Closed and stays closed', 'Valve Closed and stays closed', 'Valve Closed and stays closed', 'Valve Closed and stays closed', 'Valve Closed and stays closed', 'Valve Closed and stays closed', 'Valve Closed and stays closed', 'Valve Closed and stays closed', 'Valve Closed and stays closed', 'Valve Closed and stays closed', 'Valve Closed and stays closed', 'Valve Closed and stays closed', 'Valve Closed and stays closed', 'Valve Closed and stays closed', 'Valve Closed and stays closed', 'Valve Closed and stays closed', 'Valve Closed and stays closed', 'Valve Closed and stays closed', 'Valve Closed and stays closed', 'Valve Closed and stays closed', 'Valve Closed and stays closed', 'Valve Closed and stays closed', 'Valve Closed and stays closed', 'Valve Closed and stays closed', 'Valve Closed and stays closed', 'Valve Closed and stays closed', 'Valve Closed and stays closed', 'Valve Closed and stays closed', 'Valve Closed and stays closed', 'Valve Closed and stays closed', 'Valve Closed and stays closed', 'Valve Closed and stays closed', 'Valve Closed and stays closed', 'Valve Closed and stays closed', 'Valve Closed and stays closed', 'Valve Closed and stays closed', 'Valve Closed and stays closed', 'Valve Closed and stays closed', 'Valve Closed and stays closed', 'Valve Closed and stays closed', 'Valve Closed and stays closed', 'Valve Closed and stays closed', 'Valve Closed and stays closed', 'Valve Closed and stays closed', 'Valve Closed and stays closed', 'Valve Closed and stays closed', 'Valve Closed and stays closed', 'Valve Closed and stays closed', 'Valve Closed and stays closed', 'Valve Closed and stays closed', 'Valve Closed and stays closed', 'Valve Closed and stays closed', 'Valve Closed and stays closed', 'Valve Closed and stays closed', 'Valve Closed and stays closed', 'Valve Closed and stays closed', 'Valve Closed and stays closed', 'Valve Closed and stays closed', 'Valve Closed and stays closed', 'Valve Closed and stays closed', 'Valve Closed and stays closed', 'Valve Closed and stays closed', 'Valve Closed and stays closed', 'Valve Closed and stays closed', 'Valve Closed and stays closed', 'Valve Closed and stays closed', 'Valve Closed and stays closed', 'Valve Closed and stays closed', 'Valve Closed and stays closed', 'Valve Closed and stays closed', 'Valve Closed and stays closed', 'Valve Closed and stays closed', 'Valve Closed and stays closed', 'Valve Closed and stays closed', 'Valve Closed and stays closed', 'Valve Closed and stays closed', 'Valve Closed and stays closed', 'Valve Closed and stays closed', 'Valve Closed and stays closed', 'Valve Closed and stays closed', 'Valve Closed and stays closed', 'Valve Closed and stays closed', 'Valve Closed and stays closed', 'Valve Closed and stays closed', 'Valve Closed and stays closed', 'Valve Closed and stays closed', 'Valve Closed and stays closed', 'Valve Closed and stays closed', 'Valve Closed and stays closed', 'Valve Closed and stays closed', 'Valve Closed and stays closed', 'Valve Closed and stays closed', 'Valve Closed and stays closed', 'Valve Closed and stays closed', 'Valve Closed and stays closed', 'Valve Closed and stays closed', 'Valve Closed and stays closed', 'Valve Closed and stays closed', 'Valve Closed and stays closed', 'Valve Closed and stays closed', 'Valve Closed and stays closed', 'Valve Closed and stays closed', 'Valve Closed and stays closed', 'Valve Closed and stays closed', 'Valve Closed and stays closed', 'Valve Closed and stays closed', 'Valve Closed and stays closed', 'Valve Closed and stays closed', 'Valve Closed and stays closed', 'Valve Closed and stays closed', 'Valve Closed and stays closed', 'Valve Closed and stays closed', 'Valve Closed and stays closed', 'Valve Closed and stays closed', 'Valve Closed and stays closed', 'Valve Closed and stays closed', 'Valve Closed and stays closed', 'Valve Closed and stays closed', 'Valve Closed and stays closed', 'Valve Closed and stays closed', 'Valve Closed and stays closed', 'Valve Closed and stays closed', 'Valve Closed and stays closed', 'Valve Closed and stays closed', 'Valve Closed and stays closed', 'Valve Closed and stays closed', 'Valve Closed and stays closed', 'Valve Closed and stays closed', 'Valve Closed and stays closed', 'Valve Closed and stays closed', 'Valve Closed and stays closed', 'Valve Closed and stays closed', 'Valve Closed and stays closed', 'Valve Closed and stays closed', 'Valve Closed and stays closed', 'Valve Closed and stays closed', 'Valve Closed and stays closed', 'Valve Closed and stays closed', 'Valve Closed and stays closed', 'Valve Closed and stays closed', 'Valve Closed and stays closed', 'Valve Closed and stays closed', 'Valve Closed and stays closed', 'Valve Closed and stays closed', 'Valve Closed and stays closed', 'Valve Closed and stays closed', 'Valve Closed and stays closed', 'Valve Closed and stays closed', 'Valve Closed and stays closed', 'Valve Closed and stays closed', 'Valve Closed and stays closed', 'Valve Closed and stays closed', 'Valve Closed and stays closed', 'Valve Closed and stays closed', 'Valve Closed and stays closed', 'Valve Closed and stays closed', 'Valve Closed and stays closed', 'Valve Closed and stays closed', 'Valve Closed and stays closed', 'Valve Closed and stays closed', 'Valve Closed and stays closed', 'Valve Closed and stays closed', 'Valve Closed and stays closed', 'Valve Closed and stays closed', 'Valve Closed and stays closed', 'Valve Closed and stays closed', 'Valve Closed and stays closed', 'Valve Closed and stays closed', 'Valve Closed and stays closed', 'Valve Closed and stays closed', 'Valve Closed and stays closed', 'Valve Closed and stays closed', 'Valve Closed and stays closed', 'Valve Closed and stays closed', 'Valve Closed and stays closed', 'Valve Closed and stays closed', 'Valve Closed and stays closed', 'Valve Closed and stays closed', 'Valve Closed and stays closed', 'Valve Closed and stays closed', 'Valve Closed and stays closed', 'Valve Closed and stays closed', 'Valve Closed and stays closed', 'Valve Closed and stays closed', 'Valve Closed and stays closed', 'Valve Closed and stays closed', 'Valve Closed and stays closed', 'Valve Closed and stays closed', 'Valve Closed and stays closed', 'Valve Closed and stays closed', 'Valve Closed and stays closed', 'Valve Closed and stays closed', 'Valve Closed and stays closed', 'Valve Closed and stays closed', 'Valve Closed and stays closed', 'Valve Closed and stays closed', 'Valve Closed and stays closed', 'Valve Closed and stays closed', 'Valve Closed and stays closed', 'Valve Closed and stays closed', 'Valve Closed and stays closed', 'Valve Closed and stays closed', 'Valve Closed and stays closed', 'Valve Closed and stays closed', 'Valve Closed and stays closed', 'Valve Closed and stays closed', 'Valve Closed and stays closed', 'Valve Closed and stays closed', 'Valve Closed and stays closed', 'Valve Closed and stays closed', 'Valve Closed and stays closed', 'Valve Closed and stays closed', 'Valve Closed and stays closed', 'Valve Closed and stays closed', 'Valve Closed and stays closed', 'Valve Closed and stays closed', 'Valve Closed and stays closed', 'Valve Closed and stays closed', 'Valve Closed and stays closed', 'Valve Closed and stays closed', 'Valve Closed and stays closed', 'Valve Closed and stays closed', 'Valve Closed and stays closed', 'Valve Closed and stays closed', 'Valve Closed and stays closed', 'Valve Closed and stays closed', 'Valve Closed and stays closed', 'Valve Closed and stays closed', 'Valve Closed and stays closed', 'Valve Closed and stays closed', 'Valve Closed and stays closed', 'Valve Closed and stays closed', 'Valve Closed and stays closed', 'Valve Closed and stays closed', 'Valve Closed and stays closed', 'Valve Closed and stays closed', 'Valve Closed and stays closed', 'Valve Closed and stays closed', 'Valve Closed and stays closed', 'Valve Closed and stays closed', 'Valve Closed and stays closed', 'Valve Closed and stays closed', 'Valve Closed and stays closed', 'Valve Closed and stays closed', 'Valve Closed and stays closed', 'Valve Closed and stays closed', 'Valve Closed and stays closed', 'Valve Closed and stays closed', 'Valve Closed and stays closed', 'Valve Closed and stays closed', 'Valve Closed and stays closed', 'Valve Closed and stays closed', 'Valve Closed and stays closed', 'Valve Closed and stays closed', 'Valve Closed and stays closed', 'Valve Closed and stays closed', 'Valve Closed and stays closed', 'Valve Closed and stays closed', 'Valve Closed and stays closed', 'Valve Closed and stays closed', 'Valve Closed and stays closed', 'Valve Closed and stays closed', 'Valve Closed and stays closed', 'Valve Closed and stays closed', 'Valve Closed and stays closed', 'Valve Closed and stays closed', 'Valve Closed and stays closed', 'Valve Closed and stays closed', 'Valve Closed and stays closed', 'Valve Closed and stays closed', 'Valve Closed and stays closed', 'Valve Closed and stays closed', 'Valve Closed and stays closed', 'Valve Closed and stays closed', 'Valve Closed and stays closed', 'Valve Closed and stays closed', 'Valve Closed and stays closed', 'Valve Closed and stays closed', 'Valve Closed and stays closed', 'Valve Closed and stays closed', 'Valve Closed and stays closed', 'Valve Closed and stays closed', 'Valve Closed and stays closed', 'Valve Closed and stays closed', 'Valve Closed and stays closed', 'Valve Closed and stays closed', 'Valve Closed and stays closed', 'Valve Closed and stays closed', 'Valve Closed and stays closed', 'Valve Closed and stays closed', 'Valve Closed and stays closed', 'Valve Closed and stays closed', 'Valve Closed and stays closed', 'Valve Closed and stays closed', 'Valve Closed and stays closed', 'Valve Closed and stays closed', 'Valve Closed and stays closed', 'Valve Closed and stays closed', 'Valve Closed and stays closed', 'Valve Closed and stays closed', 'Valve Closed and stays closed', 'Valve Closed and stays closed', 'Valve Closed and stays closed', 'Valve Closed and stays closed', 'Valve Closed and stays closed', 'Valve Closed and stays closed', 'Valve Closed and stays closed', 'Valve Closed and stays closed', 'Valve Closed and stays closed', 'Valve Closed and stays closed', 'Valve Closed and stays closed', 'Valve Closed and stays closed', 'Valve Closed and stays closed', 'Valve Closed and stays closed', 'Valve Closed and stays closed', 'Valve Closed and stays closed', 'Valve Closed and stays closed', 'Valve Closed and stays closed', 'Valve Closed and stays closed', 'Valve Closed and stays closed', 'Valve Closed and stays closed', 'Valve Closed and stays closed', 'Valve Closed and stays closed', 'Valve Closed and stays closed', 'Valve Closed and stays closed', 'Valve Closed and stays closed', 'Valve Closed and stays closed', 'Valve Closed and stays closed', 'Valve Closed and stays closed', 'Valve Closed and stays closed', 'Valve Closed and stays closed', 'Valve Closed and stays closed', 'Valve Closed and stays closed', 'Valve Closed and stays closed', 'Valve Closed and stays closed', 'Valve Closed and stays closed', 'Valve Closed and stays closed', 'Valve Closed and stays closed', 'Valve Closed and stays closed', 'Valve Closed and stays closed', 'Valve Closed and stays closed', 'Valve Closed and stays closed', 'Valve Closed and stays closed', 'Valve Closed and stays closed', 'Valve Closed and stays closed', 'Valve Closed and stays closed', 'Valve Closed and stays closed', 'Valve Closed and stays closed', 'Valve Closed and stays closed', 'Valve Closed and stays closed', 'Valve Closed and stays closed', 'Valve Closed and stays closed', 'Valve Closed and stays closed', 'Valve Closed and stays closed', 'Valve Closed and stays closed', 'Valve Closed and stays closed', 'Valve Closed and stays closed', 'Valve Closed and stays closed', 'Valve Closed and stays closed', 'Valve Closed and stays closed', 'Valve Closed and stays closed', 'Valve Closed and stays closed', 'Valve Closed and stays closed', 'Valve Closed and stays closed', 'Valve Closed and stays closed', 'Valve Closed and stays closed', 'Valve Closed and stays closed', 'Valve Closed and stays closed', 'Valve Closed and stays closed', 'Valve Closed and stays closed', 'Valve Closed and stays closed', 'Valve Closed and stays closed', 'Valve Closed and stays closed', 'Valve Closed and stays closed', 'Valve Closed and stays closed', 'Valve Closed and stays closed', 'Valve Closed and stays closed', 'Valve Closed and stays closed', 'Valve Closed and stays closed', 'Valve Closed and stays closed', 'Valve Closed and stays closed', 'Valve Closed and stays closed', 'Valve Closed and stays closed', 'Valve Closed and stays closed', 'Valve Closed and stays closed', 'Valve Closed and stays closed', 'Valve Closed and stays closed', 'Valve Closed and stays closed', 'Valve Closed and stays closed', 'Valve Closed and stays closed', 'Valve Closed and stays closed', 'Valve Closed and stays closed', 'Valve Closed and stays closed', 'Valve Closed and stays closed', 'Valve Closed and stays closed', 'Valve Closed and stays closed', 'Valve Closed and stays closed', 'Valve Closed and stays closed', 'Valve Closed and stays closed', 'Valve Closed and stays closed', 'Valve Closed and stays closed', 'Valve Closed and stays closed', 'Valve Closed and stays closed', 'Valve Closed and stays closed', 'Valve Closed and stays closed', 'Valve Closed and stays closed', 'Valve Closed and stays closed', 'Valve Closed and stays closed', 'Valve Closed and stays closed', 'Valve Closed and stays closed', 'Valve Closed and stays closed', 'Valve Closed and stays closed', 'Valve Closed and stays closed', 'Valve Closed and stays closed', 'Valve Closed and stays closed', 'Valve Closed and stays closed', 'Valve Closed and stays closed', 'Valve Closed and stays closed', 'Valve Closed and stays closed', 'Valve Closed and stays closed', 'Valve Closed and stays closed', 'Valve Closed and stays closed', 'Valve Closed and stays closed', 'Valve Closed and stays closed', 'Valve Closed and stays closed', 'Valve Closed and stays closed', 'Valve Closed and stays closed', 'Valve Closed and stays closed', 'Valve Closed and stays closed', 'Valve Closed and stays closed', 'Valve Closed and stays closed', 'Valve Closed and stays closed', 'Valve Closed and stays closed', 'Valve Closed and stays closed', 'Valve Closed and stays closed', 'Valve Closed and stays closed', 'Valve Closed and stays closed', 'Valve Closed and stays closed', 'Valve Closed and stays closed', 'Valve Closed and stays closed', 'Valve Closed and stays closed', 'Valve Closed and stays closed', 'Valve Closed and stays closed', 'Valve Closed and stays closed', 'Valve Closed and stays closed', 'Valve Closed and stays closed', 'Valve Closed and stays closed', 'Valve Closed and stays closed', 'Valve Closed and stays closed', 'Valve Closed and stays closed', 'Valve Closed and stays closed', 'Valve Closed and stays closed', 'Valve Closed and stays closed', 'Valve Closed and stays closed', 'Valve Closed and stays closed', 'Valve Closed and stays closed', 'Valve Closed and stays closed', 'Valve Closed and stays closed', 'Valve Closed and stays closed', 'Valve Closed and stays closed', 'Valve Closed and stays closed', 'Valve Closed and stays closed', 'Valve Closed and stays closed', 'Valve Closed and stays closed', 'Valve Closed and stays closed', 'Valve Closed and stays closed', 'Valve Closed and stays closed', 'Valve Closed and stays closed', 'Valve Closed and stays closed', 'Valve Closed and stays closed', 'Valve Closed and starts to open', 'Flow regime']\n"
     ]
    }
   ],
   "source": [
    "print(pump._cases[val1:val])"
   ]
  },
  {
   "cell_type": "code",
   "execution_count": 17,
   "metadata": {},
   "outputs": [
    {
     "name": "stdout",
     "output_type": "stream",
     "text": [
      "0.0\n"
     ]
    }
   ],
   "source": [
    "print(np.sum(pump_velocity[val1:val, 0]))"
   ]
  },
  {
   "cell_type": "code",
   "execution_count": null,
   "metadata": {},
   "outputs": [],
   "source": [
    "\n"
   ]
  }
 ],
 "metadata": {
  "kernelspec": {
   "display_name": "Python 3",
   "language": "python",
   "name": "python3"
  },
  "language_info": {
   "codemirror_mode": {
    "name": "ipython",
    "version": 3
   },
   "file_extension": ".py",
   "mimetype": "text/x-python",
   "name": "python",
   "nbconvert_exporter": "python",
   "pygments_lexer": "ipython3",
   "version": "3.6.9"
  }
 },
 "nbformat": 4,
 "nbformat_minor": 2
}
