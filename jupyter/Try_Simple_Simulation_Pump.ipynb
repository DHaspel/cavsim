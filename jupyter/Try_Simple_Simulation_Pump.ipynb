{
 "cells": [
  {
   "cell_type": "code",
   "execution_count": 1,
   "metadata": {},
   "outputs": [],
   "source": [
    "import numpy as np\n",
    "import matplotlib.pyplot as plt"
   ]
  },
  {
   "cell_type": "code",
   "execution_count": 2,
   "metadata": {},
   "outputs": [],
   "source": [
    "import cavsim\n",
    "from cavsim import Measure\n",
    "from cavsim.connectors import BaseConnector, Connector\n",
    "from cavsim.channels import ImportChannel, ExportChannel\n",
    "from cavsim.components import BaseComponent, Component\n",
    "from cavsim.solvers import BaseSolver, SimpleSolver\n",
    "from cavsim.fluids import Fluid"
   ]
  },
  {
   "cell_type": "code",
   "execution_count": 3,
   "metadata": {},
   "outputs": [],
   "source": [
    "from cavsim.pipes.pipe import Pipe\n",
    "from cavsim.boundaries.left_boundary_pressure import LeftBoundaryPressure\n",
    "from cavsim.boundaries.left_boundary_velocity import LeftBoundaryVelocity\n",
    "from cavsim.boundaries.right_boundary_pressure import RightBoundaryPressure\n",
    "from cavsim.boundaries.right_boundary_velocity import RightBoundaryVelocity\n",
    "from cavsim.boundaries.simple_pipe_connector import PipeConnectorSimple\n",
    "from cavsim.boundaries.zeta_joint import ZetaJoint\n",
    "from cavsim.boundaries.simple_t_joint import SimpleTJoint\n",
    "from cavsim.boundaries.simple_right_gasdampener import RightGasBubbleSimple\n",
    "from cavsim.boundaries.frictionless_gasdampener import FrictionlessGasDampener\n",
    "from cavsim.boundaries.gasdampener import GasDampener\n",
    "from cavsim.boundaries.pump_suction_valve import PumpSuctionValve"
   ]
  },
  {
   "cell_type": "code",
   "execution_count": 4,
   "metadata": {},
   "outputs": [],
   "source": [
    "fluid = Fluid(1000, 1e-3, 2.08e9, 2.3e-3,initial_pressure=128000)"
   ]
  },
  {
   "cell_type": "code",
   "execution_count": 5,
   "metadata": {},
   "outputs": [],
   "source": [
    "def pump(time):\n",
    "    \n",
    "    r = 0.02\n",
    "    lam = 0.0187\n",
    "    d = 0.07\n",
    "    #rpm = 120\n",
    "    rpm = 90\n",
    "    omega = rpm / 60 * 2* np.pi\n",
    "    \n",
    "    velocity = r * omega * (np.sin(omega * time) + lam / 2.0 * np.sin(2 * omega * time))\n",
    "    result = velocity\n",
    "    \n",
    "    return result"
   ]
  },
  {
   "cell_type": "code",
   "execution_count": 6,
   "metadata": {},
   "outputs": [],
   "source": [
    "def step(time):\n",
    "    return 0.35 * (time > 0.25)"
   ]
  },
  {
   "cell_type": "code",
   "execution_count": 7,
   "metadata": {},
   "outputs": [],
   "source": [
    "plogs = []\n",
    "vlogs = []\n",
    "flogs = []\n",
    "rblogs = []\n",
    "relogs = []\n",
    "def logging():\n",
    "    plogs.append(pipe.field_wide_slice('pressure', 0) + 0.0)\n",
    "    vlogs.append(pipe.field_wide_slice('velocity', 0) + 0.0)\n",
    "    flogs.append(pipe.field_wide_slice('friction_steady', 0) + 0.0)\n",
    "    rblogs.append(rb._velocity[0,1])\n",
    "    relogs.append(pipe.field_wide_slice('reynolds', 0) + 0.0)"
   ]
  },
  {
   "cell_type": "code",
   "execution_count": 8,
   "metadata": {},
   "outputs": [],
   "source": [
    "boundary_pipe = Pipe(1.5, 0.5, 0.002, 2e11, 2e-4, 4)\n",
    "pipe = Pipe(1.5, 0.5, 0.002, 2e11, 2e-4, 4)\n",
    "pipex = Pipe(1.5, 1.0, 0.002, 2e11, 2e-4, 4)\n",
    "pipe1 = Pipe(0.056, 5.0, 0.002, 2e11, 2e-4, 4)\n",
    "pipe2 = Pipe(0.025, 0.07, 0.002, 2e11, 2e-4, 10, initial_pressure=20e5)\n",
    "pipe3 = Pipe(0.025, 0.07, 0.002, 2e11, 2e-4, 10, initial_pressure=20e5)\n",
    "pipe4 = Pipe(0.07, 0.03, 0.002, 2e11, 2e-4, 10, initial_pressure=20e5)\n",
    "pipe5 = Pipe(0.025, 28.7, 0.002, 2e11, 2e-4, 4, initial_pressure=20e5)"
   ]
  },
  {
   "cell_type": "code",
   "execution_count": 9,
   "metadata": {},
   "outputs": [],
   "source": [
    "lb1 = LeftBoundaryPressure(128000)\n",
    "pipe.connect(lb1)"
   ]
  },
  {
   "cell_type": "code",
   "execution_count": 10,
   "metadata": {},
   "outputs": [],
   "source": [
    "rb = RightBoundaryVelocity(pump)"
   ]
  },
  {
   "cell_type": "code",
   "execution_count": 11,
   "metadata": {},
   "outputs": [],
   "source": [
    "tjoint = SimpleTJoint()\n",
    "pipe.connect(tjoint.left)\n",
    "boundary_pipe.connect(tjoint.right2)\n",
    "pipex.connect(tjoint.right)"
   ]
  },
  {
   "cell_type": "code",
   "execution_count": 12,
   "metadata": {},
   "outputs": [],
   "source": [
    "conn = ZetaJoint(4.5)\n",
    "pipex.connect(conn)\n",
    "pipe1.connect(conn)"
   ]
  },
  {
   "cell_type": "code",
   "execution_count": 13,
   "metadata": {},
   "outputs": [],
   "source": [
    "lb2 = RightGasBubbleSimple(pressure0 = 128000, volume0 = 1.5, polytropic_exponent = 1.1)\n",
    "lb2.connect(boundary_pipe)"
   ]
  },
  {
   "cell_type": "code",
   "execution_count": 14,
   "metadata": {},
   "outputs": [],
   "source": [
    "#conn = ZetaJoint(1.0)\n",
    "#pipe.connect(conn)\n",
    "#pipe1.connect(conn)"
   ]
  },
  {
   "cell_type": "code",
   "execution_count": 15,
   "metadata": {},
   "outputs": [],
   "source": [
    "angle = np.pi / 2.0\n",
    "valve = PumpSuctionValve(7950.0, 3.438, 3438.0, 0.022, 0.068, 0.040, 0.03644173, angle, 7.63e-3, 6.480, 107.00, 74.00, 1.40, -2.40, 0.50, 0.0, 0.0, 25.0e-3)\n",
    "valve.connect(pipe1)\n",
    "valve.connect(pipe2)"
   ]
  },
  {
   "cell_type": "code",
   "execution_count": 16,
   "metadata": {},
   "outputs": [],
   "source": [
    "pump_joint = SimpleTJoint()\n",
    "pipe2.connect(pump_joint.left)\n",
    "pipe3.connect(pump_joint.right2)\n",
    "pipe4.connect(pump_joint.right)"
   ]
  },
  {
   "cell_type": "code",
   "execution_count": 17,
   "metadata": {},
   "outputs": [],
   "source": [
    "rb.connect(pipe4)"
   ]
  },
  {
   "cell_type": "code",
   "execution_count": null,
   "metadata": {},
   "outputs": [],
   "source": []
  },
  {
   "cell_type": "code",
   "execution_count": 18,
   "metadata": {},
   "outputs": [],
   "source": [
    "discharge = PumpSuctionValve(7950.0, 3.438, 3438.0, 0.022, 0.068, 0.040, 0.03644173, angle, 7.63e-3, 6.480, 107.00, 74.00, 1.40, -2.40, 0.50, 0.0, 0.0, 25.0e-3)\n",
    "discharge.connect(pipe3)\n",
    "discharge.connect(pipe5)"
   ]
  },
  {
   "cell_type": "code",
   "execution_count": 19,
   "metadata": {},
   "outputs": [],
   "source": [
    "rb2 = RightBoundaryPressure(20e5)"
   ]
  },
  {
   "cell_type": "code",
   "execution_count": 20,
   "metadata": {},
   "outputs": [],
   "source": [
    "pipe5.connect(rb2)"
   ]
  },
  {
   "cell_type": "code",
   "execution_count": 21,
   "metadata": {},
   "outputs": [],
   "source": [
    "plogs1 = []\n",
    "plogs2 = []\n",
    "plogs3 = []\n",
    "plogs4 = []\n",
    "plogs5 = []\n",
    "plogs6 = []\n",
    "vlogs = []\n",
    "vlogs1 = []\n",
    "flogs = []\n",
    "rblogs = []\n",
    "relogs = []\n",
    "dislog = []\n",
    "springlog = []\n",
    "contact_pressurelog = []\n",
    "velocity = []\n",
    "dischargedisfieldlog = []\n",
    "\n",
    "\n",
    "def logging(t):\n",
    "    plogs.append(pipe.field_wide_slice('pressure', 0) + 0.0)\n",
    "    dislog.append(valve.field_wide_slice('displacement', 0) + 0.0)\n",
    "    dischargedisfieldlog.append(discharge.field_wide_slice('displacement', 0) + 0.0)\n",
    "    springlog.append(valve.field_wide_slice('spring_force', 0) + 0.0)\n",
    "    contact_pressurelog.append(valve.field_wide_slice('contact_pressure_force', 0) + 0.0)\n",
    "    plogs1.append(pipe1.field_wide_slice('pressure', 0) + 0.0)\n",
    "    plogs2.append(pipe2.field_wide_slice('pressure', 0) + 0.0)\n",
    "    plogs3.append(pipe3.field_wide_slice('pressure', 0) + 0.0)\n",
    "    plogs4.append(pipe4.field_wide_slice('pressure', 0) + 0.0)\n",
    "    plogs5.append(pipe5.field_wide_slice('pressure', 0) + 0.0)\n",
    "    velocity.append(valve.field_wide_slice('valve_velocity', 1) + 0.0)"
   ]
  },
  {
   "cell_type": "code",
   "execution_count": 22,
   "metadata": {},
   "outputs": [],
   "source": [
    "solver = SimpleSolver()\n",
    "solver.fluid = fluid\n",
    "solver.seeds = [pipe1, pipe2, pipe3, pipe4, pipe5]\n",
    "solver._callback = logging"
   ]
  },
  {
   "cell_type": "code",
   "execution_count": null,
   "metadata": {
    "scrolled": false
   },
   "outputs": [
    {
     "name": "stdout",
     "output_type": "stream",
     "text": [
      " 0:00:00 [                              |  0.00%]  2:17:30  Currently at time   0.000 of   1.000"
     ]
    },
    {
     "name": "stderr",
     "output_type": "stream",
     "text": [
      "l:\\cavsim\\cavsim\\base\\solvers\\simple_solver.py:46: UserWarning: Smaller timestep required by component! (0.000787889098013947 < 1e+20 by <cavsim.pipes.pipe.Pipe object at 0x000002905A5A0550>)\n",
      "  warn('Smaller timestep required by component! ({} < {} by {})'.format(component_time, delta_t, component))\n",
      "l:\\cavsim\\cavsim\\base\\solvers\\simple_solver.py:46: UserWarning: Smaller timestep required by component! (0.00041137667560372116 < 1e+20 by <cavsim.pipes.pipe.Pipe object at 0x000002905A5A9748>)\n",
      "  warn('Smaller timestep required by component! ({} < {} by {})'.format(component_time, delta_t, component))\n",
      "l:\\cavsim\\cavsim\\base\\solvers\\simple_solver.py:46: UserWarning: Smaller timestep required by component! (4.690432701998517e-06 < 1e+20 by <cavsim.pipes.pipe.Pipe object at 0x000002905A5A5358>)\n",
      "  warn('Smaller timestep required by component! ({} < {} by {})'.format(component_time, delta_t, component))\n",
      "l:\\cavsim\\cavsim\\base\\solvers\\simple_solver.py:46: UserWarning: Smaller timestep required by component! (0.00020568833780186058 < 1e+20 by <cavsim.pipes.pipe.Pipe object at 0x000002905A597B70>)\n",
      "  warn('Smaller timestep required by component! ({} < {} by {})'.format(component_time, delta_t, component))\n",
      "l:\\cavsim\\cavsim\\base\\solvers\\simple_solver.py:46: UserWarning: Smaller timestep required by component! (0.00020568833780186058 < 1e+20 by <cavsim.pipes.pipe.Pipe object at 0x000002905A597B00>)\n",
      "  warn('Smaller timestep required by component! ({} < {} by {})'.format(component_time, delta_t, component))\n",
      "l:\\cavsim\\cavsim\\base\\solvers\\simple_solver.py:46: UserWarning: Smaller timestep required by component! (2.2085339883330705e-06 < 1e+20 by <cavsim.pipes.pipe.Pipe object at 0x000002905A5ADEB8>)\n",
      "  warn('Smaller timestep required by component! ({} < {} by {})'.format(component_time, delta_t, component))\n",
      "l:\\cavsim\\cavsim\\base\\solvers\\simple_solver.py:46: UserWarning: Smaller timestep required by component! (4.690432701998517e-06 < 1e+20 by <cavsim.pipes.pipe.Pipe object at 0x000002905A5AD0F0>)\n",
      "  warn('Smaller timestep required by component! ({} < {} by {})'.format(component_time, delta_t, component))\n",
      "l:\\cavsim\\cavsim\\base\\solvers\\simple_solver.py:46: UserWarning: Smaller timestep required by component! (0.004230770297202662 < 1e+20 by <cavsim.pipes.pipe.Pipe object at 0x000002905A5B1CC0>)\n",
      "  warn('Smaller timestep required by component! ({} < {} by {})'.format(component_time, delta_t, component))\n"
     ]
    },
    {
     "name": "stdout",
     "output_type": "stream",
     "text": [
      " 1:30:11 [==============                | 49.58%]  1:31:42  Currently at time   0.496 of   1.000"
     ]
    }
   ],
   "source": [
    "solver.solve(1e20, 1.0, 3)"
   ]
  },
  {
   "cell_type": "code",
   "execution_count": null,
   "metadata": {},
   "outputs": [],
   "source": [
    "pfield1 = np.stack(plogs1)\n",
    "#pfield2 = np.stack(plogs2)\n",
    "#pfield3 = np.stack(plogs3)\n",
    "pfield4 = np.stack(plogs4)\n",
    "#pfield5 = np.stack(plogs5)\n",
    "disfield = np.stack(dislog)\n",
    "#velfield = np.stack(velocity)\n",
    "disdisfield = np.stack(dischargedisfieldlog)"
   ]
  },
  {
   "cell_type": "code",
   "execution_count": null,
   "metadata": {},
   "outputs": [],
   "source": []
  },
  {
   "cell_type": "code",
   "execution_count": null,
   "metadata": {},
   "outputs": [],
   "source": [
    "time = np.linspace(0.0, 1.5, int(pfield4[:,-2].shape[0]))\n",
    "#plt.figure(figsize=(16, 10))\n",
    "fig, ax1 = plt.subplots(figsize=(16, 10))\n",
    "#plt.subplot(1, 2, 1)\n",
    "#plt.plot(vfield[:,0])\n",
    "#plt.plot(1, 2, 2)\n",
    "#val1 = 157500\n",
    "#val = -220000\n",
    "val = -1\n",
    "val1 = 0\n",
    "\n",
    "#upper_force = upperp_field[val1:val, 0] + gfield[val1:val, 0] + springforce[val1:val, 0]\n",
    "#lower_force = lowp_field[val1:val, 0] + contact_pressure[val1:val, 0]\n",
    "#result1 = lower_force - upper_force\n",
    "#result2 = flow_field[val1:val, 0] - gfield[val1:val, 0] - springforce[val1:val, 0] - dampingfield[val1:val, 0]\n",
    "#upper_flow = gfield[val1:val, 0] + springforce[val1:val, 0] + dampingfield[val1:val, 0]\n",
    "#lower_flow = flow_field[val1:val, 0]\n",
    "#ax1.plot(time[val1:val], upper_flow, color='red')\n",
    "#ax1.plot(time[val1:val], lower_flow, color='blue')\n",
    "\n",
    "\n",
    "#plt.subplot(1, 2, 2)\n",
    "#ax1.plot(result1[val1:val])\n",
    "#ax1.plot(result2[val1:val])\n",
    "#ax1.plot(time[val1:val], upperp_field[val1:val, 0], color='red')\n",
    "#ax1.plot(time[val1:val], lowp_field[val1:val, 0], color='green')\n",
    "#ax1.plot(time[val1:val], dampingfield[val1:val, 0], color='blue')\n",
    "\n",
    "#ax1.plot(time[val1:val], contact_pressure[val1:val, 0], color='black')\n",
    "#ax1.plot(time[val1:val], springforce[val1:val, 0], color='grey')\n",
    "#ax1.plot(time[val1:val], upper_force, color='red')\n",
    "#ax1.plot(time[val1:val], lower_force, color='blue')\n",
    "\n",
    "#plt.plot(time[val1:val], pfield2[val1:val, 1], color='red')\n",
    "#plt.plot(time[val1:val], pfield1[val1:val, -2])\n",
    "\n",
    "\n",
    "#ax1.plot(time[val1:val], deltap[val1:val, 0], color='green')\n",
    "\n",
    "#plt.xlim(time[val1],time[val])\n",
    "plt.ylim(0.0e5, 5e5)\n",
    "\n",
    "color = 'tab:red'\n",
    "ax1.set_xlabel('time (s)')\n",
    "ax1.set_ylabel('Pressure', color=color)\n",
    "#ax1.set_ylim(-0e5, 6e5)\n",
    "#ax1.plot(time[val1:val], pfield3[val1:val, 1], color='red')\n",
    "ax1.plot(time[val1:val], pfield4[val1:val, -2], color='green')\n",
    "ax1.plot(time[val1:val], pfield1[val1:val, -2], color='black')\n",
    "ax1.tick_params(axis='y', labelcolor=color)\n",
    "\n",
    "\n",
    "ax2 = ax1.twinx()  # instantiate a second axes that shares the same x-axis\n",
    "\n",
    "color = 'tab:blue'\n",
    "ax2.plot(time[val1:val], disfield[val1:val, 0]*1e3, color=color)  # we already handled the x-label with ax1\n",
    "ax2.plot(time[val1:val], disdisfield[val1:val, 0]*1e3, color='black')\n",
    "#ax2.plot(time[val1:val], velfield[val1:val, 0], color = 'pink')\n",
    "#ax2.plot(time[val1:val], vfield[val1:val, 1], color = 'red')\n",
    "#ax2.plot(time[val1:val], zeta[val1:val, 0], color='green')\n",
    "#ax2.plot(time[val1:val], flow_field[val1:val, 0], color='black')\n",
    "ax2.tick_params(axis='y', labelcolor=color)\n",
    "\n",
    "#plt.subplot(1, 2, 1)\n",
    "#plt.plot(time[val1:val], disfield[val1:val, 0]*1000, color='black')\n",
    "\n",
    "#plt.plot(time[val1:val], pump(time[val1:val]))\n",
    "#plt.plot(time[val1:val], velfield[val1:val, 0], color='blue')\n",
    "#plt.plot(time[val1:val], pfield2[val1:val, 1], color='red')\n",
    "#pltplot(time[val1:val], pfield1[val1:val, -2], color='green')\n",
    "#plt.ylim(0.0e5, 8.0e5)\n",
    "fig.tight_layout()\n",
    "plt.show()\n",
    "#print(np.shape(pfield7[val1:val, 1]))"
   ]
  },
  {
   "cell_type": "code",
   "execution_count": null,
   "metadata": {},
   "outputs": [],
   "source": []
  },
  {
   "cell_type": "code",
   "execution_count": null,
   "metadata": {},
   "outputs": [],
   "source": []
  }
 ],
 "metadata": {
  "kernelspec": {
   "display_name": "Python 3",
   "language": "python",
   "name": "python3"
  },
  "language_info": {
   "codemirror_mode": {
    "name": "ipython",
    "version": 3
   },
   "file_extension": ".py",
   "mimetype": "text/x-python",
   "name": "python",
   "nbconvert_exporter": "python",
   "pygments_lexer": "ipython3",
   "version": "3.6.9"
  }
 },
 "nbformat": 4,
 "nbformat_minor": 2
}
