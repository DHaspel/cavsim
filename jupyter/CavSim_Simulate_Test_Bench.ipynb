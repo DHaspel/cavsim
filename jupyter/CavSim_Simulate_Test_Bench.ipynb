{
 "cells": [
  {
   "cell_type": "code",
   "execution_count": 1,
   "metadata": {},
   "outputs": [],
   "source": [
    "import numpy as np\n",
    "import matplotlib.pyplot as plt"
   ]
  },
  {
   "cell_type": "code",
   "execution_count": 2,
   "metadata": {},
   "outputs": [],
   "source": [
    "import cavsim\n",
    "from cavsim import Measure\n",
    "from cavsim.connectors import BaseConnector, Connector\n",
    "from cavsim.channels import ImportChannel, ExportChannel\n",
    "from cavsim.components import BaseComponent, Component\n",
    "from cavsim.solvers import BaseSolver, SimpleSolver\n",
    "from cavsim.fluids import Fluid"
   ]
  },
  {
   "cell_type": "code",
   "execution_count": 3,
   "metadata": {},
   "outputs": [],
   "source": [
    "from cavsim.pipes.pipe import Pipe\n",
    "from cavsim.boundaries.left_boundary_pressure import LeftBoundaryPressure\n",
    "from cavsim.boundaries.left_boundary_velocity import LeftBoundaryVelocity\n",
    "from cavsim.boundaries.right_boundary_pressure import RightBoundaryPressure\n",
    "from cavsim.boundaries.right_boundary_velocity import RightBoundaryVelocity\n",
    "from cavsim.boundaries.simple_pipe_connector import PipeConnectorSimple\n",
    "from cavsim.boundaries.zeta_joint import ZetaJoint\n",
    "from cavsim.boundaries.simple_t_joint import SimpleTJoint\n",
    "from cavsim.boundaries.simple_right_gasdampener import RightGasBubbleSimple\n",
    "from cavsim.boundaries.simple_left_gasdampener import LeftGasBubbleSimple\n",
    "from cavsim.boundaries.frictionless_gasdampener import FrictionlessGasDampener\n",
    "from cavsim.boundaries.gasdampener import GasDampener\n",
    "from cavsim.boundaries.pump_with_valves_model_new import PumpSuctionValve"
   ]
  },
  {
   "cell_type": "code",
   "execution_count": 4,
   "metadata": {},
   "outputs": [],
   "source": [
    "fluid = Fluid(1000, 1e-3, 0.52e9, 2.3e-3,initial_pressure=128000)"
   ]
  },
  {
   "cell_type": "code",
   "execution_count": 5,
   "metadata": {},
   "outputs": [],
   "source": [
    "Tank = Pipe(1.5, 1.5, 0.002, 2e11, 1e-7, 4)\n",
    "suction = Pipe(0.056, 0.07, 0.002, 2e11, 1e-7, 6)\n",
    "suction1 = Pipe(0.056, 1.480, 0.002, 2e11, 1e-7, 4)\n",
    "suction2 = Pipe(0.056, 1.210, 0.002, 2e11, 1e-7, 4)\n",
    "suction3 = Pipe(0.056, 0.225, 0.002, 2e11, 1e-7, 4)\n",
    "suction4 = Pipe(0.056, 0.360, 0.002, 2e11, 1e-7, 4)\n",
    "suction5 = Pipe(0.056, 0.590, 0.002, 2e11, 1e-7, 4)\n",
    "suction6 = Pipe(0.056, 0.335, 0.002, 2e11, 1e-7, 4)\n",
    "suction7 = Pipe(0.056, 0.519, 0.002, 2e11, 1e-7, 4)\n",
    "suction8 = Pipe(0.056, 0.274, 0.002, 2e11, 1e-7, 4)\n",
    "suction9 = Pipe(0.032, 0.15, 0.002, 2e11, 1e-7, 4)\n",
    "discharge = Pipe(0.025, 0.7, 0.002, 2e11, 1e-7, 4, initial_pressure=20e5)\n",
    "discharge1 = Pipe(0.025, 0.2, 0.002, 2e11, 1e-7, 4, initial_pressure=20e5)\n",
    "discharge2 = Pipe(0.025, 27.4, 0.002, 2e11, 1e-7, 4, initial_pressure=20e5)\n",
    "discharge3 = Pipe(0.025, 0.5, 0.002, 2e11, 1e-7, 4, initial_pressure=20e5)\n",
    "discharge4 = Pipe(0.025, 0.5, 0.002, 2e11, 1e-7, 4, initial_pressure=20e5)\n",
    "discharge5 = Pipe(0.025, 0.5, 0.002, 2e11, 1e-7, 4, initial_pressure=20e5)"
   ]
  },
  {
   "cell_type": "code",
   "execution_count": 6,
   "metadata": {},
   "outputs": [],
   "source": [
    "lb1 = LeftBoundaryPressure(1.28e5)\n",
    "Tank.connect(lb1)"
   ]
  },
  {
   "cell_type": "code",
   "execution_count": 7,
   "metadata": {},
   "outputs": [],
   "source": [
    "conn = ZetaJoint(1.0)\n",
    "Tank.connect(conn)\n",
    "suction.connect(conn)"
   ]
  },
  {
   "cell_type": "code",
   "execution_count": 8,
   "metadata": {},
   "outputs": [],
   "source": [
    "conn1 = ZetaJoint(0.1)\n",
    "suction.connect(conn1)\n",
    "suction1.connect(conn1)"
   ]
  },
  {
   "cell_type": "code",
   "execution_count": 9,
   "metadata": {},
   "outputs": [],
   "source": [
    "conn2 = ZetaJoint(0.2)\n",
    "suction1.connect(conn2)\n",
    "suction2.connect(conn2)"
   ]
  },
  {
   "cell_type": "code",
   "execution_count": 10,
   "metadata": {},
   "outputs": [],
   "source": [
    "conn3 = ZetaJoint(0.05)\n",
    "suction2.connect(conn3)\n",
    "suction3.connect(conn3)"
   ]
  },
  {
   "cell_type": "code",
   "execution_count": 11,
   "metadata": {},
   "outputs": [],
   "source": [
    "conn4 = ZetaJoint(0.05)\n",
    "suction3.connect(conn4)\n",
    "suction4.connect(conn4)"
   ]
  },
  {
   "cell_type": "code",
   "execution_count": 12,
   "metadata": {},
   "outputs": [],
   "source": [
    "conn5 = ZetaJoint(0.05)\n",
    "suction4.connect(conn5)\n",
    "suction5.connect(conn5)"
   ]
  },
  {
   "cell_type": "code",
   "execution_count": 13,
   "metadata": {},
   "outputs": [],
   "source": [
    "conn6 = ZetaJoint(0.05)\n",
    "suction5.connect(conn6)\n",
    "suction6.connect(conn6)"
   ]
  },
  {
   "cell_type": "code",
   "execution_count": 14,
   "metadata": {},
   "outputs": [],
   "source": [
    "conn7 = ZetaJoint(0.05)\n",
    "suction6.connect(conn7)\n",
    "suction7.connect(conn7)"
   ]
  },
  {
   "cell_type": "code",
   "execution_count": 15,
   "metadata": {},
   "outputs": [],
   "source": [
    "conn8 = ZetaJoint(0.2)\n",
    "suction7.connect(conn8)\n",
    "suction8.connect(conn8)"
   ]
  },
  {
   "cell_type": "code",
   "execution_count": 16,
   "metadata": {},
   "outputs": [],
   "source": [
    "conn9 = ZetaJoint(0.05)\n",
    "suction8.connect(conn9)\n",
    "suction9.connect(conn9)"
   ]
  },
  {
   "cell_type": "code",
   "execution_count": 17,
   "metadata": {},
   "outputs": [],
   "source": [
    "pump = PumpSuctionValve(suction_valve_density=7950.0,               # kg/m³\n",
    "            suction_spring_force0 = 3.438,                   # N\n",
    "            suction_spring_stiffness = 3438.0,            # N/m\n",
    "            suction_spring_mass = 0.022,                 # kg\n",
    "            suction_valve_mass = 0.068,                  # kg\n",
    "            suction_outer_diameter = 0.040,              # m\n",
    "            suction_inner_contact_diameter = 0.03644173,      # m\n",
    "            suction_seat_tilt = 90/180*np.pi,                   # °\n",
    "            suction_flow_constant_1 = 7.63e-2,             # -\n",
    "            suction_flow_constant_2 = 6.480,             # -\n",
    "            suction_friction_factor_a = 107.00,           # -\n",
    "            suction_friction_factor_b = 74.00,           # -\n",
    "            suction_friction_factor_c = 1.40,           # -\n",
    "            suction_friction_factor_d = -2.40,           # -\n",
    "            suction_factor_k0 = 0.50,                   # -\n",
    "            suction_factor_k1 = 0.0,                   # -\n",
    "            suction_factor_k2 = 0.0,                   # -\n",
    "            suction_max_displacement = 25e-3,                   # m\n",
    "            suction_outer_contact_diameter = 0.040,      # m\n",
    "            discharge_valve_density = 7950.0,             # kg/m³\n",
    "            discharge_spring_force0 = 3.438,             # N\n",
    "            discharge_spring_stiffness = 3438.0,          # N/m\n",
    "            discharge_spring_mass = 0.022,               # kg\n",
    "            discharge_valve_mass = 0.068,                # kg\n",
    "            discharge_outer_diameter = 0.040,            # m\n",
    "            discharge_inner_contact_diameter = 0.03644173,    # m\n",
    "            discharge_seat_tilt = 90/180*np.pi,                 # °\n",
    "            discharge_flow_constant_1 = 7.63e-3,           # -\n",
    "            discharge_flow_constant_2 = 6.480,           # -\n",
    "            discharge_friction_factor_a = 107.00,         # -\n",
    "            discharge_friction_factor_b = 74.00,         # -\n",
    "            discharge_friction_factor_c = 1.40,         # -\n",
    "            discharge_friction_factor_d = -2.40,         # -\n",
    "            discharge_factor_k0 = 0.50,                 # -\n",
    "            discharge_factor_k1 = 0.0,                 # -\n",
    "            discharge_factor_k2 = 0.0,                 # -\n",
    "            discharge_max_displacement = 25e-3,                 # m\n",
    "            discharge_outer_contact_diameter = 0.040,    # m\n",
    "            pump_radius = 0.040/2.0,                         # m\n",
    "            rpm = 68.0,                                 # U/min\n",
    "            rratio = 0.175,                              # -\n",
    "            phi0 = 180,                                # °\n",
    "            piston_diameter = 0.07,                     # m\n",
    "            death_volume = 3.442416e-4)                        # m³)"
   ]
  },
  {
   "cell_type": "code",
   "execution_count": 18,
   "metadata": {},
   "outputs": [],
   "source": [
    "suction9.connect(pump)\n",
    "discharge.connect(pump)"
   ]
  },
  {
   "cell_type": "code",
   "execution_count": null,
   "metadata": {},
   "outputs": [],
   "source": []
  },
  {
   "cell_type": "code",
   "execution_count": 19,
   "metadata": {},
   "outputs": [],
   "source": [
    "conn11 = SimpleTJoint(20e5)\n",
    "discharge.connect(conn11)\n",
    "discharge1.connect(conn11.right2)\n",
    "discharge2.connect(conn11.right)"
   ]
  },
  {
   "cell_type": "code",
   "execution_count": 20,
   "metadata": {},
   "outputs": [],
   "source": [
    "#gd_right = RightGasBubbleSimple(20.6e5, 4.3e-3, 1.07)\n",
    "gd_right = RightGasBubbleSimple(20e5, 4.4e-3, 1.15)\n",
    "discharge1.connect(gd_right)"
   ]
  },
  {
   "cell_type": "code",
   "execution_count": 21,
   "metadata": {},
   "outputs": [],
   "source": [
    "conn12 = SimpleTJoint(20e5)\n",
    "discharge2.connect(conn12)\n",
    "discharge3.connect(conn12.right2)\n",
    "discharge4.connect(conn12.right)"
   ]
  },
  {
   "cell_type": "code",
   "execution_count": 22,
   "metadata": {},
   "outputs": [],
   "source": [
    "gd_right = RightGasBubbleSimple(20e5, 1.35e-3, 1.1)\n",
    "discharge3.connect(gd_right)"
   ]
  },
  {
   "cell_type": "code",
   "execution_count": 23,
   "metadata": {},
   "outputs": [],
   "source": [
    "conn13 = ZetaJoint(22099.63536)\n",
    "discharge4.connect(conn13)\n",
    "discharge5.connect(conn13)"
   ]
  },
  {
   "cell_type": "code",
   "execution_count": 24,
   "metadata": {},
   "outputs": [],
   "source": [
    "rb = RightBoundaryPressure(1.28e5)\n",
    "rb.connect(discharge5)"
   ]
  },
  {
   "cell_type": "code",
   "execution_count": 25,
   "metadata": {},
   "outputs": [],
   "source": [
    "plogs1 = []\n",
    "plogs2 = []\n",
    "plogs3 = []\n",
    "vlogs = []\n",
    "vlogs1 = []\n",
    "flogs = []\n",
    "rblogs = []\n",
    "relogs = []\n",
    "dislog = []\n",
    "springlog = []\n",
    "contact_pressurelog = []\n",
    "velocity = []\n",
    "pumplog = []\n",
    "pump_speed = []\n",
    "pump_value = []\n",
    "flow_log = []\n",
    "lower_pressure_log = []\n",
    "contact_pressure_log = []\n",
    "damping_log = []\n",
    "\n",
    "\n",
    "\n",
    "\n",
    "def logging(time):\n",
    "    plogs1.append(suction9.field_wide_slice('pressure', 0) + 0.0)\n",
    "    plogs2.append(discharge.field_wide_slice('pressure', 0) + 0.0)\n",
    "    plogs3.append(discharge3.field_wide_slice('pressure', 0) + 0.0)\n",
    "    pumplog.append(pump.field_wide_slice('pump_pressure', 0) + 0.0)\n",
    "    dislog.append(pump.field_wide_slice('suction_displacement', 0) + 0.0)\n",
    "    pump_speed.append(pump.field_wide_slice('discharge_pressure', 1) +0.0)\n",
    "    pump_value.append(pump.field_wide_slice('discharge_displacement', 1) +0.0)\n",
    "    springlog.append(pump.field_wide_slice('discharge_valve_velocity', 1) +0.0)\n",
    "    contact_pressurelog.append(pump.field_wide_slice('suction_contact_pressure_force', 1) +0.0)\n",
    "    flow_log.append(pump.field_wide_slice('suction_flow_force', 1) +0.0)\n",
    "    velocity.append(pump.field_wide_slice('suction_valve_velocity', 1) +0.0)\n",
    "    lower_pressure_log.append(pump.field_wide_slice('discharge_lower_pressure_force', 1) +0.0)\n",
    "    contact_pressure_log.append(pump.field_wide_slice('discharge_contact_pressure_force', 1) +0.0)\n",
    "    damping_log.append(pump.field_wide_slice('discharge_upper_pressure_force', 1) +0.0)"
   ]
  },
  {
   "cell_type": "code",
   "execution_count": 26,
   "metadata": {},
   "outputs": [],
   "source": [
    "solver = SimpleSolver()\n",
    "solver.fluid = fluid\n",
    "solver.seeds = [suction9]\n",
    "solver._callback = logging"
   ]
  },
  {
   "cell_type": "code",
   "execution_count": null,
   "metadata": {
    "scrolled": false
   },
   "outputs": [
    {
     "name": "stdout",
     "output_type": "stream",
     "text": [
      " 0:00:00 [                              |  0.00%]  1:55:57  Currently at time   0.000 of   3.000"
     ]
    },
    {
     "name": "stderr",
     "output_type": "stream",
     "text": [
      "l:\\cavsim\\cavsim\\base\\solvers\\simple_solver.py:46: UserWarning: Smaller timestep required by component! (4.2459030026240955e-05 < 1e+20 by <cavsim.pipes.pipe.Pipe object at 0x0000023834A32128>)\n",
      "  warn('Smaller timestep required by component! ({} < {} by {})'.format(component_time, delta_t, component))\n",
      "l:\\cavsim\\cavsim\\base\\solvers\\simple_solver.py:46: UserWarning: Smaller timestep required by component! (7.871151455204583e-05 < 1e+20 by <cavsim.pipes.pipe.Pipe object at 0x0000023834A2D320>)\n",
      "  warn('Smaller timestep required by component! ({} < {} by {})'.format(component_time, delta_t, component))\n",
      "l:\\cavsim\\cavsim\\base\\solvers\\simple_solver.py:46: UserWarning: Smaller timestep required by component! (0.00019727470109547163 < 1e+20 by <cavsim.pipes.pipe.Pipe object at 0x0000023834A32EF0>)\n",
      "  warn('Smaller timestep required by component! ({} < {} by {})'.format(component_time, delta_t, component))\n",
      "l:\\cavsim\\cavsim\\base\\solvers\\simple_solver.py:46: UserWarning: Smaller timestep required by component! (0.00014909224836683133 < 1e+20 by <cavsim.pipes.pipe.Pipe object at 0x0000023834A2A518>)\n",
      "  warn('Smaller timestep required by component! ({} < {} by {})'.format(component_time, delta_t, component))\n",
      "l:\\cavsim\\cavsim\\base\\solvers\\simple_solver.py:46: UserWarning: Smaller timestep required by component! (0.00772189544287989 < 1e+20 by <cavsim.pipes.pipe.Pipe object at 0x0000023834A3AA90>)\n",
      "  warn('Smaller timestep required by component! ({} < {} by {})'.format(component_time, delta_t, component))\n",
      "l:\\cavsim\\cavsim\\base\\solvers\\simple_solver.py:46: UserWarning: Smaller timestep required by component! (5.63642003129919e-05 < 1e+20 by <cavsim.pipes.pipe.Pipe object at 0x0000023834A36C88>)\n",
      "  warn('Smaller timestep required by component! ({} < {} by {})'.format(component_time, delta_t, component))\n",
      "l:\\cavsim\\cavsim\\base\\solvers\\simple_solver.py:46: UserWarning: Smaller timestep required by component! (9.623488093042099e-05 < 1e+20 by <cavsim.pipes.pipe.Pipe object at 0x0000023834A27710>)\n",
      "  warn('Smaller timestep required by component! ({} < {} by {})'.format(component_time, delta_t, component))\n",
      "l:\\cavsim\\cavsim\\base\\solvers\\simple_solver.py:46: UserWarning: Smaller timestep required by component! (0.00014091050078247975 < 1e+20 by <cavsim.pipes.pipe.Pipe object at 0x0000023834A416A0>)\n",
      "  warn('Smaller timestep required by component! ({} < {} by {})'.format(component_time, delta_t, component))\n",
      "l:\\cavsim\\cavsim\\base\\solvers\\simple_solver.py:46: UserWarning: Smaller timestep required by component! (0.00014091050078247975 < 1e+20 by <cavsim.pipes.pipe.Pipe object at 0x0000023834A3D898>)\n",
      "  warn('Smaller timestep required by component! ({} < {} by {})'.format(component_time, delta_t, component))\n",
      "l:\\cavsim\\cavsim\\base\\solvers\\simple_solver.py:46: UserWarning: Smaller timestep required by component! (0.00016948829775805487 < 1e+20 by <cavsim.pipes.pipe.Pipe object at 0x0000023834A23908>)\n",
      "  warn('Smaller timestep required by component! ({} < {} by {})'.format(component_time, delta_t, component))\n",
      "l:\\cavsim\\cavsim\\base\\solvers\\simple_solver.py:46: UserWarning: Smaller timestep required by component! (0.00014091050078247975 < 1e+20 by <cavsim.pipes.pipe.Pipe object at 0x0000023834A454A8>)\n",
      "  warn('Smaller timestep required by component! ({} < {} by {})'.format(component_time, delta_t, component))\n",
      "l:\\cavsim\\cavsim\\base\\solvers\\simple_solver.py:46: UserWarning: Smaller timestep required by component! (0.00010341658846254196 < 1e+20 by <cavsim.pipes.pipe.Pipe object at 0x0000023834A20B00>)\n",
      "  warn('Smaller timestep required by component! ({} < {} by {})'.format(component_time, delta_t, component))\n",
      "l:\\cavsim\\cavsim\\base\\solvers\\simple_solver.py:46: UserWarning: Smaller timestep required by component! (6.463536778908873e-05 < 1e+20 by <cavsim.pipes.pipe.Pipe object at 0x0000023834A1CCF8>)\n",
      "  warn('Smaller timestep required by component! ({} < {} by {})'.format(component_time, delta_t, component))\n",
      "l:\\cavsim\\cavsim\\base\\solvers\\simple_solver.py:46: UserWarning: Smaller timestep required by component! (0.0003475946445546549 < 1e+20 by <cavsim.pipes.pipe.Pipe object at 0x0000023834A18EF0>)\n",
      "  warn('Smaller timestep required by component! ({} < {} by {})'.format(component_time, delta_t, component))\n",
      "l:\\cavsim\\cavsim\\base\\solvers\\simple_solver.py:46: UserWarning: Smaller timestep required by component! (0.00042515708590156137 < 1e+20 by <cavsim.pipes.pipe.Pipe object at 0x0000023834A18128>)\n",
      "  warn('Smaller timestep required by component! ({} < {} by {})'.format(component_time, delta_t, component))\n",
      "l:\\cavsim\\cavsim\\base\\solvers\\simple_solver.py:46: UserWarning: Smaller timestep required by component! (1.4363415064241941e-05 < 1e+20 by <cavsim.pipes.pipe.Pipe object at 0x0000023834A106A0>)\n",
      "  warn('Smaller timestep required by component! ({} < {} by {})'.format(component_time, delta_t, component))\n",
      "l:\\cavsim\\cavsim\\base\\solvers\\simple_solver.py:46: UserWarning: Smaller timestep required by component! (0.0007145466556334325 < 1e+20 by <cavsim.pipes.pipe.Pipe object at 0x0000023834A10630>)\n",
      "  warn('Smaller timestep required by component! ({} < {} by {})'.format(component_time, delta_t, component))\n"
     ]
    },
    {
     "name": "stdout",
     "output_type": "stream",
     "text": [
      " 0:00:42 [                              |  0.78%]  1:30:42  Currently at time   0.023 of   3.000-----------------------------------------\n",
      "2411.43985579029\n",
      "106.92105357081427\n",
      "0.771437143505181\n",
      "3.438\n",
      "0.0\n",
      "2513.3371654249354\n",
      "0.02334054947939354\n",
      "2.2300586976767156e-09\n",
      " 0:00:42 [                              |  0.78%]  1:30:43  Currently at time   0.023 of   3.000-----------------------------------------\n",
      "2416.973173547491\n",
      "107.03016202855612\n",
      "0.7714372046928614\n",
      "3.438\n",
      "-1.194308542028151e-06\n",
      "2512.9784524001498\n",
      "0.023369276309522027\n",
      "1.6434709135446985e-08\n",
      " 0:00:42 [                              |  0.78%]  1:30:43  Currently at time   0.023 of   3.000-----------------------------------------\n",
      "2422.513159170556\n",
      "107.09608257449435\n",
      "0.7714375982151671\n",
      "3.438\n",
      "-1.746692368378412e-05\n",
      "2510.6714215702154\n",
      "0.023398003139650514\n",
      "2.390045313492281e-08\n",
      " 0:00:42 [                              |  0.78%]  1:30:43  Currently at time   0.023 of   3.000-----------------------------------------\n",
      "2428.0598122832935\n",
      "107.18415065409746\n",
      "0.7714378229467388\n",
      "3.438\n",
      "-3.2024772389849796e-05\n",
      "2509.353925472631\n",
      "0.023426729969779\n",
      "3.547407456737285e-08\n",
      " 0:00:42 [                              |  0.78%]  1:30:44  Currently at time   0.023 of   3.000-----------------------------------------\n",
      "2433.61313229324\n",
      "107.25660674616793\n",
      "0.7714381685035293\n",
      "3.438\n",
      "-6.277190794176473e-05\n",
      "2507.328082444186\n",
      "0.023455456799907487\n",
      "4.4855242833630376e-08\n",
      " 0:00:42 [                              |  0.78%]  1:30:44  Currently at time   0.023 of   3.000-----------------------------------------\n",
      "2439.1731187317805\n",
      "107.33534229054585\n",
      "0.7714384669780789\n",
      "3.438\n",
      "-9.499105288980313e-05\n",
      "2505.578256223714\n",
      "0.023484183630035974\n",
      "5.570842299425837e-08\n",
      " 0:00:42 [                              |  0.78%]  1:30:45  Currently at time   0.023 of   3.000-----------------------------------------\n",
      "2444.739771057921\n",
      "107.40758360781508\n",
      "0.771438816343977\n",
      "3.438\n",
      "-0.00014041697290709563\n",
      "2503.5300702532313\n",
      "0.02351291046016446\n",
      "6.590718471904115e-08\n",
      " 0:00:43 [                              |  0.78%]  1:30:45  Currently at time   0.024 of   3.000-----------------------------------------\n",
      "2450.313088771496\n",
      "107.48070383562366\n",
      "0.771439160049386\n",
      "3.438\n",
      "-0.00019107296243860565\n",
      "2501.515063094188\n",
      "0.023541637290292947\n",
      "7.669017659897962e-08\n",
      " 0:00:43 [                              |  0.79%]  1:30:46  Currently at time   0.024 of   3.000-----------------------------------------\n",
      "2455.893071347881\n",
      "107.55031954470131\n",
      "0.7714395317146682\n",
      "3.438\n",
      "-0.0002530282148140922\n",
      "2499.3361314050585\n",
      "0.023570364120421433\n",
      "8.734654744099806e-08\n",
      " 0:00:43 [                              |  0.79%]  1:30:46  Currently at time   0.024 of   3.000-----------------------------------------\n",
      "2461.4797182755315\n",
      "107.619184103003\n",
      "0.7714399102215242\n",
      "3.438\n",
      "-0.00032273569478393556\n",
      "2497.117082711601\n",
      "0.02359909095054992\n",
      "9.82556187448097e-08\n",
      " 0:00:43 [                              |  0.79%]  1:30:47  Currently at time   0.024 of   3.000-----------------------------------------\n",
      "2469.872184214457\n",
      "108.22218495584225\n",
      "0.7714366473027371\n",
      "3.438\n",
      "-2.9463110827816613e-07\n",
      "2516.2461470054895\n",
      "0.02364218119574265\n",
      "1.5723016347422034e-07\n",
      " 0:00:43 [                              |  0.79%]  1:30:48  Currently at time   0.024 of   3.000-----------------------------------------\n",
      "2478.2796387294725\n",
      "107.81240470371543\n",
      "0.7714411547913018\n",
      "3.438\n",
      "-0.000697056398791528\n",
      "2489.8205674625474\n",
      "0.02368527144093538\n",
      "1.2104704953102068e-07\n",
      " 0:00:43 [                              |  0.79%]  1:30:49  Currently at time   0.024 of   3.000-----------------------------------------\n",
      "2486.702085482788\n",
      "108.28753105505785\n",
      "0.7714388775673241\n",
      "3.438\n",
      "-0.00028935973338407704\n",
      "2503.1711427435785\n",
      "0.02372836168612811\n",
      "1.5752252089937128e-07\n",
      " 0:00:43 [                              |  0.79%]  1:30:51  Currently at time   0.024 of   3.000-----------------------------------------\n",
      "2500.7728017154222\n",
      "108.66892195601011\n",
      "0.7714382359594734\n",
      "3.438\n",
      "-2.7781185201064104e-05\n",
      "2506.9326180486573\n",
      "0.023800178761449325\n",
      "2.4727295990112024e-07\n",
      " 0:12:24 [===                           | 12.02%]  1:30:49  Currently at time   0.360 of   3.000"
     ]
    }
   ],
   "source": [
    "solver.solve(1e20, 3.0, 3)"
   ]
  },
  {
   "cell_type": "code",
   "execution_count": null,
   "metadata": {},
   "outputs": [],
   "source": [
    "pfield1 = np.stack(plogs1)\n",
    "pfield2 = np.stack(plogs2)\n",
    "pfield3 = np.stack(plogs3)\n",
    "disfield = np.stack(dislog)\n",
    "velfield = np.stack(velocity)\n",
    "pressure = np.stack(pumplog)\n",
    "pump_velocity = np.stack(pump_speed)\n",
    "values = np.stack(pump_value)\n",
    "flow_force = np.stack(flow_log)\n",
    "spring_force = np.stack(springlog)\n",
    "lower_pressure_force = np.stack(lower_pressure_log)\n",
    "contact_pressure_force = np.stack(contact_pressure_log)\n",
    "damping_force = np.stack(damping_log)"
   ]
  },
  {
   "cell_type": "code",
   "execution_count": null,
   "metadata": {},
   "outputs": [],
   "source": [
    "time = np.linspace(0, 0.518, int(pfield1[:,-2].shape[0]))\n",
    "#plt.figure(figsize=(16, 10))\n",
    "fig, ax1 = plt.subplots(figsize=(20, 10))\n",
    "#plt.subplot(1, 2, 1)\n",
    "#plt.plot(vfield[:,0])\n",
    "#plt.plot(1, 2, 2)\n",
    "val1 = 0\n",
    "val = -1\n",
    "#val1 = 0\n",
    "#val = -1\n",
    "\n",
    "#upper_force = upperp_field[val1:val, 0] + gfield[val1:val, 0] + springforce[val1:val, 0]\n",
    "#lower_force = lowp_field[val1:val, 0] + contact_pressure[val1:val, 0]\n",
    "#result1 = lower_force - upper_force\n",
    "#result2 = flow_field[val1:val, 0] - gfield[val1:val, 0] - springforce[val1:val, 0] - dampingfield[val1:val, 0]\n",
    "#upper_flow = gfield[val1:val, 0] + springforce[val1:val, 0] + dampingfield[val1:val, 0]\n",
    "#lower_flow = flow_field[val1:val, 0]\n",
    "#ax1.plot(time[val1:val], upper_flow, color='red')\n",
    "#ax1.plot(time[val1:val], lower_flow, color='blue')\n",
    "\n",
    "\n",
    "#plt.subplot(1, 2, 2)\n",
    "#ax1.plot(result1[val1:val])\n",
    "#ax1.plot(result2[val1:val])\n",
    "#ax1.plot(time[val1:val], upperp_field[val1:val, 0], color='red')\n",
    "#ax1.plot(time[val1:val], lowp_field[val1:val, 0], color='green')\n",
    "#ax1.plot(time[val1:val], dampingfield[val1:val, 0], color='blue')\n",
    "\n",
    "#ax1.plot(time[val1:val], contact_pressure[val1:val, 0], color='black')\n",
    "#ax1.plot(time[val1:val], springforce[val1:val, 0], color='grey')\n",
    "#ax1.plot(time[val1:val], upper_force, color='red')\n",
    "#ax1.plot(time[val1:val], lower_force, color='blue')\n",
    "\n",
    "#plt.plot(time[val1:val], pfield3[val1:val, 1], color='red')\n",
    "plt.plot(time[val1:val], pump_velocity[val1:val, 0], color='black')\n",
    "plt.plot(time[val1:val], pfield2[val1:val, 1], color='green')\n",
    "plt.plot(time[val1:val], pressure[val1:val, 0],color='violet')\n",
    "\n",
    "\n",
    "#ax1.plot(time[val1:val], deltap[val1:val, 0], color='green')\n",
    "\n",
    "#plt.xlim(time[val1],time[val])\n",
    "#plt.ylim(0e5, 22e5)\n",
    "\n",
    "color = 'tab:red'\n",
    "ax1.set_xlabel('time (s)')\n",
    "ax1.set_ylabel('Pressure', color=color)\n",
    "ax1.set_ylim(0e5, 22e5)\n",
    "plt.grid()\n",
    "#ax1.plot(time[val1:val], pfield1[val1:val, 1], color='red')\n",
    "#ax1.plot(time[val1:val], pfield2[val1:val, -2], color='green')\n",
    "ax1.tick_params(axis='y', labelcolor=color)\n",
    "\n",
    "\n",
    "ax2 = ax1.twinx()  # instantiate a second axes that shares the same x-axis\n",
    "\n",
    "color = 'tab:blue'\n",
    "ax2.plot(time[val1:val], disfield[val1:val, 0]*1000, color=color)  # we already handled the x-label with ax1\n",
    "ax2.plot(time[val1:val], values[val1:val, 0]*1000, color = 'black')\n",
    "#ax2.plot(time[val1:val], contact_pressure_force[val1:val, 0], color = 'green')\n",
    "#ax2.plot(time[val1:val], spring_force[val1:val, 0], color = 'green')\n",
    "#ax2.plot(time[val1:val], contact_pressure_force[val1:val, 0]+lower_pressure_force[val1:val, 0], color = 'black')\n",
    "#ax2.plot(time[val1:val], flow_force[val1:val, 0]-spring_force[val1:val, 0], color = 'red')\n",
    "#ax2.plot(time[val1:val], zeta[val1:val, 0], color='green')\n",
    "#ax2.plot(time[val1:val], flow_field[val1:val, 0], color='black')\n",
    "#ax2.tick_params(axis='y', labelcolor=color)\n",
    "\n",
    "#plt.subplot(1, 2, 1)\n",
    "#plt.plot(time[val1:val], disfield[val1:val, 0]*1000, color='black')\n",
    "#plt.plot(time[val1:val], pump(time[val1:val]))\n",
    "#plt.plot(time[val1:val], velfield[val1:val, 0], color='blue')\n",
    "#plt.plot(time[val1:val], pfield2[val1:val, 1], color='red')\n",
    "#pltplot(time[val1:val], pfield1[val1:val, -2], color='green')\n",
    "#plt.ylim(-2e3, 2e3)\n",
    "fig.tight_layout()\n",
    "plt.show()"
   ]
  },
  {
   "cell_type": "markdown",
   "metadata": {},
   "source": [
    "a = 70/60*(0.07**2)/4*np.pi*0.045"
   ]
  },
  {
   "cell_type": "code",
   "execution_count": null,
   "metadata": {},
   "outputs": [],
   "source": [
    "#a = 70/60(0.07**2)/4*np.pi*0.045\n",
    "#a/(2*0.025**2/4.0*np.pi)"
   ]
  },
  {
   "cell_type": "code",
   "execution_count": null,
   "metadata": {},
   "outputs": [],
   "source": [
    "zetavalue = (2*(20e5-1.28e5)/((0.2058**2)*1000))"
   ]
  },
  {
   "cell_type": "code",
   "execution_count": null,
   "metadata": {},
   "outputs": [],
   "source": [
    "import nptdms\n",
    "from nptdms import TdmsFile\n",
    "savepath = 'L:/017_Messdaten_Pascal/Messdatensatz 0,5m Fuellstand'\n",
    "path = \"L:/017_Messdaten_Pascal/Messdatensatz 0,5m Fuellstand\""
   ]
  },
  {
   "cell_type": "code",
   "execution_count": null,
   "metadata": {},
   "outputs": [],
   "source": [
    "def writetdms(tdms, num):\n",
    "    groups = tdms.groups()\n",
    "    channels = tdms.group_channels(groups[0])\n",
    "    channel_names = [channel.channel for channel in channels]\n",
    "    obj = tdms.object(groups[0], channel_names[num])\n",
    "    data = np.asarray(obj.data)\n",
    "    \n",
    "\n",
    "    return data\n",
    "\n",
    "\n",
    "\n",
    "def datetime_to_float(timesignal):\n",
    "\n",
    "    t0 = timesignal[0]\n",
    "    t1 = timesignal[timesignal.shape[0] - 1]\n",
    "    sec = (t1-t0).total_seconds()\n",
    "    time = np.linspace(0, sec, timesignal.shape[0])\n",
    "\n",
    "    return time"
   ]
  },
  {
   "cell_type": "code",
   "execution_count": null,
   "metadata": {},
   "outputs": [],
   "source": [
    "size = 128000\n",
    "tpAr = np.empty(size)\n",
    "pAr = np.empty(size)"
   ]
  },
  {
   "cell_type": "code",
   "execution_count": null,
   "metadata": {},
   "outputs": [],
   "source": [
    "ch = (0, 1, 2, 3, 4, 5, 6, 7, 8, 9, 10, 11, 12, 13, 14, 15, 16, 17, 18, 19, 20, 21, 22, 23, 24, 25)\n",
    "tdms = TdmsFile(path+'/Messungen_' +str(3)+\".tdms\")\n",
    "tpAr = datetime_to_float(writetdms(tdms, ch[10]))\n",
    "pAr = writetdms(tdms, ch[11])"
   ]
  },
  {
   "cell_type": "code",
   "execution_count": null,
   "metadata": {},
   "outputs": [],
   "source": [
    "new_time = np.linspace(0, (time[-5000]-time[700]), time[700:-5000].shape[0])\n",
    "plt.figure(figsize=(20, 10))\n",
    "plt.plot(tpAr[7500:19250]-tpAr[7500], pAr[7500:19250]*1e5, label='Messung')\n",
    "#plt.ylim(0e5, 23)\n",
    "#ax2 = ax1.twinx()  # instantiate a second axes that shares the same x-axis\n",
    "#ax2.set_ylim(0e5, 23e5)\n",
    "plt.plot(new_time, pressure[700:-5000, 0],color='red', label='Simulation')\n",
    "plt.xlabel('Zeit in Sekunden', fontsize='14')\n",
    "plt.ylabel('Druck in Pascal', fontsize='14')\n",
    "plt.legend(fontsize='14')\n",
    "plt.grid()\n",
    "plt.savefig('L:/023_CavSim_Plots/Simulation_70Umin.png')\n"
   ]
  },
  {
   "cell_type": "code",
   "execution_count": null,
   "metadata": {},
   "outputs": [],
   "source": [
    "print(new_time)"
   ]
  },
  {
   "cell_type": "code",
   "execution_count": null,
   "metadata": {},
   "outputs": [],
   "source": [
    "print(tpAr[7500:19500]-tpAr[7500])"
   ]
  },
  {
   "cell_type": "code",
   "execution_count": null,
   "metadata": {},
   "outputs": [],
   "source": []
  },
  {
   "cell_type": "code",
   "execution_count": null,
   "metadata": {},
   "outputs": [],
   "source": []
  },
  {
   "cell_type": "code",
   "execution_count": null,
   "metadata": {},
   "outputs": [],
   "source": []
  }
 ],
 "metadata": {
  "kernelspec": {
   "display_name": "Python 3",
   "language": "python",
   "name": "python3"
  },
  "language_info": {
   "codemirror_mode": {
    "name": "ipython",
    "version": 3
   },
   "file_extension": ".py",
   "mimetype": "text/x-python",
   "name": "python",
   "nbconvert_exporter": "python",
   "pygments_lexer": "ipython3",
   "version": "3.6.9"
  }
 },
 "nbformat": 4,
 "nbformat_minor": 2
}
