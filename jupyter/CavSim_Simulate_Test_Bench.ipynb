{
 "cells": [
  {
   "cell_type": "code",
   "execution_count": 1,
   "metadata": {},
   "outputs": [],
   "source": [
    "import numpy as np\n",
    "import matplotlib.pyplot as plt"
   ]
  },
  {
   "cell_type": "code",
   "execution_count": 2,
   "metadata": {},
   "outputs": [],
   "source": [
    "import cavsim\n",
    "from cavsim import Measure\n",
    "from cavsim.connectors import BaseConnector, Connector\n",
    "from cavsim.channels import ImportChannel, ExportChannel\n",
    "from cavsim.components import BaseComponent, Component\n",
    "from cavsim.solvers import BaseSolver, SimpleSolver\n",
    "from cavsim.fluids import Fluid"
   ]
  },
  {
   "cell_type": "code",
   "execution_count": 3,
   "metadata": {},
   "outputs": [],
   "source": [
    "from cavsim.pipes.pipe import Pipe\n",
    "from cavsim.boundaries.left_boundary_pressure import LeftBoundaryPressure\n",
    "from cavsim.boundaries.left_boundary_velocity import LeftBoundaryVelocity\n",
    "from cavsim.boundaries.right_boundary_pressure import RightBoundaryPressure\n",
    "from cavsim.boundaries.right_boundary_velocity import RightBoundaryVelocity\n",
    "from cavsim.boundaries.simple_pipe_connector import PipeConnectorSimple\n",
    "from cavsim.boundaries.zeta_joint import ZetaJoint\n",
    "from cavsim.boundaries.simple_t_joint import SimpleTJoint\n",
    "from cavsim.boundaries.simple_right_gasdampener import RightGasBubbleSimple\n",
    "from cavsim.boundaries.simple_left_gasdampener import LeftGasBubbleSimple\n",
    "from cavsim.boundaries.frictionless_gasdampener import FrictionlessGasDampener\n",
    "from cavsim.boundaries.gasdampener import GasDampener\n",
    "from cavsim.boundaries.pump_with_valves_model_new import PumpSuctionValve"
   ]
  },
  {
   "cell_type": "code",
   "execution_count": 4,
   "metadata": {},
   "outputs": [],
   "source": [
    "fluid = Fluid(1000, 1e-3, 1.2e9, 2.3e-3,initial_pressure=128000)"
   ]
  },
  {
   "cell_type": "code",
   "execution_count": 5,
   "metadata": {},
   "outputs": [],
   "source": [
    "Tank = Pipe(1.5, 1.5, 0.002, 2e11, 1e-7, 4)\n",
    "suction = Pipe(0.056, 0.07, 0.002, 2e11, 1e-7, 4)\n",
    "suction1 = Pipe(0.056, 1.480, 0.002, 2e11, 1e-7, 4)\n",
    "suction2 = Pipe(0.056, 1.210, 0.002, 2e11, 1e-7, 4)\n",
    "suction3 = Pipe(0.056, 0.225, 0.002, 2e11, 1e-7, 4)\n",
    "suction4 = Pipe(0.056, 0.360, 0.002, 2e11, 1e-7, 4)\n",
    "suction5 = Pipe(0.056, 0.590, 0.002, 2e11, 1e-7, 4)\n",
    "suction6 = Pipe(0.056, 0.335, 0.002, 2e11, 1e-7, 4)\n",
    "suction7 = Pipe(0.056, 0.519, 0.002, 2e11, 1e-7, 4)\n",
    "suction8 = Pipe(0.056, 0.274, 0.002, 2e11, 1e-7, 4)\n",
    "suction9 = Pipe(0.032, 0.15, 0.002, 2e11, 1e-7, 4)\n",
    "discharge = Pipe(0.025, 1.05, 0.002, 2e11, 1e-7, 4, initial_pressure=20e5)\n",
    "discharge1 = Pipe(0.025, 0.3, 0.002, 2e11, 1e-7, 4, initial_pressure=20e5)\n",
    "discharge2 = Pipe(0.025, 27.4, 0.002, 2e11, 1e-7, 4, initial_pressure=20e5)\n",
    "discharge3 = Pipe(0.025, 0.5, 0.002, 2e11, 1e-7, 4, initial_pressure=20e5)\n",
    "discharge4 = Pipe(0.025, 0.5, 0.002, 2e11, 1e-7, 4, initial_pressure=20e5)\n",
    "discharge5 = Pipe(0.025, 0.5, 0.002, 2e11, 1e-7, 4, initial_pressure=20e5)"
   ]
  },
  {
   "cell_type": "code",
   "execution_count": 6,
   "metadata": {},
   "outputs": [],
   "source": [
    "lb1 = LeftBoundaryPressure(1.28e5)\n",
    "Tank.connect(lb1)"
   ]
  },
  {
   "cell_type": "code",
   "execution_count": 7,
   "metadata": {},
   "outputs": [],
   "source": [
    "conn = ZetaJoint(1.0)\n",
    "Tank.connect(conn)\n",
    "suction.connect(conn)"
   ]
  },
  {
   "cell_type": "code",
   "execution_count": 8,
   "metadata": {},
   "outputs": [],
   "source": [
    "conn1 = ZetaJoint(0.1)\n",
    "suction.connect(conn1)\n",
    "suction1.connect(conn1)"
   ]
  },
  {
   "cell_type": "code",
   "execution_count": 9,
   "metadata": {},
   "outputs": [],
   "source": [
    "conn2 = ZetaJoint(0.2)\n",
    "suction1.connect(conn2)\n",
    "suction2.connect(conn2)"
   ]
  },
  {
   "cell_type": "code",
   "execution_count": 10,
   "metadata": {},
   "outputs": [],
   "source": [
    "conn3 = ZetaJoint(0.05)\n",
    "suction2.connect(conn3)\n",
    "suction3.connect(conn3)"
   ]
  },
  {
   "cell_type": "code",
   "execution_count": 11,
   "metadata": {},
   "outputs": [],
   "source": [
    "conn4 = ZetaJoint(0.05)\n",
    "suction3.connect(conn4)\n",
    "suction4.connect(conn4)"
   ]
  },
  {
   "cell_type": "code",
   "execution_count": 12,
   "metadata": {},
   "outputs": [],
   "source": [
    "conn5 = ZetaJoint(0.05)\n",
    "suction4.connect(conn5)\n",
    "suction5.connect(conn5)"
   ]
  },
  {
   "cell_type": "code",
   "execution_count": 13,
   "metadata": {},
   "outputs": [],
   "source": [
    "conn6 = ZetaJoint(0.05)\n",
    "suction5.connect(conn6)\n",
    "suction6.connect(conn6)"
   ]
  },
  {
   "cell_type": "code",
   "execution_count": 14,
   "metadata": {},
   "outputs": [],
   "source": [
    "conn7 = ZetaJoint(0.05)\n",
    "suction6.connect(conn7)\n",
    "suction7.connect(conn7)"
   ]
  },
  {
   "cell_type": "code",
   "execution_count": 15,
   "metadata": {},
   "outputs": [],
   "source": [
    "conn8 = ZetaJoint(0.2)\n",
    "suction7.connect(conn8)\n",
    "suction8.connect(conn8)"
   ]
  },
  {
   "cell_type": "code",
   "execution_count": 16,
   "metadata": {},
   "outputs": [],
   "source": [
    "conn9 = ZetaJoint(0.05)\n",
    "suction8.connect(conn9)\n",
    "suction9.connect(conn9)"
   ]
  },
  {
   "cell_type": "code",
   "execution_count": 17,
   "metadata": {},
   "outputs": [],
   "source": [
    "pump = PumpSuctionValve(suction_valve_density=7950.0,               # kg/m³\n",
    "            suction_spring_force0 = 3.438,                   # N\n",
    "            suction_spring_stiffness = 3438.0,            # N/m\n",
    "            suction_spring_mass = 0.022,                 # kg\n",
    "            suction_valve_mass = 0.068,                  # kg\n",
    "            suction_outer_diameter = 0.040,              # m\n",
    "            suction_inner_contact_diameter = 0.03644173,      # m\n",
    "            suction_seat_tilt = 90/180*np.pi,                   # °\n",
    "            suction_flow_constant_1 = 7.63e-2,             # -\n",
    "            suction_flow_constant_2 = 6.480,             # -\n",
    "            suction_friction_factor_a = 107.00,           # -\n",
    "            suction_friction_factor_b = 74.00,           # -\n",
    "            suction_friction_factor_c = 1.40,           # -\n",
    "            suction_friction_factor_d = -2.40,           # -\n",
    "            suction_factor_k0 = 0.50,                   # -\n",
    "            suction_factor_k1 = 0.0,                   # -\n",
    "            suction_factor_k2 = 0.0,                   # -\n",
    "            suction_max_displacement = 25e-3,                   # m\n",
    "            suction_outer_contact_diameter = 0.040,      # m\n",
    "            discharge_valve_density = 7950.0,             # kg/m³\n",
    "            discharge_spring_force0 = 3.438,             # N\n",
    "            discharge_spring_stiffness = 3438.0,          # N/m\n",
    "            discharge_spring_mass = 0.022,               # kg\n",
    "            discharge_valve_mass = 0.068,                # kg\n",
    "            discharge_outer_diameter = 0.040,            # m\n",
    "            discharge_inner_contact_diameter = 0.03644173,    # m\n",
    "            discharge_seat_tilt = 90/180*np.pi,                 # °\n",
    "            discharge_flow_constant_1 = 7.63e-3,           # -\n",
    "            discharge_flow_constant_2 = 6.480,           # -\n",
    "            discharge_friction_factor_a = 107.00,         # -\n",
    "            discharge_friction_factor_b = 74.00,         # -\n",
    "            discharge_friction_factor_c = 1.40,         # -\n",
    "            discharge_friction_factor_d = -2.40,         # -\n",
    "            discharge_factor_k0 = 0.50,                 # -\n",
    "            discharge_factor_k1 = 0.0,                 # -\n",
    "            discharge_factor_k2 = 0.0,                 # -\n",
    "            discharge_max_displacement = 25e-3,                 # m\n",
    "            discharge_outer_contact_diameter = 0.040,    # m\n",
    "            pump_radius = 0.040/2.0,                         # m\n",
    "            rpm = 68.0,                                 # U/min\n",
    "            rratio = 0.175,                              # -\n",
    "            phi0 = 180,                                # °\n",
    "            piston_diameter = 0.07,                     # m\n",
    "            death_volume = 3.442416e-4)                        # m³)"
   ]
  },
  {
   "cell_type": "code",
   "execution_count": 18,
   "metadata": {},
   "outputs": [],
   "source": [
    "suction9.connect(pump)\n",
    "discharge.connect(pump)"
   ]
  },
  {
   "cell_type": "code",
   "execution_count": null,
   "metadata": {},
   "outputs": [],
   "source": []
  },
  {
   "cell_type": "code",
   "execution_count": 19,
   "metadata": {},
   "outputs": [],
   "source": [
    "conn11 = SimpleTJoint(20e5)\n",
    "discharge.connect(conn11)\n",
    "discharge1.connect(conn11.right2)\n",
    "discharge2.connect(conn11.right)"
   ]
  },
  {
   "cell_type": "code",
   "execution_count": 20,
   "metadata": {},
   "outputs": [],
   "source": [
    "#gd_right = RightGasBubbleSimple(20.6e5, 4.3e-3, 1.07)\n",
    "gd_right = RightGasBubbleSimple(20e5, 4.4e-3, 1.15)\n",
    "discharge1.connect(gd_right)"
   ]
  },
  {
   "cell_type": "code",
   "execution_count": 21,
   "metadata": {},
   "outputs": [],
   "source": [
    "conn12 = SimpleTJoint(20e5)\n",
    "discharge2.connect(conn12)\n",
    "discharge3.connect(conn12.right2)\n",
    "discharge4.connect(conn12.right)"
   ]
  },
  {
   "cell_type": "code",
   "execution_count": 22,
   "metadata": {},
   "outputs": [],
   "source": [
    "gd_right = RightGasBubbleSimple(20e5, 1.35e-3, 1.1)\n",
    "discharge3.connect(gd_right)"
   ]
  },
  {
   "cell_type": "code",
   "execution_count": 23,
   "metadata": {},
   "outputs": [],
   "source": [
    "conn13 = ZetaJoint(22099.63536)\n",
    "discharge4.connect(conn13)\n",
    "discharge5.connect(conn13)"
   ]
  },
  {
   "cell_type": "code",
   "execution_count": 24,
   "metadata": {},
   "outputs": [],
   "source": [
    "rb = RightBoundaryPressure(1.28e5)\n",
    "rb.connect(discharge5)"
   ]
  },
  {
   "cell_type": "code",
   "execution_count": 25,
   "metadata": {},
   "outputs": [],
   "source": [
    "plogs1 = []\n",
    "plogs2 = []\n",
    "plogs3 = []\n",
    "vlogs = []\n",
    "vlogs1 = []\n",
    "flogs = []\n",
    "rblogs = []\n",
    "relogs = []\n",
    "dislog = []\n",
    "springlog = []\n",
    "contact_pressurelog = []\n",
    "velocity = []\n",
    "pumplog = []\n",
    "pump_speed = []\n",
    "pump_value = []\n",
    "flow_log = []\n",
    "lower_pressure_log = []\n",
    "contact_pressure_log = []\n",
    "damping_log = []\n",
    "\n",
    "\n",
    "\n",
    "\n",
    "def logging(time):\n",
    "    plogs1.append(suction9.field_wide_slice('pressure', 0) + 0.0)\n",
    "    plogs2.append(discharge.field_wide_slice('pressure', 0) + 0.0)\n",
    "    plogs3.append(discharge3.field_wide_slice('pressure', 0) + 0.0)\n",
    "    pumplog.append(pump.field_wide_slice('pump_pressure', 0) + 0.0)\n",
    "    dislog.append(pump.field_wide_slice('suction_displacement', 0) + 0.0)\n",
    "    pump_speed.append(pump.field_wide_slice('discharge_pressure', 1) +0.0)\n",
    "    pump_value.append(pump.field_wide_slice('discharge_displacement', 1) +0.0)\n",
    "    springlog.append(pump.field_wide_slice('discharge_valve_velocity', 1) +0.0)\n",
    "    contact_pressurelog.append(pump.field_wide_slice('suction_contact_pressure_force', 1) +0.0)\n",
    "    flow_log.append(pump.field_wide_slice('suction_flow_force', 1) +0.0)\n",
    "    velocity.append(pump.field_wide_slice('suction_valve_velocity', 1) +0.0)\n",
    "    lower_pressure_log.append(pump.field_wide_slice('discharge_lower_pressure_force', 1) +0.0)\n",
    "    contact_pressure_log.append(pump.field_wide_slice('discharge_contact_pressure_force', 1) +0.0)\n",
    "    damping_log.append(pump.field_wide_slice('discharge_upper_pressure_force', 1) +0.0)"
   ]
  },
  {
   "cell_type": "code",
   "execution_count": 26,
   "metadata": {},
   "outputs": [],
   "source": [
    "solver = SimpleSolver()\n",
    "solver.fluid = fluid\n",
    "solver.seeds = [suction9]\n",
    "solver._callback = logging"
   ]
  },
  {
   "cell_type": "code",
   "execution_count": 27,
   "metadata": {
    "scrolled": false
   },
   "outputs": [
    {
     "name": "stdout",
     "output_type": "stream",
     "text": [
      " 0:00:00 [                              |  0.01%]  0:52:57  Currently at time   0.000 of   1.350"
     ]
    },
    {
     "name": "stderr",
     "output_type": "stream",
     "text": [
      "l:\\cavsim\\cavsim\\base\\solvers\\simple_solver.py:46: UserWarning: Smaller timestep required by component! (2.8670542373662897e-05 < 1e+20 by <cavsim.pipes.pipe.Pipe object at 0x00000190C02A3198>)\n",
      "  warn('Smaller timestep required by component! ({} < {} by {})'.format(component_time, delta_t, component))\n",
      "l:\\cavsim\\cavsim\\base\\solvers\\simple_solver.py:46: UserWarning: Smaller timestep required by component! (5.406439617098607e-05 < 1e+20 by <cavsim.pipes.pipe.Pipe object at 0x00000190C029F390>)\n",
      "  warn('Smaller timestep required by component! ({} < {} by {})'.format(component_time, delta_t, component))\n",
      "l:\\cavsim\\cavsim\\base\\solvers\\simple_solver.py:46: UserWarning: Smaller timestep required by component! (0.00019876179210300956 < 1e+20 by <cavsim.pipes.pipe.Pipe object at 0x00000190C02A3F60>)\n",
      "  warn('Smaller timestep required by component! ({} < {} by {})'.format(component_time, delta_t, component))\n",
      "l:\\cavsim\\cavsim\\base\\solvers\\simple_solver.py:46: UserWarning: Smaller timestep required by component! (0.00010240664822168528 < 1e+20 by <cavsim.pipes.pipe.Pipe object at 0x00000190C029B588>)\n",
      "  warn('Smaller timestep required by component! ({} < {} by {})'.format(component_time, delta_t, component))\n",
      "l:\\cavsim\\cavsim\\base\\solvers\\simple_solver.py:46: UserWarning: Smaller timestep required by component! (0.005186736289164249 < 1e+20 by <cavsim.pipes.pipe.Pipe object at 0x00000190C02A9B00>)\n",
      "  warn('Smaller timestep required by component! ({} < {} by {})'.format(component_time, delta_t, component))\n",
      "l:\\cavsim\\cavsim\\base\\solvers\\simple_solver.py:46: UserWarning: Smaller timestep required by component! (5.6789083458002724e-05 < 1e+20 by <cavsim.pipes.pipe.Pipe object at 0x00000190C02A6CF8>)\n",
      "  warn('Smaller timestep required by component! ({} < {} by {})'.format(component_time, delta_t, component))\n",
      "l:\\cavsim\\cavsim\\base\\solvers\\simple_solver.py:46: UserWarning: Smaller timestep required by component! (6.61006303550377e-05 < 1e+20 by <cavsim.pipes.pipe.Pipe object at 0x00000190C0297780>)\n",
      "  warn('Smaller timestep required by component! ({} < {} by {})'.format(component_time, delta_t, component))\n",
      "l:\\cavsim\\cavsim\\base\\solvers\\simple_solver.py:46: UserWarning: Smaller timestep required by component! (9.464847243000455e-05 < 1e+20 by <cavsim.pipes.pipe.Pipe object at 0x00000190C02B2710>)\n",
      "  warn('Smaller timestep required by component! ({} < {} by {})'.format(component_time, delta_t, component))\n",
      "l:\\cavsim\\cavsim\\base\\solvers\\simple_solver.py:46: UserWarning: Smaller timestep required by component! (9.464847243000455e-05 < 1e+20 by <cavsim.pipes.pipe.Pipe object at 0x00000190C02AE908>)\n",
      "  warn('Smaller timestep required by component! ({} < {} by {})'.format(component_time, delta_t, component))\n",
      "l:\\cavsim\\cavsim\\base\\solvers\\simple_solver.py:46: UserWarning: Smaller timestep required by component! (0.00011641603555066342 < 1e+20 by <cavsim.pipes.pipe.Pipe object at 0x00000190C0294978>)\n",
      "  warn('Smaller timestep required by component! ({} < {} by {})'.format(component_time, delta_t, component))\n",
      "l:\\cavsim\\cavsim\\base\\solvers\\simple_solver.py:46: UserWarning: Smaller timestep required by component! (9.464847243000455e-05 < 1e+20 by <cavsim.pipes.pipe.Pipe object at 0x00000190C02B6518>)\n",
      "  warn('Smaller timestep required by component! ({} < {} by {})'.format(component_time, delta_t, component))\n",
      "l:\\cavsim\\cavsim\\base\\solvers\\simple_solver.py:46: UserWarning: Smaller timestep required by component! (7.103351321735395e-05 < 1e+20 by <cavsim.pipes.pipe.Pipe object at 0x00000190C0291B70>)\n",
      "  warn('Smaller timestep required by component! ({} < {} by {})'.format(component_time, delta_t, component))\n",
      "l:\\cavsim\\cavsim\\base\\solvers\\simple_solver.py:46: UserWarning: Smaller timestep required by component! (4.439594576084622e-05 < 1e+20 by <cavsim.pipes.pipe.Pipe object at 0x00000190C028DD68>)\n",
      "  warn('Smaller timestep required by component! ({} < {} by {})'.format(component_time, delta_t, component))\n",
      "l:\\cavsim\\cavsim\\base\\solvers\\simple_solver.py:46: UserWarning: Smaller timestep required by component! (0.00023875153053610633 < 1e+20 by <cavsim.pipes.pipe.Pipe object at 0x00000190C0289F60>)\n",
      "  warn('Smaller timestep required by component! ({} < {} by {})'.format(component_time, delta_t, component))\n",
      "l:\\cavsim\\cavsim\\base\\solvers\\simple_solver.py:46: UserWarning: Smaller timestep required by component! (0.00029202666544912183 < 1e+20 by <cavsim.pipes.pipe.Pipe object at 0x00000190C0289198>)\n",
      "  warn('Smaller timestep required by component! ({} < {} by {})'.format(component_time, delta_t, component))\n",
      "l:\\cavsim\\cavsim\\base\\solvers\\simple_solver.py:46: UserWarning: Smaller timestep required by component! (1.3812072014485493e-05 < 1e+20 by <cavsim.pipes.pipe.Pipe object at 0x00000190C0281710>)\n",
      "  warn('Smaller timestep required by component! ({} < {} by {})'.format(component_time, delta_t, component))\n",
      "l:\\cavsim\\cavsim\\base\\solvers\\simple_solver.py:46: UserWarning: Smaller timestep required by component! (0.0006422616289332564 < 1e+20 by <cavsim.pipes.pipe.Pipe object at 0x00000190C02816A0>)\n",
      "  warn('Smaller timestep required by component! ({} < {} by {})'.format(component_time, delta_t, component))\n"
     ]
    },
    {
     "name": "stdout",
     "output_type": "stream",
     "text": [
      " 0:00:28 [                              |  1.14%]  0:41:21  Currently at time   0.015 of   1.350-----------------------------------------\n",
      "2411.6601494217393\n",
      "106.92740022242009\n",
      "0.7716675299034175\n",
      "3.438\n",
      "0.0\n",
      "2513.4129416165\n",
      "0.01534521200809307\n",
      "2.443605069361144e-09\n",
      " 0:00:28 [                              |  1.14%]  0:41:21  Currently at time   0.015 of   1.350-----------------------------------------\n",
      "2419.7813556941237\n",
      "107.08914851507524\n",
      "0.7716675633960104\n",
      "3.438\n",
      "-1.3874157719237502e-06\n",
      "2512.9588867182915\n",
      "0.01537283615212204\n",
      "2.2125513410988763e-08\n",
      " 0:00:28 [                              |  1.14%]  0:41:21  Currently at time   0.015 of   1.350-----------------------------------------\n",
      "2427.917044178037\n",
      "107.149996470324\n",
      "0.7716679325722986\n",
      "3.438\n",
      "-3.000653286870308e-05\n",
      "2507.9540008392687\n",
      "0.01540046029615101\n",
      "3.587481829568774e-08\n",
      " 0:00:28 [                              |  1.14%]  0:41:21  Currently at time   0.015 of   1.350-----------------------------------------\n",
      "2436.0672143537986\n",
      "107.23924801732342\n",
      "0.771668208554833\n",
      "3.438\n",
      "-6.841202366639107e-05\n",
      "2504.2125224786378\n",
      "0.01542808444017998\n",
      "5.246591411013479e-08\n",
      " 0:00:28 [                              |  1.14%]  0:41:21  Currently at time   0.015 of   1.350-----------------------------------------\n",
      "2444.231865447182\n",
      "107.31087902140617\n",
      "0.7716685439966132\n",
      "3.438\n",
      "-0.00013491959631738322\n",
      "2499.66494625161\n",
      "0.015455708584208949\n",
      "6.824869293244805e-08\n",
      " 0:00:28 [                              |  1.15%]  0:41:21  Currently at time   0.015 of   1.350-----------------------------------------\n",
      "2452.41099678668\n",
      "107.38413967523151\n",
      "0.7716688750484723\n",
      "3.438\n",
      "-0.0002186541331786733\n",
      "2495.1768706369294\n",
      "0.015483332728237919\n",
      "8.472995019374399e-08\n",
      " 0:00:28 [                              |  1.15%]  0:41:22  Currently at time   0.015 of   1.350-----------------------------------------\n",
      "2460.6046076580797\n",
      "107.4505679442017\n",
      "0.7716692297769968\n",
      "3.438\n",
      "-0.0003273946731832363\n",
      "2490.3677952460407\n",
      "0.015510956872266888\n",
      "1.0134505425942806e-07\n",
      " 0:00:28 [                              |  1.15%]  0:41:22  Currently at time   0.016 of   1.350-----------------------------------------\n",
      "2468.8126973618364\n",
      "107.51312645923123\n",
      "0.7716695983555888\n",
      "3.438\n",
      "-0.0004590452741148489\n",
      "2485.3709374330842\n",
      "0.015538581016295858\n",
      "1.1832877403186046e-07\n",
      " 0:00:28 [                              |  1.15%]  0:41:22  Currently at time   0.016 of   1.350-----------------------------------------\n",
      "2481.1519787354146\n",
      "108.27579637464203\n",
      "0.7716679347625729\n",
      "3.438\n",
      "-8.191462148955723e-05\n",
      "2507.924307463635\n",
      "0.015580017232339313\n",
      "1.5600406321013108e-07\n",
      " 0:00:29 [                              |  1.16%]  0:41:23  Currently at time   0.016 of   1.350-----------------------------------------\n",
      "2497.6550204917216\n",
      "108.50996043283689\n",
      "0.77166831633751\n",
      "3.438\n",
      "-0.00014849229867504177\n",
      "2502.7513167889274\n",
      "0.015635265520397252\n",
      "1.9592224474986687e-07\n",
      " 0:35:47 [===================           | 66.51%]  0:18:01  Currently at time   0.898 of   1.350-----------------------------------------\n",
      "2377.7055269331363\n",
      "105.41472594746138\n",
      "0.7716701640510558\n",
      "3.438\n",
      "0.0\n",
      "2477.7017136968198\n",
      "0.8979642378770979\n",
      "3.0613270680083656e-09\n",
      " 0:35:47 [===================           | 66.52%]  0:18:00  Currently at time   0.898 of   1.350-----------------------------------------\n",
      "2385.9699293947683\n",
      "105.5709202068662\n",
      "0.7716702260140241\n",
      "3.438\n",
      "-1.813886262091102e-06\n",
      "2476.8616694747393\n",
      "0.8979918620211268\n",
      "2.3451553217812518e-08\n",
      " 0:35:47 [===================           | 66.52%]  0:18:00  Currently at time   0.898 of   1.350-----------------------------------------\n",
      "2394.2488072029428\n",
      "105.63043166784728\n",
      "0.7716706096636422\n",
      "3.438\n",
      "-3.305010214668867e-05\n",
      "2471.660445276268\n",
      "0.8980194861651557\n",
      "3.734897856063284e-08\n",
      " 0:35:47 [===================           | 66.52%]  0:18:00  Currently at time   0.898 of   1.350-----------------------------------------\n",
      "2402.5421598457115\n",
      "105.72144991268517\n",
      "0.7716708898287719\n",
      "3.438\n",
      "-7.342741054919964e-05\n",
      "2467.8621722376465\n",
      "0.8980471103091846\n",
      "5.4302852864962013e-08\n",
      " 0:35:47 [===================           | 66.52%]  0:18:00  Currently at time   0.898 of   1.350-----------------------------------------\n",
      "2410.8499865297413\n",
      "105.7927566317658\n",
      "0.7716712363863858\n",
      "3.438\n",
      "-0.0001436364215711475\n",
      "2463.1637854277924\n",
      "0.8980747344532135\n",
      "7.046652879055838e-08\n",
      " 0:35:47 [===================           | 66.53%]  0:18:00  Currently at time   0.898 of   1.350-----------------------------------------\n",
      "2419.17228657186\n",
      "105.86494237481635\n",
      "0.7716715810432314\n",
      "3.438\n",
      "-0.00023201520913913355\n",
      "2458.4911533921845\n",
      "0.8981023585972424\n",
      "8.739410620514326e-08\n",
      " 0:35:47 [===================           | 66.53%]  0:18:00  Currently at time   0.898 of   1.350-----------------------------------------\n",
      "2427.5090592442953\n",
      "105.92957128697037\n",
      "0.7716719517783563\n",
      "3.438\n",
      "-0.00034700823899039306\n",
      "2453.4649529443655\n",
      "0.8981299827412713\n",
      "1.0447073585170621e-07\n",
      " 0:35:47 [===================           | 66.53%]  0:18:00  Currently at time   0.898 of   1.350-----------------------------------------\n",
      "2440.0413542094097\n",
      "106.74350553097854\n",
      "0.7716701317364422\n",
      "3.438\n",
      "-8.77216531023241e-06\n",
      "2478.1398091220053\n",
      "0.8981714189573147\n",
      "1.5312245966988078e-07\n",
      " 0:35:47 [===================           | 66.53%]  0:18:00  Currently at time   0.898 of   1.350-----------------------------------------\n",
      "2456.801725574912\n",
      "107.00925788515904\n",
      "0.7716704265940558\n",
      "3.438\n",
      "-2.792674662670032e-05\n",
      "2474.1423630902777\n",
      "0.8982266672453725\n",
      "1.9523307091800118e-07\n",
      " 0:51:24 [============================= | 99.69%]  0:00:09  Currently at time   1.346 of   1.350-----------------------------------------\n",
      "95811.77423400339\n",
      "2084.1464729156237\n",
      "0.7716646880571572\n",
      "3.438\n",
      "0.0\n",
      "2551.938998389334\n",
      "1.3458344850204949\n",
      "0.00024143742626606834\n",
      " 0:51:25 [============================= | 99.72%]  0:00:08  Currently at time   1.346 of   1.350"
     ]
    },
    {
     "name": "stderr",
     "output_type": "stream",
     "text": [
      "l:\\cavsim\\cavsim\\boundaries\\pump_with_valves_model_new.py:1625: RuntimeWarning: divide by zero encountered in double_scalars\n",
      "  viscosity = self.fluid.viscosity(temperature=None, shear_rate=None) / density_a\n",
      "l:\\cavsim\\cavsim\\boundaries\\pump_with_valves_model_new.py:728: RuntimeWarning: invalid value encountered in double_scalars\n",
      "  * (self.suction_outer_contact_radius - self.suction_radius))\n",
      "l:\\cavsim\\cavsim\\boundaries\\pump_with_valves_model_new.py:748: RuntimeWarning: invalid value encountered in double_scalars\n",
      "  + self._suction_flow_constant_2 * viscosity * density\n",
      "l:\\cavsim\\cavsim\\boundaries\\pump_with_valves_model_new.py:794: RuntimeWarning: divide by zero encountered in double_scalars\n",
      "  self._suction_delta_p[0, 0] = ((self.mass_flow_suction_valve[0, 0] / (density * self._suction_gap_area[1, 0]))**2) * density / 2.0 * np.sign(self.mass_flow_suction_valve[0, 0])\n",
      "l:\\cavsim\\cavsim\\boundaries\\pump_with_valves_model_new.py:794: RuntimeWarning: invalid value encountered in double_scalars\n",
      "  self._suction_delta_p[0, 0] = ((self.mass_flow_suction_valve[0, 0] / (density * self._suction_gap_area[1, 0]))**2) * density / 2.0 * np.sign(self.mass_flow_suction_valve[0, 0])\n",
      "l:\\cavsim\\cavsim\\boundaries\\pump_with_valves_model_new.py:1164: RuntimeWarning: invalid value encountered in double_scalars\n",
      "  * (self.discharge_outer_contact_radius - self.discharge_radius))\n",
      "l:\\cavsim\\cavsim\\boundaries\\pump_with_valves_model_new.py:1164: RuntimeWarning: invalid value encountered in multiply\n",
      "  * (self.discharge_outer_contact_radius - self.discharge_radius))\n",
      "l:\\cavsim\\cavsim\\base\\fluids\\base_fluid.py:190: RuntimeWarning: overflow encountered in exp\n",
      "  return density * np.exp(pressure_diff / bulk)\n",
      "l:\\cavsim\\cavsim\\pipes\\pipe.py:269: RuntimeWarning: invalid value encountered in greater\n",
      "  selector = np.logical_and(reynolds > 0.0, reynolds < 2100.0)\n",
      "l:\\cavsim\\cavsim\\pipes\\pipe.py:269: RuntimeWarning: invalid value encountered in less\n",
      "  selector = np.logical_and(reynolds > 0.0, reynolds < 2100.0)\n",
      "l:\\cavsim\\cavsim\\pipes\\pipe.py:275: RuntimeWarning: invalid value encountered in greater_equal\n",
      "  selector = (reynolds >= 2100.0)\n",
      "l:\\cavsim\\cavsim\\pipes\\pipe.py:372: RuntimeWarning: invalid value encountered in greater_equal\n",
      "  selector = (reynolds >= 2320.0)\n",
      "l:\\cavsim\\cavsim\\pipes\\pipe.py:376: RuntimeWarning: divide by zero encountered in log10\n",
      "  factor = 7.41 / np.power(local_reynolds, np.log10(factor))\n",
      "l:\\cavsim\\cavsim\\pipes\\pipe.py:376: RuntimeWarning: divide by zero encountered in true_divide\n",
      "  factor = 7.41 / np.power(local_reynolds, np.log10(factor))\n",
      "l:\\cavsim\\cavsim\\base\\fluids\\base_fluid.py:262: RuntimeWarning: divide by zero encountered in true_divide\n",
      "  self.bulk_modulus(temperature=temperature) / self.density(pressure=pressure, temperature=temperature)\n",
      "l:\\cavsim\\cavsim\\pipes\\pipe.py:397: RuntimeWarning: invalid value encountered in sign\n",
      "  result = brunone * (vdt + (speed_of_sound * np.sign(velocity_a * vdx) * vdx))\n",
      "l:\\cavsim\\cavsim\\pipes\\pipe.py:416: RuntimeWarning: invalid value encountered in sign\n",
      "  result = brunone * (vdt + (speed_of_sound * np.sign(velocity_b * vdx) * vdx))\n",
      "l:\\cavsim\\cavsim\\pipes\\pipe.py:333: RuntimeWarning: invalid value encountered in multiply\n",
      "  + (self._delta_x * density * (friction_b - friction_a))\n",
      "l:\\cavsim\\cavsim\\pipes\\pipe.py:358: RuntimeWarning: invalid value encountered in multiply\n",
      "  - (self._delta_t * (friction_a + friction_b))\n",
      "l:\\cavsim\\cavsim\\boundaries\\pump_with_valves_model_new.py:794: RuntimeWarning: invalid value encountered in sign\n",
      "  self._suction_delta_p[0, 0] = ((self.mass_flow_suction_valve[0, 0] / (density * self._suction_gap_area[1, 0]))**2) * density / 2.0 * np.sign(self.mass_flow_suction_valve[0, 0])\n",
      "l:\\cavsim\\cavsim\\pipes\\pipe.py:257: RuntimeWarning: invalid value encountered in multiply\n",
      "  result = (density * np.abs(velocity) * self.diameter) / viscosity\n",
      "l:\\cavsim\\cavsim\\pipes\\pipe.py:333: RuntimeWarning: invalid value encountered in add\n",
      "  + (self._delta_x * density * (friction_b - friction_a))\n",
      "l:\\cavsim\\cavsim\\pipes\\pipe.py:358: RuntimeWarning: invalid value encountered in subtract\n",
      "  - (self._delta_t * (friction_a + friction_b))\n"
     ]
    },
    {
     "name": "stdout",
     "output_type": "stream",
     "text": [
      " 0:51:26 [============================= | 99.73%]  0:00:08  Currently at time   1.346 of   1.350"
     ]
    },
    {
     "name": "stderr",
     "output_type": "stream",
     "text": [
      "l:\\cavsim\\cavsim\\boundaries\\zeta_joint.py:219: RuntimeWarning: invalid value encountered in sign\n",
      "  self._volume_flow[0, 1] = np.sign(c) * (-b + np.sqrt(b * b + np.sign(c) * 2 * k * c))\n"
     ]
    },
    {
     "name": "stdout",
     "output_type": "stream",
     "text": [
      " 0:51:37 [==============================|100.00%]  0:00:00  Currently at time   1.350 of   1.350"
     ]
    }
   ],
   "source": [
    "solver.solve(1e20, 1.35, 3)"
   ]
  },
  {
   "cell_type": "code",
   "execution_count": 28,
   "metadata": {},
   "outputs": [],
   "source": [
    "pfield1 = np.stack(plogs1)\n",
    "pfield2 = np.stack(plogs2)\n",
    "pfield3 = np.stack(plogs3)\n",
    "disfield = np.stack(dislog)\n",
    "velfield = np.stack(velocity)\n",
    "pressure = np.stack(pumplog)\n",
    "pump_velocity = np.stack(pump_speed)\n",
    "values = np.stack(pump_value)\n",
    "flow_force = np.stack(flow_log)\n",
    "spring_force = np.stack(springlog)\n",
    "lower_pressure_force = np.stack(lower_pressure_log)\n",
    "contact_pressure_force = np.stack(contact_pressure_log)\n",
    "damping_force = np.stack(damping_log)"
   ]
  },
  {
   "cell_type": "code",
   "execution_count": 29,
   "metadata": {},
   "outputs": [
    {
     "data": {
      "image/png": "[encoded data removed]",
      "text/plain": [
       "<Figure size 1440x720 with 2 Axes>"
      ]
     },
     "metadata": {
      "needs_background": "light"
     },
     "output_type": "display_data"
    }
   ],
   "source": [
    "time = np.linspace(0, 1.35, int(pfield1[:,-2].shape[0]))\n",
    "#plt.figure(figsize=(16, 10))\n",
    "fig, ax1 = plt.subplots(figsize=(20, 10))\n",
    "#plt.subplot(1, 2, 1)\n",
    "#plt.plot(vfield[:,0])\n",
    "#plt.plot(1, 2, 2)\n",
    "val1 = 45000\n",
    "val = -8000\n",
    "#val1 = 0\n",
    "#val = -1\n",
    "\n",
    "#upper_force = upperp_field[val1:val, 0] + gfield[val1:val, 0] + springforce[val1:val, 0]\n",
    "#lower_force = lowp_field[val1:val, 0] + contact_pressure[val1:val, 0]\n",
    "#result1 = lower_force - upper_force\n",
    "#result2 = flow_field[val1:val, 0] - gfield[val1:val, 0] - springforce[val1:val, 0] - dampingfield[val1:val, 0]\n",
    "#upper_flow = gfield[val1:val, 0] + springforce[val1:val, 0] + dampingfield[val1:val, 0]\n",
    "#lower_flow = flow_field[val1:val, 0]\n",
    "#ax1.plot(time[val1:val], upper_flow, color='red')\n",
    "#ax1.plot(time[val1:val], lower_flow, color='blue')\n",
    "\n",
    "\n",
    "#plt.subplot(1, 2, 2)\n",
    "#ax1.plot(result1[val1:val])\n",
    "#ax1.plot(result2[val1:val])\n",
    "#ax1.plot(time[val1:val], upperp_field[val1:val, 0], color='red')\n",
    "#ax1.plot(time[val1:val], lowp_field[val1:val, 0], color='green')\n",
    "#ax1.plot(time[val1:val], dampingfield[val1:val, 0], color='blue')\n",
    "\n",
    "#ax1.plot(time[val1:val], contact_pressure[val1:val, 0], color='black')\n",
    "#ax1.plot(time[val1:val], springforce[val1:val, 0], color='grey')\n",
    "#ax1.plot(time[val1:val], upper_force, color='red')\n",
    "#ax1.plot(time[val1:val], lower_force, color='blue')\n",
    "\n",
    "#plt.plot(time[val1:val], pfield3[val1:val, 1], color='red')\n",
    "plt.plot(time[val1:val], pump_velocity[val1:val, 0], color='black')\n",
    "plt.plot(time[val1:val], pfield2[val1:val, 1], color='green')\n",
    "plt.plot(time[val1:val], pressure[val1:val, 0],color='violet')\n",
    "\n",
    "\n",
    "#ax1.plot(time[val1:val], deltap[val1:val, 0], color='green')\n",
    "\n",
    "#plt.xlim(time[val1],time[val])\n",
    "#plt.ylim(0e5, 22e5)\n",
    "\n",
    "color = 'tab:red'\n",
    "ax1.set_xlabel('time (s)')\n",
    "ax1.set_ylabel('Pressure', color=color)\n",
    "ax1.set_ylim(0e5, 22e5)\n",
    "plt.grid()\n",
    "#ax1.plot(time[val1:val], pfield1[val1:val, 1], color='red')\n",
    "#ax1.plot(time[val1:val], pfield2[val1:val, -2], color='green')\n",
    "ax1.tick_params(axis='y', labelcolor=color)\n",
    "\n",
    "\n",
    "ax2 = ax1.twinx()  # instantiate a second axes that shares the same x-axis\n",
    "\n",
    "color = 'tab:blue'\n",
    "ax2.plot(time[val1:val], disfield[val1:val, 0]*1000, color=color)  # we already handled the x-label with ax1\n",
    "ax2.plot(time[val1:val], values[val1:val, 0]*1000, color = 'black')\n",
    "#ax2.plot(time[val1:val], contact_pressure_force[val1:val, 0], color = 'green')\n",
    "#ax2.plot(time[val1:val], spring_force[val1:val, 0], color = 'green')\n",
    "#ax2.plot(time[val1:val], contact_pressure_force[val1:val, 0]+lower_pressure_force[val1:val, 0], color = 'black')\n",
    "#ax2.plot(time[val1:val], flow_force[val1:val, 0]-spring_force[val1:val, 0], color = 'red')\n",
    "#ax2.plot(time[val1:val], zeta[val1:val, 0], color='green')\n",
    "#ax2.plot(time[val1:val], flow_field[val1:val, 0], color='black')\n",
    "#ax2.tick_params(axis='y', labelcolor=color)\n",
    "\n",
    "#plt.subplot(1, 2, 1)\n",
    "#plt.plot(time[val1:val], disfield[val1:val, 0]*1000, color='black')\n",
    "#plt.plot(time[val1:val], pump(time[val1:val]))\n",
    "#plt.plot(time[val1:val], velfield[val1:val, 0], color='blue')\n",
    "#plt.plot(time[val1:val], pfield2[val1:val, 1], color='red')\n",
    "#pltplot(time[val1:val], pfield1[val1:val, -2], color='green')\n",
    "#plt.ylim(-2e3, 2e3)\n",
    "fig.tight_layout()\n",
    "plt.show()"
   ]
  },
  {
   "cell_type": "markdown",
   "metadata": {},
   "source": [
    "a = 70/60*(0.07**2)/4*np.pi*0.045"
   ]
  },
  {
   "cell_type": "code",
   "execution_count": 33,
   "metadata": {},
   "outputs": [],
   "source": [
    "#a = 70/60(0.07**2)/4*np.pi*0.045\n",
    "#a/(2*0.025**2/4.0*np.pi)"
   ]
  },
  {
   "cell_type": "code",
   "execution_count": 34,
   "metadata": {},
   "outputs": [],
   "source": [
    "zetavalue = (2*(20e5-1.28e5)/((0.2058**2)*1000))"
   ]
  },
  {
   "cell_type": "code",
   "execution_count": 35,
   "metadata": {},
   "outputs": [],
   "source": [
    "import nptdms\n",
    "from nptdms import TdmsFile\n",
    "savepath = 'L:/017_Messdaten_Pascal/Messdatensatz 0,5m Fuellstand'\n",
    "path = \"L:/017_Messdaten_Pascal/Messdatensatz 0,5m Fuellstand\""
   ]
  },
  {
   "cell_type": "code",
   "execution_count": 36,
   "metadata": {},
   "outputs": [],
   "source": [
    "def writetdms(tdms, num):\n",
    "    groups = tdms.groups()\n",
    "    channels = tdms.group_channels(groups[0])\n",
    "    channel_names = [channel.channel for channel in channels]\n",
    "    obj = tdms.object(groups[0], channel_names[num])\n",
    "    data = np.asarray(obj.data)\n",
    "    \n",
    "\n",
    "    return data\n",
    "\n",
    "\n",
    "\n",
    "def datetime_to_float(timesignal):\n",
    "\n",
    "    t0 = timesignal[0]\n",
    "    t1 = timesignal[timesignal.shape[0] - 1]\n",
    "    sec = (t1-t0).total_seconds()\n",
    "    time = np.linspace(0, sec, timesignal.shape[0])\n",
    "\n",
    "    return time"
   ]
  },
  {
   "cell_type": "code",
   "execution_count": 37,
   "metadata": {},
   "outputs": [],
   "source": [
    "size = 128000\n",
    "tpAr = np.empty(size)\n",
    "pAr = np.empty(size)"
   ]
  },
  {
   "cell_type": "code",
   "execution_count": null,
   "metadata": {},
   "outputs": [],
   "source": [
    "ch = (0, 1, 2, 3, 4, 5, 6, 7, 8, 9, 10, 11, 12, 13, 14, 15, 16, 17, 18, 19, 20, 21, 22, 23, 24, 25)\n",
    "tdms = TdmsFile(path+'/Messungen_' +str(3)+\".tdms\")\n",
    "tpAr = datetime_to_float(writetdms(tdms, ch[10]))\n",
    "pAr = writetdms(tdms, ch[11])"
   ]
  },
  {
   "cell_type": "code",
   "execution_count": null,
   "metadata": {},
   "outputs": [],
   "source": [
    "new_time = np.linspace(0, (time[-1000]-time[89500]), time[89500:-1000].shape[0])\n",
    "plt.figure(figsize=(20, 10))\n",
    "plt.plot(tpAr[7500:19250]-tpAr[7500], pAr[7500:19250]*1e5, label='Messung')\n",
    "#plt.ylim(0e5, 23)\n",
    "#ax2 = ax1.twinx()  # instantiate a second axes that shares the same x-axis\n",
    "#ax2.set_ylim(0e5, 23e5)\n",
    "plt.plot(new_time, pressure[89500:-1000, 0],color='red', label='Simulation')\n",
    "plt.xlabel('Zeit in Sekunden', fontsize='14')\n",
    "plt.ylabel('Druck in Pascal', fontsize='14')\n",
    "plt.legend(fontsize='14')\n",
    "plt.grid()\n",
    "plt.savefig('L:/023_CavSim_Plots/Simulation_70Umin.png')\n"
   ]
  },
  {
   "cell_type": "code",
   "execution_count": null,
   "metadata": {},
   "outputs": [],
   "source": [
    "print(new_time)"
   ]
  },
  {
   "cell_type": "code",
   "execution_count": null,
   "metadata": {},
   "outputs": [],
   "source": [
    "print(tpAr[7500:19500]-tpAr[7500])"
   ]
  },
  {
   "cell_type": "code",
   "execution_count": null,
   "metadata": {},
   "outputs": [],
   "source": []
  },
  {
   "cell_type": "code",
   "execution_count": null,
   "metadata": {},
   "outputs": [],
   "source": []
  }
 ],
 "metadata": {
  "kernelspec": {
   "display_name": "Python 3",
   "language": "python",
   "name": "python3"
  },
  "language_info": {
   "codemirror_mode": {
    "name": "ipython",
    "version": 3
   },
   "file_extension": ".py",
   "mimetype": "text/x-python",
   "name": "python",
   "nbconvert_exporter": "python",
   "pygments_lexer": "ipython3",
   "version": "3.6.9"
  }
 },
 "nbformat": 4,
 "nbformat_minor": 2
}
