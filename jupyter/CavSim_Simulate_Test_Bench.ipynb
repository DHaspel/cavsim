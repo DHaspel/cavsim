{
 "cells": [
  {
   "cell_type": "code",
   "execution_count": 1,
   "metadata": {},
   "outputs": [],
   "source": [
    "import numpy as np\n",
    "import matplotlib.pyplot as plt"
   ]
  },
  {
   "cell_type": "code",
   "execution_count": 2,
   "metadata": {},
   "outputs": [],
   "source": [
    "import cavsim\n",
    "from cavsim import Measure\n",
    "from cavsim.connectors import BaseConnector, Connector\n",
    "from cavsim.channels import ImportChannel, ExportChannel\n",
    "from cavsim.components import BaseComponent, Component\n",
    "from cavsim.solvers import BaseSolver, SimpleSolver\n",
    "from cavsim.fluids import Fluid"
   ]
  },
  {
   "cell_type": "code",
   "execution_count": 3,
   "metadata": {},
   "outputs": [],
   "source": [
    "from cavsim.pipes.pipe import Pipe\n",
    "from cavsim.boundaries.left_boundary_pressure import LeftBoundaryPressure\n",
    "from cavsim.boundaries.left_boundary_velocity import LeftBoundaryVelocity\n",
    "from cavsim.boundaries.right_boundary_pressure import RightBoundaryPressure\n",
    "from cavsim.boundaries.right_boundary_velocity import RightBoundaryVelocity\n",
    "from cavsim.boundaries.simple_pipe_connector import PipeConnectorSimple\n",
    "from cavsim.boundaries.zeta_joint import ZetaJoint\n",
    "from cavsim.boundaries.simple_t_joint import SimpleTJoint\n",
    "from cavsim.boundaries.simple_right_gasdampener import RightGasBubbleSimple\n",
    "from cavsim.boundaries.simple_left_gasdampener import LeftGasBubbleSimple\n",
    "from cavsim.boundaries.frictionless_gasdampener import FrictionlessGasDampener\n",
    "from cavsim.boundaries.gasdampener import GasDampener\n",
    "from cavsim.boundaries.pump_with_valves_model_new import PumpSuctionValve"
   ]
  },
  {
   "cell_type": "code",
   "execution_count": 4,
   "metadata": {},
   "outputs": [],
   "source": [
    "fluid = Fluid(1000, 1e-3, 1.0e9, 2.3e-3,initial_pressure=128000)"
   ]
  },
  {
   "cell_type": "code",
   "execution_count": 5,
   "metadata": {},
   "outputs": [],
   "source": [
    "Tank = Pipe(1.5, 1.5, 0.002, 2e11, 1e-7, 4)\n",
    "suction = Pipe(0.056, 0.07, 0.002, 2e11, 1e-7, 4)\n",
    "suction1 = Pipe(0.056, 1.480, 0.002, 2e11, 1e-7, 4)\n",
    "suction2 = Pipe(0.056, 1.210, 0.002, 2e11, 1e-7, 4)\n",
    "suction3 = Pipe(0.056, 0.225, 0.002, 2e11, 1e-7, 4)\n",
    "suction4 = Pipe(0.056, 0.360, 0.002, 2e11, 1e-7, 4)\n",
    "suction5 = Pipe(0.056, 0.590, 0.002, 2e11, 1e-7, 4)\n",
    "suction6 = Pipe(0.056, 0.335, 0.002, 2e11, 1e-7, 4)\n",
    "suction7 = Pipe(0.056, 0.519, 0.002, 2e11, 1e-7, 4)\n",
    "suction8 = Pipe(0.056, 0.274, 0.002, 2e11, 1e-7, 4)\n",
    "suction9 = Pipe(0.032, 0.15, 0.002, 2e11, 1e-7, 4)\n",
    "discharge = Pipe(0.025, 1.05, 0.002, 2e11, 1e-7, 4, initial_pressure=20e5)\n",
    "discharge1 = Pipe(0.025, 0.3, 0.002, 2e11, 1e-7, 4, initial_pressure=20e5)\n",
    "discharge2 = Pipe(0.025, 27.4, 0.002, 2e11, 1e-7, 4, initial_pressure=20e5)\n",
    "discharge3 = Pipe(0.025, 0.5, 0.002, 2e11, 1e-7, 4, initial_pressure=20e5)\n",
    "discharge4 = Pipe(0.025, 0.5, 0.002, 2e11, 1e-7, 4, initial_pressure=20e5)\n",
    "discharge5 = Pipe(0.025, 0.5, 0.002, 2e11, 1e-7, 4, initial_pressure=20e5)"
   ]
  },
  {
   "cell_type": "code",
   "execution_count": 6,
   "metadata": {},
   "outputs": [],
   "source": [
    "lb1 = LeftBoundaryPressure(1.28e5)\n",
    "Tank.connect(lb1)"
   ]
  },
  {
   "cell_type": "code",
   "execution_count": 7,
   "metadata": {},
   "outputs": [],
   "source": [
    "conn = ZetaJoint(1.0)\n",
    "Tank.connect(conn)\n",
    "suction.connect(conn)"
   ]
  },
  {
   "cell_type": "code",
   "execution_count": 8,
   "metadata": {},
   "outputs": [],
   "source": [
    "conn1 = ZetaJoint(0.1)\n",
    "suction.connect(conn1)\n",
    "suction1.connect(conn1)"
   ]
  },
  {
   "cell_type": "code",
   "execution_count": 9,
   "metadata": {},
   "outputs": [],
   "source": [
    "conn2 = ZetaJoint(0.2)\n",
    "suction1.connect(conn2)\n",
    "suction2.connect(conn2)"
   ]
  },
  {
   "cell_type": "code",
   "execution_count": 10,
   "metadata": {},
   "outputs": [],
   "source": [
    "conn3 = ZetaJoint(0.05)\n",
    "suction2.connect(conn3)\n",
    "suction3.connect(conn3)"
   ]
  },
  {
   "cell_type": "code",
   "execution_count": 11,
   "metadata": {},
   "outputs": [],
   "source": [
    "conn4 = ZetaJoint(0.05)\n",
    "suction3.connect(conn4)\n",
    "suction4.connect(conn4)"
   ]
  },
  {
   "cell_type": "code",
   "execution_count": 12,
   "metadata": {},
   "outputs": [],
   "source": [
    "conn5 = ZetaJoint(0.05)\n",
    "suction4.connect(conn5)\n",
    "suction5.connect(conn5)"
   ]
  },
  {
   "cell_type": "code",
   "execution_count": 13,
   "metadata": {},
   "outputs": [],
   "source": [
    "conn6 = ZetaJoint(0.05)\n",
    "suction5.connect(conn6)\n",
    "suction6.connect(conn6)"
   ]
  },
  {
   "cell_type": "code",
   "execution_count": 14,
   "metadata": {},
   "outputs": [],
   "source": [
    "conn7 = ZetaJoint(0.05)\n",
    "suction6.connect(conn7)\n",
    "suction7.connect(conn7)"
   ]
  },
  {
   "cell_type": "code",
   "execution_count": 15,
   "metadata": {},
   "outputs": [],
   "source": [
    "conn8 = ZetaJoint(0.2)\n",
    "suction7.connect(conn8)\n",
    "suction8.connect(conn8)"
   ]
  },
  {
   "cell_type": "code",
   "execution_count": 16,
   "metadata": {},
   "outputs": [],
   "source": [
    "conn9 = ZetaJoint(0.05)\n",
    "suction8.connect(conn9)\n",
    "suction9.connect(conn9)"
   ]
  },
  {
   "cell_type": "code",
   "execution_count": 17,
   "metadata": {},
   "outputs": [],
   "source": [
    "pump = PumpSuctionValve(suction_valve_density=7950.0,               # kg/m³\n",
    "            suction_spring_force0 = 3.438,                   # N\n",
    "            suction_spring_stiffness = 3438.0,            # N/m\n",
    "            suction_spring_mass = 0.022,                 # kg\n",
    "            suction_valve_mass = 0.068,                  # kg\n",
    "            suction_outer_diameter = 0.040,              # m\n",
    "            suction_inner_contact_diameter = 0.03644173,      # m\n",
    "            suction_seat_tilt = 90/180*np.pi,                   # °\n",
    "            suction_flow_constant_1 = 7.63e-2,             # -\n",
    "            suction_flow_constant_2 = 6.480,             # -\n",
    "            suction_friction_factor_a = 107.00,           # -\n",
    "            suction_friction_factor_b = 74.00,           # -\n",
    "            suction_friction_factor_c = 1.40,           # -\n",
    "            suction_friction_factor_d = -2.40,           # -\n",
    "            suction_factor_k0 = 0.50,                   # -\n",
    "            suction_factor_k1 = 0.0,                   # -\n",
    "            suction_factor_k2 = 0.0,                   # -\n",
    "            suction_max_displacement = 25e-3,                   # m\n",
    "            suction_outer_contact_diameter = 0.040,      # m\n",
    "            discharge_valve_density = 7950.0,             # kg/m³\n",
    "            discharge_spring_force0 = 3.438,             # N\n",
    "            discharge_spring_stiffness = 3438.0,          # N/m\n",
    "            discharge_spring_mass = 0.022,               # kg\n",
    "            discharge_valve_mass = 0.068,                # kg\n",
    "            discharge_outer_diameter = 0.040,            # m\n",
    "            discharge_inner_contact_diameter = 0.03644173,    # m\n",
    "            discharge_seat_tilt = 90/180*np.pi,                 # °\n",
    "            discharge_flow_constant_1 = 7.63e-3,           # -\n",
    "            discharge_flow_constant_2 = 6.480,           # -\n",
    "            discharge_friction_factor_a = 107.00,         # -\n",
    "            discharge_friction_factor_b = 74.00,         # -\n",
    "            discharge_friction_factor_c = 1.40,         # -\n",
    "            discharge_friction_factor_d = -2.40,         # -\n",
    "            discharge_factor_k0 = 0.50,                 # -\n",
    "            discharge_factor_k1 = 0.0,                 # -\n",
    "            discharge_factor_k2 = 0.0,                 # -\n",
    "            discharge_max_displacement = 25e-3,                 # m\n",
    "            discharge_outer_contact_diameter = 0.040,    # m\n",
    "            pump_radius = 0.040/2.0,                         # m\n",
    "            rpm = 68.0,                                 # U/min\n",
    "            rratio = 0.175,                              # -\n",
    "            phi0 = 180,                                # °\n",
    "            piston_diameter = 0.07,                     # m\n",
    "            death_volume = 3.442416e-4)                        # m³)"
   ]
  },
  {
   "cell_type": "code",
   "execution_count": 18,
   "metadata": {},
   "outputs": [],
   "source": [
    "suction9.connect(pump)\n",
    "discharge.connect(pump)"
   ]
  },
  {
   "cell_type": "code",
   "execution_count": null,
   "metadata": {},
   "outputs": [],
   "source": []
  },
  {
   "cell_type": "code",
   "execution_count": 19,
   "metadata": {},
   "outputs": [],
   "source": [
    "conn11 = SimpleTJoint(20e5)\n",
    "discharge.connect(conn11)\n",
    "discharge1.connect(conn11.right2)\n",
    "discharge2.connect(conn11.right)"
   ]
  },
  {
   "cell_type": "code",
   "execution_count": 20,
   "metadata": {},
   "outputs": [],
   "source": [
    "#gd_right = RightGasBubbleSimple(20.6e5, 4.3e-3, 1.07)\n",
    "gd_right = RightGasBubbleSimple(20e5, 4.4e-3, 1.15)\n",
    "discharge1.connect(gd_right)"
   ]
  },
  {
   "cell_type": "code",
   "execution_count": 21,
   "metadata": {},
   "outputs": [],
   "source": [
    "conn12 = SimpleTJoint(20e5)\n",
    "discharge2.connect(conn12)\n",
    "discharge3.connect(conn12.right2)\n",
    "discharge4.connect(conn12.right)"
   ]
  },
  {
   "cell_type": "code",
   "execution_count": 22,
   "metadata": {},
   "outputs": [],
   "source": [
    "gd_right = RightGasBubbleSimple(20e5, 1.35e-3, 1.1)\n",
    "discharge3.connect(gd_right)"
   ]
  },
  {
   "cell_type": "code",
   "execution_count": 23,
   "metadata": {},
   "outputs": [],
   "source": [
    "conn13 = ZetaJoint(22099.63536)\n",
    "discharge4.connect(conn13)\n",
    "discharge5.connect(conn13)"
   ]
  },
  {
   "cell_type": "code",
   "execution_count": 24,
   "metadata": {},
   "outputs": [],
   "source": [
    "rb = RightBoundaryPressure(1.28e5)\n",
    "rb.connect(discharge5)"
   ]
  },
  {
   "cell_type": "code",
   "execution_count": 25,
   "metadata": {},
   "outputs": [],
   "source": [
    "plogs1 = []\n",
    "plogs2 = []\n",
    "plogs3 = []\n",
    "vlogs = []\n",
    "vlogs1 = []\n",
    "flogs = []\n",
    "rblogs = []\n",
    "relogs = []\n",
    "dislog = []\n",
    "springlog = []\n",
    "contact_pressurelog = []\n",
    "velocity = []\n",
    "pumplog = []\n",
    "pump_speed = []\n",
    "pump_value = []\n",
    "flow_log = []\n",
    "lower_pressure_log = []\n",
    "contact_pressure_log = []\n",
    "damping_log = []\n",
    "\n",
    "\n",
    "\n",
    "\n",
    "def logging(time):\n",
    "    plogs1.append(suction9.field_wide_slice('pressure', 0) + 0.0)\n",
    "    plogs2.append(discharge.field_wide_slice('pressure', 0) + 0.0)\n",
    "    plogs3.append(discharge3.field_wide_slice('pressure', 0) + 0.0)\n",
    "    pumplog.append(pump.field_wide_slice('pump_pressure', 0) + 0.0)\n",
    "    dislog.append(pump.field_wide_slice('suction_displacement', 0) + 0.0)\n",
    "    pump_speed.append(pump.field_wide_slice('discharge_pressure', 1) +0.0)\n",
    "    pump_value.append(pump.field_wide_slice('discharge_displacement', 1) +0.0)\n",
    "    springlog.append(pump.field_wide_slice('discharge_valve_velocity', 1) +0.0)\n",
    "    contact_pressurelog.append(pump.field_wide_slice('suction_contact_pressure_force', 1) +0.0)\n",
    "    flow_log.append(pump.field_wide_slice('suction_flow_force', 1) +0.0)\n",
    "    velocity.append(pump.field_wide_slice('suction_valve_velocity', 1) +0.0)\n",
    "    lower_pressure_log.append(pump.field_wide_slice('discharge_lower_pressure_force', 1) +0.0)\n",
    "    contact_pressure_log.append(pump.field_wide_slice('discharge_contact_pressure_force', 1) +0.0)\n",
    "    damping_log.append(pump.field_wide_slice('discharge_upper_pressure_force', 1) +0.0)"
   ]
  },
  {
   "cell_type": "code",
   "execution_count": 26,
   "metadata": {},
   "outputs": [],
   "source": [
    "solver = SimpleSolver()\n",
    "solver.fluid = fluid\n",
    "solver.seeds = [suction9]\n",
    "solver._callback = logging"
   ]
  },
  {
   "cell_type": "code",
   "execution_count": 27,
   "metadata": {
    "scrolled": false
   },
   "outputs": [
    {
     "name": "stdout",
     "output_type": "stream",
     "text": [
      " 0:00:00 [                              |  0.01%]  0:52:01  Currently at time   0.000 of   1.350"
     ]
    },
    {
     "name": "stderr",
     "output_type": "stream",
     "text": [
      "l:\\cavsim\\cavsim\\base\\solvers\\simple_solver.py:46: UserWarning: Smaller timestep required by component! (3.1176914536239796e-05 < 1e+20 by <cavsim.pipes.pipe.Pipe object at 0x0000020D909B2160>)\n",
      "  warn('Smaller timestep required by component! ({} < {} by {})'.format(component_time, delta_t, component))\n",
      "l:\\cavsim\\cavsim\\base\\solvers\\simple_solver.py:46: UserWarning: Smaller timestep required by component! (5.851038882113159e-05 < 1e+20 by <cavsim.pipes.pipe.Pipe object at 0x0000020D909AE358>)\n",
      "  warn('Smaller timestep required by component! ({} < {} by {})'.format(component_time, delta_t, component))\n",
      "l:\\cavsim\\cavsim\\base\\solvers\\simple_solver.py:46: UserWarning: Smaller timestep required by component! (0.00021646304534492719 < 1e+20 by <cavsim.pipes.pipe.Pipe object at 0x0000020D909B2F28>)\n",
      "  warn('Smaller timestep required by component! ({} < {} by {})'.format(component_time, delta_t, component))\n",
      "l:\\cavsim\\cavsim\\base\\solvers\\simple_solver.py:46: UserWarning: Smaller timestep required by component! (0.00011082807225608502 < 1e+20 by <cavsim.pipes.pipe.Pipe object at 0x0000020D909AA550>)\n",
      "  warn('Smaller timestep required by component! ({} < {} by {})'.format(component_time, delta_t, component))\n",
      "l:\\cavsim\\cavsim\\base\\solvers\\simple_solver.py:46: UserWarning: Smaller timestep required by component! (0.0056486547070961944 < 1e+20 by <cavsim.pipes.pipe.Pipe object at 0x0000020D909BAAC8>)\n",
      "  warn('Smaller timestep required by component! ({} < {} by {})'.format(component_time, delta_t, component))\n",
      "l:\\cavsim\\cavsim\\base\\solvers\\simple_solver.py:46: UserWarning: Smaller timestep required by component! (6.18465843842649e-05 < 1e+20 by <cavsim.pipes.pipe.Pipe object at 0x0000020D909B5CC0>)\n",
      "  warn('Smaller timestep required by component! ({} < {} by {})'.format(component_time, delta_t, component))\n",
      "l:\\cavsim\\cavsim\\base\\solvers\\simple_solver.py:46: UserWarning: Smaller timestep required by component! (7.153642428860978e-05 < 1e+20 by <cavsim.pipes.pipe.Pipe object at 0x0000020D909A7748>)\n",
      "  warn('Smaller timestep required by component! ({} < {} by {})'.format(component_time, delta_t, component))\n",
      "l:\\cavsim\\cavsim\\base\\solvers\\simple_solver.py:46: UserWarning: Smaller timestep required by component! (0.00010307764064044151 < 1e+20 by <cavsim.pipes.pipe.Pipe object at 0x0000020D909C16D8>)\n",
      "  warn('Smaller timestep required by component! ({} < {} by {})'.format(component_time, delta_t, component))\n",
      "l:\\cavsim\\cavsim\\base\\solvers\\simple_solver.py:46: UserWarning: Smaller timestep required by component! (0.00010307764064044151 < 1e+20 by <cavsim.pipes.pipe.Pipe object at 0x0000020D909BD8D0>)\n",
      "  warn('Smaller timestep required by component! ({} < {} by {})'.format(component_time, delta_t, component))\n",
      "l:\\cavsim\\cavsim\\base\\solvers\\simple_solver.py:46: UserWarning: Smaller timestep required by component! (0.00012598952337396945 < 1e+20 by <cavsim.pipes.pipe.Pipe object at 0x0000020D909A3940>)\n",
      "  warn('Smaller timestep required by component! ({} < {} by {})'.format(component_time, delta_t, component))\n",
      "l:\\cavsim\\cavsim\\base\\solvers\\simple_solver.py:46: UserWarning: Smaller timestep required by component! (0.00010307764064044151 < 1e+20 by <cavsim.pipes.pipe.Pipe object at 0x0000020D909C54E0>)\n",
      "  warn('Smaller timestep required by component! ({} < {} by {})'.format(component_time, delta_t, component))\n",
      "l:\\cavsim\\cavsim\\base\\solvers\\simple_solver.py:46: UserWarning: Smaller timestep required by component! (7.687496341462543e-05 < 1e+20 by <cavsim.pipes.pipe.Pipe object at 0x0000020D909A0B38>)\n",
      "  warn('Smaller timestep required by component! ({} < {} by {})'.format(component_time, delta_t, component))\n",
      "l:\\cavsim\\cavsim\\base\\solvers\\simple_solver.py:46: UserWarning: Smaller timestep required by component! (4.80468521341409e-05 < 1e+20 by <cavsim.pipes.pipe.Pipe object at 0x0000020D9099CD30>)\n",
      "  warn('Smaller timestep required by component! ({} < {} by {})'.format(component_time, delta_t, component))\n",
      "l:\\cavsim\\cavsim\\base\\solvers\\simple_solver.py:46: UserWarning: Smaller timestep required by component! (0.00025838529369915774 < 1e+20 by <cavsim.pipes.pipe.Pipe object at 0x0000020D90998F28>)\n",
      "  warn('Smaller timestep required by component! ({} < {} by {})'.format(component_time, delta_t, component))\n",
      "l:\\cavsim\\cavsim\\base\\solvers\\simple_solver.py:46: UserWarning: Smaller timestep required by component! (0.0003160415162601268 < 1e+20 by <cavsim.pipes.pipe.Pipe object at 0x0000020D90998160>)\n",
      "  warn('Smaller timestep required by component! ({} < {} by {})'.format(component_time, delta_t, component))\n",
      "l:\\cavsim\\cavsim\\base\\solvers\\simple_solver.py:46: UserWarning: Smaller timestep required by component! (1.4947909552843837e-05 < 1e+20 by <cavsim.pipes.pipe.Pipe object at 0x0000020D909916D8>)\n",
      "  warn('Smaller timestep required by component! ({} < {} by {})'.format(component_time, delta_t, component))\n",
      "l:\\cavsim\\cavsim\\base\\solvers\\simple_solver.py:46: UserWarning: Smaller timestep required by component! (0.0006538348415311012 < 1e+20 by <cavsim.pipes.pipe.Pipe object at 0x0000020D90991668>)\n",
      "  warn('Smaller timestep required by component! ({} < {} by {})'.format(component_time, delta_t, component))\n"
     ]
    },
    {
     "name": "stdout",
     "output_type": "stream",
     "text": [
      " 0:00:29 [                              |  1.24%]  0:39:40  Currently at time   0.017 of   1.350-----------------------------------------\n",
      "2412.4413936688848\n",
      "106.9435080408009\n",
      "0.771632324919157\n",
      "3.438\n",
      "0.0\n",
      "2513.3939012339724\n",
      "0.016816398246949506\n",
      "5.283569463893941e-09\n",
      " 0:00:30 [                              |  1.25%]  0:39:40  Currently at time   0.017 of   1.350-----------------------------------------\n",
      "2420.460587827249\n",
      "107.08667750242084\n",
      "0.7716324304991435\n",
      "3.438\n",
      "-3.2498322503747525e-06\n",
      "2512.2014993359585\n",
      "0.016846294066055194\n",
      "2.7746409423363204e-08\n",
      " 0:00:30 [                              |  1.25%]  0:39:41  Currently at time   0.017 of   1.350-----------------------------------------\n",
      "2428.4938788422837\n",
      "107.14879952480389\n",
      "0.7716328599511346\n",
      "3.438\n",
      "-3.8389727526235546e-05\n",
      "2507.3513320128645\n",
      "0.016876189885160882\n",
      "4.368049289027626e-08\n",
      " 0:00:30 [                              |  1.25%]  0:39:42  Currently at time   0.017 of   1.350-----------------------------------------\n",
      "2436.541266100944\n",
      "107.23818742467924\n",
      "0.7716331820324573\n",
      "3.438\n",
      "-8.424803255019058e-05\n",
      "2503.7137808692937\n",
      "0.01690608570426657\n",
      "6.266940469181278e-08\n",
      " 0:00:30 [                              |  1.25%]  0:39:42  Currently at time   0.017 of   1.350-----------------------------------------\n",
      "2444.6027487161086\n",
      "107.31072331047734\n",
      "0.7716335723948997\n",
      "3.438\n",
      "-0.0001615857142633472\n",
      "2499.305056128849\n",
      "0.016935981523372258\n",
      "8.088271956685561e-08\n",
      " 0:00:30 [                              |  1.26%]  0:39:42  Currently at time   0.017 of   1.350-----------------------------------------\n",
      "2452.678325906893\n",
      "107.38369378509452\n",
      "0.7716339622131305\n",
      "3.438\n",
      "-0.00025894542333843306\n",
      "2494.902462242062\n",
      "0.016965877342477946\n",
      "9.989660029411659e-08\n",
      " 0:00:30 [                              |  1.26%]  0:39:42  Currently at time   0.017 of   1.350-----------------------------------------\n",
      "2460.7679968483217\n",
      "107.44986883412305\n",
      "0.7716343802724298\n",
      "3.438\n",
      "-0.000384800308526768\n",
      "2490.180897540937\n",
      "0.016995773161583634\n",
      "1.1907771964470546e-07\n",
      " 0:00:30 [                              |  1.26%]  0:39:43  Currently at time   0.017 of   1.350-----------------------------------------\n",
      "2468.871760731636\n",
      "107.5120540965084\n",
      "0.7716348154021774\n",
      "3.438\n",
      "-0.0005368256403351955\n",
      "2485.266520234219\n",
      "0.017025668980689322\n",
      "1.3869352968141365e-07\n",
      " 0:00:30 [                              |  1.26%]  0:39:43  Currently at time   0.017 of   1.350-----------------------------------------\n",
      "2481.0538296730206\n",
      "108.27769915944737\n",
      "0.7716327933732127\n",
      "3.438\n",
      "-9.478094601199693e-05\n",
      "2508.1032544527284\n",
      "0.017070512709347854\n",
      "1.8177078765046502e-07\n",
      " 0:00:30 [                              |  1.27%]  0:39:44  Currently at time   0.017 of   1.350-----------------------------------------\n",
      "2497.345902841782\n",
      "108.51514514396632\n",
      "0.7716332205674257\n",
      "3.438\n",
      "-0.000166164297650689\n",
      "2503.2785704544285\n",
      "0.01713030434755923\n",
      "2.2814397624451006e-07\n",
      " 0:15:23 [==========                    | 34.47%]  0:29:16  Currently at time   0.465 of   1.350-----------------------------------------\n",
      "81285.32178739538\n",
      "1776.5869118200148\n",
      "0.7716296180933804\n",
      "3.438\n",
      "0.0\n",
      "2543.9639316892085\n",
      "0.4653134764706946\n",
      "0.00023880516344089632\n",
      " 0:15:24 [==========                    | 34.50%]  0:29:15  Currently at time   0.466 of   1.350"
     ]
    },
    {
     "name": "stderr",
     "output_type": "stream",
     "text": [
      "l:\\cavsim\\cavsim\\boundaries\\pump_with_valves_model_new.py:1625: RuntimeWarning: divide by zero encountered in double_scalars\n",
      "  viscosity = self.fluid.viscosity(temperature=None, shear_rate=None) / density_a\n",
      "l:\\cavsim\\cavsim\\boundaries\\pump_with_valves_model_new.py:728: RuntimeWarning: invalid value encountered in double_scalars\n",
      "  * (self.suction_outer_contact_radius - self.suction_radius))\n",
      "l:\\cavsim\\cavsim\\boundaries\\pump_with_valves_model_new.py:748: RuntimeWarning: invalid value encountered in double_scalars\n",
      "  + self._suction_flow_constant_2 * viscosity * density\n",
      "l:\\cavsim\\cavsim\\boundaries\\pump_with_valves_model_new.py:794: RuntimeWarning: invalid value encountered in double_scalars\n",
      "  self._suction_delta_p[0, 0] = ((self.mass_flow_suction_valve[0, 0] / (density * self._suction_gap_area[1, 0]))**2) * density / 2.0 * np.sign(self.mass_flow_suction_valve[0, 0])\n",
      "l:\\cavsim\\cavsim\\boundaries\\pump_with_valves_model_new.py:1164: RuntimeWarning: invalid value encountered in double_scalars\n",
      "  * (self.discharge_outer_contact_radius - self.discharge_radius))\n",
      "l:\\cavsim\\cavsim\\boundaries\\pump_with_valves_model_new.py:1164: RuntimeWarning: invalid value encountered in multiply\n",
      "  * (self.discharge_outer_contact_radius - self.discharge_radius))\n",
      "l:\\cavsim\\cavsim\\base\\fluids\\base_fluid.py:190: RuntimeWarning: overflow encountered in exp\n",
      "  return density * np.exp(pressure_diff / bulk)\n",
      "l:\\cavsim\\cavsim\\pipes\\pipe.py:269: RuntimeWarning: invalid value encountered in greater\n",
      "  selector = np.logical_and(reynolds > 0.0, reynolds < 2100.0)\n",
      "l:\\cavsim\\cavsim\\pipes\\pipe.py:269: RuntimeWarning: invalid value encountered in less\n",
      "  selector = np.logical_and(reynolds > 0.0, reynolds < 2100.0)\n",
      "l:\\cavsim\\cavsim\\pipes\\pipe.py:275: RuntimeWarning: invalid value encountered in greater_equal\n",
      "  selector = (reynolds >= 2100.0)\n",
      "l:\\cavsim\\cavsim\\pipes\\pipe.py:372: RuntimeWarning: invalid value encountered in greater_equal\n",
      "  selector = (reynolds >= 2320.0)\n",
      "l:\\cavsim\\cavsim\\pipes\\pipe.py:376: RuntimeWarning: divide by zero encountered in log10\n",
      "  factor = 7.41 / np.power(local_reynolds, np.log10(factor))\n",
      "l:\\cavsim\\cavsim\\pipes\\pipe.py:376: RuntimeWarning: divide by zero encountered in true_divide\n",
      "  factor = 7.41 / np.power(local_reynolds, np.log10(factor))\n",
      "l:\\cavsim\\cavsim\\base\\fluids\\base_fluid.py:262: RuntimeWarning: divide by zero encountered in true_divide\n",
      "  self.bulk_modulus(temperature=temperature) / self.density(pressure=pressure, temperature=temperature)\n",
      "l:\\cavsim\\cavsim\\pipes\\pipe.py:397: RuntimeWarning: invalid value encountered in sign\n",
      "  result = brunone * (vdt + (speed_of_sound * np.sign(velocity_a * vdx) * vdx))\n",
      "l:\\cavsim\\cavsim\\pipes\\pipe.py:416: RuntimeWarning: invalid value encountered in sign\n",
      "  result = brunone * (vdt + (speed_of_sound * np.sign(velocity_b * vdx) * vdx))\n",
      "l:\\cavsim\\cavsim\\pipes\\pipe.py:333: RuntimeWarning: invalid value encountered in multiply\n",
      "  + (self._delta_x * density * (friction_b - friction_a))\n",
      "l:\\cavsim\\cavsim\\pipes\\pipe.py:358: RuntimeWarning: invalid value encountered in multiply\n",
      "  - (self._delta_t * (friction_a + friction_b))\n",
      "l:\\cavsim\\cavsim\\boundaries\\pump_with_valves_model_new.py:794: RuntimeWarning: invalid value encountered in sign\n",
      "  self._suction_delta_p[0, 0] = ((self.mass_flow_suction_valve[0, 0] / (density * self._suction_gap_area[1, 0]))**2) * density / 2.0 * np.sign(self.mass_flow_suction_valve[0, 0])\n",
      "l:\\cavsim\\cavsim\\pipes\\pipe.py:257: RuntimeWarning: invalid value encountered in multiply\n",
      "  result = (density * np.abs(velocity) * self.diameter) / viscosity\n",
      "l:\\cavsim\\cavsim\\pipes\\pipe.py:333: RuntimeWarning: invalid value encountered in add\n",
      "  + (self._delta_x * density * (friction_b - friction_a))\n",
      "l:\\cavsim\\cavsim\\pipes\\pipe.py:358: RuntimeWarning: invalid value encountered in subtract\n",
      "  - (self._delta_t * (friction_a + friction_b))\n"
     ]
    },
    {
     "name": "stdout",
     "output_type": "stream",
     "text": [
      " 0:15:25 [==========                    | 34.51%]  0:29:15  Currently at time   0.466 of   1.350"
     ]
    },
    {
     "name": "stderr",
     "output_type": "stream",
     "text": [
      "l:\\cavsim\\cavsim\\boundaries\\zeta_joint.py:219: RuntimeWarning: invalid value encountered in sign\n",
      "  self._volume_flow[0, 1] = np.sign(c) * (-b + np.sqrt(b * b + np.sign(c) * 2 * k * c))\n"
     ]
    },
    {
     "name": "stdout",
     "output_type": "stream",
     "text": [
      " 0:43:58 [========================      | 82.03%]  0:09:38  Currently at time   1.107 of   1.350"
     ]
    },
    {
     "ename": "KeyboardInterrupt",
     "evalue": "",
     "output_type": "error",
     "traceback": [
      "\u001b[1;31m---------------------------------------------------------------------------\u001b[0m",
      "\u001b[1;31mKeyboardInterrupt\u001b[0m                         Traceback (most recent call last)",
      "\u001b[1;32m<ipython-input-27-7024fafc3c31>\u001b[0m in \u001b[0;36m<module>\u001b[1;34m\u001b[0m\n\u001b[1;32m----> 1\u001b[1;33m \u001b[0msolver\u001b[0m\u001b[1;33m.\u001b[0m\u001b[0msolve\u001b[0m\u001b[1;33m(\u001b[0m\u001b[1;36m1e20\u001b[0m\u001b[1;33m,\u001b[0m \u001b[1;36m1.35\u001b[0m\u001b[1;33m,\u001b[0m \u001b[1;36m3\u001b[0m\u001b[1;33m)\u001b[0m\u001b[1;33m\u001b[0m\u001b[1;33m\u001b[0m\u001b[0m\n\u001b[0m",
      "\u001b[1;32ml:\\cavsim\\cavsim\\base\\solvers\\simple_solver.py\u001b[0m in \u001b[0;36msolve\u001b[1;34m(self, delta_t, total_time, max_iterations, verbosity)\u001b[0m\n\u001b[0;32m    115\u001b[0m             \u001b[1;32mfor\u001b[0m \u001b[0mcomponent\u001b[0m \u001b[1;32min\u001b[0m \u001b[0mself\u001b[0m\u001b[1;33m.\u001b[0m\u001b[0mcomponents\u001b[0m\u001b[1;33m:\u001b[0m\u001b[1;33m\u001b[0m\u001b[1;33m\u001b[0m\u001b[0m\n\u001b[0;32m    116\u001b[0m                 \u001b[0mcomponent\u001b[0m\u001b[1;33m.\u001b[0m\u001b[0mexchange_last_boundaries\u001b[0m\u001b[1;33m(\u001b[0m\u001b[1;33m)\u001b[0m\u001b[1;33m\u001b[0m\u001b[1;33m\u001b[0m\u001b[0m\n\u001b[1;32m--> 117\u001b[1;33m             \u001b[0mself\u001b[0m\u001b[1;33m.\u001b[0m\u001b[0m_solve_inner_loop\u001b[0m\u001b[1;33m(\u001b[0m\u001b[0mmax_iterations\u001b[0m\u001b[1;33m)\u001b[0m\u001b[1;33m\u001b[0m\u001b[1;33m\u001b[0m\u001b[0m\n\u001b[0m\u001b[0;32m    118\u001b[0m             \u001b[1;32mfor\u001b[0m \u001b[0mcomponent\u001b[0m \u001b[1;32min\u001b[0m \u001b[0mself\u001b[0m\u001b[1;33m.\u001b[0m\u001b[0mcomponents\u001b[0m\u001b[1;33m:\u001b[0m\u001b[1;33m\u001b[0m\u001b[1;33m\u001b[0m\u001b[0m\n\u001b[0;32m    119\u001b[0m                 \u001b[0mcomponent\u001b[0m\u001b[1;33m.\u001b[0m\u001b[0mfinalize_current_timestep\u001b[0m\u001b[1;33m(\u001b[0m\u001b[1;33m)\u001b[0m\u001b[1;33m\u001b[0m\u001b[1;33m\u001b[0m\u001b[0m\n",
      "\u001b[1;32ml:\\cavsim\\cavsim\\base\\solvers\\simple_solver.py\u001b[0m in \u001b[0;36m_solve_inner_loop\u001b[1;34m(self, max_iterations)\u001b[0m\n\u001b[0;32m     73\u001b[0m                 \u001b[0mcomponent\u001b[0m\u001b[1;33m.\u001b[0m\u001b[0mexchange_current_boundaries\u001b[0m\u001b[1;33m(\u001b[0m\u001b[1;33m)\u001b[0m\u001b[1;33m\u001b[0m\u001b[1;33m\u001b[0m\u001b[0m\n\u001b[0;32m     74\u001b[0m             \u001b[1;32mfor\u001b[0m \u001b[0mcomponent\u001b[0m \u001b[1;32min\u001b[0m \u001b[0mself\u001b[0m\u001b[1;33m.\u001b[0m\u001b[0mcomponents\u001b[0m\u001b[1;33m:\u001b[0m\u001b[1;33m\u001b[0m\u001b[1;33m\u001b[0m\u001b[0m\n\u001b[1;32m---> 75\u001b[1;33m                 \u001b[0mneed_inner\u001b[0m \u001b[1;33m=\u001b[0m \u001b[0mneed_inner\u001b[0m \u001b[1;32mor\u001b[0m \u001b[0mcomponent\u001b[0m\u001b[1;33m.\u001b[0m\u001b[0mcalculate_next_inner_iteration\u001b[0m\u001b[1;33m(\u001b[0m\u001b[0minner_count\u001b[0m\u001b[1;33m)\u001b[0m\u001b[1;33m\u001b[0m\u001b[1;33m\u001b[0m\u001b[0m\n\u001b[0m\u001b[0;32m     76\u001b[0m             \u001b[0minner_count\u001b[0m \u001b[1;33m+=\u001b[0m \u001b[1;36m1\u001b[0m\u001b[1;33m\u001b[0m\u001b[1;33m\u001b[0m\u001b[0m\n\u001b[0;32m     77\u001b[0m             \u001b[1;32mif\u001b[0m \u001b[0misinstance\u001b[0m\u001b[1;33m(\u001b[0m\u001b[0mmax_iterations\u001b[0m\u001b[1;33m,\u001b[0m \u001b[0mint\u001b[0m\u001b[1;33m)\u001b[0m \u001b[1;32mand\u001b[0m \u001b[0minner_count\u001b[0m \u001b[1;33m>=\u001b[0m \u001b[0mmax_iterations\u001b[0m \u001b[1;32mand\u001b[0m \u001b[0mneed_inner\u001b[0m \u001b[1;32mis\u001b[0m \u001b[1;32mTrue\u001b[0m\u001b[1;33m:\u001b[0m\u001b[1;33m\u001b[0m\u001b[1;33m\u001b[0m\u001b[0m\n",
      "\u001b[1;32ml:\\cavsim\\cavsim\\boundaries\\pump_with_valves_model_new.py\u001b[0m in \u001b[0;36mcalculate_next_inner_iteration\u001b[1;34m(self, iteration)\u001b[0m\n\u001b[0;32m   1632\u001b[0m         \u001b[0mself\u001b[0m\u001b[1;33m.\u001b[0m\u001b[0m_pump_volume_change\u001b[0m\u001b[1;33m[\u001b[0m\u001b[1;36m0\u001b[0m\u001b[1;33m,\u001b[0m \u001b[1;36m0\u001b[0m\u001b[1;33m]\u001b[0m \u001b[1;33m=\u001b[0m \u001b[0mself\u001b[0m\u001b[1;33m.\u001b[0m\u001b[0mcalculate_volume_change\u001b[0m\u001b[1;33m(\u001b[0m\u001b[0mself\u001b[0m\u001b[1;33m.\u001b[0m\u001b[0mtime\u001b[0m\u001b[1;33m)\u001b[0m\u001b[1;33m\u001b[0m\u001b[1;33m\u001b[0m\u001b[0m\n\u001b[0;32m   1633\u001b[0m         \u001b[1;31m#self._suction_gap_flow[0, 0] = self.calculate_suction_gap_flow(pressure_a, density_a)\u001b[0m\u001b[1;33m\u001b[0m\u001b[1;33m\u001b[0m\u001b[1;33m\u001b[0m\u001b[0m\n\u001b[1;32m-> 1634\u001b[1;33m         \u001b[0mself\u001b[0m\u001b[1;33m.\u001b[0m\u001b[0mcalculate_suction_valve\u001b[0m\u001b[1;33m(\u001b[0m\u001b[0mpressure_a\u001b[0m\u001b[1;33m,\u001b[0m \u001b[0mself\u001b[0m\u001b[1;33m.\u001b[0m\u001b[0mpump_pressure\u001b[0m\u001b[1;33m[\u001b[0m\u001b[1;36m0\u001b[0m\u001b[1;33m,\u001b[0m \u001b[1;36m0\u001b[0m\u001b[1;33m]\u001b[0m\u001b[1;33m,\u001b[0m \u001b[0mviscosity\u001b[0m\u001b[1;33m,\u001b[0m \u001b[0mdensity_a\u001b[0m\u001b[1;33m)\u001b[0m\u001b[1;33m\u001b[0m\u001b[1;33m\u001b[0m\u001b[0m\n\u001b[0m\u001b[0;32m   1635\u001b[0m         \u001b[0mself\u001b[0m\u001b[1;33m.\u001b[0m\u001b[0mcalculate_discharge_valve\u001b[0m\u001b[1;33m(\u001b[0m\u001b[0mself\u001b[0m\u001b[1;33m.\u001b[0m\u001b[0mpump_pressure\u001b[0m\u001b[1;33m[\u001b[0m\u001b[1;36m0\u001b[0m\u001b[1;33m,\u001b[0m \u001b[1;36m0\u001b[0m\u001b[1;33m]\u001b[0m\u001b[1;33m,\u001b[0m \u001b[0mpressure_b\u001b[0m\u001b[1;33m,\u001b[0m \u001b[0mviscosity\u001b[0m\u001b[1;33m,\u001b[0m \u001b[0mdensity_b\u001b[0m\u001b[1;33m)\u001b[0m\u001b[1;33m\u001b[0m\u001b[1;33m\u001b[0m\u001b[0m\n\u001b[0;32m   1636\u001b[0m \u001b[1;33m\u001b[0m\u001b[0m\n",
      "\u001b[1;32ml:\\cavsim\\cavsim\\boundaries\\pump_with_valves_model_new.py\u001b[0m in \u001b[0;36mcalculate_suction_valve\u001b[1;34m(self, lower_pressure, upper_pressure, viscosity, density)\u001b[0m\n\u001b[0;32m    956\u001b[0m                                                                                                  \u001b[0mvelocity\u001b[0m\u001b[1;33m,\u001b[0m\u001b[1;33m\u001b[0m\u001b[1;33m\u001b[0m\u001b[0m\n\u001b[0;32m    957\u001b[0m                                                                                                  \u001b[0mdensity\u001b[0m\u001b[1;33m,\u001b[0m\u001b[1;33m\u001b[0m\u001b[1;33m\u001b[0m\u001b[0m\n\u001b[1;32m--> 958\u001b[1;33m                                                                                                  viscosity)\n\u001b[0m\u001b[0;32m    959\u001b[0m \u001b[1;33m\u001b[0m\u001b[0m\n\u001b[0;32m    960\u001b[0m             \u001b[0mself\u001b[0m\u001b[1;33m.\u001b[0m\u001b[0m_suction_spring_force\u001b[0m\u001b[1;33m[\u001b[0m\u001b[1;36m1\u001b[0m\u001b[1;33m,\u001b[0m \u001b[1;36m0\u001b[0m\u001b[1;33m]\u001b[0m \u001b[1;33m=\u001b[0m \u001b[0mself\u001b[0m\u001b[1;33m.\u001b[0m\u001b[0mcalculate_suction_spring_force\u001b[0m\u001b[1;33m(\u001b[0m\u001b[0mdisplacement\u001b[0m\u001b[1;33m)\u001b[0m\u001b[1;33m\u001b[0m\u001b[1;33m\u001b[0m\u001b[0m\n",
      "\u001b[1;32ml:\\cavsim\\cavsim\\boundaries\\pump_with_valves_model_new.py\u001b[0m in \u001b[0;36mcalculate_suction_contact_pressure\u001b[1;34m(self, lower_pressure, upper_pressure, displacement, velocity, density, viscosity)\u001b[0m\n\u001b[0;32m    728\u001b[0m                      * (self.suction_outer_contact_radius - self.suction_radius))\n\u001b[0;32m    729\u001b[0m                   / ((displacement**3) * ((np.sin(self._suction_seat_tilt))**2)\n\u001b[1;32m--> 730\u001b[1;33m                      * self.suction_radius * (self.suction_outer_contact_radius - self.suction_inner_contact_radius))\n\u001b[0m\u001b[0;32m    731\u001b[0m                   )\n\u001b[0;32m    732\u001b[0m \u001b[1;33m\u001b[0m\u001b[0m\n",
      "\u001b[1;32ml:\\cavsim\\cavsim\\boundaries\\pump_with_valves_model_new.py\u001b[0m in \u001b[0;36msuction_radius\u001b[1;34m(self)\u001b[0m\n\u001b[0;32m    303\u001b[0m     \u001b[1;32mdef\u001b[0m \u001b[0msuction_radius\u001b[0m\u001b[1;33m(\u001b[0m\u001b[0mself\u001b[0m\u001b[1;33m)\u001b[0m\u001b[1;33m:\u001b[0m\u001b[1;33m\u001b[0m\u001b[1;33m\u001b[0m\u001b[0m\n\u001b[0;32m    304\u001b[0m \u001b[1;33m\u001b[0m\u001b[0m\n\u001b[1;32m--> 305\u001b[1;33m         \u001b[1;32mreturn\u001b[0m \u001b[0mnp\u001b[0m\u001b[1;33m.\u001b[0m\u001b[0mlinspace\u001b[0m\u001b[1;33m(\u001b[0m\u001b[0mself\u001b[0m\u001b[1;33m.\u001b[0m\u001b[0msuction_inner_contact_radius\u001b[0m\u001b[1;33m,\u001b[0m \u001b[0mself\u001b[0m\u001b[1;33m.\u001b[0m\u001b[0msuction_outer_contact_radius\u001b[0m\u001b[1;33m,\u001b[0m \u001b[1;36m10000\u001b[0m\u001b[1;33m)\u001b[0m\u001b[1;33m\u001b[0m\u001b[1;33m\u001b[0m\u001b[0m\n\u001b[0m\u001b[0;32m    306\u001b[0m \u001b[1;33m\u001b[0m\u001b[0m\n\u001b[0;32m    307\u001b[0m     \u001b[1;33m@\u001b[0m\u001b[0mproperty\u001b[0m\u001b[1;33m\u001b[0m\u001b[1;33m\u001b[0m\u001b[0m\n",
      "\u001b[1;32m<__array_function__ internals>\u001b[0m in \u001b[0;36mlinspace\u001b[1;34m(*args, **kwargs)\u001b[0m\n",
      "\u001b[1;32mC:\\Users\\fe\\AppData\\Local\\conda\\conda\\envs\\CavSim\\lib\\site-packages\\numpy\\core\\function_base.py\u001b[0m in \u001b[0;36mlinspace\u001b[1;34m(start, stop, num, endpoint, retstep, dtype, axis)\u001b[0m\n\u001b[0;32m    166\u001b[0m         \u001b[0my\u001b[0m \u001b[1;33m=\u001b[0m \u001b[0my\u001b[0m \u001b[1;33m*\u001b[0m \u001b[0mdelta\u001b[0m\u001b[1;33m\u001b[0m\u001b[1;33m\u001b[0m\u001b[0m\n\u001b[0;32m    167\u001b[0m \u001b[1;33m\u001b[0m\u001b[0m\n\u001b[1;32m--> 168\u001b[1;33m     \u001b[0my\u001b[0m \u001b[1;33m+=\u001b[0m \u001b[0mstart\u001b[0m\u001b[1;33m\u001b[0m\u001b[1;33m\u001b[0m\u001b[0m\n\u001b[0m\u001b[0;32m    169\u001b[0m \u001b[1;33m\u001b[0m\u001b[0m\n\u001b[0;32m    170\u001b[0m     \u001b[1;32mif\u001b[0m \u001b[0mendpoint\u001b[0m \u001b[1;32mand\u001b[0m \u001b[0mnum\u001b[0m \u001b[1;33m>\u001b[0m \u001b[1;36m1\u001b[0m\u001b[1;33m:\u001b[0m\u001b[1;33m\u001b[0m\u001b[1;33m\u001b[0m\u001b[0m\n",
      "\u001b[1;31mKeyboardInterrupt\u001b[0m: "
     ]
    }
   ],
   "source": [
    "solver.solve(1e20, 1.35, 3)"
   ]
  },
  {
   "cell_type": "code",
   "execution_count": 28,
   "metadata": {},
   "outputs": [],
   "source": [
    "pfield1 = np.stack(plogs1)\n",
    "pfield2 = np.stack(plogs2)\n",
    "pfield3 = np.stack(plogs3)\n",
    "disfield = np.stack(dislog)\n",
    "velfield = np.stack(velocity)\n",
    "pressure = np.stack(pumplog)\n",
    "pump_velocity = np.stack(pump_speed)\n",
    "values = np.stack(pump_value)\n",
    "flow_force = np.stack(flow_log)\n",
    "spring_force = np.stack(springlog)\n",
    "lower_pressure_force = np.stack(lower_pressure_log)\n",
    "contact_pressure_force = np.stack(contact_pressure_log)\n",
    "damping_force = np.stack(damping_log)"
   ]
  },
  {
   "cell_type": "code",
   "execution_count": 30,
   "metadata": {},
   "outputs": [
    {
     "data": {
      "image/png": "[encoded data removed]",
      "text/plain": [
       "<Figure size 1440x720 with 2 Axes>"
      ]
     },
     "metadata": {
      "needs_background": "light"
     },
     "output_type": "display_data"
    }
   ],
   "source": [
    "time = np.linspace(0, 1.35, int(pfield1[:,-2].shape[0]))\n",
    "#plt.figure(figsize=(16, 10))\n",
    "fig, ax1 = plt.subplots(figsize=(20, 10))\n",
    "#plt.subplot(1, 2, 1)\n",
    "#plt.plot(vfield[:,0])\n",
    "#plt.plot(1, 2, 2)\n",
    "val1 = 0\n",
    "val = -8000\n",
    "#val1 = 0\n",
    "#val = -1\n",
    "\n",
    "#upper_force = upperp_field[val1:val, 0] + gfield[val1:val, 0] + springforce[val1:val, 0]\n",
    "#lower_force = lowp_field[val1:val, 0] + contact_pressure[val1:val, 0]\n",
    "#result1 = lower_force - upper_force\n",
    "#result2 = flow_field[val1:val, 0] - gfield[val1:val, 0] - springforce[val1:val, 0] - dampingfield[val1:val, 0]\n",
    "#upper_flow = gfield[val1:val, 0] + springforce[val1:val, 0] + dampingfield[val1:val, 0]\n",
    "#lower_flow = flow_field[val1:val, 0]\n",
    "#ax1.plot(time[val1:val], upper_flow, color='red')\n",
    "#ax1.plot(time[val1:val], lower_flow, color='blue')\n",
    "\n",
    "\n",
    "#plt.subplot(1, 2, 2)\n",
    "#ax1.plot(result1[val1:val])\n",
    "#ax1.plot(result2[val1:val])\n",
    "#ax1.plot(time[val1:val], upperp_field[val1:val, 0], color='red')\n",
    "#ax1.plot(time[val1:val], lowp_field[val1:val, 0], color='green')\n",
    "#ax1.plot(time[val1:val], dampingfield[val1:val, 0], color='blue')\n",
    "\n",
    "#ax1.plot(time[val1:val], contact_pressure[val1:val, 0], color='black')\n",
    "#ax1.plot(time[val1:val], springforce[val1:val, 0], color='grey')\n",
    "#ax1.plot(time[val1:val], upper_force, color='red')\n",
    "#ax1.plot(time[val1:val], lower_force, color='blue')\n",
    "\n",
    "#plt.plot(time[val1:val], pfield3[val1:val, 1], color='red')\n",
    "plt.plot(time[val1:val], pump_velocity[val1:val, 0], color='black')\n",
    "plt.plot(time[val1:val], pfield2[val1:val, 1], color='green')\n",
    "plt.plot(time[val1:val], pressure[val1:val, 0],color='violet')\n",
    "\n",
    "\n",
    "#ax1.plot(time[val1:val], deltap[val1:val, 0], color='green')\n",
    "\n",
    "#plt.xlim(time[val1],time[val])\n",
    "#plt.ylim(0e5, 22e5)\n",
    "\n",
    "color = 'tab:red'\n",
    "ax1.set_xlabel('time (s)')\n",
    "ax1.set_ylabel('Pressure', color=color)\n",
    "ax1.set_ylim(0e5, 22e5)\n",
    "plt.grid()\n",
    "#ax1.plot(time[val1:val], pfield1[val1:val, 1], color='red')\n",
    "#ax1.plot(time[val1:val], pfield2[val1:val, -2], color='green')\n",
    "ax1.tick_params(axis='y', labelcolor=color)\n",
    "\n",
    "\n",
    "ax2 = ax1.twinx()  # instantiate a second axes that shares the same x-axis\n",
    "\n",
    "color = 'tab:blue'\n",
    "ax2.plot(time[val1:val], disfield[val1:val, 0]*1000, color=color)  # we already handled the x-label with ax1\n",
    "ax2.plot(time[val1:val], values[val1:val, 0]*1000, color = 'black')\n",
    "#ax2.plot(time[val1:val], contact_pressure_force[val1:val, 0], color = 'green')\n",
    "#ax2.plot(time[val1:val], spring_force[val1:val, 0], color = 'green')\n",
    "#ax2.plot(time[val1:val], contact_pressure_force[val1:val, 0]+lower_pressure_force[val1:val, 0], color = 'black')\n",
    "#ax2.plot(time[val1:val], flow_force[val1:val, 0]-spring_force[val1:val, 0], color = 'red')\n",
    "#ax2.plot(time[val1:val], zeta[val1:val, 0], color='green')\n",
    "#ax2.plot(time[val1:val], flow_field[val1:val, 0], color='black')\n",
    "#ax2.tick_params(axis='y', labelcolor=color)\n",
    "\n",
    "#plt.subplot(1, 2, 1)\n",
    "#plt.plot(time[val1:val], disfield[val1:val, 0]*1000, color='black')\n",
    "#plt.plot(time[val1:val], pump(time[val1:val]))\n",
    "#plt.plot(time[val1:val], velfield[val1:val, 0], color='blue')\n",
    "#plt.plot(time[val1:val], pfield2[val1:val, 1], color='red')\n",
    "#pltplot(time[val1:val], pfield1[val1:val, -2], color='green')\n",
    "#plt.ylim(-2e3, 2e3)\n",
    "fig.tight_layout()\n",
    "plt.show()"
   ]
  },
  {
   "cell_type": "markdown",
   "metadata": {},
   "source": [
    "a = 70/60*(0.07**2)/4*np.pi*0.045"
   ]
  },
  {
   "cell_type": "code",
   "execution_count": null,
   "metadata": {},
   "outputs": [],
   "source": [
    "#a = 70/60(0.07**2)/4*np.pi*0.045\n",
    "#a/(2*0.025**2/4.0*np.pi)"
   ]
  },
  {
   "cell_type": "code",
   "execution_count": null,
   "metadata": {},
   "outputs": [],
   "source": [
    "zetavalue = (2*(20e5-1.28e5)/((0.2058**2)*1000))"
   ]
  },
  {
   "cell_type": "code",
   "execution_count": null,
   "metadata": {},
   "outputs": [],
   "source": [
    "import nptdms\n",
    "from nptdms import TdmsFile\n",
    "savepath = 'L:/017_Messdaten_Pascal/Messdatensatz 0,5m Fuellstand'\n",
    "path = \"L:/017_Messdaten_Pascal/Messdatensatz 0,5m Fuellstand\""
   ]
  },
  {
   "cell_type": "code",
   "execution_count": null,
   "metadata": {},
   "outputs": [],
   "source": [
    "def writetdms(tdms, num):\n",
    "    groups = tdms.groups()\n",
    "    channels = tdms.group_channels(groups[0])\n",
    "    channel_names = [channel.channel for channel in channels]\n",
    "    obj = tdms.object(groups[0], channel_names[num])\n",
    "    data = np.asarray(obj.data)\n",
    "    \n",
    "\n",
    "    return data\n",
    "\n",
    "\n",
    "\n",
    "def datetime_to_float(timesignal):\n",
    "\n",
    "    t0 = timesignal[0]\n",
    "    t1 = timesignal[timesignal.shape[0] - 1]\n",
    "    sec = (t1-t0).total_seconds()\n",
    "    time = np.linspace(0, sec, timesignal.shape[0])\n",
    "\n",
    "    return time"
   ]
  },
  {
   "cell_type": "code",
   "execution_count": null,
   "metadata": {},
   "outputs": [],
   "source": [
    "size = 128000\n",
    "tpAr = np.empty(size)\n",
    "pAr = np.empty(size)"
   ]
  },
  {
   "cell_type": "code",
   "execution_count": null,
   "metadata": {},
   "outputs": [],
   "source": [
    "ch = (0, 1, 2, 3, 4, 5, 6, 7, 8, 9, 10, 11, 12, 13, 14, 15, 16, 17, 18, 19, 20, 21, 22, 23, 24, 25)\n",
    "tdms = TdmsFile(path+'/Messungen_' +str(3)+\".tdms\")\n",
    "tpAr = datetime_to_float(writetdms(tdms, ch[10]))\n",
    "pAr = writetdms(tdms, ch[11])"
   ]
  },
  {
   "cell_type": "code",
   "execution_count": null,
   "metadata": {},
   "outputs": [],
   "source": [
    "new_time = np.linspace(0, (time[-1000]-time[64000]), time[64000:-1000].shape[0])\n",
    "plt.figure(figsize=(20, 10))\n",
    "plt.plot(tpAr[7500:19250]-tpAr[7500], pAr[7500:19250]*1e5, label='Messung')\n",
    "#plt.ylim(0e5, 23)\n",
    "#ax2 = ax1.twinx()  # instantiate a second axes that shares the same x-axis\n",
    "#ax2.set_ylim(0e5, 23e5)\n",
    "plt.plot(new_time, pressure[64000:-1000, 0],color='red', label='Simulation')\n",
    "plt.xlabel('Zeit in Sekunden', fontsize='14')\n",
    "plt.ylabel('Druck in Pascal', fontsize='14')\n",
    "plt.legend(fontsize='14')\n",
    "plt.grid()\n",
    "plt.savefig('L:/023_CavSim_Plots/Simulation_70Umin.png')\n"
   ]
  },
  {
   "cell_type": "code",
   "execution_count": null,
   "metadata": {},
   "outputs": [],
   "source": [
    "print(new_time)"
   ]
  },
  {
   "cell_type": "code",
   "execution_count": null,
   "metadata": {},
   "outputs": [],
   "source": [
    "print(tpAr[7500:19500]-tpAr[7500])"
   ]
  },
  {
   "cell_type": "code",
   "execution_count": null,
   "metadata": {},
   "outputs": [],
   "source": []
  },
  {
   "cell_type": "code",
   "execution_count": null,
   "metadata": {},
   "outputs": [],
   "source": []
  }
 ],
 "metadata": {
  "kernelspec": {
   "display_name": "Python 3",
   "language": "python",
   "name": "python3"
  },
  "language_info": {
   "codemirror_mode": {
    "name": "ipython",
    "version": 3
   },
   "file_extension": ".py",
   "mimetype": "text/x-python",
   "name": "python",
   "nbconvert_exporter": "python",
   "pygments_lexer": "ipython3",
   "version": "3.6.9"
  }
 },
 "nbformat": 4,
 "nbformat_minor": 2
}
