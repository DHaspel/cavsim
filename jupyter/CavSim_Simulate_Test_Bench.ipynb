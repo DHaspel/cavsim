{
 "cells": [
  {
   "cell_type": "code",
   "execution_count": 1,
   "metadata": {},
   "outputs": [],
   "source": [
    "import numpy as np\n",
    "import matplotlib.pyplot as plt"
   ]
  },
  {
   "cell_type": "code",
   "execution_count": 2,
   "metadata": {},
   "outputs": [],
   "source": [
    "import cavsim\n",
    "from cavsim import Measure\n",
    "from cavsim.connectors import BaseConnector, Connector\n",
    "from cavsim.channels import ImportChannel, ExportChannel\n",
    "from cavsim.components import BaseComponent, Component\n",
    "from cavsim.solvers import BaseSolver, SimpleSolver\n",
    "from cavsim.fluids import Fluid"
   ]
  },
  {
   "cell_type": "code",
   "execution_count": 3,
   "metadata": {},
   "outputs": [],
   "source": [
    "from cavsim.pipes.pipe import Pipe\n",
    "from cavsim.boundaries.left_boundary_pressure import LeftBoundaryPressure\n",
    "from cavsim.boundaries.left_boundary_velocity import LeftBoundaryVelocity\n",
    "from cavsim.boundaries.right_boundary_pressure import RightBoundaryPressure\n",
    "from cavsim.boundaries.right_boundary_velocity import RightBoundaryVelocity\n",
    "from cavsim.boundaries.simple_pipe_connector import PipeConnectorSimple\n",
    "from cavsim.boundaries.zeta_joint import ZetaJoint\n",
    "from cavsim.boundaries.simple_t_joint import SimpleTJoint\n",
    "from cavsim.boundaries.simple_right_gasdampener import RightGasBubbleSimple\n",
    "from cavsim.boundaries.simple_left_gasdampener import LeftGasBubbleSimple\n",
    "from cavsim.boundaries.frictionless_gasdampener import FrictionlessGasDampener\n",
    "from cavsim.boundaries.gasdampener import GasDampener\n",
    "from cavsim.boundaries.pump_with_valves_model_new import PumpSuctionValve\n",
    "from cavsim.boundaries.reflectionless_right_boundary_condition import RightBoundaryReflectionFree"
   ]
  },
  {
   "cell_type": "code",
   "execution_count": 4,
   "metadata": {},
   "outputs": [],
   "source": [
    "fluid = Fluid(1000, 1e-3, 1.3e9, 2.3e-3,initial_pressure=128000)"
   ]
  },
  {
   "cell_type": "code",
   "execution_count": 5,
   "metadata": {},
   "outputs": [],
   "source": [
    "Tank = Pipe(1.5, 1.5, 0.002, 2e11, 1e-7, 4)\n",
    "suction = Pipe(0.056, 0.07, 0.002, 2e11, 1e-7, 4)\n",
    "suction1 = Pipe(0.056, 1.480, 0.002, 2e11, 1e-7, 4)\n",
    "suction2 = Pipe(0.056, 1.210, 0.002, 2e11, 1e-7, 4)\n",
    "suction3 = Pipe(0.056, 0.225, 0.002, 2e11, 1e-7, 4)\n",
    "suction4 = Pipe(0.056, 0.360, 0.002, 2e11, 1e-7, 4)\n",
    "suction5 = Pipe(0.056, 0.590, 0.002, 2e11, 1e-7, 4)\n",
    "suction6 = Pipe(0.056, 0.335, 0.002, 2e11, 1e-7, 4)\n",
    "suction7 = Pipe(0.056, 0.519, 0.002, 2e11, 1e-7, 4)\n",
    "suction8 = Pipe(0.056, 0.274, 0.002, 2e11, 1e-7, 4)\n",
    "suction9 = Pipe(0.032, 0.15, 0.002, 2e11, 1e-7, 4)\n",
    "suction10 = Pipe(0.056, 0.1, 0.002, 2e11, 1e-7, 4)\n",
    "suction11 = Pipe(0.056, 0.15, 0.002, 2e11, 1e-7, 4)\n",
    "discharge = Pipe(0.025, 1.35, 0.002, 2e11, 1e-7, 4, initial_pressure=20e5)\n",
    "discharge15 = Pipe(0.025, 0.225, 0.002, 2e11, 1e-7, 4, initial_pressure=20e5)\n",
    "discharge1 = Pipe(0.14, 0.35, 0.002, 2e11, 1e-7, 4, initial_pressure=20e5)\n",
    "discharge2 = Pipe(0.025, 27.4, 0.002, 2e11, 1e-7, 4, initial_pressure=20e5)\n",
    "discharge3 = Pipe(0.025, 0.5, 0.002, 2e11, 1e-7, 4, initial_pressure=20e5)\n",
    "discharge4 = Pipe(0.025, 0.5, 0.002, 2e11, 1e-7, 4, initial_pressure=20e5)\n",
    "discharge5 = Pipe(0.025, 0.5, 0.002, 2e11, 1e-7, 4, initial_pressure=20e5)"
   ]
  },
  {
   "cell_type": "code",
   "execution_count": 6,
   "metadata": {},
   "outputs": [],
   "source": [
    "lb1 = LeftBoundaryPressure(1.28e5)\n",
    "Tank.connect(lb1)"
   ]
  },
  {
   "cell_type": "code",
   "execution_count": 7,
   "metadata": {},
   "outputs": [],
   "source": [
    "conn = ZetaJoint(1.0)\n",
    "Tank.connect(conn)\n",
    "suction.connect(conn)"
   ]
  },
  {
   "cell_type": "code",
   "execution_count": null,
   "metadata": {},
   "outputs": [],
   "source": []
  },
  {
   "cell_type": "code",
   "execution_count": null,
   "metadata": {},
   "outputs": [],
   "source": []
  },
  {
   "cell_type": "code",
   "execution_count": 8,
   "metadata": {},
   "outputs": [],
   "source": [
    "conn1 = ZetaJoint(0.1)\n",
    "suction.connect(conn1)\n",
    "suction1.connect(conn1)"
   ]
  },
  {
   "cell_type": "code",
   "execution_count": 9,
   "metadata": {},
   "outputs": [],
   "source": [
    "conn2 = ZetaJoint(0.2)\n",
    "suction1.connect(conn2)\n",
    "suction2.connect(conn2)"
   ]
  },
  {
   "cell_type": "code",
   "execution_count": 10,
   "metadata": {},
   "outputs": [],
   "source": [
    "#connxy = SimpleTJoint(1.28e5)\n",
    "#suction1.connect(connxy)\n",
    "#suction2.connect(connxy.right2)\n",
    "#suction11.connect(connxy.right)"
   ]
  },
  {
   "cell_type": "code",
   "execution_count": 11,
   "metadata": {},
   "outputs": [],
   "source": [
    "#bc = RightGasBubbleSimple(1.28e5, 2.0e-4, 1.05)\n",
    "#bc = RightBoundaryReflectionFree(0.0, 1.28e5)\n",
    "#bc.connect(suction11)"
   ]
  },
  {
   "cell_type": "code",
   "execution_count": 12,
   "metadata": {},
   "outputs": [],
   "source": [
    "conn3 = ZetaJoint(0.05)\n",
    "suction2.connect(conn3)\n",
    "suction3.connect(conn3)"
   ]
  },
  {
   "cell_type": "code",
   "execution_count": 13,
   "metadata": {},
   "outputs": [],
   "source": [
    "conn4 = ZetaJoint(0.05)\n",
    "suction3.connect(conn4)\n",
    "suction4.connect(conn4)"
   ]
  },
  {
   "cell_type": "code",
   "execution_count": 14,
   "metadata": {},
   "outputs": [],
   "source": [
    "conn5 = ZetaJoint(0.05)\n",
    "suction4.connect(conn5)\n",
    "suction5.connect(conn5)"
   ]
  },
  {
   "cell_type": "code",
   "execution_count": 15,
   "metadata": {},
   "outputs": [],
   "source": [
    "#conn6 = ZetaJoint(0.05)\n",
    "#suction5.connect(conn6)\n",
    "#suction6.connect(conn6)"
   ]
  },
  {
   "cell_type": "code",
   "execution_count": 16,
   "metadata": {},
   "outputs": [],
   "source": [
    "connxx = SimpleTJoint(1.28e5)\n",
    "suction5.connect(connxx)\n",
    "suction6.connect(connxx.right2)\n",
    "suction10.connect(connxx.right)"
   ]
  },
  {
   "cell_type": "code",
   "execution_count": 17,
   "metadata": {},
   "outputs": [],
   "source": [
    "conn7 = ZetaJoint(0.05)\n",
    "suction6.connect(conn7)\n",
    "suction7.connect(conn7)"
   ]
  },
  {
   "cell_type": "code",
   "execution_count": 18,
   "metadata": {},
   "outputs": [],
   "source": [
    "#gd_suction = RightGasBubbleSimple(1.28e5, 35.0e-3, 1.05)\n",
    "gd_suction = RightBoundaryReflectionFree(0.0, 1.28e5)\n",
    "suction10.connect(gd_suction)"
   ]
  },
  {
   "cell_type": "code",
   "execution_count": null,
   "metadata": {},
   "outputs": [],
   "source": []
  },
  {
   "cell_type": "code",
   "execution_count": 19,
   "metadata": {},
   "outputs": [],
   "source": [
    "conn8 = ZetaJoint(0.2)\n",
    "suction7.connect(conn8)\n",
    "suction8.connect(conn8)"
   ]
  },
  {
   "cell_type": "code",
   "execution_count": 20,
   "metadata": {},
   "outputs": [],
   "source": [
    "conn9 = ZetaJoint(0.05)\n",
    "suction8.connect(conn9)\n",
    "suction9.connect(conn9)"
   ]
  },
  {
   "cell_type": "code",
   "execution_count": 21,
   "metadata": {},
   "outputs": [],
   "source": [
    "pump = PumpSuctionValve(suction_valve_density=7950.0,               # kg/m³\n",
    "            suction_spring_force0 = 3.438,                   # N\n",
    "            suction_spring_stiffness = 3438.0,            # N/m\n",
    "            suction_spring_mass = 0.022,                 # kg\n",
    "            suction_valve_mass = 0.068,                  # kg\n",
    "            suction_outer_diameter = 0.040,              # m\n",
    "            suction_inner_contact_diameter = 0.03644173,      # m\n",
    "            suction_seat_tilt = 90/180*np.pi,                   # °\n",
    "            suction_flow_constant_1 = 7.63e-2,             # -\n",
    "            suction_flow_constant_2 = 6.480,             # -\n",
    "            suction_friction_factor_a = 107.00,           # -\n",
    "            suction_friction_factor_b = 74.00,           # -\n",
    "            suction_friction_factor_c = 1.40,           # -\n",
    "            suction_friction_factor_d = -2.40,           # -\n",
    "            suction_factor_k0 = 0.50,                   # -\n",
    "            suction_factor_k1 = 0.0,                   # -\n",
    "            suction_factor_k2 = 0.0,                   # -\n",
    "            suction_max_displacement = 25e-3,                   # m\n",
    "            suction_outer_contact_diameter = 0.040,      # m\n",
    "            discharge_valve_density = 7950.0,             # kg/m³\n",
    "            discharge_spring_force0 = 3.438,             # N\n",
    "            discharge_spring_stiffness = 3438.0,          # N/m\n",
    "            discharge_spring_mass = 0.022,               # kg\n",
    "            discharge_valve_mass = 0.068,                # kg\n",
    "            discharge_outer_diameter = 0.040,            # m\n",
    "            discharge_inner_contact_diameter = 0.03644173,    # m\n",
    "            discharge_seat_tilt = 90/180*np.pi,                 # °\n",
    "            discharge_flow_constant_1 = 7.63e-3,           # -\n",
    "            discharge_flow_constant_2 = 6.480,           # -\n",
    "            discharge_friction_factor_a = 107.00,         # -\n",
    "            discharge_friction_factor_b = 74.00,         # -\n",
    "            discharge_friction_factor_c = 1.40,         # -\n",
    "            discharge_friction_factor_d = -2.40,         # -\n",
    "            discharge_factor_k0 = 0.50,                 # -\n",
    "            discharge_factor_k1 = 0.0,                 # -\n",
    "            discharge_factor_k2 = 0.0,                 # -\n",
    "            discharge_max_displacement = 25e-3,                 # m\n",
    "            discharge_outer_contact_diameter = 0.040,    # m\n",
    "            pump_radius = 0.040/2.0,                         # m\n",
    "            rpm = 125.0,                                 # U/min\n",
    "            rratio = 0.175,                              # -\n",
    "            phi0 = 180,                                # °\n",
    "            piston_diameter = 0.07,                     # m\n",
    "            death_volume = 3.442416e-4,                 # m³\n",
    "            initial_pressure=1.28e5,\n",
    "            initial_discharge_pressure=20e5)"
   ]
  },
  {
   "cell_type": "code",
   "execution_count": 22,
   "metadata": {},
   "outputs": [],
   "source": [
    "suction9.connect(pump.left)\n",
    "discharge.connect(pump)"
   ]
  },
  {
   "cell_type": "code",
   "execution_count": null,
   "metadata": {},
   "outputs": [],
   "source": []
  },
  {
   "cell_type": "code",
   "execution_count": 23,
   "metadata": {},
   "outputs": [],
   "source": [
    "conn11 = SimpleTJoint(20.5e5)\n",
    "discharge.connect(conn11)\n",
    "discharge15.connect(conn11.right2)\n",
    "discharge2.connect(conn11.right)"
   ]
  },
  {
   "cell_type": "code",
   "execution_count": 24,
   "metadata": {},
   "outputs": [],
   "source": [
    "conn15 = ZetaJoint(25.0, 20.5e5)\n",
    "discharge15.connect(conn15)\n",
    "discharge1.connect(conn15)"
   ]
  },
  {
   "cell_type": "code",
   "execution_count": 25,
   "metadata": {},
   "outputs": [],
   "source": [
    "#gd_right = RightGasBubbleSimple(20.6e5, 4.3e-3, 1.07)\n",
    "gd_right = RightGasBubbleSimple(20.5e5, 3.0e-3, 1.12)\n",
    "discharge1.connect(gd_right)"
   ]
  },
  {
   "cell_type": "code",
   "execution_count": 26,
   "metadata": {},
   "outputs": [],
   "source": [
    "conn12 = SimpleTJoint(20.5e5)\n",
    "discharge2.connect(conn12)\n",
    "discharge3.connect(conn12.right2)\n",
    "discharge4.connect(conn12.right)"
   ]
  },
  {
   "cell_type": "code",
   "execution_count": 27,
   "metadata": {},
   "outputs": [],
   "source": [
    "gd_right = RightGasBubbleSimple(20.5e5, 1.35e-3, 1.1)\n",
    "discharge3.connect(gd_right)"
   ]
  },
  {
   "cell_type": "code",
   "execution_count": 28,
   "metadata": {},
   "outputs": [],
   "source": [
    "#conn13 = ZetaJoint(22000, 20e5)\n",
    "#discharge4.connect(conn13)\n",
    "#discharge5.connect(conn13)"
   ]
  },
  {
   "cell_type": "code",
   "execution_count": 29,
   "metadata": {},
   "outputs": [],
   "source": [
    "rb = RightBoundaryPressure(20.5e5)\n",
    "rb.connect(discharge4)"
   ]
  },
  {
   "cell_type": "code",
   "execution_count": 30,
   "metadata": {},
   "outputs": [],
   "source": [
    "plogs1 = []\n",
    "plogs2 = []\n",
    "plogs3 = []\n",
    "vlogs = []\n",
    "vlogs1 = []\n",
    "flogs = []\n",
    "rblogs = []\n",
    "relogs = []\n",
    "dislog = []\n",
    "springlog = []\n",
    "contact_pressurelog = []\n",
    "velocity = []\n",
    "pumplog = []\n",
    "pump_speed = []\n",
    "pump_value = []\n",
    "flow_log = []\n",
    "lower_pressure_log = []\n",
    "contact_pressure_log = []\n",
    "damping_log = []\n",
    "\n",
    "\n",
    "\n",
    "\n",
    "def logging(time):\n",
    "    plogs1.append(suction11.field_wide_slice('pressure', 0) + 0.0)\n",
    "    plogs2.append(discharge.field_wide_slice('pressure', 0) + 0.0)\n",
    "    plogs3.append(discharge3.field_wide_slice('pressure', 0) + 0.0)\n",
    "    vlogs.append(suction3.field_wide_slice('velocity', 0) + 0.0)\n",
    "    pumplog.append(pump.field_wide_slice('pump_pressure', 0) + 0.0)\n",
    "    dislog.append(pump.field_wide_slice('suction_displacement', 0) + 0.0)\n",
    "    pump_speed.append(pump.field_wide_slice('discharge_pressure', 1) +0.0)\n",
    "    pump_value.append(pump.field_wide_slice('discharge_displacement', 1) +0.0)\n",
    "    springlog.append(pump.field_wide_slice('discharge_valve_velocity', 1) +0.0)\n",
    "    contact_pressurelog.append(pump.field_wide_slice('suction_contact_pressure_force', 1) +0.0)\n",
    "    flow_log.append(pump.field_wide_slice('suction_flow_force', 1) +0.0)\n",
    "    velocity.append(pump.field_wide_slice('suction_valve_velocity', 1) +0.0)\n",
    "    lower_pressure_log.append(pump.field_wide_slice('discharge_lower_pressure_force', 1) +0.0)\n",
    "    contact_pressure_log.append(pump.field_wide_slice('discharge_contact_pressure_force', 1) +0.0)\n",
    "    damping_log.append(pump.field_wide_slice('discharge_upper_pressure_force', 1) +0.0)"
   ]
  },
  {
   "cell_type": "code",
   "execution_count": 31,
   "metadata": {},
   "outputs": [],
   "source": [
    "solver = SimpleSolver()\n",
    "solver.fluid = fluid\n",
    "solver.seeds = [suction9]\n",
    "solver._callback = logging"
   ]
  },
  {
   "cell_type": "code",
   "execution_count": 32,
   "metadata": {
    "scrolled": false
   },
   "outputs": [
    {
     "name": "stdout",
     "output_type": "stream",
     "text": [
      " 0:00:00 [                              |  0.00%]  1:21:41  Currently at time   0.000 of   2.000"
     ]
    },
    {
     "name": "stderr",
     "output_type": "stream",
     "text": [
      "l:\\cavsim\\cavsim\\base\\solvers\\simple_solver.py:46: UserWarning: Smaller timestep required by component! (2.7646115320378964e-05 < 1e+20 by <cavsim.pipes.pipe.Pipe object at 0x00000233AE0BC0B8>)\n",
      "  warn('Smaller timestep required by component! ({} < {} by {})'.format(component_time, delta_t, component))\n",
      "l:\\cavsim\\cavsim\\base\\solvers\\simple_solver.py:46: UserWarning: Smaller timestep required by component! (5.225376894761534e-05 < 1e+20 by <cavsim.pipes.pipe.Pipe object at 0x00000233AE0B92B0>)\n",
      "  warn('Smaller timestep required by component! ({} < {} by {})'.format(component_time, delta_t, component))\n",
      "l:\\cavsim\\cavsim\\base\\solvers\\simple_solver.py:46: UserWarning: Smaller timestep required by component! (0.00024623804149018707 < 1e+20 by <cavsim.pipes.pipe.Pipe object at 0x00000233AE0C6A90>)\n",
      "  warn('Smaller timestep required by component! ({} < {} by {})'.format(component_time, delta_t, component))\n",
      "l:\\cavsim\\cavsim\\base\\solvers\\simple_solver.py:46: UserWarning: Smaller timestep required by component! (9.897702950296483e-05 < 1e+20 by <cavsim.pipes.pipe.Pipe object at 0x00000233AE0AF4A8>)\n",
      "  warn('Smaller timestep required by component! ({} < {} by {})'.format(component_time, delta_t, component))\n",
      "l:\\cavsim\\cavsim\\base\\solvers\\simple_solver.py:46: UserWarning: Smaller timestep required by component! (0.004997720249504537 < 1e+20 by <cavsim.pipes.pipe.Pipe object at 0x00000233AE0CF438>)\n",
      "  warn('Smaller timestep required by component! ({} < {} by {})'.format(component_time, delta_t, component))\n",
      "l:\\cavsim\\cavsim\\base\\solvers\\simple_solver.py:46: UserWarning: Smaller timestep required by component! (4.103967358169784e-05 < 1e+20 by <cavsim.pipes.pipe.Pipe object at 0x00000233AE0CA828>)\n",
      "  warn('Smaller timestep required by component! ({} < {} by {})'.format(component_time, delta_t, component))\n",
      "l:\\cavsim\\cavsim\\base\\solvers\\simple_solver.py:46: UserWarning: Smaller timestep required by component! (6.388690728996766e-05 < 1e+20 by <cavsim.pipes.pipe.Pipe object at 0x00000233AE0AA6A0>)\n",
      "  warn('Smaller timestep required by component! ({} < {} by {})'.format(component_time, delta_t, component))\n",
      "l:\\cavsim\\cavsim\\base\\solvers\\simple_solver.py:46: UserWarning: Smaller timestep required by component! (9.11992746259952e-05 < 1e+20 by <cavsim.pipes.pipe.Pipe object at 0x00000233AE0D8048>)\n",
      "  warn('Smaller timestep required by component! ({} < {} by {})'.format(component_time, delta_t, component))\n",
      "l:\\cavsim\\cavsim\\base\\solvers\\simple_solver.py:46: UserWarning: Smaller timestep required by component! (9.11992746259952e-05 < 1e+20 by <cavsim.pipes.pipe.Pipe object at 0x00000233AE0D3240>)\n",
      "  warn('Smaller timestep required by component! ({} < {} by {})'.format(component_time, delta_t, component))\n",
      "l:\\cavsim\\cavsim\\base\\solvers\\simple_solver.py:46: UserWarning: Smaller timestep required by component! (7.405559242373777e-05 < 1e+20 by <cavsim.pipes.pipe.Pipe object at 0x00000233AE0CD630>)\n",
      "  warn('Smaller timestep required by component! ({} < {} by {})'.format(component_time, delta_t, component))\n",
      "l:\\cavsim\\cavsim\\base\\solvers\\simple_solver.py:46: UserWarning: Smaller timestep required by component! (0.00011251723970471916 < 1e+20 by <cavsim.pipes.pipe.Pipe object at 0x00000233AE0A6898>)\n",
      "  warn('Smaller timestep required by component! ({} < {} by {})'.format(component_time, delta_t, component))\n",
      "l:\\cavsim\\cavsim\\base\\solvers\\simple_solver.py:46: UserWarning: Smaller timestep required by component! (1.9070718594020197e-05 < 1e+20 by <cavsim.pipes.pipe.Pipe object at 0x00000233AE0BCE80>)\n",
      "  warn('Smaller timestep required by component! ({} < {} by {})'.format(component_time, delta_t, component))\n",
      "l:\\cavsim\\cavsim\\base\\solvers\\simple_solver.py:46: UserWarning: Smaller timestep required by component! (6.86545869384727e-05 < 1e+20 by <cavsim.pipes.pipe.Pipe object at 0x00000233AE0A3A90>)\n",
      "  warn('Smaller timestep required by component! ({} < {} by {})'.format(component_time, delta_t, component))\n",
      "l:\\cavsim\\cavsim\\base\\solvers\\simple_solver.py:46: UserWarning: Smaller timestep required by component! (4.290911683654544e-05 < 1e+20 by <cavsim.pipes.pipe.Pipe object at 0x00000233AE0B0C88>)\n",
      "  warn('Smaller timestep required by component! ({} < {} by {})'.format(component_time, delta_t, component))\n",
      "l:\\cavsim\\cavsim\\base\\solvers\\simple_solver.py:46: UserWarning: Smaller timestep required by component! (0.0002307556949876444 < 1e+20 by <cavsim.pipes.pipe.Pipe object at 0x00000233AE0B1E80>)\n",
      "  warn('Smaller timestep required by component! ({} < {} by {})'.format(component_time, delta_t, component))\n",
      "l:\\cavsim\\cavsim\\base\\solvers\\simple_solver.py:46: UserWarning: Smaller timestep required by component! (0.0002822466351914989 < 1e+20 by <cavsim.pipes.pipe.Pipe object at 0x00000233AE0B10B8>)\n",
      "  warn('Smaller timestep required by component! ({} < {} by {})'.format(component_time, delta_t, component))\n",
      "l:\\cavsim\\cavsim\\base\\solvers\\simple_solver.py:46: UserWarning: Smaller timestep required by component! (1.3349503015814139e-05 < 1e+20 by <cavsim.pipes.pipe.Pipe object at 0x00000233AE09A400>)\n",
      "  warn('Smaller timestep required by component! ({} < {} by {})'.format(component_time, delta_t, component))\n",
      "l:\\cavsim\\cavsim\\base\\solvers\\simple_solver.py:46: UserWarning: Smaller timestep required by component! (0.0006377544740970222 < 1e+20 by <cavsim.pipes.pipe.Pipe object at 0x00000233AE09A390>)\n",
      "  warn('Smaller timestep required by component! ({} < {} by {})'.format(component_time, delta_t, component))\n"
     ]
    },
    {
     "name": "stdout",
     "output_type": "stream",
     "text": [
      " 0:26:42 [==========                    | 34.39%]  0:50:57  Currently at time   0.688 of   2.000"
     ]
    },
    {
     "ename": "KeyboardInterrupt",
     "evalue": "",
     "output_type": "error",
     "traceback": [
      "\u001b[1;31m---------------------------------------------------------------------------\u001b[0m",
      "\u001b[1;31mKeyboardInterrupt\u001b[0m                         Traceback (most recent call last)",
      "\u001b[1;32m<ipython-input-32-1f40b9a389a9>\u001b[0m in \u001b[0;36m<module>\u001b[1;34m\u001b[0m\n\u001b[1;32m----> 1\u001b[1;33m \u001b[0msolver\u001b[0m\u001b[1;33m.\u001b[0m\u001b[0msolve\u001b[0m\u001b[1;33m(\u001b[0m\u001b[1;36m1e20\u001b[0m\u001b[1;33m,\u001b[0m \u001b[1;36m2.0\u001b[0m\u001b[1;33m,\u001b[0m \u001b[1;36m3\u001b[0m\u001b[1;33m)\u001b[0m\u001b[1;33m\u001b[0m\u001b[1;33m\u001b[0m\u001b[0m\n\u001b[0m",
      "\u001b[1;32ml:\\cavsim\\cavsim\\base\\solvers\\simple_solver.py\u001b[0m in \u001b[0;36msolve\u001b[1;34m(self, delta_t, total_time, max_iterations, verbosity)\u001b[0m\n\u001b[0;32m    115\u001b[0m             \u001b[1;32mfor\u001b[0m \u001b[0mcomponent\u001b[0m \u001b[1;32min\u001b[0m \u001b[0mself\u001b[0m\u001b[1;33m.\u001b[0m\u001b[0mcomponents\u001b[0m\u001b[1;33m:\u001b[0m\u001b[1;33m\u001b[0m\u001b[1;33m\u001b[0m\u001b[0m\n\u001b[0;32m    116\u001b[0m                 \u001b[0mcomponent\u001b[0m\u001b[1;33m.\u001b[0m\u001b[0mexchange_last_boundaries\u001b[0m\u001b[1;33m(\u001b[0m\u001b[1;33m)\u001b[0m\u001b[1;33m\u001b[0m\u001b[1;33m\u001b[0m\u001b[0m\n\u001b[1;32m--> 117\u001b[1;33m             \u001b[0mself\u001b[0m\u001b[1;33m.\u001b[0m\u001b[0m_solve_inner_loop\u001b[0m\u001b[1;33m(\u001b[0m\u001b[0mmax_iterations\u001b[0m\u001b[1;33m)\u001b[0m\u001b[1;33m\u001b[0m\u001b[1;33m\u001b[0m\u001b[0m\n\u001b[0m\u001b[0;32m    118\u001b[0m             \u001b[1;32mfor\u001b[0m \u001b[0mcomponent\u001b[0m \u001b[1;32min\u001b[0m \u001b[0mself\u001b[0m\u001b[1;33m.\u001b[0m\u001b[0mcomponents\u001b[0m\u001b[1;33m:\u001b[0m\u001b[1;33m\u001b[0m\u001b[1;33m\u001b[0m\u001b[0m\n\u001b[0;32m    119\u001b[0m                 \u001b[0mcomponent\u001b[0m\u001b[1;33m.\u001b[0m\u001b[0mfinalize_current_timestep\u001b[0m\u001b[1;33m(\u001b[0m\u001b[1;33m)\u001b[0m\u001b[1;33m\u001b[0m\u001b[1;33m\u001b[0m\u001b[0m\n",
      "\u001b[1;32ml:\\cavsim\\cavsim\\base\\solvers\\simple_solver.py\u001b[0m in \u001b[0;36m_solve_inner_loop\u001b[1;34m(self, max_iterations)\u001b[0m\n\u001b[0;32m     73\u001b[0m                 \u001b[0mcomponent\u001b[0m\u001b[1;33m.\u001b[0m\u001b[0mexchange_current_boundaries\u001b[0m\u001b[1;33m(\u001b[0m\u001b[1;33m)\u001b[0m\u001b[1;33m\u001b[0m\u001b[1;33m\u001b[0m\u001b[0m\n\u001b[0;32m     74\u001b[0m             \u001b[1;32mfor\u001b[0m \u001b[0mcomponent\u001b[0m \u001b[1;32min\u001b[0m \u001b[0mself\u001b[0m\u001b[1;33m.\u001b[0m\u001b[0mcomponents\u001b[0m\u001b[1;33m:\u001b[0m\u001b[1;33m\u001b[0m\u001b[1;33m\u001b[0m\u001b[0m\n\u001b[1;32m---> 75\u001b[1;33m                 \u001b[0mneed_inner\u001b[0m \u001b[1;33m=\u001b[0m \u001b[0mneed_inner\u001b[0m \u001b[1;32mor\u001b[0m \u001b[0mcomponent\u001b[0m\u001b[1;33m.\u001b[0m\u001b[0mcalculate_next_inner_iteration\u001b[0m\u001b[1;33m(\u001b[0m\u001b[0minner_count\u001b[0m\u001b[1;33m)\u001b[0m\u001b[1;33m\u001b[0m\u001b[1;33m\u001b[0m\u001b[0m\n\u001b[0m\u001b[0;32m     76\u001b[0m             \u001b[0minner_count\u001b[0m \u001b[1;33m+=\u001b[0m \u001b[1;36m1\u001b[0m\u001b[1;33m\u001b[0m\u001b[1;33m\u001b[0m\u001b[0m\n\u001b[0;32m     77\u001b[0m             \u001b[1;32mif\u001b[0m \u001b[0misinstance\u001b[0m\u001b[1;33m(\u001b[0m\u001b[0mmax_iterations\u001b[0m\u001b[1;33m,\u001b[0m \u001b[0mint\u001b[0m\u001b[1;33m)\u001b[0m \u001b[1;32mand\u001b[0m \u001b[0minner_count\u001b[0m \u001b[1;33m>=\u001b[0m \u001b[0mmax_iterations\u001b[0m \u001b[1;32mand\u001b[0m \u001b[0mneed_inner\u001b[0m \u001b[1;32mis\u001b[0m \u001b[1;32mTrue\u001b[0m\u001b[1;33m:\u001b[0m\u001b[1;33m\u001b[0m\u001b[1;33m\u001b[0m\u001b[0m\n",
      "\u001b[1;32ml:\\cavsim\\cavsim\\pipes\\pipe.py\u001b[0m in \u001b[0;36mcalculate_next_inner_iteration\u001b[1;34m(self, iteration)\u001b[0m\n\u001b[0;32m    232\u001b[0m         \u001b[1;33m:\u001b[0m\u001b[1;32mreturn\u001b[0m\u001b[1;33m:\u001b[0m \u001b[0mWhether\u001b[0m \u001b[0mthis\u001b[0m \u001b[0mcomponent\u001b[0m \u001b[0mneeds\u001b[0m \u001b[0manother\u001b[0m \u001b[0minner\u001b[0m \u001b[0miteration\u001b[0m \u001b[0mafterwards\u001b[0m\u001b[1;33m\u001b[0m\u001b[1;33m\u001b[0m\u001b[0m\n\u001b[0;32m    233\u001b[0m         \"\"\"\n\u001b[1;32m--> 234\u001b[1;33m         \u001b[0mself\u001b[0m\u001b[1;33m.\u001b[0m\u001b[0m_calculate_pressure\u001b[0m\u001b[1;33m(\u001b[0m\u001b[1;33m)\u001b[0m\u001b[1;33m\u001b[0m\u001b[1;33m\u001b[0m\u001b[0m\n\u001b[0m\u001b[0;32m    235\u001b[0m         \u001b[0mself\u001b[0m\u001b[1;33m.\u001b[0m\u001b[0m_calculate_velocity\u001b[0m\u001b[1;33m(\u001b[0m\u001b[1;33m)\u001b[0m\u001b[1;33m\u001b[0m\u001b[1;33m\u001b[0m\u001b[0m\n\u001b[0;32m    236\u001b[0m         \u001b[1;32mreturn\u001b[0m \u001b[1;32mFalse\u001b[0m\u001b[1;33m\u001b[0m\u001b[1;33m\u001b[0m\u001b[0m\n",
      "\u001b[1;32ml:\\cavsim\\cavsim\\pipes\\pipe.py\u001b[0m in \u001b[0;36m_calculate_pressure\u001b[1;34m(self)\u001b[0m\n\u001b[0;32m    325\u001b[0m         \u001b[0mfriction_b\u001b[0m \u001b[1;33m=\u001b[0m \u001b[0mself\u001b[0m\u001b[1;33m.\u001b[0m\u001b[0mfield_slice\u001b[0m\u001b[1;33m(\u001b[0m\u001b[1;34m'friction_steady'\u001b[0m\u001b[1;33m,\u001b[0m \u001b[1;36m1\u001b[0m\u001b[1;33m,\u001b[0m \u001b[1;33m+\u001b[0m\u001b[1;36m1\u001b[0m\u001b[1;33m)\u001b[0m \u001b[1;33m+\u001b[0m \u001b[0mself\u001b[0m\u001b[1;33m.\u001b[0m\u001b[0mfield_slice\u001b[0m\u001b[1;33m(\u001b[0m\u001b[1;34m'friction_unsteady_b'\u001b[0m\u001b[1;33m,\u001b[0m \u001b[1;36m1\u001b[0m\u001b[1;33m,\u001b[0m \u001b[1;33m+\u001b[0m\u001b[1;36m1\u001b[0m\u001b[1;33m)\u001b[0m\u001b[1;33m\u001b[0m\u001b[1;33m\u001b[0m\u001b[0m\n\u001b[0;32m    326\u001b[0m         \u001b[1;31m# Calculate fluid properties\u001b[0m\u001b[1;33m\u001b[0m\u001b[1;33m\u001b[0m\u001b[1;33m\u001b[0m\u001b[0m\n\u001b[1;32m--> 327\u001b[1;33m         \u001b[0mspeed_of_sound\u001b[0m \u001b[1;33m=\u001b[0m \u001b[0mself\u001b[0m\u001b[1;33m.\u001b[0m\u001b[0mspeed_of_sound\u001b[0m\u001b[1;33m(\u001b[0m\u001b[0mpressure\u001b[0m\u001b[1;33m=\u001b[0m\u001b[0mpressure_center\u001b[0m\u001b[1;33m,\u001b[0m \u001b[0mtemperature\u001b[0m\u001b[1;33m=\u001b[0m\u001b[1;32mNone\u001b[0m\u001b[1;33m)\u001b[0m\u001b[1;33m\u001b[0m\u001b[1;33m\u001b[0m\u001b[0m\n\u001b[0m\u001b[0;32m    328\u001b[0m         \u001b[0mdensity\u001b[0m \u001b[1;33m=\u001b[0m \u001b[0mself\u001b[0m\u001b[1;33m.\u001b[0m\u001b[0mfluid\u001b[0m\u001b[1;33m.\u001b[0m\u001b[0mdensity\u001b[0m\u001b[1;33m(\u001b[0m\u001b[0mpressure\u001b[0m\u001b[1;33m=\u001b[0m\u001b[0mpressure_center\u001b[0m\u001b[1;33m,\u001b[0m \u001b[0mtemperature\u001b[0m\u001b[1;33m=\u001b[0m\u001b[1;32mNone\u001b[0m\u001b[1;33m)\u001b[0m\u001b[1;33m\u001b[0m\u001b[1;33m\u001b[0m\u001b[0m\n\u001b[0;32m    329\u001b[0m         \u001b[1;31m# Calculate the reynolds number\u001b[0m\u001b[1;33m\u001b[0m\u001b[1;33m\u001b[0m\u001b[1;33m\u001b[0m\u001b[0m\n",
      "\u001b[1;32ml:\\cavsim\\cavsim\\pipes\\base_pipe.py\u001b[0m in \u001b[0;36mspeed_of_sound\u001b[1;34m(self, pressure, temperature)\u001b[0m\n\u001b[0;32m    204\u001b[0m         \u001b[1;33m:\u001b[0m\u001b[1;32mreturn\u001b[0m\u001b[1;33m:\u001b[0m \u001b[0mModified\u001b[0m \u001b[0mspeed\u001b[0m \u001b[0mof\u001b[0m \u001b[0msound\u001b[0m \u001b[0mwithin\u001b[0m \u001b[0mthe\u001b[0m \u001b[0mpipe\u001b[0m \u001b[1;33m[\u001b[0m\u001b[0mm\u001b[0m\u001b[1;33m/\u001b[0m\u001b[0ms\u001b[0m\u001b[1;33m]\u001b[0m\u001b[1;33m\u001b[0m\u001b[1;33m\u001b[0m\u001b[0m\n\u001b[0;32m    205\u001b[0m         \"\"\"\n\u001b[1;32m--> 206\u001b[1;33m         \u001b[0msos\u001b[0m \u001b[1;33m=\u001b[0m \u001b[0mself\u001b[0m\u001b[1;33m.\u001b[0m\u001b[0mfluid\u001b[0m\u001b[1;33m.\u001b[0m\u001b[0mspeed_of_sound\u001b[0m\u001b[1;33m(\u001b[0m\u001b[0mpressure\u001b[0m\u001b[1;33m=\u001b[0m\u001b[0mpressure\u001b[0m\u001b[1;33m,\u001b[0m \u001b[0mtemperature\u001b[0m\u001b[1;33m=\u001b[0m\u001b[0mtemperature\u001b[0m\u001b[1;33m)\u001b[0m\u001b[1;33m\u001b[0m\u001b[1;33m\u001b[0m\u001b[0m\n\u001b[0m\u001b[0;32m    207\u001b[0m         \u001b[0mdims\u001b[0m \u001b[1;33m=\u001b[0m \u001b[0mself\u001b[0m\u001b[1;33m.\u001b[0m\u001b[0mdiameter\u001b[0m \u001b[1;33m/\u001b[0m \u001b[0mself\u001b[0m\u001b[1;33m.\u001b[0m\u001b[0mwall_thickness\u001b[0m\u001b[1;33m\u001b[0m\u001b[1;33m\u001b[0m\u001b[0m\n\u001b[0;32m    208\u001b[0m         \u001b[0mcompress\u001b[0m \u001b[1;33m=\u001b[0m \u001b[0mself\u001b[0m\u001b[1;33m.\u001b[0m\u001b[0mfluid\u001b[0m\u001b[1;33m.\u001b[0m\u001b[0mbulk_modulus\u001b[0m\u001b[1;33m(\u001b[0m\u001b[0mtemperature\u001b[0m\u001b[1;33m=\u001b[0m\u001b[0mtemperature\u001b[0m\u001b[1;33m)\u001b[0m \u001b[1;33m/\u001b[0m \u001b[0mself\u001b[0m\u001b[1;33m.\u001b[0m\u001b[0mbulk_modulus\u001b[0m\u001b[1;33m\u001b[0m\u001b[1;33m\u001b[0m\u001b[0m\n",
      "\u001b[1;32ml:\\cavsim\\cavsim\\base\\fluids\\base_fluid.py\u001b[0m in \u001b[0;36mspeed_of_sound\u001b[1;34m(self, pressure, temperature)\u001b[0m\n\u001b[0;32m    260\u001b[0m         \"\"\"\n\u001b[0;32m    261\u001b[0m         return np.sqrt(\n\u001b[1;32m--> 262\u001b[1;33m             \u001b[0mself\u001b[0m\u001b[1;33m.\u001b[0m\u001b[0mbulk_modulus\u001b[0m\u001b[1;33m(\u001b[0m\u001b[0mtemperature\u001b[0m\u001b[1;33m=\u001b[0m\u001b[0mtemperature\u001b[0m\u001b[1;33m)\u001b[0m \u001b[1;33m/\u001b[0m \u001b[0mself\u001b[0m\u001b[1;33m.\u001b[0m\u001b[0mdensity\u001b[0m\u001b[1;33m(\u001b[0m\u001b[0mpressure\u001b[0m\u001b[1;33m=\u001b[0m\u001b[0mpressure\u001b[0m\u001b[1;33m,\u001b[0m \u001b[0mtemperature\u001b[0m\u001b[1;33m=\u001b[0m\u001b[0mtemperature\u001b[0m\u001b[1;33m)\u001b[0m\u001b[1;33m\u001b[0m\u001b[1;33m\u001b[0m\u001b[0m\n\u001b[0m\u001b[0;32m    263\u001b[0m         )\n",
      "\u001b[1;32ml:\\cavsim\\cavsim\\base\\fluids\\fluid.py\u001b[0m in \u001b[0;36mdensity\u001b[1;34m(self, pressure, temperature)\u001b[0m\n\u001b[0;32m    113\u001b[0m         \u001b[1;32mif\u001b[0m \u001b[0mcallable\u001b[0m\u001b[1;33m(\u001b[0m\u001b[0mself\u001b[0m\u001b[1;33m.\u001b[0m\u001b[0m_density_cb\u001b[0m\u001b[1;33m)\u001b[0m\u001b[1;33m:\u001b[0m\u001b[1;33m\u001b[0m\u001b[1;33m\u001b[0m\u001b[0m\n\u001b[0;32m    114\u001b[0m             \u001b[1;32mreturn\u001b[0m \u001b[0mself\u001b[0m\u001b[1;33m.\u001b[0m\u001b[0m_density_cb\u001b[0m\u001b[1;33m(\u001b[0m\u001b[0mself\u001b[0m\u001b[1;33m,\u001b[0m \u001b[0mpressure\u001b[0m\u001b[1;33m,\u001b[0m \u001b[0mtemperature\u001b[0m\u001b[1;33m)\u001b[0m  \u001b[1;31m# pylint: disable=not-callable\u001b[0m\u001b[1;33m\u001b[0m\u001b[1;33m\u001b[0m\u001b[0m\n\u001b[1;32m--> 115\u001b[1;33m         \u001b[1;32mreturn\u001b[0m \u001b[0mself\u001b[0m\u001b[1;33m.\u001b[0m\u001b[0m_density\u001b[0m\u001b[1;33m(\u001b[0m\u001b[0mpressure\u001b[0m\u001b[1;33m,\u001b[0m \u001b[0mtemperature\u001b[0m\u001b[1;33m)\u001b[0m\u001b[1;33m\u001b[0m\u001b[1;33m\u001b[0m\u001b[0m\n\u001b[0m\u001b[0;32m    116\u001b[0m \u001b[1;33m\u001b[0m\u001b[0m\n\u001b[0;32m    117\u001b[0m     \u001b[1;32mdef\u001b[0m \u001b[0mviscosity\u001b[0m\u001b[1;33m(\u001b[0m\u001b[0mself\u001b[0m\u001b[1;33m,\u001b[0m \u001b[0mtemperature\u001b[0m\u001b[1;33m:\u001b[0m \u001b[0mfloat\u001b[0m \u001b[1;33m=\u001b[0m \u001b[1;32mNone\u001b[0m\u001b[1;33m,\u001b[0m \u001b[0mshear_rate\u001b[0m\u001b[1;33m:\u001b[0m \u001b[0mfloat\u001b[0m \u001b[1;33m=\u001b[0m \u001b[1;32mNone\u001b[0m\u001b[1;33m)\u001b[0m \u001b[1;33m->\u001b[0m \u001b[0mfloat\u001b[0m\u001b[1;33m:\u001b[0m\u001b[1;33m\u001b[0m\u001b[1;33m\u001b[0m\u001b[0m\n",
      "\u001b[1;32ml:\\cavsim\\cavsim\\base\\fluids\\fluid.py\u001b[0m in \u001b[0;36m_density\u001b[1;34m(self, pressure, temperature)\u001b[0m\n\u001b[0;32m     70\u001b[0m         \u001b[1;33m:\u001b[0m\u001b[1;32mreturn\u001b[0m\u001b[1;33m:\u001b[0m \u001b[0mDensity\u001b[0m \u001b[0munder\u001b[0m \u001b[0mthe\u001b[0m \u001b[0mconditions\u001b[0m \u001b[1;33m[\u001b[0m\u001b[0mkg\u001b[0m\u001b[1;33m/\u001b[0m\u001b[0mm³\u001b[0m\u001b[1;33m]\u001b[0m\u001b[1;33m\u001b[0m\u001b[1;33m\u001b[0m\u001b[0m\n\u001b[0;32m     71\u001b[0m         \"\"\"\n\u001b[1;32m---> 72\u001b[1;33m         \u001b[1;32mreturn\u001b[0m \u001b[0msuper\u001b[0m\u001b[1;33m(\u001b[0m\u001b[0mFluid\u001b[0m\u001b[1;33m,\u001b[0m \u001b[0mself\u001b[0m\u001b[1;33m)\u001b[0m\u001b[1;33m.\u001b[0m\u001b[0mdensity\u001b[0m\u001b[1;33m(\u001b[0m\u001b[0mpressure\u001b[0m\u001b[1;33m,\u001b[0m \u001b[0mtemperature\u001b[0m\u001b[1;33m)\u001b[0m\u001b[1;33m\u001b[0m\u001b[1;33m\u001b[0m\u001b[0m\n\u001b[0m\u001b[0;32m     73\u001b[0m \u001b[1;33m\u001b[0m\u001b[0m\n\u001b[0;32m     74\u001b[0m     \u001b[1;31m# noinspection PyUnusedLocal,PyPep8\u001b[0m\u001b[1;33m\u001b[0m\u001b[1;33m\u001b[0m\u001b[1;33m\u001b[0m\u001b[0m\n",
      "\u001b[1;32ml:\\cavsim\\cavsim\\base\\fluids\\base_fluid.py\u001b[0m in \u001b[0;36mdensity\u001b[1;34m(self, pressure, temperature)\u001b[0m\n\u001b[0;32m    188\u001b[0m         \u001b[1;31m#return result\u001b[0m\u001b[1;33m\u001b[0m\u001b[1;33m\u001b[0m\u001b[1;33m\u001b[0m\u001b[0m\n\u001b[0;32m    189\u001b[0m \u001b[1;33m\u001b[0m\u001b[0m\n\u001b[1;32m--> 190\u001b[1;33m         \u001b[1;32mreturn\u001b[0m \u001b[0mdensity\u001b[0m \u001b[1;33m*\u001b[0m \u001b[0mnp\u001b[0m\u001b[1;33m.\u001b[0m\u001b[0mexp\u001b[0m\u001b[1;33m(\u001b[0m\u001b[0mpressure_diff\u001b[0m \u001b[1;33m/\u001b[0m \u001b[0mbulk\u001b[0m\u001b[1;33m)\u001b[0m\u001b[1;33m\u001b[0m\u001b[1;33m\u001b[0m\u001b[0m\n\u001b[0m\u001b[0;32m    191\u001b[0m \u001b[1;33m\u001b[0m\u001b[0m\n\u001b[0;32m    192\u001b[0m     \u001b[1;31m# noinspection PyUnusedLocal,PyPep8\u001b[0m\u001b[1;33m\u001b[0m\u001b[1;33m\u001b[0m\u001b[1;33m\u001b[0m\u001b[0m\n",
      "\u001b[1;31mKeyboardInterrupt\u001b[0m: "
     ]
    }
   ],
   "source": [
    "solver.solve(1e20, 2.0, 3)"
   ]
  },
  {
   "cell_type": "code",
   "execution_count": 33,
   "metadata": {},
   "outputs": [],
   "source": [
    "pfield1 = np.stack(plogs1)\n",
    "pfield2 = np.stack(plogs2)\n",
    "pfield3 = np.stack(plogs3)\n",
    "disfield = np.stack(dislog)\n",
    "velfield = np.stack(velocity)\n",
    "velocity = np.stack(vlogs)\n",
    "pressure = np.stack(pumplog)\n",
    "pump_velocity = np.stack(pump_speed)\n",
    "values = np.stack(pump_value)\n",
    "flow_force = np.stack(flow_log)\n",
    "spring_force = np.stack(springlog)\n",
    "lower_pressure_force = np.stack(lower_pressure_log)\n",
    "contact_pressure_force = np.stack(contact_pressure_log)\n",
    "damping_force = np.stack(damping_log)"
   ]
  },
  {
   "cell_type": "code",
   "execution_count": 36,
   "metadata": {},
   "outputs": [
    {
     "ename": "AttributeError",
     "evalue": "'AxesSubplot' object has no attribute 'setxlim'",
     "output_type": "error",
     "traceback": [
      "\u001b[1;31m---------------------------------------------------------------------------\u001b[0m",
      "\u001b[1;31mAttributeError\u001b[0m                            Traceback (most recent call last)",
      "\u001b[1;32m<ipython-input-36-2c01c40c3aaf>\u001b[0m in \u001b[0;36m<module>\u001b[1;34m\u001b[0m\n\u001b[0;32m     47\u001b[0m \u001b[0max1\u001b[0m\u001b[1;33m.\u001b[0m\u001b[0mset_ylabel\u001b[0m\u001b[1;33m(\u001b[0m\u001b[1;34m'Pressure'\u001b[0m\u001b[1;33m,\u001b[0m \u001b[0mcolor\u001b[0m\u001b[1;33m=\u001b[0m\u001b[0mcolor\u001b[0m\u001b[1;33m)\u001b[0m\u001b[1;33m\u001b[0m\u001b[1;33m\u001b[0m\u001b[0m\n\u001b[0;32m     48\u001b[0m \u001b[0max1\u001b[0m\u001b[1;33m.\u001b[0m\u001b[0mset_ylim\u001b[0m\u001b[1;33m(\u001b[0m\u001b[1;36m0e5\u001b[0m\u001b[1;33m,\u001b[0m \u001b[1;36m3e5\u001b[0m\u001b[1;33m)\u001b[0m\u001b[1;33m\u001b[0m\u001b[1;33m\u001b[0m\u001b[0m\n\u001b[1;32m---> 49\u001b[1;33m \u001b[0max1\u001b[0m\u001b[1;33m.\u001b[0m\u001b[0msetxlim\u001b[0m\u001b[1;33m(\u001b[0m\u001b[1;36m0.75\u001b[0m\u001b[1;33m,\u001b[0m \u001b[1;36m1.3\u001b[0m\u001b[1;33m)\u001b[0m\u001b[1;33m\u001b[0m\u001b[1;33m\u001b[0m\u001b[0m\n\u001b[0m\u001b[0;32m     50\u001b[0m \u001b[0mplt\u001b[0m\u001b[1;33m.\u001b[0m\u001b[0mgrid\u001b[0m\u001b[1;33m(\u001b[0m\u001b[1;33m)\u001b[0m\u001b[1;33m\u001b[0m\u001b[1;33m\u001b[0m\u001b[0m\n\u001b[0;32m     51\u001b[0m \u001b[1;31m#ax1.plot(time[val1:val], pfield1[val1:val, 1], color='red')\u001b[0m\u001b[1;33m\u001b[0m\u001b[1;33m\u001b[0m\u001b[1;33m\u001b[0m\u001b[0m\n",
      "\u001b[1;31mAttributeError\u001b[0m: 'AxesSubplot' object has no attribute 'setxlim'"
     ]
    },
    {
     "data": {
      "image/png": "[encoded data removed]",
      "text/plain": [
       "<Figure size 1440x720 with 1 Axes>"
      ]
     },
     "metadata": {
      "needs_background": "light"
     },
     "output_type": "display_data"
    }
   ],
   "source": [
    "time = np.linspace(0, 2.0, int(pfield1[:,:].shape[0]))\n",
    "#plt.figure(figsize=(16, 10))\n",
    "fig, ax1 = plt.subplots(figsize=(20, 10))\n",
    "#plt.subplot(1, 2, 1)\n",
    "#plt.plot(vfield[:,0])\n",
    "#plt.plot(1, 2, 2)\n",
    "val1 = 0\n",
    "val = -1\n",
    "#val1 = 0\n",
    "#val = -1\n",
    "\n",
    "#upper_force = upperp_field[val1:val, 0] + gfield[val1:val, 0] + springforce[val1:val, 0]\n",
    "#lower_force = lowp_field[val1:val, 0] + contact_pressure[val1:val, 0]\n",
    "#result1 = lower_force - upper_force\n",
    "#result2 = flow_field[val1:val, 0] - gfield[val1:val, 0] - springforce[val1:val, 0] - dampingfield[val1:val, 0]\n",
    "#upper_flow = gfield[val1:val, 0] + springforce[val1:val, 0] + dampingfield[val1:val, 0]\n",
    "#lower_flow = flow_field[val1:val, 0]\n",
    "#ax1.plot(time[val1:val], upper_flow, color='red')\n",
    "#ax1.plot(time[val1:val], lower_flow, color='blue')\n",
    "\n",
    "\n",
    "#plt.subplot(1, 2, 2)\n",
    "#ax1.plot(result1[val1:val])\n",
    "#ax1.plot(result2[val1:val])\n",
    "#ax1.plot(time[val1:val], upperp_field[val1:val, 0], color='red')\n",
    "#ax1.plot(time[val1:val], lowp_field[val1:val, 0], color='green')\n",
    "#ax1.plot(time[val1:val], dampingfield[val1:val, 0], color='blue')\n",
    "\n",
    "#ax1.plot(time[val1:val], contact_pressure[val1:val, 0], color='black')\n",
    "#ax1.plot(time[val1:val], springforce[val1:val, 0], color='grey')\n",
    "#ax1.plot(time[val1:val], upper_force, color='red')\n",
    "#ax1.plot(time[val1:val], lower_force, color='blue')\n",
    "\n",
    "#plt.plot(time[val1:val], pfield1[val1:val, 1], color='red')\n",
    "#plt.plot(time[val1:val], pump_velocity[val1:val, 0], color='black')\n",
    "plt.plot(time[val1:val], pfield2[val1:val, -2], color='green')\n",
    "plt.plot(time[val1:val], pressure[val1:val, 0],color='violet')\n",
    "plt.plot()\n",
    "\n",
    "#ax1.plot(time[val1:val], deltap[val1:val, 0], color='green')\n",
    "\n",
    "#plt.xlim(time[val1],time[val])\n",
    "#plt.ylim(0e5, 22e5)\n",
    "\n",
    "color = 'tab:red'\n",
    "ax1.set_xlabel('time (s)')\n",
    "ax1.set_ylabel('Pressure', color=color)\n",
    "ax1.set_ylim(0e5, 3e5)\n",
    "ax1.setxlim(0.75, 1.3)\n",
    "plt.grid()\n",
    "#ax1.plot(time[val1:val], pfield1[val1:val, 1], color='red')\n",
    "#ax1.plot(time[val1:val], pfield2[val1:val, -2], color='green')\n",
    "ax1.tick_params(axis='y', labelcolor=color)\n",
    "\n",
    "\n",
    "ax2 = ax1.twinx()  # instantiate a second axes that shares the same x-axis\n",
    "\n",
    "color = 'tab:blue'\n",
    "ax2.plot(time[val1:val], disfield[val1:val, 0]*1000, color=color)  # we already handled the x-label with ax1\n",
    "ax2.plot(time[val1:val], values[val1:val, 0]*1000, color = 'black')\n",
    "#ax2.plot(time[val1:val], velocity[val1:val, 1]*(np.pi*(0.056/2)**2), color = 'red')\n",
    "#ax2.set_ylim(0e5, 0.001)\n",
    "#ax2.plot(time[val1:val], contact_pressure_force[val1:val, 0], color = 'green')\n",
    "#ax2.plot(time[val1:val], spring_force[val1:val, 0], color = 'green')\n",
    "#ax2.plot(time[val1:val], contact_pressure_force[val1:val, 0]+lower_pressure_force[val1:val, 0], color = 'black')\n",
    "#ax2.plot(time[val1:val], flow_force[val1:val, 0]-spring_force[val1:val, 0], color = 'red')\n",
    "#ax2.plot(time[val1:val], zeta[val1:val, 0], color='green')\n",
    "#ax2.plot(time[val1:val], flow_field[val1:val, 0], color='black')\n",
    "#ax2.tick_params(axis='y', labelcolor=color)\n",
    "\n",
    "#plt.subplot(1, 2, 1)\n",
    "#plt.plot(time[val1:val], disfield[val1:val, 0]*1000, color='black')\n",
    "#plt.plot(time[val1:val], pump(time[val1:val]))\n",
    "#plt.plot(time[val1:val], velfield[val1:val, 0], color='blue')\n",
    "#plt.plot(time[val1:val], pfield2[val1:val, 1], color='red')\n",
    "#pltplot(time[val1:val], pfield1[val1:val, -2], color='green')\n",
    "#plt.ylim(-2e3, 2e3)\n",
    "fig.tight_layout()\n",
    "plt.show()"
   ]
  },
  {
   "cell_type": "code",
   "execution_count": null,
   "metadata": {},
   "outputs": [],
   "source": [
    "#a = 70/60*(0.07**2)/4*np.pi*0.045"
   ]
  },
  {
   "cell_type": "code",
   "execution_count": null,
   "metadata": {
    "scrolled": true
   },
   "outputs": [],
   "source": [
    "#a = 70/60(0.07**2)/4*np.pi*0.045\n",
    "#a/(2*0.025**2/4.0*np.pi)\n",
    "#print(pump._cases[val1:val])"
   ]
  },
  {
   "cell_type": "code",
   "execution_count": null,
   "metadata": {},
   "outputs": [],
   "source": [
    "zetavalue = (2*(20e5-1.28e5)/((0.2058**2)*1000))"
   ]
  },
  {
   "cell_type": "code",
   "execution_count": null,
   "metadata": {},
   "outputs": [],
   "source": [
    "import nptdms\n",
    "from nptdms import TdmsFile\n",
    "savepath = 'L:/017_Messdaten_Pascal/Messdatensatz 0,5m Fuellstand'\n",
    "path = \"L:/017_Messdaten_Pascal/Messdatensatz 0,5m Fuellstand\""
   ]
  },
  {
   "cell_type": "code",
   "execution_count": null,
   "metadata": {},
   "outputs": [],
   "source": [
    "def writetdms(tdms, num):\n",
    "    groups = tdms.groups()\n",
    "    channels = tdms.group_channels(groups[0])\n",
    "    channel_names = [channel.channel for channel in channels]\n",
    "    obj = tdms.object(groups[0], channel_names[num])\n",
    "    data = np.asarray(obj.data)\n",
    "    \n",
    "\n",
    "    return data\n",
    "\n",
    "\n",
    "\n",
    "def datetime_to_float(timesignal):\n",
    "\n",
    "    t0 = timesignal[0]\n",
    "    t1 = timesignal[timesignal.shape[0] - 1]\n",
    "    sec = (t1-t0).total_seconds()\n",
    "    time = np.linspace(0, sec, timesignal.shape[0])\n",
    "\n",
    "    return time"
   ]
  },
  {
   "cell_type": "code",
   "execution_count": null,
   "metadata": {},
   "outputs": [],
   "source": [
    "size = 128000\n",
    "tpAr = np.empty(size)\n",
    "pAr = np.empty(size)"
   ]
  },
  {
   "cell_type": "code",
   "execution_count": null,
   "metadata": {},
   "outputs": [],
   "source": [
    "ch = (0, 1, 2, 3, 4, 5, 6, 7, 8, 9, 10, 11, 12, 13, 14, 15, 16, 17, 18, 19, 20, 21, 22, 23, 24, 25)\n",
    "tdms = TdmsFile(path+'/Messungen_' +str(3)+\".tdms\")\n",
    "tpAr = datetime_to_float(writetdms(tdms, ch[10]))\n",
    "pAr = writetdms(tdms, ch[11])"
   ]
  },
  {
   "cell_type": "code",
   "execution_count": null,
   "metadata": {
    "scrolled": false
   },
   "outputs": [],
   "source": [
    "new_time = np.linspace(0, (time[-12000-38000]-time[65000]), time[65000:-12000-38000].shape[0])\n",
    "print(new_time)\n",
    "plt.figure(figsize=(20, 10))\n",
    "plt.plot(tpAr[7500:19500]-tpAr[7500], pAr[7500:19500]*1e5, label='Messung')\n",
    "plt.plot(new_time, pressure[65000:-12000-38000, 0],color='red', label='Simulation')\n",
    "plt.xlabel('Zeit in Sekunden', fontsize='14')\n",
    "plt.ylabel('Druck in Pascal', fontsize='14')\n",
    "plt.legend(fontsize='14')\n",
    "plt.ylim(0e5,22e5)\n",
    "plt.grid()\n",
    "#plt.savefig('L:/023_CavSim_Plots/Simulation_70Umin.png')\n"
   ]
  },
  {
   "cell_type": "code",
   "execution_count": null,
   "metadata": {},
   "outputs": [],
   "source": [
    "fig, ax1 = plt.subplots(figsize=(20, 10))\n",
    "ax1.tick_params(axis='x', labelsize='20')\n",
    "#ax1.set_title('Vergleich von Messung und Simulation bei 70 U/min', fontsize='30')\n",
    "color = 'tab:blue'\n",
    "ln1 = ax1.plot(tpAr[7500:19500]-tpAr[7500], pAr[7500:19500]*1e5, label='Messung')\n",
    "ln2 = ax1.plot(new_time, pressure[65000:-12000-38000, 0],color='red', label='Simulation')\n",
    "ax1.set_ylim(0, 22e5)\n",
    "ax1.set_xlabel('Zeit in $s$', fontsize='24')\n",
    "ax1.set_ylabel('Druck in $Pa$', color=color, fontsize='24')\n",
    "ax1.tick_params(axis='y', labelcolor=color, labelsize='20')\n",
    "#ax1.minorticks_on()\n",
    "#ax1.grid(which='major', linestyle='--', linewidth='0.5', color='grey')\n",
    "# Customize the minor grid\n",
    "# ax1.grid(which='minor', linestyle=':', linewidth='0.5', color='grey')\n",
    "#ax1.tick_params(which='both',  # Options for both major and minor ticks\n",
    "#                top='off',  # turn off top ticks\n",
    "#                left='off',  # turn off left ticks\n",
    "#                right='off',  # turn off right ticks\n",
    "#                bottom='off')  # turn off bottom ticks\n",
    "\n",
    "ax2 = ax1.twinx()  # instantiate a second axes that shares the same x-axis\n",
    "color = 'tab:green'\n",
    "#ax2.set_ylim(0e5, 23e5)\n",
    "#ln3 = ax2.plot(time, flow,color='red', label='Ventilhub')\n",
    "ln3 = ax2.plot(new_time, values[65000:-12000-38000, 0]*1000,color='green', label='Simulation Ventilhub')\n",
    "ax2.set_ylim(0.0, 1.5)\n",
    "ax2.set_ylabel('Hub in $mm$', color=color, fontsize='24')\n",
    "ax2.minorticks_on()\n",
    "#ax1.grid(which='minor', linestyle='--', linewidth='0.5', color='grey')\n",
    "# Customize the minor grid\n",
    "# ax1.grid(which='minor', linestyle=':', linewidth='0.5', color='grey')\n",
    "ax2.tick_params(which='both',  # Options for both major and minor ticks\n",
    "                top='off',  # turn off top ticks\n",
    "                left='off',  # turn off left ticks\n",
    "                right='off',  # turn off right ticks\n",
    "                bottom='off',  # turn off bottom ticks\n",
    "                labelsize='20',\n",
    "                labelcolor=color)\n",
    "#ax3 = ax2.twinx()\n",
    "#color = 'tab:green'\n",
    "#ln3 = ax3.plot(t_hub[613:,], hub[613:,], color='green', label='Hub')\n",
    "#ax3.set_xlim(0.325,0.725)\n",
    "#ax2.set_ylim(np.min(flow),0.3)\n",
    "#ax3.set_xlabel('Zeit (s)')\n",
    "#ax3.set_ylabel('Hub in $mm$', color=color, fontsize='20')\n",
    "#ax3.minorticks_on()\n",
    "#ax1.grid(which='minor', linestyle='--', linewidth='0.5', color='grey')\n",
    "# Customize the minor grid\n",
    "# ax1.grid(which='minor', linestyle=':', linewidth='0.5', color='grey')\n",
    "#ax3.tick_params(which='both',  # Options for both major and minor ticks\n",
    "#                top='off',  # turn off top ticks\n",
    "#                left='off',  # turn off left ticks\n",
    "#                right='off',  # turn off right ticks\n",
    "#                bottom='off',  # turn off bottom ticks\n",
    "#                labelsize='16',\n",
    "#                labelcolor=color)\n",
    "#ax3.spines[\"right\"].set_position((\"axes\", 1.05))\n",
    "\n",
    "lns = ln1 + ln2 + ln3\n",
    "labs = [l.get_label() for l in lns]\n",
    "ax1.legend(lns, labs, loc='lower right', frameon=False, fontsize='24')\n",
    "plt.savefig('L:/023_CavSim_Plots/Simulation_70Umin.png',dpi=800)\n",
    "plt.show()"
   ]
  },
  {
   "cell_type": "code",
   "execution_count": null,
   "metadata": {},
   "outputs": [],
   "source": [
    "print(tpAr[7500:19500]-tpAr[7500])"
   ]
  },
  {
   "cell_type": "code",
   "execution_count": null,
   "metadata": {},
   "outputs": [],
   "source": [
    "print((np.max(pAr[7500:19500]*1e5)-np.max(pressure[60500:-1400, 0]))/np.max(pAr[7500:19500]*1e5)*100)"
   ]
  },
  {
   "cell_type": "code",
   "execution_count": null,
   "metadata": {},
   "outputs": [],
   "source": []
  },
  {
   "cell_type": "code",
   "execution_count": null,
   "metadata": {},
   "outputs": [],
   "source": []
  },
  {
   "cell_type": "code",
   "execution_count": null,
   "metadata": {},
   "outputs": [],
   "source": []
  },
  {
   "cell_type": "code",
   "execution_count": null,
   "metadata": {},
   "outputs": [],
   "source": []
  }
 ],
 "metadata": {
  "kernelspec": {
   "display_name": "Python 3",
   "language": "python",
   "name": "python3"
  },
  "language_info": {
   "codemirror_mode": {
    "name": "ipython",
    "version": 3
   },
   "file_extension": ".py",
   "mimetype": "text/x-python",
   "name": "python",
   "nbconvert_exporter": "python",
   "pygments_lexer": "ipython3",
   "version": "3.6.9"
  }
 },
 "nbformat": 4,
 "nbformat_minor": 2
}
