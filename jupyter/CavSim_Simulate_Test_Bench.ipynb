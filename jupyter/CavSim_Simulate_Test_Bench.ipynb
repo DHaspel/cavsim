{
 "cells": [
  {
   "cell_type": "code",
   "execution_count": 1,
   "metadata": {},
   "outputs": [],
   "source": [
    "import numpy as np\n",
    "import matplotlib.pyplot as plt"
   ]
  },
  {
   "cell_type": "code",
   "execution_count": 2,
   "metadata": {},
   "outputs": [],
   "source": [
    "import cavsim\n",
    "from cavsim import Measure\n",
    "from cavsim.connectors import BaseConnector, Connector\n",
    "from cavsim.channels import ImportChannel, ExportChannel\n",
    "from cavsim.components import BaseComponent, Component\n",
    "from cavsim.solvers import BaseSolver, SimpleSolver\n",
    "from cavsim.fluids import Fluid"
   ]
  },
  {
   "cell_type": "code",
   "execution_count": 3,
   "metadata": {},
   "outputs": [],
   "source": [
    "from cavsim.pipes.pipe import Pipe\n",
    "from cavsim.boundaries.left_boundary_pressure import LeftBoundaryPressure\n",
    "from cavsim.boundaries.left_boundary_velocity import LeftBoundaryVelocity\n",
    "from cavsim.boundaries.right_boundary_pressure import RightBoundaryPressure\n",
    "from cavsim.boundaries.right_boundary_velocity import RightBoundaryVelocity\n",
    "from cavsim.boundaries.simple_pipe_connector import PipeConnectorSimple\n",
    "from cavsim.boundaries.zeta_joint import ZetaJoint\n",
    "from cavsim.boundaries.simple_t_joint import SimpleTJoint\n",
    "from cavsim.boundaries.simple_right_gasdampener import RightGasBubbleSimple\n",
    "from cavsim.boundaries.simple_left_gasdampener import LeftGasBubbleSimple\n",
    "from cavsim.boundaries.frictionless_gasdampener import FrictionlessGasDampener\n",
    "from cavsim.boundaries.gasdampener import GasDampener\n",
    "from cavsim.boundaries.pump_with_valves_model_new import PumpSuctionValve"
   ]
  },
  {
   "cell_type": "code",
   "execution_count": 4,
   "metadata": {},
   "outputs": [],
   "source": [
    "fluid = Fluid(1000, 1e-3, 1.2e9, 2.3e-3,initial_pressure=128000)"
   ]
  },
  {
   "cell_type": "code",
   "execution_count": 5,
   "metadata": {},
   "outputs": [],
   "source": [
    "Tank = Pipe(1.5, 1.5, 0.002, 2e11, 1e-7, 4)\n",
    "suction = Pipe(0.056, 0.07, 0.002, 2e11, 1e-7, 6)\n",
    "suction1 = Pipe(0.056, 1.480, 0.002, 2e11, 1e-7, 4)\n",
    "suction2 = Pipe(0.056, 1.210, 0.002, 2e11, 1e-7, 4)\n",
    "suction3 = Pipe(0.056, 0.225, 0.002, 2e11, 1e-7, 4)\n",
    "suction4 = Pipe(0.056, 0.360, 0.002, 2e11, 1e-7, 4)\n",
    "suction5 = Pipe(0.056, 0.590, 0.002, 2e11, 1e-7, 4)\n",
    "suction6 = Pipe(0.056, 0.335, 0.002, 2e11, 1e-7, 4)\n",
    "suction7 = Pipe(0.056, 0.519, 0.002, 2e11, 1e-7, 4)\n",
    "suction8 = Pipe(0.056, 0.274, 0.002, 2e11, 1e-7, 4)\n",
    "suction9 = Pipe(0.032, 0.15, 0.002, 2e11, 1e-7, 4)\n",
    "discharge = Pipe(0.025, 1.4, 0.002, 2e11, 1e-7, 4, initial_pressure=20e5)\n",
    "discharge1 = Pipe(0.025, 0.5, 0.002, 2e11, 1e-7, 4, initial_pressure=20e5)\n",
    "discharge2 = Pipe(0.025, 27.4, 0.002, 2e11, 1e-7, 4, initial_pressure=20e5)\n",
    "discharge3 = Pipe(0.025, 0.5, 0.002, 2e11, 1e-7, 4, initial_pressure=20e5)\n",
    "discharge4 = Pipe(0.025, 0.5, 0.002, 2e11, 1e-7, 4, initial_pressure=20e5)\n",
    "discharge5 = Pipe(0.025, 0.5, 0.002, 2e11, 1e-7, 4, initial_pressure=20e5)"
   ]
  },
  {
   "cell_type": "code",
   "execution_count": 6,
   "metadata": {},
   "outputs": [],
   "source": [
    "lb1 = LeftBoundaryPressure(1.28e5)\n",
    "Tank.connect(lb1)"
   ]
  },
  {
   "cell_type": "code",
   "execution_count": 7,
   "metadata": {},
   "outputs": [],
   "source": [
    "conn = ZetaJoint(1.0)\n",
    "Tank.connect(conn)\n",
    "suction.connect(conn)"
   ]
  },
  {
   "cell_type": "code",
   "execution_count": 8,
   "metadata": {},
   "outputs": [],
   "source": [
    "conn1 = ZetaJoint(0.1)\n",
    "suction.connect(conn1)\n",
    "suction1.connect(conn1)"
   ]
  },
  {
   "cell_type": "code",
   "execution_count": 9,
   "metadata": {},
   "outputs": [],
   "source": [
    "conn2 = ZetaJoint(0.2)\n",
    "suction1.connect(conn2)\n",
    "suction2.connect(conn2)"
   ]
  },
  {
   "cell_type": "code",
   "execution_count": 10,
   "metadata": {},
   "outputs": [],
   "source": [
    "conn3 = ZetaJoint(0.05)\n",
    "suction2.connect(conn3)\n",
    "suction3.connect(conn3)"
   ]
  },
  {
   "cell_type": "code",
   "execution_count": 11,
   "metadata": {},
   "outputs": [],
   "source": [
    "conn4 = ZetaJoint(0.05)\n",
    "suction3.connect(conn4)\n",
    "suction4.connect(conn4)"
   ]
  },
  {
   "cell_type": "code",
   "execution_count": 12,
   "metadata": {},
   "outputs": [],
   "source": [
    "conn5 = ZetaJoint(0.05)\n",
    "suction4.connect(conn5)\n",
    "suction5.connect(conn5)"
   ]
  },
  {
   "cell_type": "code",
   "execution_count": 13,
   "metadata": {},
   "outputs": [],
   "source": [
    "conn6 = ZetaJoint(0.05)\n",
    "suction5.connect(conn6)\n",
    "suction6.connect(conn6)"
   ]
  },
  {
   "cell_type": "code",
   "execution_count": 14,
   "metadata": {},
   "outputs": [],
   "source": [
    "conn7 = ZetaJoint(0.05)\n",
    "suction6.connect(conn7)\n",
    "suction7.connect(conn7)"
   ]
  },
  {
   "cell_type": "code",
   "execution_count": 15,
   "metadata": {},
   "outputs": [],
   "source": [
    "conn8 = ZetaJoint(0.2)\n",
    "suction7.connect(conn8)\n",
    "suction8.connect(conn8)"
   ]
  },
  {
   "cell_type": "code",
   "execution_count": 16,
   "metadata": {},
   "outputs": [],
   "source": [
    "conn9 = ZetaJoint(0.05)\n",
    "suction8.connect(conn9)\n",
    "suction9.connect(conn9)"
   ]
  },
  {
   "cell_type": "code",
   "execution_count": 17,
   "metadata": {},
   "outputs": [],
   "source": [
    "pump = PumpSuctionValve(suction_valve_density=7950.0,               # kg/m³\n",
    "            suction_spring_force0 = 3.438,                   # N\n",
    "            suction_spring_stiffness = 3438.0,            # N/m\n",
    "            suction_spring_mass = 0.022,                 # kg\n",
    "            suction_valve_mass = 0.068,                  # kg\n",
    "            suction_outer_diameter = 0.040,              # m\n",
    "            suction_inner_contact_diameter = 0.03644173,      # m\n",
    "            suction_seat_tilt = 90/180*np.pi,                   # °\n",
    "            suction_flow_constant_1 = 7.63e-2,             # -\n",
    "            suction_flow_constant_2 = 6.480,             # -\n",
    "            suction_friction_factor_a = 107.00,           # -\n",
    "            suction_friction_factor_b = 74.00,           # -\n",
    "            suction_friction_factor_c = 1.40,           # -\n",
    "            suction_friction_factor_d = -2.40,           # -\n",
    "            suction_factor_k0 = 0.50,                   # -\n",
    "            suction_factor_k1 = 0.0,                   # -\n",
    "            suction_factor_k2 = 0.0,                   # -\n",
    "            suction_max_displacement = 25e-3,                   # m\n",
    "            suction_outer_contact_diameter = 0.040,      # m\n",
    "            discharge_valve_density = 7950.0,             # kg/m³\n",
    "            discharge_spring_force0 = 3.438,             # N\n",
    "            discharge_spring_stiffness = 3438.0,          # N/m\n",
    "            discharge_spring_mass = 0.022,               # kg\n",
    "            discharge_valve_mass = 0.068,                # kg\n",
    "            discharge_outer_diameter = 0.040,            # m\n",
    "            discharge_inner_contact_diameter = 0.03644173,    # m\n",
    "            discharge_seat_tilt = 90/180*np.pi,                 # °\n",
    "            discharge_flow_constant_1 = 7.63e-3,           # -\n",
    "            discharge_flow_constant_2 = 6.480,           # -\n",
    "            discharge_friction_factor_a = 107.00,         # -\n",
    "            discharge_friction_factor_b = 74.00,         # -\n",
    "            discharge_friction_factor_c = 1.40,         # -\n",
    "            discharge_friction_factor_d = -2.40,         # -\n",
    "            discharge_factor_k0 = 0.50,                 # -\n",
    "            discharge_factor_k1 = 0.0,                 # -\n",
    "            discharge_factor_k2 = 0.0,                 # -\n",
    "            discharge_max_displacement = 25e-3,                 # m\n",
    "            discharge_outer_contact_diameter = 0.040,    # m\n",
    "            pump_radius = 0.040/2.0,                         # m\n",
    "            rpm = 68.0,                                 # U/min\n",
    "            rratio = 0.175,                              # -\n",
    "            phi0 = 180,                                # °\n",
    "            piston_diameter = 0.07,                     # m\n",
    "            death_volume = 3.442416e-4)                        # m³)"
   ]
  },
  {
   "cell_type": "code",
   "execution_count": 18,
   "metadata": {},
   "outputs": [],
   "source": [
    "suction9.connect(pump)\n",
    "discharge.connect(pump)"
   ]
  },
  {
   "cell_type": "code",
   "execution_count": null,
   "metadata": {},
   "outputs": [],
   "source": []
  },
  {
   "cell_type": "code",
   "execution_count": 19,
   "metadata": {},
   "outputs": [],
   "source": [
    "conn11 = SimpleTJoint(20e5)\n",
    "discharge.connect(conn11)\n",
    "discharge1.connect(conn11.right2)\n",
    "discharge2.connect(conn11.right)"
   ]
  },
  {
   "cell_type": "code",
   "execution_count": 20,
   "metadata": {},
   "outputs": [],
   "source": [
    "#gd_right = RightGasBubbleSimple(20.6e5, 4.3e-3, 1.07)\n",
    "gd_right = RightGasBubbleSimple(20e5, 4.4e-3, 1.15)\n",
    "discharge1.connect(gd_right)"
   ]
  },
  {
   "cell_type": "code",
   "execution_count": 21,
   "metadata": {},
   "outputs": [],
   "source": [
    "conn12 = SimpleTJoint(20e5)\n",
    "discharge2.connect(conn12)\n",
    "discharge3.connect(conn12.right2)\n",
    "discharge4.connect(conn12.right)"
   ]
  },
  {
   "cell_type": "code",
   "execution_count": 22,
   "metadata": {},
   "outputs": [],
   "source": [
    "gd_right = RightGasBubbleSimple(20e5, 1.35e-3, 1.1)\n",
    "discharge3.connect(gd_right)"
   ]
  },
  {
   "cell_type": "code",
   "execution_count": 23,
   "metadata": {},
   "outputs": [],
   "source": [
    "conn13 = ZetaJoint(22099.63536)\n",
    "discharge4.connect(conn13)\n",
    "discharge5.connect(conn13)"
   ]
  },
  {
   "cell_type": "code",
   "execution_count": 24,
   "metadata": {},
   "outputs": [],
   "source": [
    "rb = RightBoundaryPressure(1.28e5)\n",
    "rb.connect(discharge5)"
   ]
  },
  {
   "cell_type": "code",
   "execution_count": 25,
   "metadata": {},
   "outputs": [],
   "source": [
    "plogs1 = []\n",
    "plogs2 = []\n",
    "plogs3 = []\n",
    "vlogs = []\n",
    "vlogs1 = []\n",
    "flogs = []\n",
    "rblogs = []\n",
    "relogs = []\n",
    "dislog = []\n",
    "springlog = []\n",
    "contact_pressurelog = []\n",
    "velocity = []\n",
    "pumplog = []\n",
    "pump_speed = []\n",
    "pump_value = []\n",
    "flow_log = []\n",
    "lower_pressure_log = []\n",
    "contact_pressure_log = []\n",
    "damping_log = []\n",
    "\n",
    "\n",
    "\n",
    "\n",
    "def logging(time):\n",
    "    plogs1.append(suction9.field_wide_slice('pressure', 0) + 0.0)\n",
    "    plogs2.append(discharge.field_wide_slice('pressure', 0) + 0.0)\n",
    "    plogs3.append(discharge3.field_wide_slice('pressure', 0) + 0.0)\n",
    "    pumplog.append(pump.field_wide_slice('pump_pressure', 0) + 0.0)\n",
    "    dislog.append(pump.field_wide_slice('suction_displacement', 0) + 0.0)\n",
    "    pump_speed.append(pump.field_wide_slice('discharge_pressure', 1) +0.0)\n",
    "    pump_value.append(pump.field_wide_slice('discharge_displacement', 1) +0.0)\n",
    "    springlog.append(pump.field_wide_slice('discharge_valve_velocity', 1) +0.0)\n",
    "    contact_pressurelog.append(pump.field_wide_slice('suction_contact_pressure_force', 1) +0.0)\n",
    "    flow_log.append(pump.field_wide_slice('suction_flow_force', 1) +0.0)\n",
    "    velocity.append(pump.field_wide_slice('suction_valve_velocity', 1) +0.0)\n",
    "    lower_pressure_log.append(pump.field_wide_slice('discharge_lower_pressure_force', 1) +0.0)\n",
    "    contact_pressure_log.append(pump.field_wide_slice('discharge_contact_pressure_force', 1) +0.0)\n",
    "    damping_log.append(pump.field_wide_slice('discharge_upper_pressure_force', 1) +0.0)"
   ]
  },
  {
   "cell_type": "code",
   "execution_count": 26,
   "metadata": {},
   "outputs": [],
   "source": [
    "solver = SimpleSolver()\n",
    "solver.fluid = fluid\n",
    "solver.seeds = [suction9]\n",
    "solver._callback = logging"
   ]
  },
  {
   "cell_type": "code",
   "execution_count": null,
   "metadata": {
    "scrolled": false
   },
   "outputs": [
    {
     "name": "stdout",
     "output_type": "stream",
     "text": [
      " 0:00:00 [                              |  0.00%]  1:12:20  Currently at time   0.000 of   1.350"
     ]
    },
    {
     "name": "stderr",
     "output_type": "stream",
     "text": [
      "l:\\cavsim\\cavsim\\base\\solvers\\simple_solver.py:46: UserWarning: Smaller timestep required by component! (2.8670542373662897e-05 < 1e+20 by <cavsim.pipes.pipe.Pipe object at 0x0000017859A06208>)\n",
      "  warn('Smaller timestep required by component! ({} < {} by {})'.format(component_time, delta_t, component))\n",
      "l:\\cavsim\\cavsim\\base\\solvers\\simple_solver.py:46: UserWarning: Smaller timestep required by component! (5.406439617098607e-05 < 1e+20 by <cavsim.pipes.pipe.Pipe object at 0x0000017859A01400>)\n",
      "  warn('Smaller timestep required by component! ({} < {} by {})'.format(component_time, delta_t, component))\n",
      "l:\\cavsim\\cavsim\\base\\solvers\\simple_solver.py:46: UserWarning: Smaller timestep required by component! (0.0002650157228040127 < 1e+20 by <cavsim.pipes.pipe.Pipe object at 0x0000017859A06FD0>)\n",
      "  warn('Smaller timestep required by component! ({} < {} by {})'.format(component_time, delta_t, component))\n",
      "l:\\cavsim\\cavsim\\base\\solvers\\simple_solver.py:46: UserWarning: Smaller timestep required by component! (0.00010240664822168528 < 1e+20 by <cavsim.pipes.pipe.Pipe object at 0x00000178599FD5F8>)\n",
      "  warn('Smaller timestep required by component! ({} < {} by {})'.format(component_time, delta_t, component))\n",
      "l:\\cavsim\\cavsim\\base\\solvers\\simple_solver.py:46: UserWarning: Smaller timestep required by component! (0.005186736289164249 < 1e+20 by <cavsim.pipes.pipe.Pipe object at 0x0000017859A0BB70>)\n",
      "  warn('Smaller timestep required by component! ({} < {} by {})'.format(component_time, delta_t, component))\n",
      "l:\\cavsim\\cavsim\\base\\solvers\\simple_solver.py:46: UserWarning: Smaller timestep required by component! (9.464847243000455e-05 < 1e+20 by <cavsim.pipes.pipe.Pipe object at 0x0000017859A08D68>)\n",
      "  warn('Smaller timestep required by component! ({} < {} by {})'.format(component_time, delta_t, component))\n",
      "l:\\cavsim\\cavsim\\base\\solvers\\simple_solver.py:46: UserWarning: Smaller timestep required by component! (6.61006303550377e-05 < 1e+20 by <cavsim.pipes.pipe.Pipe object at 0x00000178599F97F0>)\n",
      "  warn('Smaller timestep required by component! ({} < {} by {})'.format(component_time, delta_t, component))\n",
      "l:\\cavsim\\cavsim\\base\\solvers\\simple_solver.py:46: UserWarning: Smaller timestep required by component! (9.464847243000455e-05 < 1e+20 by <cavsim.pipes.pipe.Pipe object at 0x0000017859A14780>)\n",
      "  warn('Smaller timestep required by component! ({} < {} by {})'.format(component_time, delta_t, component))\n",
      "l:\\cavsim\\cavsim\\base\\solvers\\simple_solver.py:46: UserWarning: Smaller timestep required by component! (9.464847243000455e-05 < 1e+20 by <cavsim.pipes.pipe.Pipe object at 0x0000017859A10978>)\n",
      "  warn('Smaller timestep required by component! ({} < {} by {})'.format(component_time, delta_t, component))\n",
      "l:\\cavsim\\cavsim\\base\\solvers\\simple_solver.py:46: UserWarning: Smaller timestep required by component! (0.00011641603555066342 < 1e+20 by <cavsim.pipes.pipe.Pipe object at 0x00000178599F69E8>)\n",
      "  warn('Smaller timestep required by component! ({} < {} by {})'.format(component_time, delta_t, component))\n",
      "l:\\cavsim\\cavsim\\base\\solvers\\simple_solver.py:46: UserWarning: Smaller timestep required by component! (9.464847243000455e-05 < 1e+20 by <cavsim.pipes.pipe.Pipe object at 0x0000017859A17588>)\n",
      "  warn('Smaller timestep required by component! ({} < {} by {})'.format(component_time, delta_t, component))\n",
      "l:\\cavsim\\cavsim\\base\\solvers\\simple_solver.py:46: UserWarning: Smaller timestep required by component! (7.103351321735395e-05 < 1e+20 by <cavsim.pipes.pipe.Pipe object at 0x00000178599F3BE0>)\n",
      "  warn('Smaller timestep required by component! ({} < {} by {})'.format(component_time, delta_t, component))\n",
      "l:\\cavsim\\cavsim\\base\\solvers\\simple_solver.py:46: UserWarning: Smaller timestep required by component! (4.439594576084622e-05 < 1e+20 by <cavsim.pipes.pipe.Pipe object at 0x00000178599EFDD8>)\n",
      "  warn('Smaller timestep required by component! ({} < {} by {})'.format(component_time, delta_t, component))\n",
      "l:\\cavsim\\cavsim\\base\\solvers\\simple_solver.py:46: UserWarning: Smaller timestep required by component! (0.00023875153053610633 < 1e+20 by <cavsim.pipes.pipe.Pipe object at 0x00000178599EBFD0>)\n",
      "  warn('Smaller timestep required by component! ({} < {} by {})'.format(component_time, delta_t, component))\n",
      "l:\\cavsim\\cavsim\\base\\solvers\\simple_solver.py:46: UserWarning: Smaller timestep required by component! (0.00029202666544912183 < 1e+20 by <cavsim.pipes.pipe.Pipe object at 0x00000178599EB208>)\n",
      "  warn('Smaller timestep required by component! ({} < {} by {})'.format(component_time, delta_t, component))\n",
      "l:\\cavsim\\cavsim\\base\\solvers\\simple_solver.py:46: UserWarning: Smaller timestep required by component! (9.865765724632494e-06 < 1e+20 by <cavsim.pipes.pipe.Pipe object at 0x00000178599E2780>)\n",
      "  warn('Smaller timestep required by component! ({} < {} by {})'.format(component_time, delta_t, component))\n",
      "l:\\cavsim\\cavsim\\base\\solvers\\simple_solver.py:46: UserWarning: Smaller timestep required by component! (0.0006422616289332564 < 1e+20 by <cavsim.pipes.pipe.Pipe object at 0x00000178599E2710>)\n",
      "  warn('Smaller timestep required by component! ({} < {} by {})'.format(component_time, delta_t, component))\n"
     ]
    },
    {
     "name": "stdout",
     "output_type": "stream",
     "text": [
      " 0:00:37 [                              |  1.14%]  0:55:02  Currently at time   0.015 of   1.350-----------------------------------------\n",
      "2411.0808411223074\n",
      "106.91720162169317\n",
      "0.7716675230718968\n",
      "3.438\n",
      "0.0\n",
      "2513.5055556710645\n",
      "0.015341265701803585\n",
      "3.6541286973597294e-10\n",
      " 0:00:37 [                              |  1.14%]  0:55:02  Currently at time   0.015 of   1.350-----------------------------------------\n",
      "2416.879485979038\n",
      "107.03707195686802\n",
      "0.7716675324584081\n",
      "3.438\n",
      "-2.508677855697497e-07\n",
      "2513.3783039315813\n",
      "0.01536099723325285\n",
      "7.811345196805487e-09\n",
      " 0:00:38 [                              |  1.14%]  0:55:03  Currently at time   0.015 of   1.350-----------------------------------------\n",
      "2422.685519983235\n",
      "107.1020248171341\n",
      "0.771667724514585\n",
      "3.438\n",
      "-9.929346398802201e-06\n",
      "2510.774620419367\n",
      "0.015380728764702116\n",
      "1.1314999241528808e-08\n",
      " 0:00:38 [                              |  1.14%]  0:55:03  Currently at time   0.015 of   1.350-----------------------------------------\n",
      "2428.498942963322\n",
      "107.19529044290577\n",
      "0.7716678231810351\n",
      "3.438\n",
      "-1.7495593468608798e-05\n",
      "2509.437008948689\n",
      "0.01540046029615138\n",
      "1.7171246979470467e-08\n",
      " 0:00:38 [                              |  1.14%]  0:55:03  Currently at time   0.015 of   1.350-----------------------------------------\n",
      "2434.319754615991\n",
      "107.26938966309875\n",
      "0.7716679859371895\n",
      "3.438\n",
      "-3.444597974126679e-05\n",
      "2507.2305369971136\n",
      "0.015420191827600646\n",
      "2.1782294315526712e-08\n",
      " 0:00:38 [                              |  1.14%]  0:55:04  Currently at time   0.015 of   1.350-----------------------------------------\n",
      "2440.1479547121667\n",
      "107.35143940942353\n",
      "0.7716681228413573\n",
      "3.438\n",
      "-5.158170556263946e-05\n",
      "2505.374535826531\n",
      "0.01543992335904991\n",
      "2.7205540162993926e-08\n",
      " 0:00:38 [                              |  1.14%]  0:55:04  Currently at time   0.015 of   1.350-----------------------------------------\n",
      "2445.9835429802074\n",
      "107.42594128293122\n",
      "0.771668285298636\n",
      "3.438\n",
      "-7.600830541615425e-05\n",
      "2503.172109779179\n",
      "0.015459654890499176\n",
      "3.2263983750430694e-08\n",
      " 0:00:38 [                              |  1.15%]  0:55:04  Currently at time   0.015 of   1.350-----------------------------------------\n",
      "2451.8265191721684\n",
      "107.50178125262723\n",
      "0.771668443836006\n",
      "3.438\n",
      "-0.00010295463350286244\n",
      "2501.0228226544064\n",
      "0.015479386421948441\n",
      "3.762984981641194e-08\n",
      " 0:00:38 [                              |  1.15%]  0:55:04  Currently at time   0.015 of   1.350-----------------------------------------\n",
      "2457.676883026234\n",
      "107.57388539008893\n",
      "0.771668615282597\n",
      "3.438\n",
      "-0.00013593021692157083\n",
      "2498.6985221025593\n",
      "0.015499117953397706\n",
      "4.291914301358692e-08\n",
      " 0:00:38 [                              |  1.15%]  0:55:05  Currently at time   0.016 of   1.350-----------------------------------------\n",
      "2463.5346342879934\n",
      "107.64519886203502\n",
      "0.7716687898698619\n",
      "3.438\n",
      "-0.00017286001206502527\n",
      "2496.331639764949\n",
      "0.015518849484846971\n",
      "4.8348554583424934e-08\n",
      " 0:00:38 [                              |  1.15%]  0:55:05  Currently at time   0.016 of   1.350-----------------------------------------\n",
      "2472.3351124084093\n",
      "108.22966956724215\n",
      "0.7716674689508515\n",
      "3.438\n",
      "-6.561299919706917e-06\n",
      "2514.239267586776\n",
      "0.015548446782020869\n",
      "7.43894307956228e-08\n",
      " 0:00:38 [                              |  1.15%]  0:55:06  Currently at time   0.016 of   1.350-----------------------------------------\n",
      "2484.094935635298\n",
      "108.47144745660512\n",
      "0.7716674923741209\n",
      "3.438\n",
      "-4.601488315231387e-06\n",
      "2513.921721438268\n",
      "0.015587909844919399\n",
      "9.16351540224515e-08\n",
      " 0:00:38 [                              |  1.16%]  0:55:07  Currently at time   0.016 of   1.350-----------------------------------------\n",
      "2498.8362600390687\n",
      "108.4972213679988\n",
      "0.7716684414943165\n",
      "3.438\n",
      "-8.373511680128702e-05\n",
      "2501.054568903011\n",
      "0.01563723867354256\n",
      "1.0314156043613843e-07\n",
      " 0:09:39 [====                          | 15.31%]  0:53:25  Currently at time   0.207 of   1.350"
     ]
    }
   ],
   "source": [
    "solver.solve(1e20, 1.35, 3)"
   ]
  },
  {
   "cell_type": "code",
   "execution_count": null,
   "metadata": {},
   "outputs": [],
   "source": [
    "pfield1 = np.stack(plogs1)\n",
    "pfield2 = np.stack(plogs2)\n",
    "pfield3 = np.stack(plogs3)\n",
    "disfield = np.stack(dislog)\n",
    "velfield = np.stack(velocity)\n",
    "pressure = np.stack(pumplog)\n",
    "pump_velocity = np.stack(pump_speed)\n",
    "values = np.stack(pump_value)\n",
    "flow_force = np.stack(flow_log)\n",
    "spring_force = np.stack(springlog)\n",
    "lower_pressure_force = np.stack(lower_pressure_log)\n",
    "contact_pressure_force = np.stack(contact_pressure_log)\n",
    "damping_force = np.stack(damping_log)"
   ]
  },
  {
   "cell_type": "code",
   "execution_count": null,
   "metadata": {},
   "outputs": [],
   "source": [
    "time = np.linspace(0, 1.35, int(pfield1[:,-2].shape[0]))\n",
    "#plt.figure(figsize=(16, 10))\n",
    "fig, ax1 = plt.subplots(figsize=(20, 10))\n",
    "#plt.subplot(1, 2, 1)\n",
    "#plt.plot(vfield[:,0])\n",
    "#plt.plot(1, 2, 2)\n",
    "val1 = 0\n",
    "val = -1\n",
    "#val1 = 0\n",
    "#val = -1\n",
    "\n",
    "#upper_force = upperp_field[val1:val, 0] + gfield[val1:val, 0] + springforce[val1:val, 0]\n",
    "#lower_force = lowp_field[val1:val, 0] + contact_pressure[val1:val, 0]\n",
    "#result1 = lower_force - upper_force\n",
    "#result2 = flow_field[val1:val, 0] - gfield[val1:val, 0] - springforce[val1:val, 0] - dampingfield[val1:val, 0]\n",
    "#upper_flow = gfield[val1:val, 0] + springforce[val1:val, 0] + dampingfield[val1:val, 0]\n",
    "#lower_flow = flow_field[val1:val, 0]\n",
    "#ax1.plot(time[val1:val], upper_flow, color='red')\n",
    "#ax1.plot(time[val1:val], lower_flow, color='blue')\n",
    "\n",
    "\n",
    "#plt.subplot(1, 2, 2)\n",
    "#ax1.plot(result1[val1:val])\n",
    "#ax1.plot(result2[val1:val])\n",
    "#ax1.plot(time[val1:val], upperp_field[val1:val, 0], color='red')\n",
    "#ax1.plot(time[val1:val], lowp_field[val1:val, 0], color='green')\n",
    "#ax1.plot(time[val1:val], dampingfield[val1:val, 0], color='blue')\n",
    "\n",
    "#ax1.plot(time[val1:val], contact_pressure[val1:val, 0], color='black')\n",
    "#ax1.plot(time[val1:val], springforce[val1:val, 0], color='grey')\n",
    "#ax1.plot(time[val1:val], upper_force, color='red')\n",
    "#ax1.plot(time[val1:val], lower_force, color='blue')\n",
    "\n",
    "#plt.plot(time[val1:val], pfield3[val1:val, 1], color='red')\n",
    "plt.plot(time[val1:val], pump_velocity[val1:val, 0], color='black')\n",
    "plt.plot(time[val1:val], pfield2[val1:val, 1], color='green')\n",
    "plt.plot(time[val1:val], pressure[val1:val, 0],color='violet')\n",
    "\n",
    "\n",
    "#ax1.plot(time[val1:val], deltap[val1:val, 0], color='green')\n",
    "\n",
    "#plt.xlim(time[val1],time[val])\n",
    "#plt.ylim(0e5, 22e5)\n",
    "\n",
    "color = 'tab:red'\n",
    "ax1.set_xlabel('time (s)')\n",
    "ax1.set_ylabel('Pressure', color=color)\n",
    "ax1.set_ylim(0e5, 22e5)\n",
    "plt.grid()\n",
    "#ax1.plot(time[val1:val], pfield1[val1:val, 1], color='red')\n",
    "#ax1.plot(time[val1:val], pfield2[val1:val, -2], color='green')\n",
    "ax1.tick_params(axis='y', labelcolor=color)\n",
    "\n",
    "\n",
    "ax2 = ax1.twinx()  # instantiate a second axes that shares the same x-axis\n",
    "\n",
    "color = 'tab:blue'\n",
    "ax2.plot(time[val1:val], disfield[val1:val, 0]*1000, color=color)  # we already handled the x-label with ax1\n",
    "ax2.plot(time[val1:val], values[val1:val, 0]*1000, color = 'black')\n",
    "#ax2.plot(time[val1:val], contact_pressure_force[val1:val, 0], color = 'green')\n",
    "#ax2.plot(time[val1:val], spring_force[val1:val, 0], color = 'green')\n",
    "#ax2.plot(time[val1:val], contact_pressure_force[val1:val, 0]+lower_pressure_force[val1:val, 0], color = 'black')\n",
    "#ax2.plot(time[val1:val], flow_force[val1:val, 0]-spring_force[val1:val, 0], color = 'red')\n",
    "#ax2.plot(time[val1:val], zeta[val1:val, 0], color='green')\n",
    "#ax2.plot(time[val1:val], flow_field[val1:val, 0], color='black')\n",
    "#ax2.tick_params(axis='y', labelcolor=color)\n",
    "\n",
    "#plt.subplot(1, 2, 1)\n",
    "#plt.plot(time[val1:val], disfield[val1:val, 0]*1000, color='black')\n",
    "#plt.plot(time[val1:val], pump(time[val1:val]))\n",
    "#plt.plot(time[val1:val], velfield[val1:val, 0], color='blue')\n",
    "#plt.plot(time[val1:val], pfield2[val1:val, 1], color='red')\n",
    "#pltplot(time[val1:val], pfield1[val1:val, -2], color='green')\n",
    "#plt.ylim(-2e3, 2e3)\n",
    "fig.tight_layout()\n",
    "plt.show()"
   ]
  },
  {
   "cell_type": "code",
   "execution_count": null,
   "metadata": {},
   "outputs": [],
   "source": [
    "a = 70/60*(0.07**2)/4*np.pi*0.045"
   ]
  },
  {
   "cell_type": "code",
   "execution_count": null,
   "metadata": {},
   "outputs": [],
   "source": [
    "a/(2*0.025**2/4.0*np.pi)"
   ]
  },
  {
   "cell_type": "code",
   "execution_count": null,
   "metadata": {},
   "outputs": [],
   "source": [
    "zetavalue = (2*(20e5-1.28e5)/((0.2058**2)*1000))"
   ]
  },
  {
   "cell_type": "code",
   "execution_count": null,
   "metadata": {},
   "outputs": [],
   "source": [
    "import nptdms\n",
    "from nptdms import TdmsFile\n",
    "savepath = 'L:/017_Messdaten_Pascal/Messdatensatz 0,5m Fuellstand'\n",
    "path = \"L:/017_Messdaten_Pascal/Messdatensatz 0,5m Fuellstand\""
   ]
  },
  {
   "cell_type": "code",
   "execution_count": null,
   "metadata": {},
   "outputs": [],
   "source": [
    "def writetdms(tdms, num):\n",
    "    groups = tdms.groups()\n",
    "    channels = tdms.group_channels(groups[0])\n",
    "    channel_names = [channel.channel for channel in channels]\n",
    "    obj = tdms.object(groups[0], channel_names[num])\n",
    "    data = np.asarray(obj.data)\n",
    "    \n",
    "\n",
    "    return data\n",
    "\n",
    "\n",
    "\n",
    "def datetime_to_float(timesignal):\n",
    "\n",
    "    t0 = timesignal[0]\n",
    "    t1 = timesignal[timesignal.shape[0] - 1]\n",
    "    sec = (t1-t0).total_seconds()\n",
    "    time = np.linspace(0, sec, timesignal.shape[0])\n",
    "\n",
    "    return time"
   ]
  },
  {
   "cell_type": "code",
   "execution_count": null,
   "metadata": {},
   "outputs": [],
   "source": [
    "size = 128000\n",
    "tpAr = np.empty(size)\n",
    "pAr = np.empty(size)"
   ]
  },
  {
   "cell_type": "code",
   "execution_count": null,
   "metadata": {},
   "outputs": [],
   "source": [
    "ch = (0, 1, 2, 3, 4, 5, 6, 7, 8, 9, 10, 11, 12, 13, 14, 15, 16, 17, 18, 19, 20, 21, 22, 23, 24, 25)\n",
    "tdms = TdmsFile(path+'/Messungen_' +str(3)+\".tdms\")\n",
    "tpAr = datetime_to_float(writetdms(tdms, ch[10]))\n",
    "pAr = writetdms(tdms, ch[11])"
   ]
  },
  {
   "cell_type": "code",
   "execution_count": null,
   "metadata": {},
   "outputs": [],
   "source": [
    "new_time = np.linspace(0, (time[-1000]-time[66200]), time[66200:-1000].shape[0])\n",
    "plt.figure(figsize=(20, 10))\n",
    "plt.plot(tpAr[7500:19250]-tpAr[7500], pAr[7500:19250]*1e5, label='Messung')\n",
    "#plt.ylim(0e5, 23)\n",
    "#ax2 = ax1.twinx()  # instantiate a second axes that shares the same x-axis\n",
    "#ax2.set_ylim(0e5, 23e5)\n",
    "plt.plot(new_time, pressure[66200:-1000, 0],color='red', label='Simulation')\n",
    "plt.xlabel('Zeit in Sekunden', fontsize='14')\n",
    "plt.ylabel('Druck in Pascal', fontsize='14')\n",
    "plt.legend(fontsize='14')\n",
    "plt.grid()\n",
    "plt.savefig('L:/023_CavSim_Plots/Simulation_70Umin.png')\n"
   ]
  },
  {
   "cell_type": "code",
   "execution_count": null,
   "metadata": {},
   "outputs": [],
   "source": [
    "print(new_time)"
   ]
  },
  {
   "cell_type": "code",
   "execution_count": null,
   "metadata": {},
   "outputs": [],
   "source": [
    "print(tpAr[7500:19500]-tpAr[7500])"
   ]
  },
  {
   "cell_type": "code",
   "execution_count": null,
   "metadata": {},
   "outputs": [],
   "source": []
  },
  {
   "cell_type": "code",
   "execution_count": null,
   "metadata": {},
   "outputs": [],
   "source": []
  }
 ],
 "metadata": {
  "kernelspec": {
   "display_name": "Python 3",
   "language": "python",
   "name": "python3"
  },
  "language_info": {
   "codemirror_mode": {
    "name": "ipython",
    "version": 3
   },
   "file_extension": ".py",
   "mimetype": "text/x-python",
   "name": "python",
   "nbconvert_exporter": "python",
   "pygments_lexer": "ipython3",
   "version": "3.6.9"
  }
 },
 "nbformat": 4,
 "nbformat_minor": 2
}
